{
 "cells": [
  {
   "cell_type": "code",
   "execution_count": 15,
   "id": "3e5f1fe6",
   "metadata": {},
   "outputs": [],
   "source": [
    "import pandas as pd\n",
    "import numpy as np\n",
    "import tensorflow as tf\n",
    "import xgboost as xgb\n",
    "from sklearn.model_selection import train_test_split, GridSearchCV\n",
    "from sklearn.linear_model import LogisticRegression\n",
    "from sklearn.metrics import mean_absolute_error, mean_squared_error, classification_report, confusion_matrix, accuracy_score"
   ]
  },
  {
   "cell_type": "markdown",
   "id": "2692679b",
   "metadata": {},
   "source": [
    "# Keterangan Data\n",
    "\n",
    "Data yang digunakan adalah data pelaporan SPT Tahunan tahun pajak 2016 s.d. 2020 dan pembayaran tahun 2016 s.d. 2021 yang akan digunakan untuk memprediksi seberapa besar kemungkinan wajib pajak akan lapor SPT pada tahun 2022\n",
    "\n",
    "Kolom atau _features_ dalam data ini mencakup:\n",
    "* NPWP - Nomor Pokok Wajib Pajak\n",
    "* Nama - Nama Wajib Pajak\n",
    "* JNS_WP - Jenis WP (Bendahara, Badan, OP Karyawan, OP Non Karyawan)\n",
    "* Status WP - Normal/DE/Non Efeketif > Data yang digunakan hanya untuk wajib pajak yang berstatus aktif/normal\n",
    "* Nama_AR - Nama _Account Representative_ penanggung jawab wajib pajak ybs\n",
    "* Seksi - Seksi penangggung jawab WP ybs\n",
    "* Lapor 2016 s.d. Lapor 2020 - Data Pelaporan WP tahun 2016 s.d. 2020\n",
    "* Bendahara, OP Karyawan, OP Non Karyawan - One hot encoding untuk jenis WP, bila semuanya 0, jenis WP adalah WP badan\n",
    "* Kolom 2016-2021 kolom pembayaran oleh WP ybs pada tahun 2016-2021\n",
    "\n",
    "Data ini sudah dilakukan cleansing untuk mempermudah proses _modelling_ ke algoritma _machine learning_"
   ]
  },
  {
   "cell_type": "markdown",
   "id": "7ec70629",
   "metadata": {},
   "source": [
    "# Split the Data into 3 Part: Train, Val, Test\n",
    "\n",
    "The data will be split into:\n",
    "1. 60% Train Data\n",
    "2. 20% Validation Data\n",
    "3. 20% Final Test Data"
   ]
  },
  {
   "cell_type": "code",
   "execution_count": 3,
   "id": "8fcfaba1",
   "metadata": {},
   "outputs": [],
   "source": [
    "df = pd.read_parquet('data_cleaned.parquet')"
   ]
  },
  {
   "cell_type": "code",
   "execution_count": 5,
   "id": "0e214ee7",
   "metadata": {},
   "outputs": [
    {
     "data": {
      "text/html": [
       "<div>\n",
       "<style scoped>\n",
       "    .dataframe tbody tr th:only-of-type {\n",
       "        vertical-align: middle;\n",
       "    }\n",
       "\n",
       "    .dataframe tbody tr th {\n",
       "        vertical-align: top;\n",
       "    }\n",
       "\n",
       "    .dataframe thead th {\n",
       "        text-align: right;\n",
       "    }\n",
       "</style>\n",
       "<table border=\"1\" class=\"dataframe\">\n",
       "  <thead>\n",
       "    <tr style=\"text-align: right;\">\n",
       "      <th></th>\n",
       "      <th>NPWP</th>\n",
       "      <th>NAMA</th>\n",
       "      <th>JNS_WP</th>\n",
       "      <th>STATUS</th>\n",
       "      <th>NAMA_AR</th>\n",
       "      <th>SEKSI</th>\n",
       "      <th>LAPOR 2016</th>\n",
       "      <th>LAPOR 2017</th>\n",
       "      <th>LAPOR 2018</th>\n",
       "      <th>LAPOR 2019</th>\n",
       "      <th>LAPOR 2020</th>\n",
       "      <th>BENDAHARA</th>\n",
       "      <th>OP KARYAWAN</th>\n",
       "      <th>OP NON KARYAWAN</th>\n",
       "      <th>2016</th>\n",
       "      <th>2017</th>\n",
       "      <th>2018</th>\n",
       "      <th>2019</th>\n",
       "      <th>2020</th>\n",
       "      <th>2021</th>\n",
       "    </tr>\n",
       "  </thead>\n",
       "  <tbody>\n",
       "    <tr>\n",
       "      <th>0</th>\n",
       "      <td>607109311045000</td>\n",
       "      <td>BUANG SUHARJO</td>\n",
       "      <td>OP KARYAWAN</td>\n",
       "      <td>Normal</td>\n",
       "      <td>0</td>\n",
       "      <td>0</td>\n",
       "      <td>0.0</td>\n",
       "      <td>0.0</td>\n",
       "      <td>0.0</td>\n",
       "      <td>0.0</td>\n",
       "      <td>0.0</td>\n",
       "      <td>0.0</td>\n",
       "      <td>1.0</td>\n",
       "      <td>0.0</td>\n",
       "      <td>0.000000</td>\n",
       "      <td>0.000000</td>\n",
       "      <td>0.000000</td>\n",
       "      <td>0.000000</td>\n",
       "      <td>0.000000</td>\n",
       "      <td>0.000000</td>\n",
       "    </tr>\n",
       "    <tr>\n",
       "      <th>1</th>\n",
       "      <td>774509673045000</td>\n",
       "      <td>OKKI ANDRIANI</td>\n",
       "      <td>OP KARYAWAN</td>\n",
       "      <td>Normal</td>\n",
       "      <td>TEGUH WIYONO</td>\n",
       "      <td>V</td>\n",
       "      <td>1.0</td>\n",
       "      <td>1.0</td>\n",
       "      <td>1.0</td>\n",
       "      <td>1.0</td>\n",
       "      <td>1.0</td>\n",
       "      <td>0.0</td>\n",
       "      <td>1.0</td>\n",
       "      <td>0.0</td>\n",
       "      <td>0.000000</td>\n",
       "      <td>0.000000</td>\n",
       "      <td>0.000000</td>\n",
       "      <td>0.000000</td>\n",
       "      <td>0.000000</td>\n",
       "      <td>0.000000</td>\n",
       "    </tr>\n",
       "    <tr>\n",
       "      <th>2</th>\n",
       "      <td>248790909045000</td>\n",
       "      <td>RENOLD DARMASYAH</td>\n",
       "      <td>OP KARYAWAN</td>\n",
       "      <td>Normal</td>\n",
       "      <td>AFRA PRAMUDYA NURJANAH</td>\n",
       "      <td>VI</td>\n",
       "      <td>1.0</td>\n",
       "      <td>1.0</td>\n",
       "      <td>1.0</td>\n",
       "      <td>1.0</td>\n",
       "      <td>1.0</td>\n",
       "      <td>0.0</td>\n",
       "      <td>1.0</td>\n",
       "      <td>0.0</td>\n",
       "      <td>0.174011</td>\n",
       "      <td>-0.041553</td>\n",
       "      <td>0.087869</td>\n",
       "      <td>0.177123</td>\n",
       "      <td>-0.059912</td>\n",
       "      <td>-0.065016</td>\n",
       "    </tr>\n",
       "    <tr>\n",
       "      <th>3</th>\n",
       "      <td>901134262045000</td>\n",
       "      <td>BUZER SIAGIAN</td>\n",
       "      <td>OP KARYAWAN</td>\n",
       "      <td>Normal</td>\n",
       "      <td>AHMAD IKHSANUDIN</td>\n",
       "      <td>II</td>\n",
       "      <td>0.0</td>\n",
       "      <td>0.0</td>\n",
       "      <td>0.0</td>\n",
       "      <td>0.0</td>\n",
       "      <td>0.0</td>\n",
       "      <td>0.0</td>\n",
       "      <td>1.0</td>\n",
       "      <td>0.0</td>\n",
       "      <td>0.000000</td>\n",
       "      <td>0.000000</td>\n",
       "      <td>0.000000</td>\n",
       "      <td>0.000000</td>\n",
       "      <td>0.000000</td>\n",
       "      <td>0.000000</td>\n",
       "    </tr>\n",
       "    <tr>\n",
       "      <th>4</th>\n",
       "      <td>577730740045000</td>\n",
       "      <td>AGUS SULAIMAN</td>\n",
       "      <td>OP KARYAWAN</td>\n",
       "      <td>Normal</td>\n",
       "      <td>ENCENG HELMI</td>\n",
       "      <td>III</td>\n",
       "      <td>0.0</td>\n",
       "      <td>0.0</td>\n",
       "      <td>0.0</td>\n",
       "      <td>1.0</td>\n",
       "      <td>0.0</td>\n",
       "      <td>0.0</td>\n",
       "      <td>1.0</td>\n",
       "      <td>0.0</td>\n",
       "      <td>0.000000</td>\n",
       "      <td>0.000000</td>\n",
       "      <td>0.000000</td>\n",
       "      <td>0.000000</td>\n",
       "      <td>0.000000</td>\n",
       "      <td>0.000000</td>\n",
       "    </tr>\n",
       "  </tbody>\n",
       "</table>\n",
       "</div>"
      ],
      "text/plain": [
       "              NPWP              NAMA       JNS_WP  STATUS  \\\n",
       "0  607109311045000     BUANG SUHARJO  OP KARYAWAN  Normal   \n",
       "1  774509673045000     OKKI ANDRIANI  OP KARYAWAN  Normal   \n",
       "2  248790909045000  RENOLD DARMASYAH  OP KARYAWAN  Normal   \n",
       "3  901134262045000     BUZER SIAGIAN  OP KARYAWAN  Normal   \n",
       "4  577730740045000     AGUS SULAIMAN  OP KARYAWAN  Normal   \n",
       "\n",
       "                  NAMA_AR SEKSI  LAPOR 2016  LAPOR 2017  LAPOR 2018  \\\n",
       "0                       0     0         0.0         0.0         0.0   \n",
       "1            TEGUH WIYONO     V         1.0         1.0         1.0   \n",
       "2  AFRA PRAMUDYA NURJANAH    VI         1.0         1.0         1.0   \n",
       "3        AHMAD IKHSANUDIN    II         0.0         0.0         0.0   \n",
       "4            ENCENG HELMI   III         0.0         0.0         0.0   \n",
       "\n",
       "   LAPOR 2019  LAPOR 2020  BENDAHARA  OP KARYAWAN  OP NON KARYAWAN      2016  \\\n",
       "0         0.0         0.0        0.0          1.0              0.0  0.000000   \n",
       "1         1.0         1.0        0.0          1.0              0.0  0.000000   \n",
       "2         1.0         1.0        0.0          1.0              0.0  0.174011   \n",
       "3         0.0         0.0        0.0          1.0              0.0  0.000000   \n",
       "4         1.0         0.0        0.0          1.0              0.0  0.000000   \n",
       "\n",
       "       2017      2018      2019      2020      2021  \n",
       "0  0.000000  0.000000  0.000000  0.000000  0.000000  \n",
       "1  0.000000  0.000000  0.000000  0.000000  0.000000  \n",
       "2 -0.041553  0.087869  0.177123 -0.059912 -0.065016  \n",
       "3  0.000000  0.000000  0.000000  0.000000  0.000000  \n",
       "4  0.000000  0.000000  0.000000  0.000000  0.000000  "
      ]
     },
     "execution_count": 5,
     "metadata": {},
     "output_type": "execute_result"
    }
   ],
   "source": [
    "df.head()"
   ]
  },
  {
   "cell_type": "code",
   "execution_count": 6,
   "id": "c2c17cb2",
   "metadata": {},
   "outputs": [
    {
     "data": {
      "text/plain": [
       "Index(['NPWP', 'NAMA', 'JNS_WP', 'STATUS', 'NAMA_AR', 'SEKSI', 'LAPOR 2016',\n",
       "       'LAPOR 2017', 'LAPOR 2018', 'LAPOR 2019', 'LAPOR 2020', 'BENDAHARA',\n",
       "       'OP KARYAWAN', 'OP NON KARYAWAN', '2016', '2017', '2018', '2019',\n",
       "       '2020', '2021'],\n",
       "      dtype='object')"
      ]
     },
     "execution_count": 6,
     "metadata": {},
     "output_type": "execute_result"
    }
   ],
   "source": [
    "df.columns"
   ]
  },
  {
   "cell_type": "code",
   "execution_count": 7,
   "id": "04077ea7",
   "metadata": {},
   "outputs": [],
   "source": [
    "feature_col = ['LAPOR 2016',\n",
    "       'LAPOR 2017', 'LAPOR 2018', 'LAPOR 2019', 'BENDAHARA',\n",
    "       'OP KARYAWAN', 'OP NON KARYAWAN', '2016', '2017', '2018', '2019',\n",
    "       '2020']"
   ]
  },
  {
   "cell_type": "code",
   "execution_count": 9,
   "id": "73dd8b43",
   "metadata": {},
   "outputs": [],
   "source": [
    "X = df[feature_col]\n",
    "y = df['LAPOR 2020']"
   ]
  },
  {
   "cell_type": "code",
   "execution_count": 10,
   "id": "c9193e0d",
   "metadata": {},
   "outputs": [],
   "source": [
    "# Split into train and test\n",
    "X_train, X_test, y_train, y_test = train_test_split(X, y, test_size=0.2, random_state=21)\n",
    "\n",
    "# Split into train and val\n",
    "X_train, X_val, y_train, y_val = train_test_split(X_train, y_train, test_size=0.25, random_state=21)"
   ]
  },
  {
   "cell_type": "code",
   "execution_count": 11,
   "id": "3ed99022",
   "metadata": {},
   "outputs": [
    {
     "data": {
      "text/plain": [
       "(78647, 26216, 26216)"
      ]
     },
     "execution_count": 11,
     "metadata": {},
     "output_type": "execute_result"
    }
   ],
   "source": [
    "len(X_train), len(X_val), len(X_test)"
   ]
  },
  {
   "cell_type": "code",
   "execution_count": 12,
   "id": "4bcdaa4c",
   "metadata": {},
   "outputs": [
    {
     "data": {
      "text/plain": [
       "(78647, 26216, 26216)"
      ]
     },
     "execution_count": 12,
     "metadata": {},
     "output_type": "execute_result"
    }
   ],
   "source": [
    "len(y_train), len(y_val), len(y_test)"
   ]
  },
  {
   "cell_type": "markdown",
   "id": "26f626b2",
   "metadata": {},
   "source": [
    "# XGBoost"
   ]
  },
  {
   "cell_type": "code",
   "execution_count": 31,
   "id": "4f4d3ce7",
   "metadata": {},
   "outputs": [],
   "source": [
    "xgb_model = xgb.XGBClassifier(objective='binary:logistic')"
   ]
  },
  {
   "cell_type": "code",
   "execution_count": 32,
   "id": "e0cd7d62",
   "metadata": {},
   "outputs": [
    {
     "data": {
      "text/plain": [
       "XGBClassifier(base_score=0.5, booster='gbtree', callbacks=None,\n",
       "              colsample_bylevel=1, colsample_bynode=1, colsample_bytree=1,\n",
       "              early_stopping_rounds=None, enable_categorical=False,\n",
       "              eval_metric=None, gamma=0, gpu_id=-1, grow_policy='depthwise',\n",
       "              importance_type=None, interaction_constraints='',\n",
       "              learning_rate=0.300000012, max_bin=256, max_cat_to_onehot=4,\n",
       "              max_delta_step=0, max_depth=6, max_leaves=0, min_child_weight=1,\n",
       "              missing=nan, monotone_constraints='()', n_estimators=100,\n",
       "              n_jobs=0, num_parallel_tree=1, predictor='auto', random_state=0,\n",
       "              reg_alpha=0, reg_lambda=1, ...)"
      ]
     },
     "execution_count": 32,
     "metadata": {},
     "output_type": "execute_result"
    }
   ],
   "source": [
    "xgb_model.fit(X_train.values, y_train.values)"
   ]
  },
  {
   "cell_type": "code",
   "execution_count": 33,
   "id": "c6e97c74",
   "metadata": {},
   "outputs": [],
   "source": [
    "xgb_pred_1 = xgb_model.predict(X_val)"
   ]
  },
  {
   "cell_type": "code",
   "execution_count": 61,
   "id": "c02050c8",
   "metadata": {},
   "outputs": [
    {
     "data": {
      "text/plain": [
       "0.8621833994507171"
      ]
     },
     "execution_count": 61,
     "metadata": {},
     "output_type": "execute_result"
    }
   ],
   "source": [
    "accuracy_score(y_val, xgb_pred_1)"
   ]
  },
  {
   "cell_type": "code",
   "execution_count": 47,
   "id": "6bc44cd4",
   "metadata": {},
   "outputs": [],
   "source": [
    "xgb_model_grid = xgb.XGBClassifier(objective='binary:logistic')"
   ]
  },
  {
   "cell_type": "code",
   "execution_count": 48,
   "id": "df6d2715",
   "metadata": {},
   "outputs": [],
   "source": [
    "param_grid = {\n",
    "    \"max_depth\": [3, 4, 5, 7],\n",
    "    \"learning_rate\": [0.1, 0.01, 0.05],\n",
    "    \"gamma\": [0, 0.25, 1],\n",
    "    \"reg_lambda\": [0, 1, 10],\n",
    "    \"scale_pos_weight\": [1, 3, 5],\n",
    "    \"subsample\": [0.8],\n",
    "    \"colsample_bytree\": [0.5],\n",
    "}"
   ]
  },
  {
   "cell_type": "code",
   "execution_count": 49,
   "id": "71f194bb",
   "metadata": {},
   "outputs": [],
   "source": [
    "grid_cv = GridSearchCV(xgb_model_grid, param_grid=param_grid, verbose=3)"
   ]
  },
  {
   "cell_type": "code",
   "execution_count": 50,
   "id": "5a8fa342",
   "metadata": {},
   "outputs": [
    {
     "name": "stdout",
     "output_type": "stream",
     "text": [
      "Fitting 5 folds for each of 324 candidates, totalling 1620 fits\n",
      "[CV 1/5] END colsample_bytree=0.5, gamma=0, learning_rate=0.1, max_depth=3, reg_lambda=0, scale_pos_weight=1, subsample=0.8;, score=0.867 total time=   0.7s\n",
      "[CV 2/5] END colsample_bytree=0.5, gamma=0, learning_rate=0.1, max_depth=3, reg_lambda=0, scale_pos_weight=1, subsample=0.8;, score=0.866 total time=   0.7s\n",
      "[CV 3/5] END colsample_bytree=0.5, gamma=0, learning_rate=0.1, max_depth=3, reg_lambda=0, scale_pos_weight=1, subsample=0.8;, score=0.862 total time=   0.6s\n",
      "[CV 4/5] END colsample_bytree=0.5, gamma=0, learning_rate=0.1, max_depth=3, reg_lambda=0, scale_pos_weight=1, subsample=0.8;, score=0.864 total time=   0.7s\n",
      "[CV 5/5] END colsample_bytree=0.5, gamma=0, learning_rate=0.1, max_depth=3, reg_lambda=0, scale_pos_weight=1, subsample=0.8;, score=0.862 total time=   0.7s\n",
      "[CV 1/5] END colsample_bytree=0.5, gamma=0, learning_rate=0.1, max_depth=3, reg_lambda=0, scale_pos_weight=3, subsample=0.8;, score=0.840 total time=   0.7s\n",
      "[CV 2/5] END colsample_bytree=0.5, gamma=0, learning_rate=0.1, max_depth=3, reg_lambda=0, scale_pos_weight=3, subsample=0.8;, score=0.834 total time=   0.7s\n",
      "[CV 3/5] END colsample_bytree=0.5, gamma=0, learning_rate=0.1, max_depth=3, reg_lambda=0, scale_pos_weight=3, subsample=0.8;, score=0.836 total time=   0.7s\n",
      "[CV 4/5] END colsample_bytree=0.5, gamma=0, learning_rate=0.1, max_depth=3, reg_lambda=0, scale_pos_weight=3, subsample=0.8;, score=0.840 total time=   0.7s\n",
      "[CV 5/5] END colsample_bytree=0.5, gamma=0, learning_rate=0.1, max_depth=3, reg_lambda=0, scale_pos_weight=3, subsample=0.8;, score=0.837 total time=   0.7s\n",
      "[CV 1/5] END colsample_bytree=0.5, gamma=0, learning_rate=0.1, max_depth=3, reg_lambda=0, scale_pos_weight=5, subsample=0.8;, score=0.815 total time=   0.7s\n",
      "[CV 2/5] END colsample_bytree=0.5, gamma=0, learning_rate=0.1, max_depth=3, reg_lambda=0, scale_pos_weight=5, subsample=0.8;, score=0.811 total time=   0.7s\n",
      "[CV 3/5] END colsample_bytree=0.5, gamma=0, learning_rate=0.1, max_depth=3, reg_lambda=0, scale_pos_weight=5, subsample=0.8;, score=0.808 total time=   0.7s\n",
      "[CV 4/5] END colsample_bytree=0.5, gamma=0, learning_rate=0.1, max_depth=3, reg_lambda=0, scale_pos_weight=5, subsample=0.8;, score=0.813 total time=   0.7s\n",
      "[CV 5/5] END colsample_bytree=0.5, gamma=0, learning_rate=0.1, max_depth=3, reg_lambda=0, scale_pos_weight=5, subsample=0.8;, score=0.809 total time=   0.7s\n",
      "[CV 1/5] END colsample_bytree=0.5, gamma=0, learning_rate=0.1, max_depth=3, reg_lambda=1, scale_pos_weight=1, subsample=0.8;, score=0.867 total time=   0.7s\n",
      "[CV 2/5] END colsample_bytree=0.5, gamma=0, learning_rate=0.1, max_depth=3, reg_lambda=1, scale_pos_weight=1, subsample=0.8;, score=0.866 total time=   0.7s\n",
      "[CV 3/5] END colsample_bytree=0.5, gamma=0, learning_rate=0.1, max_depth=3, reg_lambda=1, scale_pos_weight=1, subsample=0.8;, score=0.862 total time=   0.7s\n",
      "[CV 4/5] END colsample_bytree=0.5, gamma=0, learning_rate=0.1, max_depth=3, reg_lambda=1, scale_pos_weight=1, subsample=0.8;, score=0.864 total time=   0.7s\n",
      "[CV 5/5] END colsample_bytree=0.5, gamma=0, learning_rate=0.1, max_depth=3, reg_lambda=1, scale_pos_weight=1, subsample=0.8;, score=0.862 total time=   0.8s\n",
      "[CV 1/5] END colsample_bytree=0.5, gamma=0, learning_rate=0.1, max_depth=3, reg_lambda=1, scale_pos_weight=3, subsample=0.8;, score=0.836 total time=   0.7s\n",
      "[CV 2/5] END colsample_bytree=0.5, gamma=0, learning_rate=0.1, max_depth=3, reg_lambda=1, scale_pos_weight=3, subsample=0.8;, score=0.834 total time=   0.8s\n",
      "[CV 3/5] END colsample_bytree=0.5, gamma=0, learning_rate=0.1, max_depth=3, reg_lambda=1, scale_pos_weight=3, subsample=0.8;, score=0.836 total time=   0.7s\n",
      "[CV 4/5] END colsample_bytree=0.5, gamma=0, learning_rate=0.1, max_depth=3, reg_lambda=1, scale_pos_weight=3, subsample=0.8;, score=0.840 total time=   0.7s\n",
      "[CV 5/5] END colsample_bytree=0.5, gamma=0, learning_rate=0.1, max_depth=3, reg_lambda=1, scale_pos_weight=3, subsample=0.8;, score=0.838 total time=   0.7s\n",
      "[CV 1/5] END colsample_bytree=0.5, gamma=0, learning_rate=0.1, max_depth=3, reg_lambda=1, scale_pos_weight=5, subsample=0.8;, score=0.816 total time=   0.8s\n",
      "[CV 2/5] END colsample_bytree=0.5, gamma=0, learning_rate=0.1, max_depth=3, reg_lambda=1, scale_pos_weight=5, subsample=0.8;, score=0.812 total time=   0.7s\n",
      "[CV 3/5] END colsample_bytree=0.5, gamma=0, learning_rate=0.1, max_depth=3, reg_lambda=1, scale_pos_weight=5, subsample=0.8;, score=0.808 total time=   0.7s\n",
      "[CV 4/5] END colsample_bytree=0.5, gamma=0, learning_rate=0.1, max_depth=3, reg_lambda=1, scale_pos_weight=5, subsample=0.8;, score=0.814 total time=   0.7s\n",
      "[CV 5/5] END colsample_bytree=0.5, gamma=0, learning_rate=0.1, max_depth=3, reg_lambda=1, scale_pos_weight=5, subsample=0.8;, score=0.808 total time=   0.7s\n",
      "[CV 1/5] END colsample_bytree=0.5, gamma=0, learning_rate=0.1, max_depth=3, reg_lambda=10, scale_pos_weight=1, subsample=0.8;, score=0.867 total time=   0.7s\n",
      "[CV 2/5] END colsample_bytree=0.5, gamma=0, learning_rate=0.1, max_depth=3, reg_lambda=10, scale_pos_weight=1, subsample=0.8;, score=0.866 total time=   0.8s\n",
      "[CV 3/5] END colsample_bytree=0.5, gamma=0, learning_rate=0.1, max_depth=3, reg_lambda=10, scale_pos_weight=1, subsample=0.8;, score=0.862 total time=   0.8s\n",
      "[CV 4/5] END colsample_bytree=0.5, gamma=0, learning_rate=0.1, max_depth=3, reg_lambda=10, scale_pos_weight=1, subsample=0.8;, score=0.864 total time=   0.7s\n",
      "[CV 5/5] END colsample_bytree=0.5, gamma=0, learning_rate=0.1, max_depth=3, reg_lambda=10, scale_pos_weight=1, subsample=0.8;, score=0.862 total time=   0.7s\n",
      "[CV 1/5] END colsample_bytree=0.5, gamma=0, learning_rate=0.1, max_depth=3, reg_lambda=10, scale_pos_weight=3, subsample=0.8;, score=0.836 total time=   0.7s\n",
      "[CV 2/5] END colsample_bytree=0.5, gamma=0, learning_rate=0.1, max_depth=3, reg_lambda=10, scale_pos_weight=3, subsample=0.8;, score=0.835 total time=   0.7s\n",
      "[CV 3/5] END colsample_bytree=0.5, gamma=0, learning_rate=0.1, max_depth=3, reg_lambda=10, scale_pos_weight=3, subsample=0.8;, score=0.836 total time=   0.7s\n",
      "[CV 4/5] END colsample_bytree=0.5, gamma=0, learning_rate=0.1, max_depth=3, reg_lambda=10, scale_pos_weight=3, subsample=0.8;, score=0.840 total time=   0.7s\n",
      "[CV 5/5] END colsample_bytree=0.5, gamma=0, learning_rate=0.1, max_depth=3, reg_lambda=10, scale_pos_weight=3, subsample=0.8;, score=0.837 total time=   0.7s\n",
      "[CV 1/5] END colsample_bytree=0.5, gamma=0, learning_rate=0.1, max_depth=3, reg_lambda=10, scale_pos_weight=5, subsample=0.8;, score=0.815 total time=   0.7s\n",
      "[CV 2/5] END colsample_bytree=0.5, gamma=0, learning_rate=0.1, max_depth=3, reg_lambda=10, scale_pos_weight=5, subsample=0.8;, score=0.812 total time=   0.8s\n",
      "[CV 3/5] END colsample_bytree=0.5, gamma=0, learning_rate=0.1, max_depth=3, reg_lambda=10, scale_pos_weight=5, subsample=0.8;, score=0.807 total time=   0.8s\n",
      "[CV 4/5] END colsample_bytree=0.5, gamma=0, learning_rate=0.1, max_depth=3, reg_lambda=10, scale_pos_weight=5, subsample=0.8;, score=0.813 total time=   0.7s\n",
      "[CV 5/5] END colsample_bytree=0.5, gamma=0, learning_rate=0.1, max_depth=3, reg_lambda=10, scale_pos_weight=5, subsample=0.8;, score=0.808 total time=   0.7s\n",
      "[CV 1/5] END colsample_bytree=0.5, gamma=0, learning_rate=0.1, max_depth=4, reg_lambda=0, scale_pos_weight=1, subsample=0.8;, score=0.867 total time=   0.8s\n",
      "[CV 2/5] END colsample_bytree=0.5, gamma=0, learning_rate=0.1, max_depth=4, reg_lambda=0, scale_pos_weight=1, subsample=0.8;, score=0.865 total time=   0.8s\n",
      "[CV 3/5] END colsample_bytree=0.5, gamma=0, learning_rate=0.1, max_depth=4, reg_lambda=0, scale_pos_weight=1, subsample=0.8;, score=0.862 total time=   0.9s\n",
      "[CV 4/5] END colsample_bytree=0.5, gamma=0, learning_rate=0.1, max_depth=4, reg_lambda=0, scale_pos_weight=1, subsample=0.8;, score=0.865 total time=   0.8s\n",
      "[CV 5/5] END colsample_bytree=0.5, gamma=0, learning_rate=0.1, max_depth=4, reg_lambda=0, scale_pos_weight=1, subsample=0.8;, score=0.862 total time=   0.8s\n",
      "[CV 1/5] END colsample_bytree=0.5, gamma=0, learning_rate=0.1, max_depth=4, reg_lambda=0, scale_pos_weight=3, subsample=0.8;, score=0.835 total time=   0.8s\n",
      "[CV 2/5] END colsample_bytree=0.5, gamma=0, learning_rate=0.1, max_depth=4, reg_lambda=0, scale_pos_weight=3, subsample=0.8;, score=0.833 total time=   0.8s\n"
     ]
    },
    {
     "name": "stdout",
     "output_type": "stream",
     "text": [
      "[CV 3/5] END colsample_bytree=0.5, gamma=0, learning_rate=0.1, max_depth=4, reg_lambda=0, scale_pos_weight=3, subsample=0.8;, score=0.829 total time=   0.8s\n",
      "[CV 4/5] END colsample_bytree=0.5, gamma=0, learning_rate=0.1, max_depth=4, reg_lambda=0, scale_pos_weight=3, subsample=0.8;, score=0.835 total time=   0.8s\n",
      "[CV 5/5] END colsample_bytree=0.5, gamma=0, learning_rate=0.1, max_depth=4, reg_lambda=0, scale_pos_weight=3, subsample=0.8;, score=0.831 total time=   0.8s\n",
      "[CV 1/5] END colsample_bytree=0.5, gamma=0, learning_rate=0.1, max_depth=4, reg_lambda=0, scale_pos_weight=5, subsample=0.8;, score=0.816 total time=   0.8s\n",
      "[CV 2/5] END colsample_bytree=0.5, gamma=0, learning_rate=0.1, max_depth=4, reg_lambda=0, scale_pos_weight=5, subsample=0.8;, score=0.812 total time=   0.8s\n",
      "[CV 3/5] END colsample_bytree=0.5, gamma=0, learning_rate=0.1, max_depth=4, reg_lambda=0, scale_pos_weight=5, subsample=0.8;, score=0.808 total time=   0.8s\n",
      "[CV 4/5] END colsample_bytree=0.5, gamma=0, learning_rate=0.1, max_depth=4, reg_lambda=0, scale_pos_weight=5, subsample=0.8;, score=0.815 total time=   0.8s\n",
      "[CV 5/5] END colsample_bytree=0.5, gamma=0, learning_rate=0.1, max_depth=4, reg_lambda=0, scale_pos_weight=5, subsample=0.8;, score=0.809 total time=   0.8s\n",
      "[CV 1/5] END colsample_bytree=0.5, gamma=0, learning_rate=0.1, max_depth=4, reg_lambda=1, scale_pos_weight=1, subsample=0.8;, score=0.867 total time=   0.8s\n",
      "[CV 2/5] END colsample_bytree=0.5, gamma=0, learning_rate=0.1, max_depth=4, reg_lambda=1, scale_pos_weight=1, subsample=0.8;, score=0.866 total time=   0.9s\n",
      "[CV 3/5] END colsample_bytree=0.5, gamma=0, learning_rate=0.1, max_depth=4, reg_lambda=1, scale_pos_weight=1, subsample=0.8;, score=0.862 total time=   0.9s\n",
      "[CV 4/5] END colsample_bytree=0.5, gamma=0, learning_rate=0.1, max_depth=4, reg_lambda=1, scale_pos_weight=1, subsample=0.8;, score=0.865 total time=   0.9s\n",
      "[CV 5/5] END colsample_bytree=0.5, gamma=0, learning_rate=0.1, max_depth=4, reg_lambda=1, scale_pos_weight=1, subsample=0.8;, score=0.862 total time=   0.8s\n",
      "[CV 1/5] END colsample_bytree=0.5, gamma=0, learning_rate=0.1, max_depth=4, reg_lambda=1, scale_pos_weight=3, subsample=0.8;, score=0.835 total time=   0.8s\n",
      "[CV 2/5] END colsample_bytree=0.5, gamma=0, learning_rate=0.1, max_depth=4, reg_lambda=1, scale_pos_weight=3, subsample=0.8;, score=0.833 total time=   0.8s\n",
      "[CV 3/5] END colsample_bytree=0.5, gamma=0, learning_rate=0.1, max_depth=4, reg_lambda=1, scale_pos_weight=3, subsample=0.8;, score=0.829 total time=   0.9s\n",
      "[CV 4/5] END colsample_bytree=0.5, gamma=0, learning_rate=0.1, max_depth=4, reg_lambda=1, scale_pos_weight=3, subsample=0.8;, score=0.834 total time=   0.8s\n",
      "[CV 5/5] END colsample_bytree=0.5, gamma=0, learning_rate=0.1, max_depth=4, reg_lambda=1, scale_pos_weight=3, subsample=0.8;, score=0.830 total time=   0.8s\n",
      "[CV 1/5] END colsample_bytree=0.5, gamma=0, learning_rate=0.1, max_depth=4, reg_lambda=1, scale_pos_weight=5, subsample=0.8;, score=0.816 total time=   0.8s\n",
      "[CV 2/5] END colsample_bytree=0.5, gamma=0, learning_rate=0.1, max_depth=4, reg_lambda=1, scale_pos_weight=5, subsample=0.8;, score=0.811 total time=   0.8s\n",
      "[CV 3/5] END colsample_bytree=0.5, gamma=0, learning_rate=0.1, max_depth=4, reg_lambda=1, scale_pos_weight=5, subsample=0.8;, score=0.809 total time=   0.8s\n",
      "[CV 4/5] END colsample_bytree=0.5, gamma=0, learning_rate=0.1, max_depth=4, reg_lambda=1, scale_pos_weight=5, subsample=0.8;, score=0.815 total time=   0.8s\n",
      "[CV 5/5] END colsample_bytree=0.5, gamma=0, learning_rate=0.1, max_depth=4, reg_lambda=1, scale_pos_weight=5, subsample=0.8;, score=0.809 total time=   0.8s\n",
      "[CV 1/5] END colsample_bytree=0.5, gamma=0, learning_rate=0.1, max_depth=4, reg_lambda=10, scale_pos_weight=1, subsample=0.8;, score=0.867 total time=   0.8s\n",
      "[CV 2/5] END colsample_bytree=0.5, gamma=0, learning_rate=0.1, max_depth=4, reg_lambda=10, scale_pos_weight=1, subsample=0.8;, score=0.865 total time=   0.8s\n",
      "[CV 3/5] END colsample_bytree=0.5, gamma=0, learning_rate=0.1, max_depth=4, reg_lambda=10, scale_pos_weight=1, subsample=0.8;, score=0.862 total time=   0.8s\n",
      "[CV 4/5] END colsample_bytree=0.5, gamma=0, learning_rate=0.1, max_depth=4, reg_lambda=10, scale_pos_weight=1, subsample=0.8;, score=0.864 total time=   0.8s\n",
      "[CV 5/5] END colsample_bytree=0.5, gamma=0, learning_rate=0.1, max_depth=4, reg_lambda=10, scale_pos_weight=1, subsample=0.8;, score=0.862 total time=   0.8s\n",
      "[CV 1/5] END colsample_bytree=0.5, gamma=0, learning_rate=0.1, max_depth=4, reg_lambda=10, scale_pos_weight=3, subsample=0.8;, score=0.835 total time=   0.8s\n",
      "[CV 2/5] END colsample_bytree=0.5, gamma=0, learning_rate=0.1, max_depth=4, reg_lambda=10, scale_pos_weight=3, subsample=0.8;, score=0.833 total time=   0.8s\n",
      "[CV 3/5] END colsample_bytree=0.5, gamma=0, learning_rate=0.1, max_depth=4, reg_lambda=10, scale_pos_weight=3, subsample=0.8;, score=0.829 total time=   0.8s\n",
      "[CV 4/5] END colsample_bytree=0.5, gamma=0, learning_rate=0.1, max_depth=4, reg_lambda=10, scale_pos_weight=3, subsample=0.8;, score=0.834 total time=   0.8s\n",
      "[CV 5/5] END colsample_bytree=0.5, gamma=0, learning_rate=0.1, max_depth=4, reg_lambda=10, scale_pos_weight=3, subsample=0.8;, score=0.830 total time=   0.8s\n",
      "[CV 1/5] END colsample_bytree=0.5, gamma=0, learning_rate=0.1, max_depth=4, reg_lambda=10, scale_pos_weight=5, subsample=0.8;, score=0.816 total time=   0.8s\n",
      "[CV 2/5] END colsample_bytree=0.5, gamma=0, learning_rate=0.1, max_depth=4, reg_lambda=10, scale_pos_weight=5, subsample=0.8;, score=0.811 total time=   0.8s\n",
      "[CV 3/5] END colsample_bytree=0.5, gamma=0, learning_rate=0.1, max_depth=4, reg_lambda=10, scale_pos_weight=5, subsample=0.8;, score=0.809 total time=   0.8s\n",
      "[CV 4/5] END colsample_bytree=0.5, gamma=0, learning_rate=0.1, max_depth=4, reg_lambda=10, scale_pos_weight=5, subsample=0.8;, score=0.814 total time=   0.8s\n",
      "[CV 5/5] END colsample_bytree=0.5, gamma=0, learning_rate=0.1, max_depth=4, reg_lambda=10, scale_pos_weight=5, subsample=0.8;, score=0.809 total time=   0.9s\n",
      "[CV 1/5] END colsample_bytree=0.5, gamma=0, learning_rate=0.1, max_depth=5, reg_lambda=0, scale_pos_weight=1, subsample=0.8;, score=0.867 total time=   1.0s\n",
      "[CV 2/5] END colsample_bytree=0.5, gamma=0, learning_rate=0.1, max_depth=5, reg_lambda=0, scale_pos_weight=1, subsample=0.8;, score=0.866 total time=   1.0s\n",
      "[CV 3/5] END colsample_bytree=0.5, gamma=0, learning_rate=0.1, max_depth=5, reg_lambda=0, scale_pos_weight=1, subsample=0.8;, score=0.863 total time=   1.1s\n",
      "[CV 4/5] END colsample_bytree=0.5, gamma=0, learning_rate=0.1, max_depth=5, reg_lambda=0, scale_pos_weight=1, subsample=0.8;, score=0.864 total time=   1.4s\n",
      "[CV 5/5] END colsample_bytree=0.5, gamma=0, learning_rate=0.1, max_depth=5, reg_lambda=0, scale_pos_weight=1, subsample=0.8;, score=0.862 total time=   1.3s\n",
      "[CV 1/5] END colsample_bytree=0.5, gamma=0, learning_rate=0.1, max_depth=5, reg_lambda=0, scale_pos_weight=3, subsample=0.8;, score=0.835 total time=   1.1s\n",
      "[CV 2/5] END colsample_bytree=0.5, gamma=0, learning_rate=0.1, max_depth=5, reg_lambda=0, scale_pos_weight=3, subsample=0.8;, score=0.834 total time=   1.2s\n",
      "[CV 3/5] END colsample_bytree=0.5, gamma=0, learning_rate=0.1, max_depth=5, reg_lambda=0, scale_pos_weight=3, subsample=0.8;, score=0.828 total time=   1.1s\n",
      "[CV 4/5] END colsample_bytree=0.5, gamma=0, learning_rate=0.1, max_depth=5, reg_lambda=0, scale_pos_weight=3, subsample=0.8;, score=0.834 total time=   1.0s\n",
      "[CV 5/5] END colsample_bytree=0.5, gamma=0, learning_rate=0.1, max_depth=5, reg_lambda=0, scale_pos_weight=3, subsample=0.8;, score=0.831 total time=   1.1s\n",
      "[CV 1/5] END colsample_bytree=0.5, gamma=0, learning_rate=0.1, max_depth=5, reg_lambda=0, scale_pos_weight=5, subsample=0.8;, score=0.817 total time=   1.1s\n",
      "[CV 2/5] END colsample_bytree=0.5, gamma=0, learning_rate=0.1, max_depth=5, reg_lambda=0, scale_pos_weight=5, subsample=0.8;, score=0.813 total time=   1.1s\n",
      "[CV 3/5] END colsample_bytree=0.5, gamma=0, learning_rate=0.1, max_depth=5, reg_lambda=0, scale_pos_weight=5, subsample=0.8;, score=0.809 total time=   1.0s\n",
      "[CV 4/5] END colsample_bytree=0.5, gamma=0, learning_rate=0.1, max_depth=5, reg_lambda=0, scale_pos_weight=5, subsample=0.8;, score=0.815 total time=   0.9s\n",
      "[CV 5/5] END colsample_bytree=0.5, gamma=0, learning_rate=0.1, max_depth=5, reg_lambda=0, scale_pos_weight=5, subsample=0.8;, score=0.809 total time=   0.9s\n"
     ]
    },
    {
     "name": "stdout",
     "output_type": "stream",
     "text": [
      "[CV 1/5] END colsample_bytree=0.5, gamma=0, learning_rate=0.1, max_depth=5, reg_lambda=1, scale_pos_weight=1, subsample=0.8;, score=0.867 total time=   0.9s\n",
      "[CV 2/5] END colsample_bytree=0.5, gamma=0, learning_rate=0.1, max_depth=5, reg_lambda=1, scale_pos_weight=1, subsample=0.8;, score=0.866 total time=   1.0s\n",
      "[CV 3/5] END colsample_bytree=0.5, gamma=0, learning_rate=0.1, max_depth=5, reg_lambda=1, scale_pos_weight=1, subsample=0.8;, score=0.863 total time=   1.0s\n",
      "[CV 4/5] END colsample_bytree=0.5, gamma=0, learning_rate=0.1, max_depth=5, reg_lambda=1, scale_pos_weight=1, subsample=0.8;, score=0.864 total time=   1.0s\n",
      "[CV 5/5] END colsample_bytree=0.5, gamma=0, learning_rate=0.1, max_depth=5, reg_lambda=1, scale_pos_weight=1, subsample=0.8;, score=0.862 total time=   1.1s\n",
      "[CV 1/5] END colsample_bytree=0.5, gamma=0, learning_rate=0.1, max_depth=5, reg_lambda=1, scale_pos_weight=3, subsample=0.8;, score=0.835 total time=   1.1s\n",
      "[CV 2/5] END colsample_bytree=0.5, gamma=0, learning_rate=0.1, max_depth=5, reg_lambda=1, scale_pos_weight=3, subsample=0.8;, score=0.834 total time=   0.9s\n",
      "[CV 3/5] END colsample_bytree=0.5, gamma=0, learning_rate=0.1, max_depth=5, reg_lambda=1, scale_pos_weight=3, subsample=0.8;, score=0.828 total time=   0.9s\n",
      "[CV 4/5] END colsample_bytree=0.5, gamma=0, learning_rate=0.1, max_depth=5, reg_lambda=1, scale_pos_weight=3, subsample=0.8;, score=0.834 total time=   0.9s\n",
      "[CV 5/5] END colsample_bytree=0.5, gamma=0, learning_rate=0.1, max_depth=5, reg_lambda=1, scale_pos_weight=3, subsample=0.8;, score=0.831 total time=   0.9s\n",
      "[CV 1/5] END colsample_bytree=0.5, gamma=0, learning_rate=0.1, max_depth=5, reg_lambda=1, scale_pos_weight=5, subsample=0.8;, score=0.817 total time=   0.9s\n",
      "[CV 2/5] END colsample_bytree=0.5, gamma=0, learning_rate=0.1, max_depth=5, reg_lambda=1, scale_pos_weight=5, subsample=0.8;, score=0.813 total time=   0.9s\n",
      "[CV 3/5] END colsample_bytree=0.5, gamma=0, learning_rate=0.1, max_depth=5, reg_lambda=1, scale_pos_weight=5, subsample=0.8;, score=0.809 total time=   0.9s\n",
      "[CV 4/5] END colsample_bytree=0.5, gamma=0, learning_rate=0.1, max_depth=5, reg_lambda=1, scale_pos_weight=5, subsample=0.8;, score=0.816 total time=   0.9s\n",
      "[CV 5/5] END colsample_bytree=0.5, gamma=0, learning_rate=0.1, max_depth=5, reg_lambda=1, scale_pos_weight=5, subsample=0.8;, score=0.809 total time=   0.9s\n",
      "[CV 1/5] END colsample_bytree=0.5, gamma=0, learning_rate=0.1, max_depth=5, reg_lambda=10, scale_pos_weight=1, subsample=0.8;, score=0.867 total time=   0.9s\n",
      "[CV 2/5] END colsample_bytree=0.5, gamma=0, learning_rate=0.1, max_depth=5, reg_lambda=10, scale_pos_weight=1, subsample=0.8;, score=0.866 total time=   0.9s\n",
      "[CV 3/5] END colsample_bytree=0.5, gamma=0, learning_rate=0.1, max_depth=5, reg_lambda=10, scale_pos_weight=1, subsample=0.8;, score=0.862 total time=   0.9s\n",
      "[CV 4/5] END colsample_bytree=0.5, gamma=0, learning_rate=0.1, max_depth=5, reg_lambda=10, scale_pos_weight=1, subsample=0.8;, score=0.864 total time=   0.9s\n",
      "[CV 5/5] END colsample_bytree=0.5, gamma=0, learning_rate=0.1, max_depth=5, reg_lambda=10, scale_pos_weight=1, subsample=0.8;, score=0.862 total time=   0.9s\n",
      "[CV 1/5] END colsample_bytree=0.5, gamma=0, learning_rate=0.1, max_depth=5, reg_lambda=10, scale_pos_weight=3, subsample=0.8;, score=0.834 total time=   1.0s\n",
      "[CV 2/5] END colsample_bytree=0.5, gamma=0, learning_rate=0.1, max_depth=5, reg_lambda=10, scale_pos_weight=3, subsample=0.8;, score=0.833 total time=   0.9s\n",
      "[CV 3/5] END colsample_bytree=0.5, gamma=0, learning_rate=0.1, max_depth=5, reg_lambda=10, scale_pos_weight=3, subsample=0.8;, score=0.828 total time=   0.9s\n",
      "[CV 4/5] END colsample_bytree=0.5, gamma=0, learning_rate=0.1, max_depth=5, reg_lambda=10, scale_pos_weight=3, subsample=0.8;, score=0.834 total time=   0.9s\n",
      "[CV 5/5] END colsample_bytree=0.5, gamma=0, learning_rate=0.1, max_depth=5, reg_lambda=10, scale_pos_weight=3, subsample=0.8;, score=0.831 total time=   0.9s\n",
      "[CV 1/5] END colsample_bytree=0.5, gamma=0, learning_rate=0.1, max_depth=5, reg_lambda=10, scale_pos_weight=5, subsample=0.8;, score=0.816 total time=   0.9s\n",
      "[CV 2/5] END colsample_bytree=0.5, gamma=0, learning_rate=0.1, max_depth=5, reg_lambda=10, scale_pos_weight=5, subsample=0.8;, score=0.813 total time=   0.9s\n",
      "[CV 3/5] END colsample_bytree=0.5, gamma=0, learning_rate=0.1, max_depth=5, reg_lambda=10, scale_pos_weight=5, subsample=0.8;, score=0.809 total time=   0.9s\n",
      "[CV 4/5] END colsample_bytree=0.5, gamma=0, learning_rate=0.1, max_depth=5, reg_lambda=10, scale_pos_weight=5, subsample=0.8;, score=0.815 total time=   1.0s\n",
      "[CV 5/5] END colsample_bytree=0.5, gamma=0, learning_rate=0.1, max_depth=5, reg_lambda=10, scale_pos_weight=5, subsample=0.8;, score=0.809 total time=   0.9s\n",
      "[CV 1/5] END colsample_bytree=0.5, gamma=0, learning_rate=0.1, max_depth=7, reg_lambda=0, scale_pos_weight=1, subsample=0.8;, score=0.867 total time=   1.4s\n",
      "[CV 2/5] END colsample_bytree=0.5, gamma=0, learning_rate=0.1, max_depth=7, reg_lambda=0, scale_pos_weight=1, subsample=0.8;, score=0.865 total time=   1.3s\n",
      "[CV 3/5] END colsample_bytree=0.5, gamma=0, learning_rate=0.1, max_depth=7, reg_lambda=0, scale_pos_weight=1, subsample=0.8;, score=0.861 total time=   1.3s\n",
      "[CV 4/5] END colsample_bytree=0.5, gamma=0, learning_rate=0.1, max_depth=7, reg_lambda=0, scale_pos_weight=1, subsample=0.8;, score=0.864 total time=   1.2s\n",
      "[CV 5/5] END colsample_bytree=0.5, gamma=0, learning_rate=0.1, max_depth=7, reg_lambda=0, scale_pos_weight=1, subsample=0.8;, score=0.862 total time=   1.4s\n",
      "[CV 1/5] END colsample_bytree=0.5, gamma=0, learning_rate=0.1, max_depth=7, reg_lambda=0, scale_pos_weight=3, subsample=0.8;, score=0.835 total time=   1.2s\n",
      "[CV 2/5] END colsample_bytree=0.5, gamma=0, learning_rate=0.1, max_depth=7, reg_lambda=0, scale_pos_weight=3, subsample=0.8;, score=0.833 total time=   1.2s\n",
      "[CV 3/5] END colsample_bytree=0.5, gamma=0, learning_rate=0.1, max_depth=7, reg_lambda=0, scale_pos_weight=3, subsample=0.8;, score=0.828 total time=   1.2s\n",
      "[CV 4/5] END colsample_bytree=0.5, gamma=0, learning_rate=0.1, max_depth=7, reg_lambda=0, scale_pos_weight=3, subsample=0.8;, score=0.834 total time=   1.2s\n",
      "[CV 5/5] END colsample_bytree=0.5, gamma=0, learning_rate=0.1, max_depth=7, reg_lambda=0, scale_pos_weight=3, subsample=0.8;, score=0.831 total time=   1.2s\n",
      "[CV 1/5] END colsample_bytree=0.5, gamma=0, learning_rate=0.1, max_depth=7, reg_lambda=0, scale_pos_weight=5, subsample=0.8;, score=0.818 total time=   1.2s\n",
      "[CV 2/5] END colsample_bytree=0.5, gamma=0, learning_rate=0.1, max_depth=7, reg_lambda=0, scale_pos_weight=5, subsample=0.8;, score=0.814 total time=   1.2s\n",
      "[CV 3/5] END colsample_bytree=0.5, gamma=0, learning_rate=0.1, max_depth=7, reg_lambda=0, scale_pos_weight=5, subsample=0.8;, score=0.811 total time=   1.2s\n",
      "[CV 4/5] END colsample_bytree=0.5, gamma=0, learning_rate=0.1, max_depth=7, reg_lambda=0, scale_pos_weight=5, subsample=0.8;, score=0.817 total time=   1.3s\n",
      "[CV 5/5] END colsample_bytree=0.5, gamma=0, learning_rate=0.1, max_depth=7, reg_lambda=0, scale_pos_weight=5, subsample=0.8;, score=0.811 total time=   1.2s\n",
      "[CV 1/5] END colsample_bytree=0.5, gamma=0, learning_rate=0.1, max_depth=7, reg_lambda=1, scale_pos_weight=1, subsample=0.8;, score=0.867 total time=   1.2s\n",
      "[CV 2/5] END colsample_bytree=0.5, gamma=0, learning_rate=0.1, max_depth=7, reg_lambda=1, scale_pos_weight=1, subsample=0.8;, score=0.865 total time=   1.2s\n",
      "[CV 3/5] END colsample_bytree=0.5, gamma=0, learning_rate=0.1, max_depth=7, reg_lambda=1, scale_pos_weight=1, subsample=0.8;, score=0.862 total time=   1.2s\n",
      "[CV 4/5] END colsample_bytree=0.5, gamma=0, learning_rate=0.1, max_depth=7, reg_lambda=1, scale_pos_weight=1, subsample=0.8;, score=0.864 total time=   1.2s\n",
      "[CV 5/5] END colsample_bytree=0.5, gamma=0, learning_rate=0.1, max_depth=7, reg_lambda=1, scale_pos_weight=1, subsample=0.8;, score=0.863 total time=   1.1s\n",
      "[CV 1/5] END colsample_bytree=0.5, gamma=0, learning_rate=0.1, max_depth=7, reg_lambda=1, scale_pos_weight=3, subsample=0.8;, score=0.835 total time=   1.2s\n",
      "[CV 2/5] END colsample_bytree=0.5, gamma=0, learning_rate=0.1, max_depth=7, reg_lambda=1, scale_pos_weight=3, subsample=0.8;, score=0.833 total time=   1.2s\n",
      "[CV 3/5] END colsample_bytree=0.5, gamma=0, learning_rate=0.1, max_depth=7, reg_lambda=1, scale_pos_weight=3, subsample=0.8;, score=0.828 total time=   1.2s\n"
     ]
    },
    {
     "name": "stdout",
     "output_type": "stream",
     "text": [
      "[CV 4/5] END colsample_bytree=0.5, gamma=0, learning_rate=0.1, max_depth=7, reg_lambda=1, scale_pos_weight=3, subsample=0.8;, score=0.834 total time=   1.2s\n",
      "[CV 5/5] END colsample_bytree=0.5, gamma=0, learning_rate=0.1, max_depth=7, reg_lambda=1, scale_pos_weight=3, subsample=0.8;, score=0.831 total time=   1.2s\n",
      "[CV 1/5] END colsample_bytree=0.5, gamma=0, learning_rate=0.1, max_depth=7, reg_lambda=1, scale_pos_weight=5, subsample=0.8;, score=0.817 total time=   1.2s\n",
      "[CV 2/5] END colsample_bytree=0.5, gamma=0, learning_rate=0.1, max_depth=7, reg_lambda=1, scale_pos_weight=5, subsample=0.8;, score=0.814 total time=   1.2s\n",
      "[CV 3/5] END colsample_bytree=0.5, gamma=0, learning_rate=0.1, max_depth=7, reg_lambda=1, scale_pos_weight=5, subsample=0.8;, score=0.811 total time=   1.2s\n",
      "[CV 4/5] END colsample_bytree=0.5, gamma=0, learning_rate=0.1, max_depth=7, reg_lambda=1, scale_pos_weight=5, subsample=0.8;, score=0.817 total time=   1.2s\n",
      "[CV 5/5] END colsample_bytree=0.5, gamma=0, learning_rate=0.1, max_depth=7, reg_lambda=1, scale_pos_weight=5, subsample=0.8;, score=0.810 total time=   1.2s\n",
      "[CV 1/5] END colsample_bytree=0.5, gamma=0, learning_rate=0.1, max_depth=7, reg_lambda=10, scale_pos_weight=1, subsample=0.8;, score=0.867 total time=   1.2s\n",
      "[CV 2/5] END colsample_bytree=0.5, gamma=0, learning_rate=0.1, max_depth=7, reg_lambda=10, scale_pos_weight=1, subsample=0.8;, score=0.866 total time=   1.2s\n",
      "[CV 3/5] END colsample_bytree=0.5, gamma=0, learning_rate=0.1, max_depth=7, reg_lambda=10, scale_pos_weight=1, subsample=0.8;, score=0.862 total time=   1.2s\n",
      "[CV 4/5] END colsample_bytree=0.5, gamma=0, learning_rate=0.1, max_depth=7, reg_lambda=10, scale_pos_weight=1, subsample=0.8;, score=0.864 total time=   1.2s\n",
      "[CV 5/5] END colsample_bytree=0.5, gamma=0, learning_rate=0.1, max_depth=7, reg_lambda=10, scale_pos_weight=1, subsample=0.8;, score=0.862 total time=   1.2s\n",
      "[CV 1/5] END colsample_bytree=0.5, gamma=0, learning_rate=0.1, max_depth=7, reg_lambda=10, scale_pos_weight=3, subsample=0.8;, score=0.834 total time=   1.4s\n",
      "[CV 2/5] END colsample_bytree=0.5, gamma=0, learning_rate=0.1, max_depth=7, reg_lambda=10, scale_pos_weight=3, subsample=0.8;, score=0.834 total time=   1.2s\n",
      "[CV 3/5] END colsample_bytree=0.5, gamma=0, learning_rate=0.1, max_depth=7, reg_lambda=10, scale_pos_weight=3, subsample=0.8;, score=0.828 total time=   1.2s\n",
      "[CV 4/5] END colsample_bytree=0.5, gamma=0, learning_rate=0.1, max_depth=7, reg_lambda=10, scale_pos_weight=3, subsample=0.8;, score=0.834 total time=   1.2s\n",
      "[CV 5/5] END colsample_bytree=0.5, gamma=0, learning_rate=0.1, max_depth=7, reg_lambda=10, scale_pos_weight=3, subsample=0.8;, score=0.831 total time=   1.2s\n",
      "[CV 1/5] END colsample_bytree=0.5, gamma=0, learning_rate=0.1, max_depth=7, reg_lambda=10, scale_pos_weight=5, subsample=0.8;, score=0.816 total time=   1.2s\n",
      "[CV 2/5] END colsample_bytree=0.5, gamma=0, learning_rate=0.1, max_depth=7, reg_lambda=10, scale_pos_weight=5, subsample=0.8;, score=0.814 total time=   1.2s\n",
      "[CV 3/5] END colsample_bytree=0.5, gamma=0, learning_rate=0.1, max_depth=7, reg_lambda=10, scale_pos_weight=5, subsample=0.8;, score=0.810 total time=   1.2s\n",
      "[CV 4/5] END colsample_bytree=0.5, gamma=0, learning_rate=0.1, max_depth=7, reg_lambda=10, scale_pos_weight=5, subsample=0.8;, score=0.816 total time=   1.2s\n",
      "[CV 5/5] END colsample_bytree=0.5, gamma=0, learning_rate=0.1, max_depth=7, reg_lambda=10, scale_pos_weight=5, subsample=0.8;, score=0.808 total time=   1.2s\n",
      "[CV 1/5] END colsample_bytree=0.5, gamma=0, learning_rate=0.01, max_depth=3, reg_lambda=0, scale_pos_weight=1, subsample=0.8;, score=0.856 total time=   0.7s\n",
      "[CV 2/5] END colsample_bytree=0.5, gamma=0, learning_rate=0.01, max_depth=3, reg_lambda=0, scale_pos_weight=1, subsample=0.8;, score=0.856 total time=   0.7s\n",
      "[CV 3/5] END colsample_bytree=0.5, gamma=0, learning_rate=0.01, max_depth=3, reg_lambda=0, scale_pos_weight=1, subsample=0.8;, score=0.833 total time=   0.7s\n",
      "[CV 4/5] END colsample_bytree=0.5, gamma=0, learning_rate=0.01, max_depth=3, reg_lambda=0, scale_pos_weight=1, subsample=0.8;, score=0.837 total time=   0.7s\n",
      "[CV 5/5] END colsample_bytree=0.5, gamma=0, learning_rate=0.01, max_depth=3, reg_lambda=0, scale_pos_weight=1, subsample=0.8;, score=0.835 total time=   0.7s\n",
      "[CV 1/5] END colsample_bytree=0.5, gamma=0, learning_rate=0.01, max_depth=3, reg_lambda=0, scale_pos_weight=3, subsample=0.8;, score=0.810 total time=   0.7s\n",
      "[CV 2/5] END colsample_bytree=0.5, gamma=0, learning_rate=0.01, max_depth=3, reg_lambda=0, scale_pos_weight=3, subsample=0.8;, score=0.810 total time=   0.7s\n",
      "[CV 3/5] END colsample_bytree=0.5, gamma=0, learning_rate=0.01, max_depth=3, reg_lambda=0, scale_pos_weight=3, subsample=0.8;, score=0.803 total time=   0.7s\n",
      "[CV 4/5] END colsample_bytree=0.5, gamma=0, learning_rate=0.01, max_depth=3, reg_lambda=0, scale_pos_weight=3, subsample=0.8;, score=0.809 total time=   0.7s\n",
      "[CV 5/5] END colsample_bytree=0.5, gamma=0, learning_rate=0.01, max_depth=3, reg_lambda=0, scale_pos_weight=3, subsample=0.8;, score=0.803 total time=   0.7s\n",
      "[CV 1/5] END colsample_bytree=0.5, gamma=0, learning_rate=0.01, max_depth=3, reg_lambda=0, scale_pos_weight=5, subsample=0.8;, score=0.597 total time=   0.7s\n",
      "[CV 2/5] END colsample_bytree=0.5, gamma=0, learning_rate=0.01, max_depth=3, reg_lambda=0, scale_pos_weight=5, subsample=0.8;, score=0.595 total time=   0.7s\n",
      "[CV 3/5] END colsample_bytree=0.5, gamma=0, learning_rate=0.01, max_depth=3, reg_lambda=0, scale_pos_weight=5, subsample=0.8;, score=0.593 total time=   0.7s\n",
      "[CV 4/5] END colsample_bytree=0.5, gamma=0, learning_rate=0.01, max_depth=3, reg_lambda=0, scale_pos_weight=5, subsample=0.8;, score=0.591 total time=   0.7s\n",
      "[CV 5/5] END colsample_bytree=0.5, gamma=0, learning_rate=0.01, max_depth=3, reg_lambda=0, scale_pos_weight=5, subsample=0.8;, score=0.594 total time=   0.7s\n",
      "[CV 1/5] END colsample_bytree=0.5, gamma=0, learning_rate=0.01, max_depth=3, reg_lambda=1, scale_pos_weight=1, subsample=0.8;, score=0.856 total time=   0.7s\n",
      "[CV 2/5] END colsample_bytree=0.5, gamma=0, learning_rate=0.01, max_depth=3, reg_lambda=1, scale_pos_weight=1, subsample=0.8;, score=0.856 total time=   0.7s\n",
      "[CV 3/5] END colsample_bytree=0.5, gamma=0, learning_rate=0.01, max_depth=3, reg_lambda=1, scale_pos_weight=1, subsample=0.8;, score=0.832 total time=   0.7s\n",
      "[CV 4/5] END colsample_bytree=0.5, gamma=0, learning_rate=0.01, max_depth=3, reg_lambda=1, scale_pos_weight=1, subsample=0.8;, score=0.837 total time=   0.7s\n",
      "[CV 5/5] END colsample_bytree=0.5, gamma=0, learning_rate=0.01, max_depth=3, reg_lambda=1, scale_pos_weight=1, subsample=0.8;, score=0.835 total time=   0.7s\n",
      "[CV 1/5] END colsample_bytree=0.5, gamma=0, learning_rate=0.01, max_depth=3, reg_lambda=1, scale_pos_weight=3, subsample=0.8;, score=0.810 total time=   0.7s\n",
      "[CV 2/5] END colsample_bytree=0.5, gamma=0, learning_rate=0.01, max_depth=3, reg_lambda=1, scale_pos_weight=3, subsample=0.8;, score=0.810 total time=   0.7s\n",
      "[CV 3/5] END colsample_bytree=0.5, gamma=0, learning_rate=0.01, max_depth=3, reg_lambda=1, scale_pos_weight=3, subsample=0.8;, score=0.803 total time=   0.7s\n",
      "[CV 4/5] END colsample_bytree=0.5, gamma=0, learning_rate=0.01, max_depth=3, reg_lambda=1, scale_pos_weight=3, subsample=0.8;, score=0.809 total time=   0.7s\n",
      "[CV 5/5] END colsample_bytree=0.5, gamma=0, learning_rate=0.01, max_depth=3, reg_lambda=1, scale_pos_weight=3, subsample=0.8;, score=0.803 total time=   0.7s\n",
      "[CV 1/5] END colsample_bytree=0.5, gamma=0, learning_rate=0.01, max_depth=3, reg_lambda=1, scale_pos_weight=5, subsample=0.8;, score=0.597 total time=   0.7s\n",
      "[CV 2/5] END colsample_bytree=0.5, gamma=0, learning_rate=0.01, max_depth=3, reg_lambda=1, scale_pos_weight=5, subsample=0.8;, score=0.595 total time=   0.7s\n",
      "[CV 3/5] END colsample_bytree=0.5, gamma=0, learning_rate=0.01, max_depth=3, reg_lambda=1, scale_pos_weight=5, subsample=0.8;, score=0.593 total time=   0.7s\n",
      "[CV 4/5] END colsample_bytree=0.5, gamma=0, learning_rate=0.01, max_depth=3, reg_lambda=1, scale_pos_weight=5, subsample=0.8;, score=0.591 total time=   0.7s\n",
      "[CV 5/5] END colsample_bytree=0.5, gamma=0, learning_rate=0.01, max_depth=3, reg_lambda=1, scale_pos_weight=5, subsample=0.8;, score=0.594 total time=   0.7s\n"
     ]
    },
    {
     "name": "stdout",
     "output_type": "stream",
     "text": [
      "[CV 1/5] END colsample_bytree=0.5, gamma=0, learning_rate=0.01, max_depth=3, reg_lambda=10, scale_pos_weight=1, subsample=0.8;, score=0.856 total time=   0.7s\n",
      "[CV 2/5] END colsample_bytree=0.5, gamma=0, learning_rate=0.01, max_depth=3, reg_lambda=10, scale_pos_weight=1, subsample=0.8;, score=0.856 total time=   0.7s\n",
      "[CV 3/5] END colsample_bytree=0.5, gamma=0, learning_rate=0.01, max_depth=3, reg_lambda=10, scale_pos_weight=1, subsample=0.8;, score=0.832 total time=   0.7s\n",
      "[CV 4/5] END colsample_bytree=0.5, gamma=0, learning_rate=0.01, max_depth=3, reg_lambda=10, scale_pos_weight=1, subsample=0.8;, score=0.837 total time=   0.7s\n",
      "[CV 5/5] END colsample_bytree=0.5, gamma=0, learning_rate=0.01, max_depth=3, reg_lambda=10, scale_pos_weight=1, subsample=0.8;, score=0.835 total time=   0.7s\n",
      "[CV 1/5] END colsample_bytree=0.5, gamma=0, learning_rate=0.01, max_depth=3, reg_lambda=10, scale_pos_weight=3, subsample=0.8;, score=0.811 total time=   0.7s\n",
      "[CV 2/5] END colsample_bytree=0.5, gamma=0, learning_rate=0.01, max_depth=3, reg_lambda=10, scale_pos_weight=3, subsample=0.8;, score=0.810 total time=   0.7s\n",
      "[CV 3/5] END colsample_bytree=0.5, gamma=0, learning_rate=0.01, max_depth=3, reg_lambda=10, scale_pos_weight=3, subsample=0.8;, score=0.803 total time=   0.7s\n",
      "[CV 4/5] END colsample_bytree=0.5, gamma=0, learning_rate=0.01, max_depth=3, reg_lambda=10, scale_pos_weight=3, subsample=0.8;, score=0.809 total time=   0.8s\n",
      "[CV 5/5] END colsample_bytree=0.5, gamma=0, learning_rate=0.01, max_depth=3, reg_lambda=10, scale_pos_weight=3, subsample=0.8;, score=0.804 total time=   0.7s\n",
      "[CV 1/5] END colsample_bytree=0.5, gamma=0, learning_rate=0.01, max_depth=3, reg_lambda=10, scale_pos_weight=5, subsample=0.8;, score=0.597 total time=   0.8s\n",
      "[CV 2/5] END colsample_bytree=0.5, gamma=0, learning_rate=0.01, max_depth=3, reg_lambda=10, scale_pos_weight=5, subsample=0.8;, score=0.595 total time=   0.7s\n",
      "[CV 3/5] END colsample_bytree=0.5, gamma=0, learning_rate=0.01, max_depth=3, reg_lambda=10, scale_pos_weight=5, subsample=0.8;, score=0.593 total time=   0.7s\n",
      "[CV 4/5] END colsample_bytree=0.5, gamma=0, learning_rate=0.01, max_depth=3, reg_lambda=10, scale_pos_weight=5, subsample=0.8;, score=0.591 total time=   0.7s\n",
      "[CV 5/5] END colsample_bytree=0.5, gamma=0, learning_rate=0.01, max_depth=3, reg_lambda=10, scale_pos_weight=5, subsample=0.8;, score=0.594 total time=   0.7s\n",
      "[CV 1/5] END colsample_bytree=0.5, gamma=0, learning_rate=0.01, max_depth=4, reg_lambda=0, scale_pos_weight=1, subsample=0.8;, score=0.857 total time=   0.8s\n",
      "[CV 2/5] END colsample_bytree=0.5, gamma=0, learning_rate=0.01, max_depth=4, reg_lambda=0, scale_pos_weight=1, subsample=0.8;, score=0.856 total time=   0.8s\n",
      "[CV 3/5] END colsample_bytree=0.5, gamma=0, learning_rate=0.01, max_depth=4, reg_lambda=0, scale_pos_weight=1, subsample=0.8;, score=0.829 total time=   0.8s\n",
      "[CV 4/5] END colsample_bytree=0.5, gamma=0, learning_rate=0.01, max_depth=4, reg_lambda=0, scale_pos_weight=1, subsample=0.8;, score=0.839 total time=   0.8s\n",
      "[CV 5/5] END colsample_bytree=0.5, gamma=0, learning_rate=0.01, max_depth=4, reg_lambda=0, scale_pos_weight=1, subsample=0.8;, score=0.835 total time=   0.8s\n",
      "[CV 1/5] END colsample_bytree=0.5, gamma=0, learning_rate=0.01, max_depth=4, reg_lambda=0, scale_pos_weight=3, subsample=0.8;, score=0.813 total time=   0.8s\n",
      "[CV 2/5] END colsample_bytree=0.5, gamma=0, learning_rate=0.01, max_depth=4, reg_lambda=0, scale_pos_weight=3, subsample=0.8;, score=0.809 total time=   0.8s\n",
      "[CV 3/5] END colsample_bytree=0.5, gamma=0, learning_rate=0.01, max_depth=4, reg_lambda=0, scale_pos_weight=3, subsample=0.8;, score=0.806 total time=   0.8s\n",
      "[CV 4/5] END colsample_bytree=0.5, gamma=0, learning_rate=0.01, max_depth=4, reg_lambda=0, scale_pos_weight=3, subsample=0.8;, score=0.811 total time=   0.8s\n",
      "[CV 5/5] END colsample_bytree=0.5, gamma=0, learning_rate=0.01, max_depth=4, reg_lambda=0, scale_pos_weight=3, subsample=0.8;, score=0.806 total time=   0.8s\n",
      "[CV 1/5] END colsample_bytree=0.5, gamma=0, learning_rate=0.01, max_depth=4, reg_lambda=0, scale_pos_weight=5, subsample=0.8;, score=0.597 total time=   0.9s\n",
      "[CV 2/5] END colsample_bytree=0.5, gamma=0, learning_rate=0.01, max_depth=4, reg_lambda=0, scale_pos_weight=5, subsample=0.8;, score=0.594 total time=   0.8s\n",
      "[CV 3/5] END colsample_bytree=0.5, gamma=0, learning_rate=0.01, max_depth=4, reg_lambda=0, scale_pos_weight=5, subsample=0.8;, score=0.592 total time=   0.8s\n",
      "[CV 4/5] END colsample_bytree=0.5, gamma=0, learning_rate=0.01, max_depth=4, reg_lambda=0, scale_pos_weight=5, subsample=0.8;, score=0.592 total time=   0.8s\n",
      "[CV 5/5] END colsample_bytree=0.5, gamma=0, learning_rate=0.01, max_depth=4, reg_lambda=0, scale_pos_weight=5, subsample=0.8;, score=0.592 total time=   0.8s\n",
      "[CV 1/5] END colsample_bytree=0.5, gamma=0, learning_rate=0.01, max_depth=4, reg_lambda=1, scale_pos_weight=1, subsample=0.8;, score=0.857 total time=   0.8s\n",
      "[CV 2/5] END colsample_bytree=0.5, gamma=0, learning_rate=0.01, max_depth=4, reg_lambda=1, scale_pos_weight=1, subsample=0.8;, score=0.855 total time=   0.8s\n",
      "[CV 3/5] END colsample_bytree=0.5, gamma=0, learning_rate=0.01, max_depth=4, reg_lambda=1, scale_pos_weight=1, subsample=0.8;, score=0.829 total time=   0.8s\n",
      "[CV 4/5] END colsample_bytree=0.5, gamma=0, learning_rate=0.01, max_depth=4, reg_lambda=1, scale_pos_weight=1, subsample=0.8;, score=0.839 total time=   0.8s\n",
      "[CV 5/5] END colsample_bytree=0.5, gamma=0, learning_rate=0.01, max_depth=4, reg_lambda=1, scale_pos_weight=1, subsample=0.8;, score=0.835 total time=   0.8s\n",
      "[CV 1/5] END colsample_bytree=0.5, gamma=0, learning_rate=0.01, max_depth=4, reg_lambda=1, scale_pos_weight=3, subsample=0.8;, score=0.813 total time=   0.8s\n",
      "[CV 2/5] END colsample_bytree=0.5, gamma=0, learning_rate=0.01, max_depth=4, reg_lambda=1, scale_pos_weight=3, subsample=0.8;, score=0.809 total time=   0.9s\n",
      "[CV 3/5] END colsample_bytree=0.5, gamma=0, learning_rate=0.01, max_depth=4, reg_lambda=1, scale_pos_weight=3, subsample=0.8;, score=0.806 total time=   0.8s\n",
      "[CV 4/5] END colsample_bytree=0.5, gamma=0, learning_rate=0.01, max_depth=4, reg_lambda=1, scale_pos_weight=3, subsample=0.8;, score=0.811 total time=   0.8s\n",
      "[CV 5/5] END colsample_bytree=0.5, gamma=0, learning_rate=0.01, max_depth=4, reg_lambda=1, scale_pos_weight=3, subsample=0.8;, score=0.806 total time=   0.8s\n",
      "[CV 1/5] END colsample_bytree=0.5, gamma=0, learning_rate=0.01, max_depth=4, reg_lambda=1, scale_pos_weight=5, subsample=0.8;, score=0.597 total time=   0.8s\n",
      "[CV 2/5] END colsample_bytree=0.5, gamma=0, learning_rate=0.01, max_depth=4, reg_lambda=1, scale_pos_weight=5, subsample=0.8;, score=0.594 total time=   0.9s\n",
      "[CV 3/5] END colsample_bytree=0.5, gamma=0, learning_rate=0.01, max_depth=4, reg_lambda=1, scale_pos_weight=5, subsample=0.8;, score=0.592 total time=   0.9s\n",
      "[CV 4/5] END colsample_bytree=0.5, gamma=0, learning_rate=0.01, max_depth=4, reg_lambda=1, scale_pos_weight=5, subsample=0.8;, score=0.592 total time=   0.9s\n",
      "[CV 5/5] END colsample_bytree=0.5, gamma=0, learning_rate=0.01, max_depth=4, reg_lambda=1, scale_pos_weight=5, subsample=0.8;, score=0.592 total time=   0.8s\n",
      "[CV 1/5] END colsample_bytree=0.5, gamma=0, learning_rate=0.01, max_depth=4, reg_lambda=10, scale_pos_weight=1, subsample=0.8;, score=0.857 total time=   0.8s\n",
      "[CV 2/5] END colsample_bytree=0.5, gamma=0, learning_rate=0.01, max_depth=4, reg_lambda=10, scale_pos_weight=1, subsample=0.8;, score=0.855 total time=   0.8s\n",
      "[CV 3/5] END colsample_bytree=0.5, gamma=0, learning_rate=0.01, max_depth=4, reg_lambda=10, scale_pos_weight=1, subsample=0.8;, score=0.829 total time=   0.9s\n",
      "[CV 4/5] END colsample_bytree=0.5, gamma=0, learning_rate=0.01, max_depth=4, reg_lambda=10, scale_pos_weight=1, subsample=0.8;, score=0.838 total time=   1.0s\n",
      "[CV 5/5] END colsample_bytree=0.5, gamma=0, learning_rate=0.01, max_depth=4, reg_lambda=10, scale_pos_weight=1, subsample=0.8;, score=0.835 total time=   0.9s\n",
      "[CV 1/5] END colsample_bytree=0.5, gamma=0, learning_rate=0.01, max_depth=4, reg_lambda=10, scale_pos_weight=3, subsample=0.8;, score=0.813 total time=   1.0s\n",
      "[CV 2/5] END colsample_bytree=0.5, gamma=0, learning_rate=0.01, max_depth=4, reg_lambda=10, scale_pos_weight=3, subsample=0.8;, score=0.809 total time=   0.9s\n"
     ]
    },
    {
     "name": "stdout",
     "output_type": "stream",
     "text": [
      "[CV 3/5] END colsample_bytree=0.5, gamma=0, learning_rate=0.01, max_depth=4, reg_lambda=10, scale_pos_weight=3, subsample=0.8;, score=0.806 total time=   0.9s\n",
      "[CV 4/5] END colsample_bytree=0.5, gamma=0, learning_rate=0.01, max_depth=4, reg_lambda=10, scale_pos_weight=3, subsample=0.8;, score=0.810 total time=   0.9s\n",
      "[CV 5/5] END colsample_bytree=0.5, gamma=0, learning_rate=0.01, max_depth=4, reg_lambda=10, scale_pos_weight=3, subsample=0.8;, score=0.805 total time=   0.9s\n",
      "[CV 1/5] END colsample_bytree=0.5, gamma=0, learning_rate=0.01, max_depth=4, reg_lambda=10, scale_pos_weight=5, subsample=0.8;, score=0.597 total time=   0.9s\n",
      "[CV 2/5] END colsample_bytree=0.5, gamma=0, learning_rate=0.01, max_depth=4, reg_lambda=10, scale_pos_weight=5, subsample=0.8;, score=0.594 total time=   0.9s\n",
      "[CV 3/5] END colsample_bytree=0.5, gamma=0, learning_rate=0.01, max_depth=4, reg_lambda=10, scale_pos_weight=5, subsample=0.8;, score=0.591 total time=   0.8s\n",
      "[CV 4/5] END colsample_bytree=0.5, gamma=0, learning_rate=0.01, max_depth=4, reg_lambda=10, scale_pos_weight=5, subsample=0.8;, score=0.592 total time=   0.8s\n",
      "[CV 5/5] END colsample_bytree=0.5, gamma=0, learning_rate=0.01, max_depth=4, reg_lambda=10, scale_pos_weight=5, subsample=0.8;, score=0.592 total time=   0.8s\n",
      "[CV 1/5] END colsample_bytree=0.5, gamma=0, learning_rate=0.01, max_depth=5, reg_lambda=0, scale_pos_weight=1, subsample=0.8;, score=0.857 total time=   1.0s\n",
      "[CV 2/5] END colsample_bytree=0.5, gamma=0, learning_rate=0.01, max_depth=5, reg_lambda=0, scale_pos_weight=1, subsample=0.8;, score=0.856 total time=   1.0s\n",
      "[CV 3/5] END colsample_bytree=0.5, gamma=0, learning_rate=0.01, max_depth=5, reg_lambda=0, scale_pos_weight=1, subsample=0.8;, score=0.830 total time=   1.0s\n",
      "[CV 4/5] END colsample_bytree=0.5, gamma=0, learning_rate=0.01, max_depth=5, reg_lambda=0, scale_pos_weight=1, subsample=0.8;, score=0.839 total time=   1.0s\n",
      "[CV 5/5] END colsample_bytree=0.5, gamma=0, learning_rate=0.01, max_depth=5, reg_lambda=0, scale_pos_weight=1, subsample=0.8;, score=0.836 total time=   1.0s\n",
      "[CV 1/5] END colsample_bytree=0.5, gamma=0, learning_rate=0.01, max_depth=5, reg_lambda=0, scale_pos_weight=3, subsample=0.8;, score=0.815 total time=   1.0s\n",
      "[CV 2/5] END colsample_bytree=0.5, gamma=0, learning_rate=0.01, max_depth=5, reg_lambda=0, scale_pos_weight=3, subsample=0.8;, score=0.811 total time=   1.0s\n",
      "[CV 3/5] END colsample_bytree=0.5, gamma=0, learning_rate=0.01, max_depth=5, reg_lambda=0, scale_pos_weight=3, subsample=0.8;, score=0.807 total time=   1.0s\n",
      "[CV 4/5] END colsample_bytree=0.5, gamma=0, learning_rate=0.01, max_depth=5, reg_lambda=0, scale_pos_weight=3, subsample=0.8;, score=0.813 total time=   1.0s\n",
      "[CV 5/5] END colsample_bytree=0.5, gamma=0, learning_rate=0.01, max_depth=5, reg_lambda=0, scale_pos_weight=3, subsample=0.8;, score=0.807 total time=   1.0s\n",
      "[CV 1/5] END colsample_bytree=0.5, gamma=0, learning_rate=0.01, max_depth=5, reg_lambda=0, scale_pos_weight=5, subsample=0.8;, score=0.597 total time=   0.9s\n",
      "[CV 2/5] END colsample_bytree=0.5, gamma=0, learning_rate=0.01, max_depth=5, reg_lambda=0, scale_pos_weight=5, subsample=0.8;, score=0.595 total time=   1.0s\n",
      "[CV 3/5] END colsample_bytree=0.5, gamma=0, learning_rate=0.01, max_depth=5, reg_lambda=0, scale_pos_weight=5, subsample=0.8;, score=0.592 total time=   1.0s\n",
      "[CV 4/5] END colsample_bytree=0.5, gamma=0, learning_rate=0.01, max_depth=5, reg_lambda=0, scale_pos_weight=5, subsample=0.8;, score=0.592 total time=   1.0s\n",
      "[CV 5/5] END colsample_bytree=0.5, gamma=0, learning_rate=0.01, max_depth=5, reg_lambda=0, scale_pos_weight=5, subsample=0.8;, score=0.594 total time=   1.0s\n",
      "[CV 1/5] END colsample_bytree=0.5, gamma=0, learning_rate=0.01, max_depth=5, reg_lambda=1, scale_pos_weight=1, subsample=0.8;, score=0.857 total time=   1.0s\n",
      "[CV 2/5] END colsample_bytree=0.5, gamma=0, learning_rate=0.01, max_depth=5, reg_lambda=1, scale_pos_weight=1, subsample=0.8;, score=0.855 total time=   1.0s\n",
      "[CV 3/5] END colsample_bytree=0.5, gamma=0, learning_rate=0.01, max_depth=5, reg_lambda=1, scale_pos_weight=1, subsample=0.8;, score=0.830 total time=   1.0s\n",
      "[CV 4/5] END colsample_bytree=0.5, gamma=0, learning_rate=0.01, max_depth=5, reg_lambda=1, scale_pos_weight=1, subsample=0.8;, score=0.839 total time=   1.0s\n",
      "[CV 5/5] END colsample_bytree=0.5, gamma=0, learning_rate=0.01, max_depth=5, reg_lambda=1, scale_pos_weight=1, subsample=0.8;, score=0.836 total time=   1.0s\n",
      "[CV 1/5] END colsample_bytree=0.5, gamma=0, learning_rate=0.01, max_depth=5, reg_lambda=1, scale_pos_weight=3, subsample=0.8;, score=0.815 total time=   0.9s\n",
      "[CV 2/5] END colsample_bytree=0.5, gamma=0, learning_rate=0.01, max_depth=5, reg_lambda=1, scale_pos_weight=3, subsample=0.8;, score=0.811 total time=   1.0s\n",
      "[CV 3/5] END colsample_bytree=0.5, gamma=0, learning_rate=0.01, max_depth=5, reg_lambda=1, scale_pos_weight=3, subsample=0.8;, score=0.808 total time=   1.0s\n",
      "[CV 4/5] END colsample_bytree=0.5, gamma=0, learning_rate=0.01, max_depth=5, reg_lambda=1, scale_pos_weight=3, subsample=0.8;, score=0.813 total time=   0.9s\n",
      "[CV 5/5] END colsample_bytree=0.5, gamma=0, learning_rate=0.01, max_depth=5, reg_lambda=1, scale_pos_weight=3, subsample=0.8;, score=0.807 total time=   0.9s\n",
      "[CV 1/5] END colsample_bytree=0.5, gamma=0, learning_rate=0.01, max_depth=5, reg_lambda=1, scale_pos_weight=5, subsample=0.8;, score=0.597 total time=   1.0s\n",
      "[CV 2/5] END colsample_bytree=0.5, gamma=0, learning_rate=0.01, max_depth=5, reg_lambda=1, scale_pos_weight=5, subsample=0.8;, score=0.595 total time=   1.0s\n",
      "[CV 3/5] END colsample_bytree=0.5, gamma=0, learning_rate=0.01, max_depth=5, reg_lambda=1, scale_pos_weight=5, subsample=0.8;, score=0.592 total time=   1.0s\n",
      "[CV 4/5] END colsample_bytree=0.5, gamma=0, learning_rate=0.01, max_depth=5, reg_lambda=1, scale_pos_weight=5, subsample=0.8;, score=0.592 total time=   1.0s\n",
      "[CV 5/5] END colsample_bytree=0.5, gamma=0, learning_rate=0.01, max_depth=5, reg_lambda=1, scale_pos_weight=5, subsample=0.8;, score=0.594 total time=   1.0s\n",
      "[CV 1/5] END colsample_bytree=0.5, gamma=0, learning_rate=0.01, max_depth=5, reg_lambda=10, scale_pos_weight=1, subsample=0.8;, score=0.857 total time=   0.9s\n",
      "[CV 2/5] END colsample_bytree=0.5, gamma=0, learning_rate=0.01, max_depth=5, reg_lambda=10, scale_pos_weight=1, subsample=0.8;, score=0.855 total time=   0.9s\n",
      "[CV 3/5] END colsample_bytree=0.5, gamma=0, learning_rate=0.01, max_depth=5, reg_lambda=10, scale_pos_weight=1, subsample=0.8;, score=0.829 total time=   0.9s\n",
      "[CV 4/5] END colsample_bytree=0.5, gamma=0, learning_rate=0.01, max_depth=5, reg_lambda=10, scale_pos_weight=1, subsample=0.8;, score=0.839 total time=   0.9s\n",
      "[CV 5/5] END colsample_bytree=0.5, gamma=0, learning_rate=0.01, max_depth=5, reg_lambda=10, scale_pos_weight=1, subsample=0.8;, score=0.835 total time=   0.9s\n",
      "[CV 1/5] END colsample_bytree=0.5, gamma=0, learning_rate=0.01, max_depth=5, reg_lambda=10, scale_pos_weight=3, subsample=0.8;, score=0.813 total time=   1.0s\n",
      "[CV 2/5] END colsample_bytree=0.5, gamma=0, learning_rate=0.01, max_depth=5, reg_lambda=10, scale_pos_weight=3, subsample=0.8;, score=0.810 total time=   1.0s\n",
      "[CV 3/5] END colsample_bytree=0.5, gamma=0, learning_rate=0.01, max_depth=5, reg_lambda=10, scale_pos_weight=3, subsample=0.8;, score=0.807 total time=   0.9s\n",
      "[CV 4/5] END colsample_bytree=0.5, gamma=0, learning_rate=0.01, max_depth=5, reg_lambda=10, scale_pos_weight=3, subsample=0.8;, score=0.811 total time=   0.9s\n",
      "[CV 5/5] END colsample_bytree=0.5, gamma=0, learning_rate=0.01, max_depth=5, reg_lambda=10, scale_pos_weight=3, subsample=0.8;, score=0.806 total time=   1.0s\n",
      "[CV 1/5] END colsample_bytree=0.5, gamma=0, learning_rate=0.01, max_depth=5, reg_lambda=10, scale_pos_weight=5, subsample=0.8;, score=0.596 total time=   0.9s\n",
      "[CV 2/5] END colsample_bytree=0.5, gamma=0, learning_rate=0.01, max_depth=5, reg_lambda=10, scale_pos_weight=5, subsample=0.8;, score=0.594 total time=   1.0s\n",
      "[CV 3/5] END colsample_bytree=0.5, gamma=0, learning_rate=0.01, max_depth=5, reg_lambda=10, scale_pos_weight=5, subsample=0.8;, score=0.591 total time=   1.0s\n",
      "[CV 4/5] END colsample_bytree=0.5, gamma=0, learning_rate=0.01, max_depth=5, reg_lambda=10, scale_pos_weight=5, subsample=0.8;, score=0.591 total time=   0.9s\n"
     ]
    },
    {
     "name": "stdout",
     "output_type": "stream",
     "text": [
      "[CV 5/5] END colsample_bytree=0.5, gamma=0, learning_rate=0.01, max_depth=5, reg_lambda=10, scale_pos_weight=5, subsample=0.8;, score=0.591 total time=   0.9s\n",
      "[CV 1/5] END colsample_bytree=0.5, gamma=0, learning_rate=0.01, max_depth=7, reg_lambda=0, scale_pos_weight=1, subsample=0.8;, score=0.856 total time=   1.2s\n",
      "[CV 2/5] END colsample_bytree=0.5, gamma=0, learning_rate=0.01, max_depth=7, reg_lambda=0, scale_pos_weight=1, subsample=0.8;, score=0.856 total time=   1.2s\n",
      "[CV 3/5] END colsample_bytree=0.5, gamma=0, learning_rate=0.01, max_depth=7, reg_lambda=0, scale_pos_weight=1, subsample=0.8;, score=0.833 total time=   1.2s\n",
      "[CV 4/5] END colsample_bytree=0.5, gamma=0, learning_rate=0.01, max_depth=7, reg_lambda=0, scale_pos_weight=1, subsample=0.8;, score=0.839 total time=   1.2s\n",
      "[CV 5/5] END colsample_bytree=0.5, gamma=0, learning_rate=0.01, max_depth=7, reg_lambda=0, scale_pos_weight=1, subsample=0.8;, score=0.836 total time=   1.2s\n",
      "[CV 1/5] END colsample_bytree=0.5, gamma=0, learning_rate=0.01, max_depth=7, reg_lambda=0, scale_pos_weight=3, subsample=0.8;, score=0.816 total time=   1.2s\n",
      "[CV 2/5] END colsample_bytree=0.5, gamma=0, learning_rate=0.01, max_depth=7, reg_lambda=0, scale_pos_weight=3, subsample=0.8;, score=0.811 total time=   1.2s\n",
      "[CV 3/5] END colsample_bytree=0.5, gamma=0, learning_rate=0.01, max_depth=7, reg_lambda=0, scale_pos_weight=3, subsample=0.8;, score=0.808 total time=   1.2s\n",
      "[CV 4/5] END colsample_bytree=0.5, gamma=0, learning_rate=0.01, max_depth=7, reg_lambda=0, scale_pos_weight=3, subsample=0.8;, score=0.814 total time=   1.2s\n",
      "[CV 5/5] END colsample_bytree=0.5, gamma=0, learning_rate=0.01, max_depth=7, reg_lambda=0, scale_pos_weight=3, subsample=0.8;, score=0.808 total time=   1.2s\n",
      "[CV 1/5] END colsample_bytree=0.5, gamma=0, learning_rate=0.01, max_depth=7, reg_lambda=0, scale_pos_weight=5, subsample=0.8;, score=0.600 total time=   1.2s\n",
      "[CV 2/5] END colsample_bytree=0.5, gamma=0, learning_rate=0.01, max_depth=7, reg_lambda=0, scale_pos_weight=5, subsample=0.8;, score=0.597 total time=   1.2s\n",
      "[CV 3/5] END colsample_bytree=0.5, gamma=0, learning_rate=0.01, max_depth=7, reg_lambda=0, scale_pos_weight=5, subsample=0.8;, score=0.595 total time=   1.2s\n",
      "[CV 4/5] END colsample_bytree=0.5, gamma=0, learning_rate=0.01, max_depth=7, reg_lambda=0, scale_pos_weight=5, subsample=0.8;, score=0.594 total time=   1.2s\n",
      "[CV 5/5] END colsample_bytree=0.5, gamma=0, learning_rate=0.01, max_depth=7, reg_lambda=0, scale_pos_weight=5, subsample=0.8;, score=0.596 total time=   1.3s\n",
      "[CV 1/5] END colsample_bytree=0.5, gamma=0, learning_rate=0.01, max_depth=7, reg_lambda=1, scale_pos_weight=1, subsample=0.8;, score=0.856 total time=   1.3s\n",
      "[CV 2/5] END colsample_bytree=0.5, gamma=0, learning_rate=0.01, max_depth=7, reg_lambda=1, scale_pos_weight=1, subsample=0.8;, score=0.856 total time=   1.3s\n",
      "[CV 3/5] END colsample_bytree=0.5, gamma=0, learning_rate=0.01, max_depth=7, reg_lambda=1, scale_pos_weight=1, subsample=0.8;, score=0.833 total time=   1.2s\n",
      "[CV 4/5] END colsample_bytree=0.5, gamma=0, learning_rate=0.01, max_depth=7, reg_lambda=1, scale_pos_weight=1, subsample=0.8;, score=0.838 total time=   1.2s\n",
      "[CV 5/5] END colsample_bytree=0.5, gamma=0, learning_rate=0.01, max_depth=7, reg_lambda=1, scale_pos_weight=1, subsample=0.8;, score=0.836 total time=   1.3s\n",
      "[CV 1/5] END colsample_bytree=0.5, gamma=0, learning_rate=0.01, max_depth=7, reg_lambda=1, scale_pos_weight=3, subsample=0.8;, score=0.815 total time=   1.2s\n",
      "[CV 2/5] END colsample_bytree=0.5, gamma=0, learning_rate=0.01, max_depth=7, reg_lambda=1, scale_pos_weight=3, subsample=0.8;, score=0.811 total time=   1.2s\n",
      "[CV 3/5] END colsample_bytree=0.5, gamma=0, learning_rate=0.01, max_depth=7, reg_lambda=1, scale_pos_weight=3, subsample=0.8;, score=0.808 total time=   1.2s\n",
      "[CV 4/5] END colsample_bytree=0.5, gamma=0, learning_rate=0.01, max_depth=7, reg_lambda=1, scale_pos_weight=3, subsample=0.8;, score=0.814 total time=   1.3s\n",
      "[CV 5/5] END colsample_bytree=0.5, gamma=0, learning_rate=0.01, max_depth=7, reg_lambda=1, scale_pos_weight=3, subsample=0.8;, score=0.807 total time=   1.2s\n",
      "[CV 1/5] END colsample_bytree=0.5, gamma=0, learning_rate=0.01, max_depth=7, reg_lambda=1, scale_pos_weight=5, subsample=0.8;, score=0.599 total time=   1.2s\n",
      "[CV 2/5] END colsample_bytree=0.5, gamma=0, learning_rate=0.01, max_depth=7, reg_lambda=1, scale_pos_weight=5, subsample=0.8;, score=0.597 total time=   1.2s\n",
      "[CV 3/5] END colsample_bytree=0.5, gamma=0, learning_rate=0.01, max_depth=7, reg_lambda=1, scale_pos_weight=5, subsample=0.8;, score=0.595 total time=   1.3s\n",
      "[CV 4/5] END colsample_bytree=0.5, gamma=0, learning_rate=0.01, max_depth=7, reg_lambda=1, scale_pos_weight=5, subsample=0.8;, score=0.594 total time=   1.2s\n",
      "[CV 5/5] END colsample_bytree=0.5, gamma=0, learning_rate=0.01, max_depth=7, reg_lambda=1, scale_pos_weight=5, subsample=0.8;, score=0.595 total time=   1.2s\n",
      "[CV 1/5] END colsample_bytree=0.5, gamma=0, learning_rate=0.01, max_depth=7, reg_lambda=10, scale_pos_weight=1, subsample=0.8;, score=0.857 total time=   1.1s\n",
      "[CV 2/5] END colsample_bytree=0.5, gamma=0, learning_rate=0.01, max_depth=7, reg_lambda=10, scale_pos_weight=1, subsample=0.8;, score=0.855 total time=   1.1s\n",
      "[CV 3/5] END colsample_bytree=0.5, gamma=0, learning_rate=0.01, max_depth=7, reg_lambda=10, scale_pos_weight=1, subsample=0.8;, score=0.833 total time=   1.1s\n",
      "[CV 4/5] END colsample_bytree=0.5, gamma=0, learning_rate=0.01, max_depth=7, reg_lambda=10, scale_pos_weight=1, subsample=0.8;, score=0.839 total time=   1.1s\n",
      "[CV 5/5] END colsample_bytree=0.5, gamma=0, learning_rate=0.01, max_depth=7, reg_lambda=10, scale_pos_weight=1, subsample=0.8;, score=0.836 total time=   1.1s\n",
      "[CV 1/5] END colsample_bytree=0.5, gamma=0, learning_rate=0.01, max_depth=7, reg_lambda=10, scale_pos_weight=3, subsample=0.8;, score=0.814 total time=   1.2s\n",
      "[CV 2/5] END colsample_bytree=0.5, gamma=0, learning_rate=0.01, max_depth=7, reg_lambda=10, scale_pos_weight=3, subsample=0.8;, score=0.810 total time=   1.1s\n",
      "[CV 3/5] END colsample_bytree=0.5, gamma=0, learning_rate=0.01, max_depth=7, reg_lambda=10, scale_pos_weight=3, subsample=0.8;, score=0.807 total time=   1.2s\n",
      "[CV 4/5] END colsample_bytree=0.5, gamma=0, learning_rate=0.01, max_depth=7, reg_lambda=10, scale_pos_weight=3, subsample=0.8;, score=0.812 total time=   1.2s\n",
      "[CV 5/5] END colsample_bytree=0.5, gamma=0, learning_rate=0.01, max_depth=7, reg_lambda=10, scale_pos_weight=3, subsample=0.8;, score=0.807 total time=   1.2s\n",
      "[CV 1/5] END colsample_bytree=0.5, gamma=0, learning_rate=0.01, max_depth=7, reg_lambda=10, scale_pos_weight=5, subsample=0.8;, score=0.596 total time=   1.1s\n",
      "[CV 2/5] END colsample_bytree=0.5, gamma=0, learning_rate=0.01, max_depth=7, reg_lambda=10, scale_pos_weight=5, subsample=0.8;, score=0.594 total time=   1.2s\n",
      "[CV 3/5] END colsample_bytree=0.5, gamma=0, learning_rate=0.01, max_depth=7, reg_lambda=10, scale_pos_weight=5, subsample=0.8;, score=0.591 total time=   1.2s\n",
      "[CV 4/5] END colsample_bytree=0.5, gamma=0, learning_rate=0.01, max_depth=7, reg_lambda=10, scale_pos_weight=5, subsample=0.8;, score=0.591 total time=   1.2s\n",
      "[CV 5/5] END colsample_bytree=0.5, gamma=0, learning_rate=0.01, max_depth=7, reg_lambda=10, scale_pos_weight=5, subsample=0.8;, score=0.592 total time=   1.2s\n",
      "[CV 1/5] END colsample_bytree=0.5, gamma=0, learning_rate=0.05, max_depth=3, reg_lambda=0, scale_pos_weight=1, subsample=0.8;, score=0.867 total time=   0.7s\n",
      "[CV 2/5] END colsample_bytree=0.5, gamma=0, learning_rate=0.05, max_depth=3, reg_lambda=0, scale_pos_weight=1, subsample=0.8;, score=0.866 total time=   0.7s\n",
      "[CV 3/5] END colsample_bytree=0.5, gamma=0, learning_rate=0.05, max_depth=3, reg_lambda=0, scale_pos_weight=1, subsample=0.8;, score=0.862 total time=   0.7s\n",
      "[CV 4/5] END colsample_bytree=0.5, gamma=0, learning_rate=0.05, max_depth=3, reg_lambda=0, scale_pos_weight=1, subsample=0.8;, score=0.863 total time=   0.7s\n",
      "[CV 5/5] END colsample_bytree=0.5, gamma=0, learning_rate=0.05, max_depth=3, reg_lambda=0, scale_pos_weight=1, subsample=0.8;, score=0.862 total time=   0.7s\n",
      "[CV 1/5] END colsample_bytree=0.5, gamma=0, learning_rate=0.05, max_depth=3, reg_lambda=0, scale_pos_weight=3, subsample=0.8;, score=0.824 total time=   0.7s\n"
     ]
    },
    {
     "name": "stdout",
     "output_type": "stream",
     "text": [
      "[CV 2/5] END colsample_bytree=0.5, gamma=0, learning_rate=0.05, max_depth=3, reg_lambda=0, scale_pos_weight=3, subsample=0.8;, score=0.816 total time=   0.7s\n",
      "[CV 3/5] END colsample_bytree=0.5, gamma=0, learning_rate=0.05, max_depth=3, reg_lambda=0, scale_pos_weight=3, subsample=0.8;, score=0.814 total time=   0.7s\n",
      "[CV 4/5] END colsample_bytree=0.5, gamma=0, learning_rate=0.05, max_depth=3, reg_lambda=0, scale_pos_weight=3, subsample=0.8;, score=0.821 total time=   0.7s\n",
      "[CV 5/5] END colsample_bytree=0.5, gamma=0, learning_rate=0.05, max_depth=3, reg_lambda=0, scale_pos_weight=3, subsample=0.8;, score=0.814 total time=   0.7s\n",
      "[CV 1/5] END colsample_bytree=0.5, gamma=0, learning_rate=0.05, max_depth=3, reg_lambda=0, scale_pos_weight=5, subsample=0.8;, score=0.810 total time=   0.7s\n",
      "[CV 2/5] END colsample_bytree=0.5, gamma=0, learning_rate=0.05, max_depth=3, reg_lambda=0, scale_pos_weight=5, subsample=0.8;, score=0.809 total time=   0.7s\n",
      "[CV 3/5] END colsample_bytree=0.5, gamma=0, learning_rate=0.05, max_depth=3, reg_lambda=0, scale_pos_weight=5, subsample=0.8;, score=0.804 total time=   0.7s\n",
      "[CV 4/5] END colsample_bytree=0.5, gamma=0, learning_rate=0.05, max_depth=3, reg_lambda=0, scale_pos_weight=5, subsample=0.8;, score=0.808 total time=   0.7s\n",
      "[CV 5/5] END colsample_bytree=0.5, gamma=0, learning_rate=0.05, max_depth=3, reg_lambda=0, scale_pos_weight=5, subsample=0.8;, score=0.803 total time=   0.7s\n",
      "[CV 1/5] END colsample_bytree=0.5, gamma=0, learning_rate=0.05, max_depth=3, reg_lambda=1, scale_pos_weight=1, subsample=0.8;, score=0.867 total time=   0.7s\n",
      "[CV 2/5] END colsample_bytree=0.5, gamma=0, learning_rate=0.05, max_depth=3, reg_lambda=1, scale_pos_weight=1, subsample=0.8;, score=0.866 total time=   0.7s\n",
      "[CV 3/5] END colsample_bytree=0.5, gamma=0, learning_rate=0.05, max_depth=3, reg_lambda=1, scale_pos_weight=1, subsample=0.8;, score=0.862 total time=   0.7s\n",
      "[CV 4/5] END colsample_bytree=0.5, gamma=0, learning_rate=0.05, max_depth=3, reg_lambda=1, scale_pos_weight=1, subsample=0.8;, score=0.863 total time=   0.7s\n",
      "[CV 5/5] END colsample_bytree=0.5, gamma=0, learning_rate=0.05, max_depth=3, reg_lambda=1, scale_pos_weight=1, subsample=0.8;, score=0.862 total time=   0.7s\n",
      "[CV 1/5] END colsample_bytree=0.5, gamma=0, learning_rate=0.05, max_depth=3, reg_lambda=1, scale_pos_weight=3, subsample=0.8;, score=0.820 total time=   0.7s\n",
      "[CV 2/5] END colsample_bytree=0.5, gamma=0, learning_rate=0.05, max_depth=3, reg_lambda=1, scale_pos_weight=3, subsample=0.8;, score=0.816 total time=   0.7s\n",
      "[CV 3/5] END colsample_bytree=0.5, gamma=0, learning_rate=0.05, max_depth=3, reg_lambda=1, scale_pos_weight=3, subsample=0.8;, score=0.814 total time=   0.7s\n",
      "[CV 4/5] END colsample_bytree=0.5, gamma=0, learning_rate=0.05, max_depth=3, reg_lambda=1, scale_pos_weight=3, subsample=0.8;, score=0.821 total time=   0.7s\n",
      "[CV 5/5] END colsample_bytree=0.5, gamma=0, learning_rate=0.05, max_depth=3, reg_lambda=1, scale_pos_weight=3, subsample=0.8;, score=0.814 total time=   0.7s\n",
      "[CV 1/5] END colsample_bytree=0.5, gamma=0, learning_rate=0.05, max_depth=3, reg_lambda=1, scale_pos_weight=5, subsample=0.8;, score=0.810 total time=   0.7s\n",
      "[CV 2/5] END colsample_bytree=0.5, gamma=0, learning_rate=0.05, max_depth=3, reg_lambda=1, scale_pos_weight=5, subsample=0.8;, score=0.808 total time=   0.7s\n",
      "[CV 3/5] END colsample_bytree=0.5, gamma=0, learning_rate=0.05, max_depth=3, reg_lambda=1, scale_pos_weight=5, subsample=0.8;, score=0.803 total time=   0.7s\n",
      "[CV 4/5] END colsample_bytree=0.5, gamma=0, learning_rate=0.05, max_depth=3, reg_lambda=1, scale_pos_weight=5, subsample=0.8;, score=0.808 total time=   0.7s\n",
      "[CV 5/5] END colsample_bytree=0.5, gamma=0, learning_rate=0.05, max_depth=3, reg_lambda=1, scale_pos_weight=5, subsample=0.8;, score=0.803 total time=   0.7s\n",
      "[CV 1/5] END colsample_bytree=0.5, gamma=0, learning_rate=0.05, max_depth=3, reg_lambda=10, scale_pos_weight=1, subsample=0.8;, score=0.867 total time=   0.7s\n",
      "[CV 2/5] END colsample_bytree=0.5, gamma=0, learning_rate=0.05, max_depth=3, reg_lambda=10, scale_pos_weight=1, subsample=0.8;, score=0.866 total time=   0.7s\n",
      "[CV 3/5] END colsample_bytree=0.5, gamma=0, learning_rate=0.05, max_depth=3, reg_lambda=10, scale_pos_weight=1, subsample=0.8;, score=0.862 total time=   0.7s\n",
      "[CV 4/5] END colsample_bytree=0.5, gamma=0, learning_rate=0.05, max_depth=3, reg_lambda=10, scale_pos_weight=1, subsample=0.8;, score=0.863 total time=   0.7s\n",
      "[CV 5/5] END colsample_bytree=0.5, gamma=0, learning_rate=0.05, max_depth=3, reg_lambda=10, scale_pos_weight=1, subsample=0.8;, score=0.862 total time=   0.7s\n",
      "[CV 1/5] END colsample_bytree=0.5, gamma=0, learning_rate=0.05, max_depth=3, reg_lambda=10, scale_pos_weight=3, subsample=0.8;, score=0.820 total time=   0.7s\n",
      "[CV 2/5] END colsample_bytree=0.5, gamma=0, learning_rate=0.05, max_depth=3, reg_lambda=10, scale_pos_weight=3, subsample=0.8;, score=0.816 total time=   0.7s\n",
      "[CV 3/5] END colsample_bytree=0.5, gamma=0, learning_rate=0.05, max_depth=3, reg_lambda=10, scale_pos_weight=3, subsample=0.8;, score=0.814 total time=   0.7s\n",
      "[CV 4/5] END colsample_bytree=0.5, gamma=0, learning_rate=0.05, max_depth=3, reg_lambda=10, scale_pos_weight=3, subsample=0.8;, score=0.821 total time=   0.7s\n",
      "[CV 5/5] END colsample_bytree=0.5, gamma=0, learning_rate=0.05, max_depth=3, reg_lambda=10, scale_pos_weight=3, subsample=0.8;, score=0.813 total time=   0.7s\n",
      "[CV 1/5] END colsample_bytree=0.5, gamma=0, learning_rate=0.05, max_depth=3, reg_lambda=10, scale_pos_weight=5, subsample=0.8;, score=0.812 total time=   0.7s\n",
      "[CV 2/5] END colsample_bytree=0.5, gamma=0, learning_rate=0.05, max_depth=3, reg_lambda=10, scale_pos_weight=5, subsample=0.8;, score=0.808 total time=   0.7s\n",
      "[CV 3/5] END colsample_bytree=0.5, gamma=0, learning_rate=0.05, max_depth=3, reg_lambda=10, scale_pos_weight=5, subsample=0.8;, score=0.803 total time=   0.7s\n",
      "[CV 4/5] END colsample_bytree=0.5, gamma=0, learning_rate=0.05, max_depth=3, reg_lambda=10, scale_pos_weight=5, subsample=0.8;, score=0.807 total time=   0.7s\n",
      "[CV 5/5] END colsample_bytree=0.5, gamma=0, learning_rate=0.05, max_depth=3, reg_lambda=10, scale_pos_weight=5, subsample=0.8;, score=0.803 total time=   0.7s\n",
      "[CV 1/5] END colsample_bytree=0.5, gamma=0, learning_rate=0.05, max_depth=4, reg_lambda=0, scale_pos_weight=1, subsample=0.8;, score=0.867 total time=   0.8s\n",
      "[CV 2/5] END colsample_bytree=0.5, gamma=0, learning_rate=0.05, max_depth=4, reg_lambda=0, scale_pos_weight=1, subsample=0.8;, score=0.865 total time=   0.8s\n",
      "[CV 3/5] END colsample_bytree=0.5, gamma=0, learning_rate=0.05, max_depth=4, reg_lambda=0, scale_pos_weight=1, subsample=0.8;, score=0.862 total time=   0.8s\n",
      "[CV 4/5] END colsample_bytree=0.5, gamma=0, learning_rate=0.05, max_depth=4, reg_lambda=0, scale_pos_weight=1, subsample=0.8;, score=0.864 total time=   0.8s\n",
      "[CV 5/5] END colsample_bytree=0.5, gamma=0, learning_rate=0.05, max_depth=4, reg_lambda=0, scale_pos_weight=1, subsample=0.8;, score=0.861 total time=   0.8s\n",
      "[CV 1/5] END colsample_bytree=0.5, gamma=0, learning_rate=0.05, max_depth=4, reg_lambda=0, scale_pos_weight=3, subsample=0.8;, score=0.818 total time=   0.8s\n",
      "[CV 2/5] END colsample_bytree=0.5, gamma=0, learning_rate=0.05, max_depth=4, reg_lambda=0, scale_pos_weight=3, subsample=0.8;, score=0.813 total time=   0.8s\n",
      "[CV 3/5] END colsample_bytree=0.5, gamma=0, learning_rate=0.05, max_depth=4, reg_lambda=0, scale_pos_weight=3, subsample=0.8;, score=0.811 total time=   0.8s\n",
      "[CV 4/5] END colsample_bytree=0.5, gamma=0, learning_rate=0.05, max_depth=4, reg_lambda=0, scale_pos_weight=3, subsample=0.8;, score=0.817 total time=   0.8s\n",
      "[CV 5/5] END colsample_bytree=0.5, gamma=0, learning_rate=0.05, max_depth=4, reg_lambda=0, scale_pos_weight=3, subsample=0.8;, score=0.811 total time=   0.8s\n",
      "[CV 1/5] END colsample_bytree=0.5, gamma=0, learning_rate=0.05, max_depth=4, reg_lambda=0, scale_pos_weight=5, subsample=0.8;, score=0.815 total time=   0.8s\n",
      "[CV 2/5] END colsample_bytree=0.5, gamma=0, learning_rate=0.05, max_depth=4, reg_lambda=0, scale_pos_weight=5, subsample=0.8;, score=0.811 total time=   0.8s\n",
      "[CV 3/5] END colsample_bytree=0.5, gamma=0, learning_rate=0.05, max_depth=4, reg_lambda=0, scale_pos_weight=5, subsample=0.8;, score=0.807 total time=   0.8s\n"
     ]
    },
    {
     "name": "stdout",
     "output_type": "stream",
     "text": [
      "[CV 4/5] END colsample_bytree=0.5, gamma=0, learning_rate=0.05, max_depth=4, reg_lambda=0, scale_pos_weight=5, subsample=0.8;, score=0.813 total time=   0.8s\n",
      "[CV 5/5] END colsample_bytree=0.5, gamma=0, learning_rate=0.05, max_depth=4, reg_lambda=0, scale_pos_weight=5, subsample=0.8;, score=0.807 total time=   0.8s\n",
      "[CV 1/5] END colsample_bytree=0.5, gamma=0, learning_rate=0.05, max_depth=4, reg_lambda=1, scale_pos_weight=1, subsample=0.8;, score=0.867 total time=   0.8s\n",
      "[CV 2/5] END colsample_bytree=0.5, gamma=0, learning_rate=0.05, max_depth=4, reg_lambda=1, scale_pos_weight=1, subsample=0.8;, score=0.866 total time=   0.8s\n",
      "[CV 3/5] END colsample_bytree=0.5, gamma=0, learning_rate=0.05, max_depth=4, reg_lambda=1, scale_pos_weight=1, subsample=0.8;, score=0.862 total time=   0.8s\n",
      "[CV 4/5] END colsample_bytree=0.5, gamma=0, learning_rate=0.05, max_depth=4, reg_lambda=1, scale_pos_weight=1, subsample=0.8;, score=0.864 total time=   0.8s\n",
      "[CV 5/5] END colsample_bytree=0.5, gamma=0, learning_rate=0.05, max_depth=4, reg_lambda=1, scale_pos_weight=1, subsample=0.8;, score=0.862 total time=   0.9s\n",
      "[CV 1/5] END colsample_bytree=0.5, gamma=0, learning_rate=0.05, max_depth=4, reg_lambda=1, scale_pos_weight=3, subsample=0.8;, score=0.819 total time=   0.9s\n",
      "[CV 2/5] END colsample_bytree=0.5, gamma=0, learning_rate=0.05, max_depth=4, reg_lambda=1, scale_pos_weight=3, subsample=0.8;, score=0.813 total time=   0.9s\n",
      "[CV 3/5] END colsample_bytree=0.5, gamma=0, learning_rate=0.05, max_depth=4, reg_lambda=1, scale_pos_weight=3, subsample=0.8;, score=0.811 total time=   0.8s\n",
      "[CV 4/5] END colsample_bytree=0.5, gamma=0, learning_rate=0.05, max_depth=4, reg_lambda=1, scale_pos_weight=3, subsample=0.8;, score=0.817 total time=   0.8s\n",
      "[CV 5/5] END colsample_bytree=0.5, gamma=0, learning_rate=0.05, max_depth=4, reg_lambda=1, scale_pos_weight=3, subsample=0.8;, score=0.810 total time=   0.8s\n",
      "[CV 1/5] END colsample_bytree=0.5, gamma=0, learning_rate=0.05, max_depth=4, reg_lambda=1, scale_pos_weight=5, subsample=0.8;, score=0.815 total time=   0.8s\n",
      "[CV 2/5] END colsample_bytree=0.5, gamma=0, learning_rate=0.05, max_depth=4, reg_lambda=1, scale_pos_weight=5, subsample=0.8;, score=0.810 total time=   0.8s\n",
      "[CV 3/5] END colsample_bytree=0.5, gamma=0, learning_rate=0.05, max_depth=4, reg_lambda=1, scale_pos_weight=5, subsample=0.8;, score=0.806 total time=   0.8s\n",
      "[CV 4/5] END colsample_bytree=0.5, gamma=0, learning_rate=0.05, max_depth=4, reg_lambda=1, scale_pos_weight=5, subsample=0.8;, score=0.812 total time=   0.8s\n",
      "[CV 5/5] END colsample_bytree=0.5, gamma=0, learning_rate=0.05, max_depth=4, reg_lambda=1, scale_pos_weight=5, subsample=0.8;, score=0.807 total time=   0.8s\n",
      "[CV 1/5] END colsample_bytree=0.5, gamma=0, learning_rate=0.05, max_depth=4, reg_lambda=10, scale_pos_weight=1, subsample=0.8;, score=0.867 total time=   0.8s\n",
      "[CV 2/5] END colsample_bytree=0.5, gamma=0, learning_rate=0.05, max_depth=4, reg_lambda=10, scale_pos_weight=1, subsample=0.8;, score=0.866 total time=   0.8s\n",
      "[CV 3/5] END colsample_bytree=0.5, gamma=0, learning_rate=0.05, max_depth=4, reg_lambda=10, scale_pos_weight=1, subsample=0.8;, score=0.862 total time=   0.8s\n",
      "[CV 4/5] END colsample_bytree=0.5, gamma=0, learning_rate=0.05, max_depth=4, reg_lambda=10, scale_pos_weight=1, subsample=0.8;, score=0.863 total time=   0.8s\n",
      "[CV 5/5] END colsample_bytree=0.5, gamma=0, learning_rate=0.05, max_depth=4, reg_lambda=10, scale_pos_weight=1, subsample=0.8;, score=0.861 total time=   0.8s\n",
      "[CV 1/5] END colsample_bytree=0.5, gamma=0, learning_rate=0.05, max_depth=4, reg_lambda=10, scale_pos_weight=3, subsample=0.8;, score=0.818 total time=   0.9s\n",
      "[CV 2/5] END colsample_bytree=0.5, gamma=0, learning_rate=0.05, max_depth=4, reg_lambda=10, scale_pos_weight=3, subsample=0.8;, score=0.813 total time=   0.9s\n",
      "[CV 3/5] END colsample_bytree=0.5, gamma=0, learning_rate=0.05, max_depth=4, reg_lambda=10, scale_pos_weight=3, subsample=0.8;, score=0.811 total time=   0.8s\n",
      "[CV 4/5] END colsample_bytree=0.5, gamma=0, learning_rate=0.05, max_depth=4, reg_lambda=10, scale_pos_weight=3, subsample=0.8;, score=0.817 total time=   0.8s\n",
      "[CV 5/5] END colsample_bytree=0.5, gamma=0, learning_rate=0.05, max_depth=4, reg_lambda=10, scale_pos_weight=3, subsample=0.8;, score=0.810 total time=   0.8s\n",
      "[CV 1/5] END colsample_bytree=0.5, gamma=0, learning_rate=0.05, max_depth=4, reg_lambda=10, scale_pos_weight=5, subsample=0.8;, score=0.814 total time=   0.8s\n",
      "[CV 2/5] END colsample_bytree=0.5, gamma=0, learning_rate=0.05, max_depth=4, reg_lambda=10, scale_pos_weight=5, subsample=0.8;, score=0.810 total time=   0.8s\n",
      "[CV 3/5] END colsample_bytree=0.5, gamma=0, learning_rate=0.05, max_depth=4, reg_lambda=10, scale_pos_weight=5, subsample=0.8;, score=0.806 total time=   0.8s\n",
      "[CV 4/5] END colsample_bytree=0.5, gamma=0, learning_rate=0.05, max_depth=4, reg_lambda=10, scale_pos_weight=5, subsample=0.8;, score=0.812 total time=   0.8s\n",
      "[CV 5/5] END colsample_bytree=0.5, gamma=0, learning_rate=0.05, max_depth=4, reg_lambda=10, scale_pos_weight=5, subsample=0.8;, score=0.807 total time=   0.8s\n",
      "[CV 1/5] END colsample_bytree=0.5, gamma=0, learning_rate=0.05, max_depth=5, reg_lambda=0, scale_pos_weight=1, subsample=0.8;, score=0.867 total time=   1.0s\n",
      "[CV 2/5] END colsample_bytree=0.5, gamma=0, learning_rate=0.05, max_depth=5, reg_lambda=0, scale_pos_weight=1, subsample=0.8;, score=0.866 total time=   1.1s\n",
      "[CV 3/5] END colsample_bytree=0.5, gamma=0, learning_rate=0.05, max_depth=5, reg_lambda=0, scale_pos_weight=1, subsample=0.8;, score=0.862 total time=   1.0s\n",
      "[CV 4/5] END colsample_bytree=0.5, gamma=0, learning_rate=0.05, max_depth=5, reg_lambda=0, scale_pos_weight=1, subsample=0.8;, score=0.864 total time=   1.0s\n",
      "[CV 5/5] END colsample_bytree=0.5, gamma=0, learning_rate=0.05, max_depth=5, reg_lambda=0, scale_pos_weight=1, subsample=0.8;, score=0.862 total time=   1.0s\n",
      "[CV 1/5] END colsample_bytree=0.5, gamma=0, learning_rate=0.05, max_depth=5, reg_lambda=0, scale_pos_weight=3, subsample=0.8;, score=0.819 total time=   1.0s\n",
      "[CV 2/5] END colsample_bytree=0.5, gamma=0, learning_rate=0.05, max_depth=5, reg_lambda=0, scale_pos_weight=3, subsample=0.8;, score=0.814 total time=   1.0s\n",
      "[CV 3/5] END colsample_bytree=0.5, gamma=0, learning_rate=0.05, max_depth=5, reg_lambda=0, scale_pos_weight=3, subsample=0.8;, score=0.810 total time=   1.0s\n",
      "[CV 4/5] END colsample_bytree=0.5, gamma=0, learning_rate=0.05, max_depth=5, reg_lambda=0, scale_pos_weight=3, subsample=0.8;, score=0.817 total time=   1.0s\n",
      "[CV 5/5] END colsample_bytree=0.5, gamma=0, learning_rate=0.05, max_depth=5, reg_lambda=0, scale_pos_weight=3, subsample=0.8;, score=0.811 total time=   0.9s\n",
      "[CV 1/5] END colsample_bytree=0.5, gamma=0, learning_rate=0.05, max_depth=5, reg_lambda=0, scale_pos_weight=5, subsample=0.8;, score=0.815 total time=   0.9s\n",
      "[CV 2/5] END colsample_bytree=0.5, gamma=0, learning_rate=0.05, max_depth=5, reg_lambda=0, scale_pos_weight=5, subsample=0.8;, score=0.811 total time=   1.0s\n",
      "[CV 3/5] END colsample_bytree=0.5, gamma=0, learning_rate=0.05, max_depth=5, reg_lambda=0, scale_pos_weight=5, subsample=0.8;, score=0.807 total time=   1.0s\n",
      "[CV 4/5] END colsample_bytree=0.5, gamma=0, learning_rate=0.05, max_depth=5, reg_lambda=0, scale_pos_weight=5, subsample=0.8;, score=0.814 total time=   0.9s\n",
      "[CV 5/5] END colsample_bytree=0.5, gamma=0, learning_rate=0.05, max_depth=5, reg_lambda=0, scale_pos_weight=5, subsample=0.8;, score=0.808 total time=   0.9s\n",
      "[CV 1/5] END colsample_bytree=0.5, gamma=0, learning_rate=0.05, max_depth=5, reg_lambda=1, scale_pos_weight=1, subsample=0.8;, score=0.867 total time=   1.0s\n",
      "[CV 2/5] END colsample_bytree=0.5, gamma=0, learning_rate=0.05, max_depth=5, reg_lambda=1, scale_pos_weight=1, subsample=0.8;, score=0.866 total time=   1.0s\n",
      "[CV 3/5] END colsample_bytree=0.5, gamma=0, learning_rate=0.05, max_depth=5, reg_lambda=1, scale_pos_weight=1, subsample=0.8;, score=0.862 total time=   1.1s\n",
      "[CV 4/5] END colsample_bytree=0.5, gamma=0, learning_rate=0.05, max_depth=5, reg_lambda=1, scale_pos_weight=1, subsample=0.8;, score=0.864 total time=   1.0s\n",
      "[CV 5/5] END colsample_bytree=0.5, gamma=0, learning_rate=0.05, max_depth=5, reg_lambda=1, scale_pos_weight=1, subsample=0.8;, score=0.862 total time=   1.0s\n"
     ]
    },
    {
     "name": "stdout",
     "output_type": "stream",
     "text": [
      "[CV 1/5] END colsample_bytree=0.5, gamma=0, learning_rate=0.05, max_depth=5, reg_lambda=1, scale_pos_weight=3, subsample=0.8;, score=0.819 total time=   1.0s\n",
      "[CV 2/5] END colsample_bytree=0.5, gamma=0, learning_rate=0.05, max_depth=5, reg_lambda=1, scale_pos_weight=3, subsample=0.8;, score=0.814 total time=   1.0s\n",
      "[CV 3/5] END colsample_bytree=0.5, gamma=0, learning_rate=0.05, max_depth=5, reg_lambda=1, scale_pos_weight=3, subsample=0.8;, score=0.810 total time=   0.9s\n",
      "[CV 4/5] END colsample_bytree=0.5, gamma=0, learning_rate=0.05, max_depth=5, reg_lambda=1, scale_pos_weight=3, subsample=0.8;, score=0.817 total time=   1.0s\n",
      "[CV 5/5] END colsample_bytree=0.5, gamma=0, learning_rate=0.05, max_depth=5, reg_lambda=1, scale_pos_weight=3, subsample=0.8;, score=0.811 total time=   1.0s\n",
      "[CV 1/5] END colsample_bytree=0.5, gamma=0, learning_rate=0.05, max_depth=5, reg_lambda=1, scale_pos_weight=5, subsample=0.8;, score=0.815 total time=   1.0s\n",
      "[CV 2/5] END colsample_bytree=0.5, gamma=0, learning_rate=0.05, max_depth=5, reg_lambda=1, scale_pos_weight=5, subsample=0.8;, score=0.811 total time=   1.0s\n",
      "[CV 3/5] END colsample_bytree=0.5, gamma=0, learning_rate=0.05, max_depth=5, reg_lambda=1, scale_pos_weight=5, subsample=0.8;, score=0.807 total time=   1.0s\n",
      "[CV 4/5] END colsample_bytree=0.5, gamma=0, learning_rate=0.05, max_depth=5, reg_lambda=1, scale_pos_weight=5, subsample=0.8;, score=0.813 total time=   1.0s\n",
      "[CV 5/5] END colsample_bytree=0.5, gamma=0, learning_rate=0.05, max_depth=5, reg_lambda=1, scale_pos_weight=5, subsample=0.8;, score=0.807 total time=   1.0s\n",
      "[CV 1/5] END colsample_bytree=0.5, gamma=0, learning_rate=0.05, max_depth=5, reg_lambda=10, scale_pos_weight=1, subsample=0.8;, score=0.867 total time=   1.0s\n",
      "[CV 2/5] END colsample_bytree=0.5, gamma=0, learning_rate=0.05, max_depth=5, reg_lambda=10, scale_pos_weight=1, subsample=0.8;, score=0.866 total time=   1.0s\n",
      "[CV 3/5] END colsample_bytree=0.5, gamma=0, learning_rate=0.05, max_depth=5, reg_lambda=10, scale_pos_weight=1, subsample=0.8;, score=0.862 total time=   0.9s\n",
      "[CV 4/5] END colsample_bytree=0.5, gamma=0, learning_rate=0.05, max_depth=5, reg_lambda=10, scale_pos_weight=1, subsample=0.8;, score=0.864 total time=   0.9s\n",
      "[CV 5/5] END colsample_bytree=0.5, gamma=0, learning_rate=0.05, max_depth=5, reg_lambda=10, scale_pos_weight=1, subsample=0.8;, score=0.862 total time=   0.9s\n",
      "[CV 1/5] END colsample_bytree=0.5, gamma=0, learning_rate=0.05, max_depth=5, reg_lambda=10, scale_pos_weight=3, subsample=0.8;, score=0.819 total time=   1.0s\n",
      "[CV 2/5] END colsample_bytree=0.5, gamma=0, learning_rate=0.05, max_depth=5, reg_lambda=10, scale_pos_weight=3, subsample=0.8;, score=0.814 total time=   0.9s\n",
      "[CV 3/5] END colsample_bytree=0.5, gamma=0, learning_rate=0.05, max_depth=5, reg_lambda=10, scale_pos_weight=3, subsample=0.8;, score=0.810 total time=   1.0s\n",
      "[CV 4/5] END colsample_bytree=0.5, gamma=0, learning_rate=0.05, max_depth=5, reg_lambda=10, scale_pos_weight=3, subsample=0.8;, score=0.817 total time=   1.0s\n",
      "[CV 5/5] END colsample_bytree=0.5, gamma=0, learning_rate=0.05, max_depth=5, reg_lambda=10, scale_pos_weight=3, subsample=0.8;, score=0.810 total time=   1.0s\n",
      "[CV 1/5] END colsample_bytree=0.5, gamma=0, learning_rate=0.05, max_depth=5, reg_lambda=10, scale_pos_weight=5, subsample=0.8;, score=0.815 total time=   1.0s\n",
      "[CV 2/5] END colsample_bytree=0.5, gamma=0, learning_rate=0.05, max_depth=5, reg_lambda=10, scale_pos_weight=5, subsample=0.8;, score=0.810 total time=   1.0s\n",
      "[CV 3/5] END colsample_bytree=0.5, gamma=0, learning_rate=0.05, max_depth=5, reg_lambda=10, scale_pos_weight=5, subsample=0.8;, score=0.806 total time=   1.0s\n",
      "[CV 4/5] END colsample_bytree=0.5, gamma=0, learning_rate=0.05, max_depth=5, reg_lambda=10, scale_pos_weight=5, subsample=0.8;, score=0.813 total time=   1.1s\n",
      "[CV 5/5] END colsample_bytree=0.5, gamma=0, learning_rate=0.05, max_depth=5, reg_lambda=10, scale_pos_weight=5, subsample=0.8;, score=0.806 total time=   1.0s\n",
      "[CV 1/5] END colsample_bytree=0.5, gamma=0, learning_rate=0.05, max_depth=7, reg_lambda=0, scale_pos_weight=1, subsample=0.8;, score=0.867 total time=   1.2s\n",
      "[CV 2/5] END colsample_bytree=0.5, gamma=0, learning_rate=0.05, max_depth=7, reg_lambda=0, scale_pos_weight=1, subsample=0.8;, score=0.866 total time=   1.3s\n",
      "[CV 3/5] END colsample_bytree=0.5, gamma=0, learning_rate=0.05, max_depth=7, reg_lambda=0, scale_pos_weight=1, subsample=0.8;, score=0.862 total time=   1.2s\n",
      "[CV 4/5] END colsample_bytree=0.5, gamma=0, learning_rate=0.05, max_depth=7, reg_lambda=0, scale_pos_weight=1, subsample=0.8;, score=0.864 total time=   1.2s\n",
      "[CV 5/5] END colsample_bytree=0.5, gamma=0, learning_rate=0.05, max_depth=7, reg_lambda=0, scale_pos_weight=1, subsample=0.8;, score=0.862 total time=   1.2s\n",
      "[CV 1/5] END colsample_bytree=0.5, gamma=0, learning_rate=0.05, max_depth=7, reg_lambda=0, scale_pos_weight=3, subsample=0.8;, score=0.819 total time=   1.2s\n",
      "[CV 2/5] END colsample_bytree=0.5, gamma=0, learning_rate=0.05, max_depth=7, reg_lambda=0, scale_pos_weight=3, subsample=0.8;, score=0.816 total time=   1.2s\n",
      "[CV 3/5] END colsample_bytree=0.5, gamma=0, learning_rate=0.05, max_depth=7, reg_lambda=0, scale_pos_weight=3, subsample=0.8;, score=0.811 total time=   1.3s\n",
      "[CV 4/5] END colsample_bytree=0.5, gamma=0, learning_rate=0.05, max_depth=7, reg_lambda=0, scale_pos_weight=3, subsample=0.8;, score=0.818 total time=   1.6s\n",
      "[CV 5/5] END colsample_bytree=0.5, gamma=0, learning_rate=0.05, max_depth=7, reg_lambda=0, scale_pos_weight=3, subsample=0.8;, score=0.812 total time=   1.9s\n",
      "[CV 1/5] END colsample_bytree=0.5, gamma=0, learning_rate=0.05, max_depth=7, reg_lambda=0, scale_pos_weight=5, subsample=0.8;, score=0.815 total time=   1.2s\n",
      "[CV 2/5] END colsample_bytree=0.5, gamma=0, learning_rate=0.05, max_depth=7, reg_lambda=0, scale_pos_weight=5, subsample=0.8;, score=0.813 total time=   1.2s\n",
      "[CV 3/5] END colsample_bytree=0.5, gamma=0, learning_rate=0.05, max_depth=7, reg_lambda=0, scale_pos_weight=5, subsample=0.8;, score=0.809 total time=   1.2s\n",
      "[CV 4/5] END colsample_bytree=0.5, gamma=0, learning_rate=0.05, max_depth=7, reg_lambda=0, scale_pos_weight=5, subsample=0.8;, score=0.815 total time=   1.2s\n",
      "[CV 5/5] END colsample_bytree=0.5, gamma=0, learning_rate=0.05, max_depth=7, reg_lambda=0, scale_pos_weight=5, subsample=0.8;, score=0.808 total time=   1.3s\n",
      "[CV 1/5] END colsample_bytree=0.5, gamma=0, learning_rate=0.05, max_depth=7, reg_lambda=1, scale_pos_weight=1, subsample=0.8;, score=0.867 total time=   1.2s\n",
      "[CV 2/5] END colsample_bytree=0.5, gamma=0, learning_rate=0.05, max_depth=7, reg_lambda=1, scale_pos_weight=1, subsample=0.8;, score=0.866 total time=   1.2s\n",
      "[CV 3/5] END colsample_bytree=0.5, gamma=0, learning_rate=0.05, max_depth=7, reg_lambda=1, scale_pos_weight=1, subsample=0.8;, score=0.862 total time=   1.2s\n",
      "[CV 4/5] END colsample_bytree=0.5, gamma=0, learning_rate=0.05, max_depth=7, reg_lambda=1, scale_pos_weight=1, subsample=0.8;, score=0.864 total time=   1.2s\n",
      "[CV 5/5] END colsample_bytree=0.5, gamma=0, learning_rate=0.05, max_depth=7, reg_lambda=1, scale_pos_weight=1, subsample=0.8;, score=0.862 total time=   1.2s\n",
      "[CV 1/5] END colsample_bytree=0.5, gamma=0, learning_rate=0.05, max_depth=7, reg_lambda=1, scale_pos_weight=3, subsample=0.8;, score=0.819 total time=   1.2s\n",
      "[CV 2/5] END colsample_bytree=0.5, gamma=0, learning_rate=0.05, max_depth=7, reg_lambda=1, scale_pos_weight=3, subsample=0.8;, score=0.815 total time=   1.2s\n",
      "[CV 3/5] END colsample_bytree=0.5, gamma=0, learning_rate=0.05, max_depth=7, reg_lambda=1, scale_pos_weight=3, subsample=0.8;, score=0.811 total time=   1.2s\n",
      "[CV 4/5] END colsample_bytree=0.5, gamma=0, learning_rate=0.05, max_depth=7, reg_lambda=1, scale_pos_weight=3, subsample=0.8;, score=0.818 total time=   1.2s\n",
      "[CV 5/5] END colsample_bytree=0.5, gamma=0, learning_rate=0.05, max_depth=7, reg_lambda=1, scale_pos_weight=3, subsample=0.8;, score=0.812 total time=   1.2s\n",
      "[CV 1/5] END colsample_bytree=0.5, gamma=0, learning_rate=0.05, max_depth=7, reg_lambda=1, scale_pos_weight=5, subsample=0.8;, score=0.815 total time=   1.2s\n",
      "[CV 2/5] END colsample_bytree=0.5, gamma=0, learning_rate=0.05, max_depth=7, reg_lambda=1, scale_pos_weight=5, subsample=0.8;, score=0.813 total time=   1.2s\n"
     ]
    },
    {
     "name": "stdout",
     "output_type": "stream",
     "text": [
      "[CV 3/5] END colsample_bytree=0.5, gamma=0, learning_rate=0.05, max_depth=7, reg_lambda=1, scale_pos_weight=5, subsample=0.8;, score=0.808 total time=   1.2s\n",
      "[CV 4/5] END colsample_bytree=0.5, gamma=0, learning_rate=0.05, max_depth=7, reg_lambda=1, scale_pos_weight=5, subsample=0.8;, score=0.814 total time=   1.2s\n",
      "[CV 5/5] END colsample_bytree=0.5, gamma=0, learning_rate=0.05, max_depth=7, reg_lambda=1, scale_pos_weight=5, subsample=0.8;, score=0.807 total time=   1.2s\n",
      "[CV 1/5] END colsample_bytree=0.5, gamma=0, learning_rate=0.05, max_depth=7, reg_lambda=10, scale_pos_weight=1, subsample=0.8;, score=0.867 total time=   1.2s\n",
      "[CV 2/5] END colsample_bytree=0.5, gamma=0, learning_rate=0.05, max_depth=7, reg_lambda=10, scale_pos_weight=1, subsample=0.8;, score=0.866 total time=   1.2s\n",
      "[CV 3/5] END colsample_bytree=0.5, gamma=0, learning_rate=0.05, max_depth=7, reg_lambda=10, scale_pos_weight=1, subsample=0.8;, score=0.862 total time=   1.2s\n",
      "[CV 4/5] END colsample_bytree=0.5, gamma=0, learning_rate=0.05, max_depth=7, reg_lambda=10, scale_pos_weight=1, subsample=0.8;, score=0.864 total time=   1.2s\n",
      "[CV 5/5] END colsample_bytree=0.5, gamma=0, learning_rate=0.05, max_depth=7, reg_lambda=10, scale_pos_weight=1, subsample=0.8;, score=0.862 total time=   1.2s\n",
      "[CV 1/5] END colsample_bytree=0.5, gamma=0, learning_rate=0.05, max_depth=7, reg_lambda=10, scale_pos_weight=3, subsample=0.8;, score=0.819 total time=   1.2s\n",
      "[CV 2/5] END colsample_bytree=0.5, gamma=0, learning_rate=0.05, max_depth=7, reg_lambda=10, scale_pos_weight=3, subsample=0.8;, score=0.815 total time=   1.2s\n",
      "[CV 3/5] END colsample_bytree=0.5, gamma=0, learning_rate=0.05, max_depth=7, reg_lambda=10, scale_pos_weight=3, subsample=0.8;, score=0.810 total time=   1.2s\n",
      "[CV 4/5] END colsample_bytree=0.5, gamma=0, learning_rate=0.05, max_depth=7, reg_lambda=10, scale_pos_weight=3, subsample=0.8;, score=0.817 total time=   1.2s\n",
      "[CV 5/5] END colsample_bytree=0.5, gamma=0, learning_rate=0.05, max_depth=7, reg_lambda=10, scale_pos_weight=3, subsample=0.8;, score=0.811 total time=   1.2s\n",
      "[CV 1/5] END colsample_bytree=0.5, gamma=0, learning_rate=0.05, max_depth=7, reg_lambda=10, scale_pos_weight=5, subsample=0.8;, score=0.814 total time=   1.3s\n",
      "[CV 2/5] END colsample_bytree=0.5, gamma=0, learning_rate=0.05, max_depth=7, reg_lambda=10, scale_pos_weight=5, subsample=0.8;, score=0.811 total time=   1.5s\n",
      "[CV 3/5] END colsample_bytree=0.5, gamma=0, learning_rate=0.05, max_depth=7, reg_lambda=10, scale_pos_weight=5, subsample=0.8;, score=0.807 total time=   1.3s\n",
      "[CV 4/5] END colsample_bytree=0.5, gamma=0, learning_rate=0.05, max_depth=7, reg_lambda=10, scale_pos_weight=5, subsample=0.8;, score=0.813 total time=   1.2s\n",
      "[CV 5/5] END colsample_bytree=0.5, gamma=0, learning_rate=0.05, max_depth=7, reg_lambda=10, scale_pos_weight=5, subsample=0.8;, score=0.806 total time=   1.3s\n",
      "[CV 1/5] END colsample_bytree=0.5, gamma=0.25, learning_rate=0.1, max_depth=3, reg_lambda=0, scale_pos_weight=1, subsample=0.8;, score=0.867 total time=   0.7s\n",
      "[CV 2/5] END colsample_bytree=0.5, gamma=0.25, learning_rate=0.1, max_depth=3, reg_lambda=0, scale_pos_weight=1, subsample=0.8;, score=0.866 total time=   0.7s\n",
      "[CV 3/5] END colsample_bytree=0.5, gamma=0.25, learning_rate=0.1, max_depth=3, reg_lambda=0, scale_pos_weight=1, subsample=0.8;, score=0.862 total time=   0.7s\n",
      "[CV 4/5] END colsample_bytree=0.5, gamma=0.25, learning_rate=0.1, max_depth=3, reg_lambda=0, scale_pos_weight=1, subsample=0.8;, score=0.864 total time=   0.7s\n",
      "[CV 5/5] END colsample_bytree=0.5, gamma=0.25, learning_rate=0.1, max_depth=3, reg_lambda=0, scale_pos_weight=1, subsample=0.8;, score=0.862 total time=   0.7s\n",
      "[CV 1/5] END colsample_bytree=0.5, gamma=0.25, learning_rate=0.1, max_depth=3, reg_lambda=0, scale_pos_weight=3, subsample=0.8;, score=0.840 total time=   0.8s\n",
      "[CV 2/5] END colsample_bytree=0.5, gamma=0.25, learning_rate=0.1, max_depth=3, reg_lambda=0, scale_pos_weight=3, subsample=0.8;, score=0.834 total time=   0.7s\n",
      "[CV 3/5] END colsample_bytree=0.5, gamma=0.25, learning_rate=0.1, max_depth=3, reg_lambda=0, scale_pos_weight=3, subsample=0.8;, score=0.835 total time=   0.7s\n",
      "[CV 4/5] END colsample_bytree=0.5, gamma=0.25, learning_rate=0.1, max_depth=3, reg_lambda=0, scale_pos_weight=3, subsample=0.8;, score=0.840 total time=   0.7s\n",
      "[CV 5/5] END colsample_bytree=0.5, gamma=0.25, learning_rate=0.1, max_depth=3, reg_lambda=0, scale_pos_weight=3, subsample=0.8;, score=0.837 total time=   0.7s\n",
      "[CV 1/5] END colsample_bytree=0.5, gamma=0.25, learning_rate=0.1, max_depth=3, reg_lambda=0, scale_pos_weight=5, subsample=0.8;, score=0.815 total time=   0.7s\n",
      "[CV 2/5] END colsample_bytree=0.5, gamma=0.25, learning_rate=0.1, max_depth=3, reg_lambda=0, scale_pos_weight=5, subsample=0.8;, score=0.811 total time=   0.7s\n",
      "[CV 3/5] END colsample_bytree=0.5, gamma=0.25, learning_rate=0.1, max_depth=3, reg_lambda=0, scale_pos_weight=5, subsample=0.8;, score=0.808 total time=   0.7s\n",
      "[CV 4/5] END colsample_bytree=0.5, gamma=0.25, learning_rate=0.1, max_depth=3, reg_lambda=0, scale_pos_weight=5, subsample=0.8;, score=0.813 total time=   0.7s\n",
      "[CV 5/5] END colsample_bytree=0.5, gamma=0.25, learning_rate=0.1, max_depth=3, reg_lambda=0, scale_pos_weight=5, subsample=0.8;, score=0.809 total time=   0.7s\n",
      "[CV 1/5] END colsample_bytree=0.5, gamma=0.25, learning_rate=0.1, max_depth=3, reg_lambda=1, scale_pos_weight=1, subsample=0.8;, score=0.867 total time=   0.7s\n",
      "[CV 2/5] END colsample_bytree=0.5, gamma=0.25, learning_rate=0.1, max_depth=3, reg_lambda=1, scale_pos_weight=1, subsample=0.8;, score=0.866 total time=   0.7s\n",
      "[CV 3/5] END colsample_bytree=0.5, gamma=0.25, learning_rate=0.1, max_depth=3, reg_lambda=1, scale_pos_weight=1, subsample=0.8;, score=0.862 total time=   0.7s\n",
      "[CV 4/5] END colsample_bytree=0.5, gamma=0.25, learning_rate=0.1, max_depth=3, reg_lambda=1, scale_pos_weight=1, subsample=0.8;, score=0.864 total time=   0.7s\n",
      "[CV 5/5] END colsample_bytree=0.5, gamma=0.25, learning_rate=0.1, max_depth=3, reg_lambda=1, scale_pos_weight=1, subsample=0.8;, score=0.862 total time=   0.7s\n",
      "[CV 1/5] END colsample_bytree=0.5, gamma=0.25, learning_rate=0.1, max_depth=3, reg_lambda=1, scale_pos_weight=3, subsample=0.8;, score=0.836 total time=   0.7s\n",
      "[CV 2/5] END colsample_bytree=0.5, gamma=0.25, learning_rate=0.1, max_depth=3, reg_lambda=1, scale_pos_weight=3, subsample=0.8;, score=0.834 total time=   0.7s\n",
      "[CV 3/5] END colsample_bytree=0.5, gamma=0.25, learning_rate=0.1, max_depth=3, reg_lambda=1, scale_pos_weight=3, subsample=0.8;, score=0.836 total time=   0.7s\n",
      "[CV 4/5] END colsample_bytree=0.5, gamma=0.25, learning_rate=0.1, max_depth=3, reg_lambda=1, scale_pos_weight=3, subsample=0.8;, score=0.840 total time=   0.7s\n",
      "[CV 5/5] END colsample_bytree=0.5, gamma=0.25, learning_rate=0.1, max_depth=3, reg_lambda=1, scale_pos_weight=3, subsample=0.8;, score=0.838 total time=   0.7s\n",
      "[CV 1/5] END colsample_bytree=0.5, gamma=0.25, learning_rate=0.1, max_depth=3, reg_lambda=1, scale_pos_weight=5, subsample=0.8;, score=0.816 total time=   0.7s\n",
      "[CV 2/5] END colsample_bytree=0.5, gamma=0.25, learning_rate=0.1, max_depth=3, reg_lambda=1, scale_pos_weight=5, subsample=0.8;, score=0.812 total time=   0.7s\n",
      "[CV 3/5] END colsample_bytree=0.5, gamma=0.25, learning_rate=0.1, max_depth=3, reg_lambda=1, scale_pos_weight=5, subsample=0.8;, score=0.808 total time=   0.7s\n",
      "[CV 4/5] END colsample_bytree=0.5, gamma=0.25, learning_rate=0.1, max_depth=3, reg_lambda=1, scale_pos_weight=5, subsample=0.8;, score=0.814 total time=   0.7s\n",
      "[CV 5/5] END colsample_bytree=0.5, gamma=0.25, learning_rate=0.1, max_depth=3, reg_lambda=1, scale_pos_weight=5, subsample=0.8;, score=0.808 total time=   0.7s\n",
      "[CV 1/5] END colsample_bytree=0.5, gamma=0.25, learning_rate=0.1, max_depth=3, reg_lambda=10, scale_pos_weight=1, subsample=0.8;, score=0.867 total time=   0.7s\n",
      "[CV 2/5] END colsample_bytree=0.5, gamma=0.25, learning_rate=0.1, max_depth=3, reg_lambda=10, scale_pos_weight=1, subsample=0.8;, score=0.866 total time=   0.7s\n",
      "[CV 3/5] END colsample_bytree=0.5, gamma=0.25, learning_rate=0.1, max_depth=3, reg_lambda=10, scale_pos_weight=1, subsample=0.8;, score=0.862 total time=   0.7s\n",
      "[CV 4/5] END colsample_bytree=0.5, gamma=0.25, learning_rate=0.1, max_depth=3, reg_lambda=10, scale_pos_weight=1, subsample=0.8;, score=0.864 total time=   0.7s\n"
     ]
    },
    {
     "name": "stdout",
     "output_type": "stream",
     "text": [
      "[CV 5/5] END colsample_bytree=0.5, gamma=0.25, learning_rate=0.1, max_depth=3, reg_lambda=10, scale_pos_weight=1, subsample=0.8;, score=0.862 total time=   0.7s\n",
      "[CV 1/5] END colsample_bytree=0.5, gamma=0.25, learning_rate=0.1, max_depth=3, reg_lambda=10, scale_pos_weight=3, subsample=0.8;, score=0.836 total time=   0.7s\n",
      "[CV 2/5] END colsample_bytree=0.5, gamma=0.25, learning_rate=0.1, max_depth=3, reg_lambda=10, scale_pos_weight=3, subsample=0.8;, score=0.835 total time=   0.7s\n",
      "[CV 3/5] END colsample_bytree=0.5, gamma=0.25, learning_rate=0.1, max_depth=3, reg_lambda=10, scale_pos_weight=3, subsample=0.8;, score=0.836 total time=   0.8s\n",
      "[CV 4/5] END colsample_bytree=0.5, gamma=0.25, learning_rate=0.1, max_depth=3, reg_lambda=10, scale_pos_weight=3, subsample=0.8;, score=0.840 total time=   0.7s\n",
      "[CV 5/5] END colsample_bytree=0.5, gamma=0.25, learning_rate=0.1, max_depth=3, reg_lambda=10, scale_pos_weight=3, subsample=0.8;, score=0.837 total time=   0.7s\n",
      "[CV 1/5] END colsample_bytree=0.5, gamma=0.25, learning_rate=0.1, max_depth=3, reg_lambda=10, scale_pos_weight=5, subsample=0.8;, score=0.815 total time=   0.7s\n",
      "[CV 2/5] END colsample_bytree=0.5, gamma=0.25, learning_rate=0.1, max_depth=3, reg_lambda=10, scale_pos_weight=5, subsample=0.8;, score=0.812 total time=   0.7s\n",
      "[CV 3/5] END colsample_bytree=0.5, gamma=0.25, learning_rate=0.1, max_depth=3, reg_lambda=10, scale_pos_weight=5, subsample=0.8;, score=0.807 total time=   2.4s\n",
      "[CV 4/5] END colsample_bytree=0.5, gamma=0.25, learning_rate=0.1, max_depth=3, reg_lambda=10, scale_pos_weight=5, subsample=0.8;, score=0.814 total time=   0.7s\n",
      "[CV 5/5] END colsample_bytree=0.5, gamma=0.25, learning_rate=0.1, max_depth=3, reg_lambda=10, scale_pos_weight=5, subsample=0.8;, score=0.808 total time=   0.7s\n",
      "[CV 1/5] END colsample_bytree=0.5, gamma=0.25, learning_rate=0.1, max_depth=4, reg_lambda=0, scale_pos_weight=1, subsample=0.8;, score=0.867 total time=   0.8s\n",
      "[CV 2/5] END colsample_bytree=0.5, gamma=0.25, learning_rate=0.1, max_depth=4, reg_lambda=0, scale_pos_weight=1, subsample=0.8;, score=0.865 total time=   0.8s\n",
      "[CV 3/5] END colsample_bytree=0.5, gamma=0.25, learning_rate=0.1, max_depth=4, reg_lambda=0, scale_pos_weight=1, subsample=0.8;, score=0.862 total time=   0.8s\n",
      "[CV 4/5] END colsample_bytree=0.5, gamma=0.25, learning_rate=0.1, max_depth=4, reg_lambda=0, scale_pos_weight=1, subsample=0.8;, score=0.865 total time=   0.8s\n",
      "[CV 5/5] END colsample_bytree=0.5, gamma=0.25, learning_rate=0.1, max_depth=4, reg_lambda=0, scale_pos_weight=1, subsample=0.8;, score=0.862 total time=   0.8s\n",
      "[CV 1/5] END colsample_bytree=0.5, gamma=0.25, learning_rate=0.1, max_depth=4, reg_lambda=0, scale_pos_weight=3, subsample=0.8;, score=0.835 total time=   0.8s\n",
      "[CV 2/5] END colsample_bytree=0.5, gamma=0.25, learning_rate=0.1, max_depth=4, reg_lambda=0, scale_pos_weight=3, subsample=0.8;, score=0.833 total time=   0.8s\n",
      "[CV 3/5] END colsample_bytree=0.5, gamma=0.25, learning_rate=0.1, max_depth=4, reg_lambda=0, scale_pos_weight=3, subsample=0.8;, score=0.829 total time=   0.8s\n",
      "[CV 4/5] END colsample_bytree=0.5, gamma=0.25, learning_rate=0.1, max_depth=4, reg_lambda=0, scale_pos_weight=3, subsample=0.8;, score=0.835 total time=   0.8s\n",
      "[CV 5/5] END colsample_bytree=0.5, gamma=0.25, learning_rate=0.1, max_depth=4, reg_lambda=0, scale_pos_weight=3, subsample=0.8;, score=0.831 total time=   0.8s\n",
      "[CV 1/5] END colsample_bytree=0.5, gamma=0.25, learning_rate=0.1, max_depth=4, reg_lambda=0, scale_pos_weight=5, subsample=0.8;, score=0.816 total time=   0.8s\n",
      "[CV 2/5] END colsample_bytree=0.5, gamma=0.25, learning_rate=0.1, max_depth=4, reg_lambda=0, scale_pos_weight=5, subsample=0.8;, score=0.812 total time=   0.8s\n",
      "[CV 3/5] END colsample_bytree=0.5, gamma=0.25, learning_rate=0.1, max_depth=4, reg_lambda=0, scale_pos_weight=5, subsample=0.8;, score=0.809 total time=   0.8s\n",
      "[CV 4/5] END colsample_bytree=0.5, gamma=0.25, learning_rate=0.1, max_depth=4, reg_lambda=0, scale_pos_weight=5, subsample=0.8;, score=0.815 total time=   0.8s\n",
      "[CV 5/5] END colsample_bytree=0.5, gamma=0.25, learning_rate=0.1, max_depth=4, reg_lambda=0, scale_pos_weight=5, subsample=0.8;, score=0.809 total time=   0.8s\n",
      "[CV 1/5] END colsample_bytree=0.5, gamma=0.25, learning_rate=0.1, max_depth=4, reg_lambda=1, scale_pos_weight=1, subsample=0.8;, score=0.867 total time=   0.9s\n",
      "[CV 2/5] END colsample_bytree=0.5, gamma=0.25, learning_rate=0.1, max_depth=4, reg_lambda=1, scale_pos_weight=1, subsample=0.8;, score=0.866 total time=   0.8s\n",
      "[CV 3/5] END colsample_bytree=0.5, gamma=0.25, learning_rate=0.1, max_depth=4, reg_lambda=1, scale_pos_weight=1, subsample=0.8;, score=0.862 total time=   0.8s\n",
      "[CV 4/5] END colsample_bytree=0.5, gamma=0.25, learning_rate=0.1, max_depth=4, reg_lambda=1, scale_pos_weight=1, subsample=0.8;, score=0.865 total time=   0.8s\n",
      "[CV 5/5] END colsample_bytree=0.5, gamma=0.25, learning_rate=0.1, max_depth=4, reg_lambda=1, scale_pos_weight=1, subsample=0.8;, score=0.862 total time=   0.8s\n",
      "[CV 1/5] END colsample_bytree=0.5, gamma=0.25, learning_rate=0.1, max_depth=4, reg_lambda=1, scale_pos_weight=3, subsample=0.8;, score=0.835 total time=   0.8s\n",
      "[CV 2/5] END colsample_bytree=0.5, gamma=0.25, learning_rate=0.1, max_depth=4, reg_lambda=1, scale_pos_weight=3, subsample=0.8;, score=0.833 total time=   0.8s\n",
      "[CV 3/5] END colsample_bytree=0.5, gamma=0.25, learning_rate=0.1, max_depth=4, reg_lambda=1, scale_pos_weight=3, subsample=0.8;, score=0.829 total time=   0.8s\n",
      "[CV 4/5] END colsample_bytree=0.5, gamma=0.25, learning_rate=0.1, max_depth=4, reg_lambda=1, scale_pos_weight=3, subsample=0.8;, score=0.835 total time=   0.8s\n",
      "[CV 5/5] END colsample_bytree=0.5, gamma=0.25, learning_rate=0.1, max_depth=4, reg_lambda=1, scale_pos_weight=3, subsample=0.8;, score=0.831 total time=   0.8s\n",
      "[CV 1/5] END colsample_bytree=0.5, gamma=0.25, learning_rate=0.1, max_depth=4, reg_lambda=1, scale_pos_weight=5, subsample=0.8;, score=0.816 total time=   0.8s\n",
      "[CV 2/5] END colsample_bytree=0.5, gamma=0.25, learning_rate=0.1, max_depth=4, reg_lambda=1, scale_pos_weight=5, subsample=0.8;, score=0.812 total time=   0.9s\n",
      "[CV 3/5] END colsample_bytree=0.5, gamma=0.25, learning_rate=0.1, max_depth=4, reg_lambda=1, scale_pos_weight=5, subsample=0.8;, score=0.809 total time=   0.8s\n",
      "[CV 4/5] END colsample_bytree=0.5, gamma=0.25, learning_rate=0.1, max_depth=4, reg_lambda=1, scale_pos_weight=5, subsample=0.8;, score=0.815 total time=   0.8s\n",
      "[CV 5/5] END colsample_bytree=0.5, gamma=0.25, learning_rate=0.1, max_depth=4, reg_lambda=1, scale_pos_weight=5, subsample=0.8;, score=0.809 total time=   0.8s\n",
      "[CV 1/5] END colsample_bytree=0.5, gamma=0.25, learning_rate=0.1, max_depth=4, reg_lambda=10, scale_pos_weight=1, subsample=0.8;, score=0.867 total time=   0.8s\n",
      "[CV 2/5] END colsample_bytree=0.5, gamma=0.25, learning_rate=0.1, max_depth=4, reg_lambda=10, scale_pos_weight=1, subsample=0.8;, score=0.865 total time=   0.8s\n",
      "[CV 3/5] END colsample_bytree=0.5, gamma=0.25, learning_rate=0.1, max_depth=4, reg_lambda=10, scale_pos_weight=1, subsample=0.8;, score=0.862 total time=   0.8s\n",
      "[CV 4/5] END colsample_bytree=0.5, gamma=0.25, learning_rate=0.1, max_depth=4, reg_lambda=10, scale_pos_weight=1, subsample=0.8;, score=0.864 total time=   0.8s\n",
      "[CV 5/5] END colsample_bytree=0.5, gamma=0.25, learning_rate=0.1, max_depth=4, reg_lambda=10, scale_pos_weight=1, subsample=0.8;, score=0.862 total time=   0.8s\n",
      "[CV 1/5] END colsample_bytree=0.5, gamma=0.25, learning_rate=0.1, max_depth=4, reg_lambda=10, scale_pos_weight=3, subsample=0.8;, score=0.835 total time=   0.8s\n",
      "[CV 2/5] END colsample_bytree=0.5, gamma=0.25, learning_rate=0.1, max_depth=4, reg_lambda=10, scale_pos_weight=3, subsample=0.8;, score=0.833 total time=   0.8s\n",
      "[CV 3/5] END colsample_bytree=0.5, gamma=0.25, learning_rate=0.1, max_depth=4, reg_lambda=10, scale_pos_weight=3, subsample=0.8;, score=0.829 total time=   0.8s\n",
      "[CV 4/5] END colsample_bytree=0.5, gamma=0.25, learning_rate=0.1, max_depth=4, reg_lambda=10, scale_pos_weight=3, subsample=0.8;, score=0.835 total time=   0.8s\n",
      "[CV 5/5] END colsample_bytree=0.5, gamma=0.25, learning_rate=0.1, max_depth=4, reg_lambda=10, scale_pos_weight=3, subsample=0.8;, score=0.830 total time=   0.8s\n",
      "[CV 1/5] END colsample_bytree=0.5, gamma=0.25, learning_rate=0.1, max_depth=4, reg_lambda=10, scale_pos_weight=5, subsample=0.8;, score=0.816 total time=   0.8s\n"
     ]
    },
    {
     "name": "stdout",
     "output_type": "stream",
     "text": [
      "[CV 2/5] END colsample_bytree=0.5, gamma=0.25, learning_rate=0.1, max_depth=4, reg_lambda=10, scale_pos_weight=5, subsample=0.8;, score=0.811 total time=   0.8s\n",
      "[CV 3/5] END colsample_bytree=0.5, gamma=0.25, learning_rate=0.1, max_depth=4, reg_lambda=10, scale_pos_weight=5, subsample=0.8;, score=0.809 total time=   0.8s\n",
      "[CV 4/5] END colsample_bytree=0.5, gamma=0.25, learning_rate=0.1, max_depth=4, reg_lambda=10, scale_pos_weight=5, subsample=0.8;, score=0.815 total time=   0.9s\n",
      "[CV 5/5] END colsample_bytree=0.5, gamma=0.25, learning_rate=0.1, max_depth=4, reg_lambda=10, scale_pos_weight=5, subsample=0.8;, score=0.809 total time=   0.8s\n",
      "[CV 1/5] END colsample_bytree=0.5, gamma=0.25, learning_rate=0.1, max_depth=5, reg_lambda=0, scale_pos_weight=1, subsample=0.8;, score=0.867 total time=   0.9s\n",
      "[CV 2/5] END colsample_bytree=0.5, gamma=0.25, learning_rate=0.1, max_depth=5, reg_lambda=0, scale_pos_weight=1, subsample=0.8;, score=0.866 total time=   0.9s\n",
      "[CV 3/5] END colsample_bytree=0.5, gamma=0.25, learning_rate=0.1, max_depth=5, reg_lambda=0, scale_pos_weight=1, subsample=0.8;, score=0.863 total time=   0.9s\n",
      "[CV 4/5] END colsample_bytree=0.5, gamma=0.25, learning_rate=0.1, max_depth=5, reg_lambda=0, scale_pos_weight=1, subsample=0.8;, score=0.864 total time=   1.0s\n",
      "[CV 5/5] END colsample_bytree=0.5, gamma=0.25, learning_rate=0.1, max_depth=5, reg_lambda=0, scale_pos_weight=1, subsample=0.8;, score=0.862 total time=   1.1s\n",
      "[CV 1/5] END colsample_bytree=0.5, gamma=0.25, learning_rate=0.1, max_depth=5, reg_lambda=0, scale_pos_weight=3, subsample=0.8;, score=0.834 total time=   0.9s\n",
      "[CV 2/5] END colsample_bytree=0.5, gamma=0.25, learning_rate=0.1, max_depth=5, reg_lambda=0, scale_pos_weight=3, subsample=0.8;, score=0.833 total time=   0.9s\n",
      "[CV 3/5] END colsample_bytree=0.5, gamma=0.25, learning_rate=0.1, max_depth=5, reg_lambda=0, scale_pos_weight=3, subsample=0.8;, score=0.828 total time=   0.9s\n",
      "[CV 4/5] END colsample_bytree=0.5, gamma=0.25, learning_rate=0.1, max_depth=5, reg_lambda=0, scale_pos_weight=3, subsample=0.8;, score=0.834 total time=   1.0s\n",
      "[CV 5/5] END colsample_bytree=0.5, gamma=0.25, learning_rate=0.1, max_depth=5, reg_lambda=0, scale_pos_weight=3, subsample=0.8;, score=0.831 total time=   0.9s\n",
      "[CV 1/5] END colsample_bytree=0.5, gamma=0.25, learning_rate=0.1, max_depth=5, reg_lambda=0, scale_pos_weight=5, subsample=0.8;, score=0.817 total time=   0.9s\n",
      "[CV 2/5] END colsample_bytree=0.5, gamma=0.25, learning_rate=0.1, max_depth=5, reg_lambda=0, scale_pos_weight=5, subsample=0.8;, score=0.813 total time=   0.9s\n",
      "[CV 3/5] END colsample_bytree=0.5, gamma=0.25, learning_rate=0.1, max_depth=5, reg_lambda=0, scale_pos_weight=5, subsample=0.8;, score=0.809 total time=   1.0s\n",
      "[CV 4/5] END colsample_bytree=0.5, gamma=0.25, learning_rate=0.1, max_depth=5, reg_lambda=0, scale_pos_weight=5, subsample=0.8;, score=0.816 total time=   0.9s\n",
      "[CV 5/5] END colsample_bytree=0.5, gamma=0.25, learning_rate=0.1, max_depth=5, reg_lambda=0, scale_pos_weight=5, subsample=0.8;, score=0.810 total time=   0.9s\n",
      "[CV 1/5] END colsample_bytree=0.5, gamma=0.25, learning_rate=0.1, max_depth=5, reg_lambda=1, scale_pos_weight=1, subsample=0.8;, score=0.867 total time=   0.9s\n",
      "[CV 2/5] END colsample_bytree=0.5, gamma=0.25, learning_rate=0.1, max_depth=5, reg_lambda=1, scale_pos_weight=1, subsample=0.8;, score=0.866 total time=   0.9s\n",
      "[CV 3/5] END colsample_bytree=0.5, gamma=0.25, learning_rate=0.1, max_depth=5, reg_lambda=1, scale_pos_weight=1, subsample=0.8;, score=0.863 total time=   1.0s\n",
      "[CV 4/5] END colsample_bytree=0.5, gamma=0.25, learning_rate=0.1, max_depth=5, reg_lambda=1, scale_pos_weight=1, subsample=0.8;, score=0.864 total time=   0.9s\n",
      "[CV 5/5] END colsample_bytree=0.5, gamma=0.25, learning_rate=0.1, max_depth=5, reg_lambda=1, scale_pos_weight=1, subsample=0.8;, score=0.862 total time=   0.9s\n",
      "[CV 1/5] END colsample_bytree=0.5, gamma=0.25, learning_rate=0.1, max_depth=5, reg_lambda=1, scale_pos_weight=3, subsample=0.8;, score=0.835 total time=   0.9s\n",
      "[CV 2/5] END colsample_bytree=0.5, gamma=0.25, learning_rate=0.1, max_depth=5, reg_lambda=1, scale_pos_weight=3, subsample=0.8;, score=0.834 total time=   0.9s\n",
      "[CV 3/5] END colsample_bytree=0.5, gamma=0.25, learning_rate=0.1, max_depth=5, reg_lambda=1, scale_pos_weight=3, subsample=0.8;, score=0.828 total time=   0.9s\n",
      "[CV 4/5] END colsample_bytree=0.5, gamma=0.25, learning_rate=0.1, max_depth=5, reg_lambda=1, scale_pos_weight=3, subsample=0.8;, score=0.834 total time=   0.9s\n",
      "[CV 5/5] END colsample_bytree=0.5, gamma=0.25, learning_rate=0.1, max_depth=5, reg_lambda=1, scale_pos_weight=3, subsample=0.8;, score=0.831 total time=   0.9s\n",
      "[CV 1/5] END colsample_bytree=0.5, gamma=0.25, learning_rate=0.1, max_depth=5, reg_lambda=1, scale_pos_weight=5, subsample=0.8;, score=0.817 total time=   0.9s\n",
      "[CV 2/5] END colsample_bytree=0.5, gamma=0.25, learning_rate=0.1, max_depth=5, reg_lambda=1, scale_pos_weight=5, subsample=0.8;, score=0.813 total time=   0.9s\n",
      "[CV 3/5] END colsample_bytree=0.5, gamma=0.25, learning_rate=0.1, max_depth=5, reg_lambda=1, scale_pos_weight=5, subsample=0.8;, score=0.810 total time=   0.9s\n",
      "[CV 4/5] END colsample_bytree=0.5, gamma=0.25, learning_rate=0.1, max_depth=5, reg_lambda=1, scale_pos_weight=5, subsample=0.8;, score=0.816 total time=   0.9s\n",
      "[CV 5/5] END colsample_bytree=0.5, gamma=0.25, learning_rate=0.1, max_depth=5, reg_lambda=1, scale_pos_weight=5, subsample=0.8;, score=0.809 total time=   0.9s\n",
      "[CV 1/5] END colsample_bytree=0.5, gamma=0.25, learning_rate=0.1, max_depth=5, reg_lambda=10, scale_pos_weight=1, subsample=0.8;, score=0.867 total time=   0.9s\n",
      "[CV 2/5] END colsample_bytree=0.5, gamma=0.25, learning_rate=0.1, max_depth=5, reg_lambda=10, scale_pos_weight=1, subsample=0.8;, score=0.866 total time=   0.9s\n",
      "[CV 3/5] END colsample_bytree=0.5, gamma=0.25, learning_rate=0.1, max_depth=5, reg_lambda=10, scale_pos_weight=1, subsample=0.8;, score=0.862 total time=   1.0s\n",
      "[CV 4/5] END colsample_bytree=0.5, gamma=0.25, learning_rate=0.1, max_depth=5, reg_lambda=10, scale_pos_weight=1, subsample=0.8;, score=0.864 total time=   0.9s\n",
      "[CV 5/5] END colsample_bytree=0.5, gamma=0.25, learning_rate=0.1, max_depth=5, reg_lambda=10, scale_pos_weight=1, subsample=0.8;, score=0.862 total time=   0.9s\n",
      "[CV 1/5] END colsample_bytree=0.5, gamma=0.25, learning_rate=0.1, max_depth=5, reg_lambda=10, scale_pos_weight=3, subsample=0.8;, score=0.834 total time=   0.9s\n",
      "[CV 2/5] END colsample_bytree=0.5, gamma=0.25, learning_rate=0.1, max_depth=5, reg_lambda=10, scale_pos_weight=3, subsample=0.8;, score=0.833 total time=   0.9s\n",
      "[CV 3/5] END colsample_bytree=0.5, gamma=0.25, learning_rate=0.1, max_depth=5, reg_lambda=10, scale_pos_weight=3, subsample=0.8;, score=0.828 total time=   1.0s\n",
      "[CV 4/5] END colsample_bytree=0.5, gamma=0.25, learning_rate=0.1, max_depth=5, reg_lambda=10, scale_pos_weight=3, subsample=0.8;, score=0.834 total time=   0.9s\n",
      "[CV 5/5] END colsample_bytree=0.5, gamma=0.25, learning_rate=0.1, max_depth=5, reg_lambda=10, scale_pos_weight=3, subsample=0.8;, score=0.831 total time=   0.9s\n",
      "[CV 1/5] END colsample_bytree=0.5, gamma=0.25, learning_rate=0.1, max_depth=5, reg_lambda=10, scale_pos_weight=5, subsample=0.8;, score=0.816 total time=   1.0s\n",
      "[CV 2/5] END colsample_bytree=0.5, gamma=0.25, learning_rate=0.1, max_depth=5, reg_lambda=10, scale_pos_weight=5, subsample=0.8;, score=0.813 total time=   1.0s\n",
      "[CV 3/5] END colsample_bytree=0.5, gamma=0.25, learning_rate=0.1, max_depth=5, reg_lambda=10, scale_pos_weight=5, subsample=0.8;, score=0.809 total time=   1.0s\n",
      "[CV 4/5] END colsample_bytree=0.5, gamma=0.25, learning_rate=0.1, max_depth=5, reg_lambda=10, scale_pos_weight=5, subsample=0.8;, score=0.815 total time=   0.9s\n",
      "[CV 5/5] END colsample_bytree=0.5, gamma=0.25, learning_rate=0.1, max_depth=5, reg_lambda=10, scale_pos_weight=5, subsample=0.8;, score=0.809 total time=   0.9s\n",
      "[CV 1/5] END colsample_bytree=0.5, gamma=0.25, learning_rate=0.1, max_depth=7, reg_lambda=0, scale_pos_weight=1, subsample=0.8;, score=0.867 total time=   1.2s\n",
      "[CV 2/5] END colsample_bytree=0.5, gamma=0.25, learning_rate=0.1, max_depth=7, reg_lambda=0, scale_pos_weight=1, subsample=0.8;, score=0.865 total time=   1.2s\n",
      "[CV 3/5] END colsample_bytree=0.5, gamma=0.25, learning_rate=0.1, max_depth=7, reg_lambda=0, scale_pos_weight=1, subsample=0.8;, score=0.862 total time=   1.2s\n"
     ]
    },
    {
     "name": "stdout",
     "output_type": "stream",
     "text": [
      "[CV 4/5] END colsample_bytree=0.5, gamma=0.25, learning_rate=0.1, max_depth=7, reg_lambda=0, scale_pos_weight=1, subsample=0.8;, score=0.864 total time=   1.2s\n",
      "[CV 5/5] END colsample_bytree=0.5, gamma=0.25, learning_rate=0.1, max_depth=7, reg_lambda=0, scale_pos_weight=1, subsample=0.8;, score=0.863 total time=   1.2s\n",
      "[CV 1/5] END colsample_bytree=0.5, gamma=0.25, learning_rate=0.1, max_depth=7, reg_lambda=0, scale_pos_weight=3, subsample=0.8;, score=0.835 total time=   1.2s\n",
      "[CV 2/5] END colsample_bytree=0.5, gamma=0.25, learning_rate=0.1, max_depth=7, reg_lambda=0, scale_pos_weight=3, subsample=0.8;, score=0.833 total time=   1.2s\n",
      "[CV 3/5] END colsample_bytree=0.5, gamma=0.25, learning_rate=0.1, max_depth=7, reg_lambda=0, scale_pos_weight=3, subsample=0.8;, score=0.828 total time=   1.2s\n",
      "[CV 4/5] END colsample_bytree=0.5, gamma=0.25, learning_rate=0.1, max_depth=7, reg_lambda=0, scale_pos_weight=3, subsample=0.8;, score=0.834 total time=   1.2s\n",
      "[CV 5/5] END colsample_bytree=0.5, gamma=0.25, learning_rate=0.1, max_depth=7, reg_lambda=0, scale_pos_weight=3, subsample=0.8;, score=0.831 total time=   1.2s\n",
      "[CV 1/5] END colsample_bytree=0.5, gamma=0.25, learning_rate=0.1, max_depth=7, reg_lambda=0, scale_pos_weight=5, subsample=0.8;, score=0.817 total time=   1.2s\n",
      "[CV 2/5] END colsample_bytree=0.5, gamma=0.25, learning_rate=0.1, max_depth=7, reg_lambda=0, scale_pos_weight=5, subsample=0.8;, score=0.814 total time=   1.2s\n",
      "[CV 3/5] END colsample_bytree=0.5, gamma=0.25, learning_rate=0.1, max_depth=7, reg_lambda=0, scale_pos_weight=5, subsample=0.8;, score=0.810 total time=   1.2s\n",
      "[CV 4/5] END colsample_bytree=0.5, gamma=0.25, learning_rate=0.1, max_depth=7, reg_lambda=0, scale_pos_weight=5, subsample=0.8;, score=0.817 total time=   1.2s\n",
      "[CV 5/5] END colsample_bytree=0.5, gamma=0.25, learning_rate=0.1, max_depth=7, reg_lambda=0, scale_pos_weight=5, subsample=0.8;, score=0.811 total time=   1.2s\n",
      "[CV 1/5] END colsample_bytree=0.5, gamma=0.25, learning_rate=0.1, max_depth=7, reg_lambda=1, scale_pos_weight=1, subsample=0.8;, score=0.867 total time=   1.2s\n",
      "[CV 2/5] END colsample_bytree=0.5, gamma=0.25, learning_rate=0.1, max_depth=7, reg_lambda=1, scale_pos_weight=1, subsample=0.8;, score=0.865 total time=   1.2s\n",
      "[CV 3/5] END colsample_bytree=0.5, gamma=0.25, learning_rate=0.1, max_depth=7, reg_lambda=1, scale_pos_weight=1, subsample=0.8;, score=0.862 total time=   1.2s\n",
      "[CV 4/5] END colsample_bytree=0.5, gamma=0.25, learning_rate=0.1, max_depth=7, reg_lambda=1, scale_pos_weight=1, subsample=0.8;, score=0.864 total time=   1.2s\n",
      "[CV 5/5] END colsample_bytree=0.5, gamma=0.25, learning_rate=0.1, max_depth=7, reg_lambda=1, scale_pos_weight=1, subsample=0.8;, score=0.863 total time=   1.2s\n",
      "[CV 1/5] END colsample_bytree=0.5, gamma=0.25, learning_rate=0.1, max_depth=7, reg_lambda=1, scale_pos_weight=3, subsample=0.8;, score=0.835 total time=   1.2s\n",
      "[CV 2/5] END colsample_bytree=0.5, gamma=0.25, learning_rate=0.1, max_depth=7, reg_lambda=1, scale_pos_weight=3, subsample=0.8;, score=0.834 total time=   1.2s\n",
      "[CV 3/5] END colsample_bytree=0.5, gamma=0.25, learning_rate=0.1, max_depth=7, reg_lambda=1, scale_pos_weight=3, subsample=0.8;, score=0.828 total time=   1.2s\n",
      "[CV 4/5] END colsample_bytree=0.5, gamma=0.25, learning_rate=0.1, max_depth=7, reg_lambda=1, scale_pos_weight=3, subsample=0.8;, score=0.834 total time=   1.2s\n",
      "[CV 5/5] END colsample_bytree=0.5, gamma=0.25, learning_rate=0.1, max_depth=7, reg_lambda=1, scale_pos_weight=3, subsample=0.8;, score=0.831 total time=   1.2s\n",
      "[CV 1/5] END colsample_bytree=0.5, gamma=0.25, learning_rate=0.1, max_depth=7, reg_lambda=1, scale_pos_weight=5, subsample=0.8;, score=0.817 total time=   1.2s\n",
      "[CV 2/5] END colsample_bytree=0.5, gamma=0.25, learning_rate=0.1, max_depth=7, reg_lambda=1, scale_pos_weight=5, subsample=0.8;, score=0.814 total time=   1.2s\n",
      "[CV 3/5] END colsample_bytree=0.5, gamma=0.25, learning_rate=0.1, max_depth=7, reg_lambda=1, scale_pos_weight=5, subsample=0.8;, score=0.811 total time=   1.2s\n",
      "[CV 4/5] END colsample_bytree=0.5, gamma=0.25, learning_rate=0.1, max_depth=7, reg_lambda=1, scale_pos_weight=5, subsample=0.8;, score=0.817 total time=   1.2s\n",
      "[CV 5/5] END colsample_bytree=0.5, gamma=0.25, learning_rate=0.1, max_depth=7, reg_lambda=1, scale_pos_weight=5, subsample=0.8;, score=0.810 total time=   1.2s\n",
      "[CV 1/5] END colsample_bytree=0.5, gamma=0.25, learning_rate=0.1, max_depth=7, reg_lambda=10, scale_pos_weight=1, subsample=0.8;, score=0.867 total time=   1.2s\n",
      "[CV 2/5] END colsample_bytree=0.5, gamma=0.25, learning_rate=0.1, max_depth=7, reg_lambda=10, scale_pos_weight=1, subsample=0.8;, score=0.866 total time=   1.2s\n",
      "[CV 3/5] END colsample_bytree=0.5, gamma=0.25, learning_rate=0.1, max_depth=7, reg_lambda=10, scale_pos_weight=1, subsample=0.8;, score=0.862 total time=   1.3s\n",
      "[CV 4/5] END colsample_bytree=0.5, gamma=0.25, learning_rate=0.1, max_depth=7, reg_lambda=10, scale_pos_weight=1, subsample=0.8;, score=0.865 total time=   1.3s\n",
      "[CV 5/5] END colsample_bytree=0.5, gamma=0.25, learning_rate=0.1, max_depth=7, reg_lambda=10, scale_pos_weight=1, subsample=0.8;, score=0.862 total time=   1.2s\n",
      "[CV 1/5] END colsample_bytree=0.5, gamma=0.25, learning_rate=0.1, max_depth=7, reg_lambda=10, scale_pos_weight=3, subsample=0.8;, score=0.834 total time=   1.2s\n",
      "[CV 2/5] END colsample_bytree=0.5, gamma=0.25, learning_rate=0.1, max_depth=7, reg_lambda=10, scale_pos_weight=3, subsample=0.8;, score=0.834 total time=   1.2s\n",
      "[CV 3/5] END colsample_bytree=0.5, gamma=0.25, learning_rate=0.1, max_depth=7, reg_lambda=10, scale_pos_weight=3, subsample=0.8;, score=0.828 total time=   1.2s\n",
      "[CV 4/5] END colsample_bytree=0.5, gamma=0.25, learning_rate=0.1, max_depth=7, reg_lambda=10, scale_pos_weight=3, subsample=0.8;, score=0.834 total time=   1.2s\n",
      "[CV 5/5] END colsample_bytree=0.5, gamma=0.25, learning_rate=0.1, max_depth=7, reg_lambda=10, scale_pos_weight=3, subsample=0.8;, score=0.831 total time=   1.2s\n",
      "[CV 1/5] END colsample_bytree=0.5, gamma=0.25, learning_rate=0.1, max_depth=7, reg_lambda=10, scale_pos_weight=5, subsample=0.8;, score=0.816 total time=   1.2s\n",
      "[CV 2/5] END colsample_bytree=0.5, gamma=0.25, learning_rate=0.1, max_depth=7, reg_lambda=10, scale_pos_weight=5, subsample=0.8;, score=0.814 total time=   1.3s\n",
      "[CV 3/5] END colsample_bytree=0.5, gamma=0.25, learning_rate=0.1, max_depth=7, reg_lambda=10, scale_pos_weight=5, subsample=0.8;, score=0.810 total time=   1.2s\n",
      "[CV 4/5] END colsample_bytree=0.5, gamma=0.25, learning_rate=0.1, max_depth=7, reg_lambda=10, scale_pos_weight=5, subsample=0.8;, score=0.816 total time=   1.2s\n",
      "[CV 5/5] END colsample_bytree=0.5, gamma=0.25, learning_rate=0.1, max_depth=7, reg_lambda=10, scale_pos_weight=5, subsample=0.8;, score=0.808 total time=   1.2s\n",
      "[CV 1/5] END colsample_bytree=0.5, gamma=0.25, learning_rate=0.01, max_depth=3, reg_lambda=0, scale_pos_weight=1, subsample=0.8;, score=0.856 total time=   0.7s\n",
      "[CV 2/5] END colsample_bytree=0.5, gamma=0.25, learning_rate=0.01, max_depth=3, reg_lambda=0, scale_pos_weight=1, subsample=0.8;, score=0.856 total time=   0.7s\n",
      "[CV 3/5] END colsample_bytree=0.5, gamma=0.25, learning_rate=0.01, max_depth=3, reg_lambda=0, scale_pos_weight=1, subsample=0.8;, score=0.833 total time=   0.7s\n",
      "[CV 4/5] END colsample_bytree=0.5, gamma=0.25, learning_rate=0.01, max_depth=3, reg_lambda=0, scale_pos_weight=1, subsample=0.8;, score=0.837 total time=   0.7s\n",
      "[CV 5/5] END colsample_bytree=0.5, gamma=0.25, learning_rate=0.01, max_depth=3, reg_lambda=0, scale_pos_weight=1, subsample=0.8;, score=0.835 total time=   0.7s\n",
      "[CV 1/5] END colsample_bytree=0.5, gamma=0.25, learning_rate=0.01, max_depth=3, reg_lambda=0, scale_pos_weight=3, subsample=0.8;, score=0.810 total time=   0.7s\n",
      "[CV 2/5] END colsample_bytree=0.5, gamma=0.25, learning_rate=0.01, max_depth=3, reg_lambda=0, scale_pos_weight=3, subsample=0.8;, score=0.810 total time=   0.7s\n",
      "[CV 3/5] END colsample_bytree=0.5, gamma=0.25, learning_rate=0.01, max_depth=3, reg_lambda=0, scale_pos_weight=3, subsample=0.8;, score=0.803 total time=   0.7s\n",
      "[CV 4/5] END colsample_bytree=0.5, gamma=0.25, learning_rate=0.01, max_depth=3, reg_lambda=0, scale_pos_weight=3, subsample=0.8;, score=0.809 total time=   0.7s\n",
      "[CV 5/5] END colsample_bytree=0.5, gamma=0.25, learning_rate=0.01, max_depth=3, reg_lambda=0, scale_pos_weight=3, subsample=0.8;, score=0.803 total time=   0.7s\n"
     ]
    },
    {
     "name": "stdout",
     "output_type": "stream",
     "text": [
      "[CV 1/5] END colsample_bytree=0.5, gamma=0.25, learning_rate=0.01, max_depth=3, reg_lambda=0, scale_pos_weight=5, subsample=0.8;, score=0.597 total time=   0.7s\n",
      "[CV 2/5] END colsample_bytree=0.5, gamma=0.25, learning_rate=0.01, max_depth=3, reg_lambda=0, scale_pos_weight=5, subsample=0.8;, score=0.595 total time=   0.7s\n",
      "[CV 3/5] END colsample_bytree=0.5, gamma=0.25, learning_rate=0.01, max_depth=3, reg_lambda=0, scale_pos_weight=5, subsample=0.8;, score=0.593 total time=   0.7s\n",
      "[CV 4/5] END colsample_bytree=0.5, gamma=0.25, learning_rate=0.01, max_depth=3, reg_lambda=0, scale_pos_weight=5, subsample=0.8;, score=0.591 total time=   0.7s\n",
      "[CV 5/5] END colsample_bytree=0.5, gamma=0.25, learning_rate=0.01, max_depth=3, reg_lambda=0, scale_pos_weight=5, subsample=0.8;, score=0.594 total time=   0.7s\n",
      "[CV 1/5] END colsample_bytree=0.5, gamma=0.25, learning_rate=0.01, max_depth=3, reg_lambda=1, scale_pos_weight=1, subsample=0.8;, score=0.856 total time=   0.7s\n",
      "[CV 2/5] END colsample_bytree=0.5, gamma=0.25, learning_rate=0.01, max_depth=3, reg_lambda=1, scale_pos_weight=1, subsample=0.8;, score=0.856 total time=   0.7s\n",
      "[CV 3/5] END colsample_bytree=0.5, gamma=0.25, learning_rate=0.01, max_depth=3, reg_lambda=1, scale_pos_weight=1, subsample=0.8;, score=0.832 total time=   0.7s\n",
      "[CV 4/5] END colsample_bytree=0.5, gamma=0.25, learning_rate=0.01, max_depth=3, reg_lambda=1, scale_pos_weight=1, subsample=0.8;, score=0.837 total time=   0.7s\n",
      "[CV 5/5] END colsample_bytree=0.5, gamma=0.25, learning_rate=0.01, max_depth=3, reg_lambda=1, scale_pos_weight=1, subsample=0.8;, score=0.835 total time=   0.7s\n",
      "[CV 1/5] END colsample_bytree=0.5, gamma=0.25, learning_rate=0.01, max_depth=3, reg_lambda=1, scale_pos_weight=3, subsample=0.8;, score=0.810 total time=   0.7s\n",
      "[CV 2/5] END colsample_bytree=0.5, gamma=0.25, learning_rate=0.01, max_depth=3, reg_lambda=1, scale_pos_weight=3, subsample=0.8;, score=0.810 total time=   0.7s\n",
      "[CV 3/5] END colsample_bytree=0.5, gamma=0.25, learning_rate=0.01, max_depth=3, reg_lambda=1, scale_pos_weight=3, subsample=0.8;, score=0.803 total time=   0.7s\n",
      "[CV 4/5] END colsample_bytree=0.5, gamma=0.25, learning_rate=0.01, max_depth=3, reg_lambda=1, scale_pos_weight=3, subsample=0.8;, score=0.809 total time=   0.7s\n",
      "[CV 5/5] END colsample_bytree=0.5, gamma=0.25, learning_rate=0.01, max_depth=3, reg_lambda=1, scale_pos_weight=3, subsample=0.8;, score=0.803 total time=   0.7s\n",
      "[CV 1/5] END colsample_bytree=0.5, gamma=0.25, learning_rate=0.01, max_depth=3, reg_lambda=1, scale_pos_weight=5, subsample=0.8;, score=0.597 total time=   0.7s\n",
      "[CV 2/5] END colsample_bytree=0.5, gamma=0.25, learning_rate=0.01, max_depth=3, reg_lambda=1, scale_pos_weight=5, subsample=0.8;, score=0.595 total time=   0.7s\n",
      "[CV 3/5] END colsample_bytree=0.5, gamma=0.25, learning_rate=0.01, max_depth=3, reg_lambda=1, scale_pos_weight=5, subsample=0.8;, score=0.593 total time=   0.7s\n",
      "[CV 4/5] END colsample_bytree=0.5, gamma=0.25, learning_rate=0.01, max_depth=3, reg_lambda=1, scale_pos_weight=5, subsample=0.8;, score=0.591 total time=   0.7s\n",
      "[CV 5/5] END colsample_bytree=0.5, gamma=0.25, learning_rate=0.01, max_depth=3, reg_lambda=1, scale_pos_weight=5, subsample=0.8;, score=0.594 total time=   0.7s\n",
      "[CV 1/5] END colsample_bytree=0.5, gamma=0.25, learning_rate=0.01, max_depth=3, reg_lambda=10, scale_pos_weight=1, subsample=0.8;, score=0.856 total time=   0.7s\n",
      "[CV 2/5] END colsample_bytree=0.5, gamma=0.25, learning_rate=0.01, max_depth=3, reg_lambda=10, scale_pos_weight=1, subsample=0.8;, score=0.856 total time=   0.7s\n",
      "[CV 3/5] END colsample_bytree=0.5, gamma=0.25, learning_rate=0.01, max_depth=3, reg_lambda=10, scale_pos_weight=1, subsample=0.8;, score=0.832 total time=   0.7s\n",
      "[CV 4/5] END colsample_bytree=0.5, gamma=0.25, learning_rate=0.01, max_depth=3, reg_lambda=10, scale_pos_weight=1, subsample=0.8;, score=0.837 total time=   0.7s\n",
      "[CV 5/5] END colsample_bytree=0.5, gamma=0.25, learning_rate=0.01, max_depth=3, reg_lambda=10, scale_pos_weight=1, subsample=0.8;, score=0.835 total time=   0.7s\n",
      "[CV 1/5] END colsample_bytree=0.5, gamma=0.25, learning_rate=0.01, max_depth=3, reg_lambda=10, scale_pos_weight=3, subsample=0.8;, score=0.811 total time=   0.7s\n",
      "[CV 2/5] END colsample_bytree=0.5, gamma=0.25, learning_rate=0.01, max_depth=3, reg_lambda=10, scale_pos_weight=3, subsample=0.8;, score=0.810 total time=   0.7s\n",
      "[CV 3/5] END colsample_bytree=0.5, gamma=0.25, learning_rate=0.01, max_depth=3, reg_lambda=10, scale_pos_weight=3, subsample=0.8;, score=0.803 total time=   0.7s\n",
      "[CV 4/5] END colsample_bytree=0.5, gamma=0.25, learning_rate=0.01, max_depth=3, reg_lambda=10, scale_pos_weight=3, subsample=0.8;, score=0.809 total time=   0.7s\n",
      "[CV 5/5] END colsample_bytree=0.5, gamma=0.25, learning_rate=0.01, max_depth=3, reg_lambda=10, scale_pos_weight=3, subsample=0.8;, score=0.804 total time=   0.7s\n",
      "[CV 1/5] END colsample_bytree=0.5, gamma=0.25, learning_rate=0.01, max_depth=3, reg_lambda=10, scale_pos_weight=5, subsample=0.8;, score=0.597 total time=   0.7s\n",
      "[CV 2/5] END colsample_bytree=0.5, gamma=0.25, learning_rate=0.01, max_depth=3, reg_lambda=10, scale_pos_weight=5, subsample=0.8;, score=0.595 total time=   0.7s\n",
      "[CV 3/5] END colsample_bytree=0.5, gamma=0.25, learning_rate=0.01, max_depth=3, reg_lambda=10, scale_pos_weight=5, subsample=0.8;, score=0.593 total time=   0.7s\n",
      "[CV 4/5] END colsample_bytree=0.5, gamma=0.25, learning_rate=0.01, max_depth=3, reg_lambda=10, scale_pos_weight=5, subsample=0.8;, score=0.591 total time=   0.7s\n",
      "[CV 5/5] END colsample_bytree=0.5, gamma=0.25, learning_rate=0.01, max_depth=3, reg_lambda=10, scale_pos_weight=5, subsample=0.8;, score=0.594 total time=   0.7s\n",
      "[CV 1/5] END colsample_bytree=0.5, gamma=0.25, learning_rate=0.01, max_depth=4, reg_lambda=0, scale_pos_weight=1, subsample=0.8;, score=0.857 total time=   0.8s\n",
      "[CV 2/5] END colsample_bytree=0.5, gamma=0.25, learning_rate=0.01, max_depth=4, reg_lambda=0, scale_pos_weight=1, subsample=0.8;, score=0.856 total time=   0.8s\n",
      "[CV 3/5] END colsample_bytree=0.5, gamma=0.25, learning_rate=0.01, max_depth=4, reg_lambda=0, scale_pos_weight=1, subsample=0.8;, score=0.829 total time=   0.8s\n",
      "[CV 4/5] END colsample_bytree=0.5, gamma=0.25, learning_rate=0.01, max_depth=4, reg_lambda=0, scale_pos_weight=1, subsample=0.8;, score=0.839 total time=   0.8s\n",
      "[CV 5/5] END colsample_bytree=0.5, gamma=0.25, learning_rate=0.01, max_depth=4, reg_lambda=0, scale_pos_weight=1, subsample=0.8;, score=0.835 total time=   0.8s\n",
      "[CV 1/5] END colsample_bytree=0.5, gamma=0.25, learning_rate=0.01, max_depth=4, reg_lambda=0, scale_pos_weight=3, subsample=0.8;, score=0.813 total time=   0.8s\n",
      "[CV 2/5] END colsample_bytree=0.5, gamma=0.25, learning_rate=0.01, max_depth=4, reg_lambda=0, scale_pos_weight=3, subsample=0.8;, score=0.809 total time=   0.8s\n",
      "[CV 3/5] END colsample_bytree=0.5, gamma=0.25, learning_rate=0.01, max_depth=4, reg_lambda=0, scale_pos_weight=3, subsample=0.8;, score=0.806 total time=   0.8s\n",
      "[CV 4/5] END colsample_bytree=0.5, gamma=0.25, learning_rate=0.01, max_depth=4, reg_lambda=0, scale_pos_weight=3, subsample=0.8;, score=0.811 total time=   0.8s\n",
      "[CV 5/5] END colsample_bytree=0.5, gamma=0.25, learning_rate=0.01, max_depth=4, reg_lambda=0, scale_pos_weight=3, subsample=0.8;, score=0.806 total time=   0.8s\n",
      "[CV 1/5] END colsample_bytree=0.5, gamma=0.25, learning_rate=0.01, max_depth=4, reg_lambda=0, scale_pos_weight=5, subsample=0.8;, score=0.597 total time=   0.8s\n",
      "[CV 2/5] END colsample_bytree=0.5, gamma=0.25, learning_rate=0.01, max_depth=4, reg_lambda=0, scale_pos_weight=5, subsample=0.8;, score=0.594 total time=   0.8s\n",
      "[CV 3/5] END colsample_bytree=0.5, gamma=0.25, learning_rate=0.01, max_depth=4, reg_lambda=0, scale_pos_weight=5, subsample=0.8;, score=0.592 total time=   0.8s\n",
      "[CV 4/5] END colsample_bytree=0.5, gamma=0.25, learning_rate=0.01, max_depth=4, reg_lambda=0, scale_pos_weight=5, subsample=0.8;, score=0.592 total time=   0.8s\n",
      "[CV 5/5] END colsample_bytree=0.5, gamma=0.25, learning_rate=0.01, max_depth=4, reg_lambda=0, scale_pos_weight=5, subsample=0.8;, score=0.592 total time=   0.8s\n",
      "[CV 1/5] END colsample_bytree=0.5, gamma=0.25, learning_rate=0.01, max_depth=4, reg_lambda=1, scale_pos_weight=1, subsample=0.8;, score=0.857 total time=   0.8s\n"
     ]
    },
    {
     "name": "stdout",
     "output_type": "stream",
     "text": [
      "[CV 2/5] END colsample_bytree=0.5, gamma=0.25, learning_rate=0.01, max_depth=4, reg_lambda=1, scale_pos_weight=1, subsample=0.8;, score=0.855 total time=   0.8s\n",
      "[CV 3/5] END colsample_bytree=0.5, gamma=0.25, learning_rate=0.01, max_depth=4, reg_lambda=1, scale_pos_weight=1, subsample=0.8;, score=0.829 total time=   0.8s\n",
      "[CV 4/5] END colsample_bytree=0.5, gamma=0.25, learning_rate=0.01, max_depth=4, reg_lambda=1, scale_pos_weight=1, subsample=0.8;, score=0.839 total time=   0.8s\n",
      "[CV 5/5] END colsample_bytree=0.5, gamma=0.25, learning_rate=0.01, max_depth=4, reg_lambda=1, scale_pos_weight=1, subsample=0.8;, score=0.835 total time=   0.8s\n",
      "[CV 1/5] END colsample_bytree=0.5, gamma=0.25, learning_rate=0.01, max_depth=4, reg_lambda=1, scale_pos_weight=3, subsample=0.8;, score=0.813 total time=   0.8s\n",
      "[CV 2/5] END colsample_bytree=0.5, gamma=0.25, learning_rate=0.01, max_depth=4, reg_lambda=1, scale_pos_weight=3, subsample=0.8;, score=0.809 total time=   0.8s\n",
      "[CV 3/5] END colsample_bytree=0.5, gamma=0.25, learning_rate=0.01, max_depth=4, reg_lambda=1, scale_pos_weight=3, subsample=0.8;, score=0.806 total time=   0.8s\n",
      "[CV 4/5] END colsample_bytree=0.5, gamma=0.25, learning_rate=0.01, max_depth=4, reg_lambda=1, scale_pos_weight=3, subsample=0.8;, score=0.811 total time=   0.8s\n",
      "[CV 5/5] END colsample_bytree=0.5, gamma=0.25, learning_rate=0.01, max_depth=4, reg_lambda=1, scale_pos_weight=3, subsample=0.8;, score=0.806 total time=   0.8s\n",
      "[CV 1/5] END colsample_bytree=0.5, gamma=0.25, learning_rate=0.01, max_depth=4, reg_lambda=1, scale_pos_weight=5, subsample=0.8;, score=0.597 total time=   0.8s\n",
      "[CV 2/5] END colsample_bytree=0.5, gamma=0.25, learning_rate=0.01, max_depth=4, reg_lambda=1, scale_pos_weight=5, subsample=0.8;, score=0.594 total time=   0.8s\n",
      "[CV 3/5] END colsample_bytree=0.5, gamma=0.25, learning_rate=0.01, max_depth=4, reg_lambda=1, scale_pos_weight=5, subsample=0.8;, score=0.592 total time=   0.9s\n",
      "[CV 4/5] END colsample_bytree=0.5, gamma=0.25, learning_rate=0.01, max_depth=4, reg_lambda=1, scale_pos_weight=5, subsample=0.8;, score=0.592 total time=   0.8s\n",
      "[CV 5/5] END colsample_bytree=0.5, gamma=0.25, learning_rate=0.01, max_depth=4, reg_lambda=1, scale_pos_weight=5, subsample=0.8;, score=0.592 total time=   0.8s\n",
      "[CV 1/5] END colsample_bytree=0.5, gamma=0.25, learning_rate=0.01, max_depth=4, reg_lambda=10, scale_pos_weight=1, subsample=0.8;, score=0.857 total time=   0.8s\n",
      "[CV 2/5] END colsample_bytree=0.5, gamma=0.25, learning_rate=0.01, max_depth=4, reg_lambda=10, scale_pos_weight=1, subsample=0.8;, score=0.855 total time=   0.8s\n",
      "[CV 3/5] END colsample_bytree=0.5, gamma=0.25, learning_rate=0.01, max_depth=4, reg_lambda=10, scale_pos_weight=1, subsample=0.8;, score=0.829 total time=   0.8s\n",
      "[CV 4/5] END colsample_bytree=0.5, gamma=0.25, learning_rate=0.01, max_depth=4, reg_lambda=10, scale_pos_weight=1, subsample=0.8;, score=0.838 total time=   0.8s\n",
      "[CV 5/5] END colsample_bytree=0.5, gamma=0.25, learning_rate=0.01, max_depth=4, reg_lambda=10, scale_pos_weight=1, subsample=0.8;, score=0.835 total time=   0.8s\n",
      "[CV 1/5] END colsample_bytree=0.5, gamma=0.25, learning_rate=0.01, max_depth=4, reg_lambda=10, scale_pos_weight=3, subsample=0.8;, score=0.813 total time=   0.8s\n",
      "[CV 2/5] END colsample_bytree=0.5, gamma=0.25, learning_rate=0.01, max_depth=4, reg_lambda=10, scale_pos_weight=3, subsample=0.8;, score=0.809 total time=   0.8s\n",
      "[CV 3/5] END colsample_bytree=0.5, gamma=0.25, learning_rate=0.01, max_depth=4, reg_lambda=10, scale_pos_weight=3, subsample=0.8;, score=0.806 total time=   0.8s\n",
      "[CV 4/5] END colsample_bytree=0.5, gamma=0.25, learning_rate=0.01, max_depth=4, reg_lambda=10, scale_pos_weight=3, subsample=0.8;, score=0.810 total time=   0.8s\n",
      "[CV 5/5] END colsample_bytree=0.5, gamma=0.25, learning_rate=0.01, max_depth=4, reg_lambda=10, scale_pos_weight=3, subsample=0.8;, score=0.805 total time=   0.8s\n",
      "[CV 1/5] END colsample_bytree=0.5, gamma=0.25, learning_rate=0.01, max_depth=4, reg_lambda=10, scale_pos_weight=5, subsample=0.8;, score=0.597 total time=   0.8s\n",
      "[CV 2/5] END colsample_bytree=0.5, gamma=0.25, learning_rate=0.01, max_depth=4, reg_lambda=10, scale_pos_weight=5, subsample=0.8;, score=0.594 total time=   0.8s\n",
      "[CV 3/5] END colsample_bytree=0.5, gamma=0.25, learning_rate=0.01, max_depth=4, reg_lambda=10, scale_pos_weight=5, subsample=0.8;, score=0.591 total time=   0.8s\n",
      "[CV 4/5] END colsample_bytree=0.5, gamma=0.25, learning_rate=0.01, max_depth=4, reg_lambda=10, scale_pos_weight=5, subsample=0.8;, score=0.592 total time=   0.8s\n",
      "[CV 5/5] END colsample_bytree=0.5, gamma=0.25, learning_rate=0.01, max_depth=4, reg_lambda=10, scale_pos_weight=5, subsample=0.8;, score=0.592 total time=   0.8s\n",
      "[CV 1/5] END colsample_bytree=0.5, gamma=0.25, learning_rate=0.01, max_depth=5, reg_lambda=0, scale_pos_weight=1, subsample=0.8;, score=0.857 total time=   0.9s\n",
      "[CV 2/5] END colsample_bytree=0.5, gamma=0.25, learning_rate=0.01, max_depth=5, reg_lambda=0, scale_pos_weight=1, subsample=0.8;, score=0.856 total time=   1.0s\n",
      "[CV 3/5] END colsample_bytree=0.5, gamma=0.25, learning_rate=0.01, max_depth=5, reg_lambda=0, scale_pos_weight=1, subsample=0.8;, score=0.830 total time=   0.9s\n",
      "[CV 4/5] END colsample_bytree=0.5, gamma=0.25, learning_rate=0.01, max_depth=5, reg_lambda=0, scale_pos_weight=1, subsample=0.8;, score=0.839 total time=   1.0s\n",
      "[CV 5/5] END colsample_bytree=0.5, gamma=0.25, learning_rate=0.01, max_depth=5, reg_lambda=0, scale_pos_weight=1, subsample=0.8;, score=0.836 total time=   1.0s\n",
      "[CV 1/5] END colsample_bytree=0.5, gamma=0.25, learning_rate=0.01, max_depth=5, reg_lambda=0, scale_pos_weight=3, subsample=0.8;, score=0.815 total time=   1.0s\n",
      "[CV 2/5] END colsample_bytree=0.5, gamma=0.25, learning_rate=0.01, max_depth=5, reg_lambda=0, scale_pos_weight=3, subsample=0.8;, score=0.811 total time=   1.0s\n",
      "[CV 3/5] END colsample_bytree=0.5, gamma=0.25, learning_rate=0.01, max_depth=5, reg_lambda=0, scale_pos_weight=3, subsample=0.8;, score=0.807 total time=   1.0s\n",
      "[CV 4/5] END colsample_bytree=0.5, gamma=0.25, learning_rate=0.01, max_depth=5, reg_lambda=0, scale_pos_weight=3, subsample=0.8;, score=0.813 total time=   1.0s\n",
      "[CV 5/5] END colsample_bytree=0.5, gamma=0.25, learning_rate=0.01, max_depth=5, reg_lambda=0, scale_pos_weight=3, subsample=0.8;, score=0.807 total time=   1.0s\n",
      "[CV 1/5] END colsample_bytree=0.5, gamma=0.25, learning_rate=0.01, max_depth=5, reg_lambda=0, scale_pos_weight=5, subsample=0.8;, score=0.597 total time=   1.0s\n",
      "[CV 2/5] END colsample_bytree=0.5, gamma=0.25, learning_rate=0.01, max_depth=5, reg_lambda=0, scale_pos_weight=5, subsample=0.8;, score=0.595 total time=   1.0s\n",
      "[CV 3/5] END colsample_bytree=0.5, gamma=0.25, learning_rate=0.01, max_depth=5, reg_lambda=0, scale_pos_weight=5, subsample=0.8;, score=0.592 total time=   1.0s\n",
      "[CV 4/5] END colsample_bytree=0.5, gamma=0.25, learning_rate=0.01, max_depth=5, reg_lambda=0, scale_pos_weight=5, subsample=0.8;, score=0.592 total time=   1.0s\n",
      "[CV 5/5] END colsample_bytree=0.5, gamma=0.25, learning_rate=0.01, max_depth=5, reg_lambda=0, scale_pos_weight=5, subsample=0.8;, score=0.594 total time=   1.0s\n",
      "[CV 1/5] END colsample_bytree=0.5, gamma=0.25, learning_rate=0.01, max_depth=5, reg_lambda=1, scale_pos_weight=1, subsample=0.8;, score=0.857 total time=   1.0s\n",
      "[CV 2/5] END colsample_bytree=0.5, gamma=0.25, learning_rate=0.01, max_depth=5, reg_lambda=1, scale_pos_weight=1, subsample=0.8;, score=0.855 total time=   1.0s\n",
      "[CV 3/5] END colsample_bytree=0.5, gamma=0.25, learning_rate=0.01, max_depth=5, reg_lambda=1, scale_pos_weight=1, subsample=0.8;, score=0.830 total time=   1.0s\n",
      "[CV 4/5] END colsample_bytree=0.5, gamma=0.25, learning_rate=0.01, max_depth=5, reg_lambda=1, scale_pos_weight=1, subsample=0.8;, score=0.839 total time=   1.0s\n",
      "[CV 5/5] END colsample_bytree=0.5, gamma=0.25, learning_rate=0.01, max_depth=5, reg_lambda=1, scale_pos_weight=1, subsample=0.8;, score=0.836 total time=   1.0s\n",
      "[CV 1/5] END colsample_bytree=0.5, gamma=0.25, learning_rate=0.01, max_depth=5, reg_lambda=1, scale_pos_weight=3, subsample=0.8;, score=0.815 total time=   0.9s\n",
      "[CV 2/5] END colsample_bytree=0.5, gamma=0.25, learning_rate=0.01, max_depth=5, reg_lambda=1, scale_pos_weight=3, subsample=0.8;, score=0.811 total time=   0.9s\n"
     ]
    },
    {
     "name": "stdout",
     "output_type": "stream",
     "text": [
      "[CV 3/5] END colsample_bytree=0.5, gamma=0.25, learning_rate=0.01, max_depth=5, reg_lambda=1, scale_pos_weight=3, subsample=0.8;, score=0.808 total time=   1.0s\n",
      "[CV 4/5] END colsample_bytree=0.5, gamma=0.25, learning_rate=0.01, max_depth=5, reg_lambda=1, scale_pos_weight=3, subsample=0.8;, score=0.813 total time=   1.0s\n",
      "[CV 5/5] END colsample_bytree=0.5, gamma=0.25, learning_rate=0.01, max_depth=5, reg_lambda=1, scale_pos_weight=3, subsample=0.8;, score=0.807 total time=   1.0s\n",
      "[CV 1/5] END colsample_bytree=0.5, gamma=0.25, learning_rate=0.01, max_depth=5, reg_lambda=1, scale_pos_weight=5, subsample=0.8;, score=0.597 total time=   0.9s\n",
      "[CV 2/5] END colsample_bytree=0.5, gamma=0.25, learning_rate=0.01, max_depth=5, reg_lambda=1, scale_pos_weight=5, subsample=0.8;, score=0.595 total time=   0.9s\n",
      "[CV 3/5] END colsample_bytree=0.5, gamma=0.25, learning_rate=0.01, max_depth=5, reg_lambda=1, scale_pos_weight=5, subsample=0.8;, score=0.592 total time=   1.0s\n",
      "[CV 4/5] END colsample_bytree=0.5, gamma=0.25, learning_rate=0.01, max_depth=5, reg_lambda=1, scale_pos_weight=5, subsample=0.8;, score=0.592 total time=   1.0s\n",
      "[CV 5/5] END colsample_bytree=0.5, gamma=0.25, learning_rate=0.01, max_depth=5, reg_lambda=1, scale_pos_weight=5, subsample=0.8;, score=0.594 total time=   1.0s\n",
      "[CV 1/5] END colsample_bytree=0.5, gamma=0.25, learning_rate=0.01, max_depth=5, reg_lambda=10, scale_pos_weight=1, subsample=0.8;, score=0.857 total time=   0.9s\n",
      "[CV 2/5] END colsample_bytree=0.5, gamma=0.25, learning_rate=0.01, max_depth=5, reg_lambda=10, scale_pos_weight=1, subsample=0.8;, score=0.855 total time=   0.9s\n",
      "[CV 3/5] END colsample_bytree=0.5, gamma=0.25, learning_rate=0.01, max_depth=5, reg_lambda=10, scale_pos_weight=1, subsample=0.8;, score=0.829 total time=   0.9s\n",
      "[CV 4/5] END colsample_bytree=0.5, gamma=0.25, learning_rate=0.01, max_depth=5, reg_lambda=10, scale_pos_weight=1, subsample=0.8;, score=0.839 total time=   1.0s\n",
      "[CV 5/5] END colsample_bytree=0.5, gamma=0.25, learning_rate=0.01, max_depth=5, reg_lambda=10, scale_pos_weight=1, subsample=0.8;, score=0.835 total time=   0.9s\n",
      "[CV 1/5] END colsample_bytree=0.5, gamma=0.25, learning_rate=0.01, max_depth=5, reg_lambda=10, scale_pos_weight=3, subsample=0.8;, score=0.813 total time=   1.0s\n",
      "[CV 2/5] END colsample_bytree=0.5, gamma=0.25, learning_rate=0.01, max_depth=5, reg_lambda=10, scale_pos_weight=3, subsample=0.8;, score=0.810 total time=   1.0s\n",
      "[CV 3/5] END colsample_bytree=0.5, gamma=0.25, learning_rate=0.01, max_depth=5, reg_lambda=10, scale_pos_weight=3, subsample=0.8;, score=0.807 total time=   1.0s\n",
      "[CV 4/5] END colsample_bytree=0.5, gamma=0.25, learning_rate=0.01, max_depth=5, reg_lambda=10, scale_pos_weight=3, subsample=0.8;, score=0.811 total time=   1.0s\n",
      "[CV 5/5] END colsample_bytree=0.5, gamma=0.25, learning_rate=0.01, max_depth=5, reg_lambda=10, scale_pos_weight=3, subsample=0.8;, score=0.806 total time=   1.0s\n",
      "[CV 1/5] END colsample_bytree=0.5, gamma=0.25, learning_rate=0.01, max_depth=5, reg_lambda=10, scale_pos_weight=5, subsample=0.8;, score=0.596 total time=   0.9s\n",
      "[CV 2/5] END colsample_bytree=0.5, gamma=0.25, learning_rate=0.01, max_depth=5, reg_lambda=10, scale_pos_weight=5, subsample=0.8;, score=0.594 total time=   0.9s\n",
      "[CV 3/5] END colsample_bytree=0.5, gamma=0.25, learning_rate=0.01, max_depth=5, reg_lambda=10, scale_pos_weight=5, subsample=0.8;, score=0.591 total time=   1.0s\n",
      "[CV 4/5] END colsample_bytree=0.5, gamma=0.25, learning_rate=0.01, max_depth=5, reg_lambda=10, scale_pos_weight=5, subsample=0.8;, score=0.591 total time=   0.9s\n",
      "[CV 5/5] END colsample_bytree=0.5, gamma=0.25, learning_rate=0.01, max_depth=5, reg_lambda=10, scale_pos_weight=5, subsample=0.8;, score=0.591 total time=   0.9s\n",
      "[CV 1/5] END colsample_bytree=0.5, gamma=0.25, learning_rate=0.01, max_depth=7, reg_lambda=0, scale_pos_weight=1, subsample=0.8;, score=0.856 total time=   1.2s\n",
      "[CV 2/5] END colsample_bytree=0.5, gamma=0.25, learning_rate=0.01, max_depth=7, reg_lambda=0, scale_pos_weight=1, subsample=0.8;, score=0.856 total time=   1.2s\n",
      "[CV 3/5] END colsample_bytree=0.5, gamma=0.25, learning_rate=0.01, max_depth=7, reg_lambda=0, scale_pos_weight=1, subsample=0.8;, score=0.833 total time=   1.2s\n",
      "[CV 4/5] END colsample_bytree=0.5, gamma=0.25, learning_rate=0.01, max_depth=7, reg_lambda=0, scale_pos_weight=1, subsample=0.8;, score=0.839 total time=   1.3s\n",
      "[CV 5/5] END colsample_bytree=0.5, gamma=0.25, learning_rate=0.01, max_depth=7, reg_lambda=0, scale_pos_weight=1, subsample=0.8;, score=0.836 total time=   1.2s\n",
      "[CV 1/5] END colsample_bytree=0.5, gamma=0.25, learning_rate=0.01, max_depth=7, reg_lambda=0, scale_pos_weight=3, subsample=0.8;, score=0.816 total time=   1.2s\n",
      "[CV 2/5] END colsample_bytree=0.5, gamma=0.25, learning_rate=0.01, max_depth=7, reg_lambda=0, scale_pos_weight=3, subsample=0.8;, score=0.811 total time=   1.2s\n",
      "[CV 3/5] END colsample_bytree=0.5, gamma=0.25, learning_rate=0.01, max_depth=7, reg_lambda=0, scale_pos_weight=3, subsample=0.8;, score=0.808 total time=   1.2s\n",
      "[CV 4/5] END colsample_bytree=0.5, gamma=0.25, learning_rate=0.01, max_depth=7, reg_lambda=0, scale_pos_weight=3, subsample=0.8;, score=0.814 total time=   1.2s\n",
      "[CV 5/5] END colsample_bytree=0.5, gamma=0.25, learning_rate=0.01, max_depth=7, reg_lambda=0, scale_pos_weight=3, subsample=0.8;, score=0.808 total time=   1.3s\n",
      "[CV 1/5] END colsample_bytree=0.5, gamma=0.25, learning_rate=0.01, max_depth=7, reg_lambda=0, scale_pos_weight=5, subsample=0.8;, score=0.600 total time=   1.2s\n",
      "[CV 2/5] END colsample_bytree=0.5, gamma=0.25, learning_rate=0.01, max_depth=7, reg_lambda=0, scale_pos_weight=5, subsample=0.8;, score=0.597 total time=   1.2s\n",
      "[CV 3/5] END colsample_bytree=0.5, gamma=0.25, learning_rate=0.01, max_depth=7, reg_lambda=0, scale_pos_weight=5, subsample=0.8;, score=0.595 total time=   1.2s\n",
      "[CV 4/5] END colsample_bytree=0.5, gamma=0.25, learning_rate=0.01, max_depth=7, reg_lambda=0, scale_pos_weight=5, subsample=0.8;, score=0.594 total time=   1.2s\n",
      "[CV 5/5] END colsample_bytree=0.5, gamma=0.25, learning_rate=0.01, max_depth=7, reg_lambda=0, scale_pos_weight=5, subsample=0.8;, score=0.596 total time=   1.2s\n",
      "[CV 1/5] END colsample_bytree=0.5, gamma=0.25, learning_rate=0.01, max_depth=7, reg_lambda=1, scale_pos_weight=1, subsample=0.8;, score=0.856 total time=   1.2s\n",
      "[CV 2/5] END colsample_bytree=0.5, gamma=0.25, learning_rate=0.01, max_depth=7, reg_lambda=1, scale_pos_weight=1, subsample=0.8;, score=0.856 total time=   1.2s\n",
      "[CV 3/5] END colsample_bytree=0.5, gamma=0.25, learning_rate=0.01, max_depth=7, reg_lambda=1, scale_pos_weight=1, subsample=0.8;, score=0.833 total time=   1.3s\n",
      "[CV 4/5] END colsample_bytree=0.5, gamma=0.25, learning_rate=0.01, max_depth=7, reg_lambda=1, scale_pos_weight=1, subsample=0.8;, score=0.838 total time=   1.2s\n",
      "[CV 5/5] END colsample_bytree=0.5, gamma=0.25, learning_rate=0.01, max_depth=7, reg_lambda=1, scale_pos_weight=1, subsample=0.8;, score=0.836 total time=   1.2s\n",
      "[CV 1/5] END colsample_bytree=0.5, gamma=0.25, learning_rate=0.01, max_depth=7, reg_lambda=1, scale_pos_weight=3, subsample=0.8;, score=0.815 total time=   1.2s\n",
      "[CV 2/5] END colsample_bytree=0.5, gamma=0.25, learning_rate=0.01, max_depth=7, reg_lambda=1, scale_pos_weight=3, subsample=0.8;, score=0.811 total time=   1.2s\n",
      "[CV 3/5] END colsample_bytree=0.5, gamma=0.25, learning_rate=0.01, max_depth=7, reg_lambda=1, scale_pos_weight=3, subsample=0.8;, score=0.808 total time=   1.3s\n",
      "[CV 4/5] END colsample_bytree=0.5, gamma=0.25, learning_rate=0.01, max_depth=7, reg_lambda=1, scale_pos_weight=3, subsample=0.8;, score=0.814 total time=   1.3s\n",
      "[CV 5/5] END colsample_bytree=0.5, gamma=0.25, learning_rate=0.01, max_depth=7, reg_lambda=1, scale_pos_weight=3, subsample=0.8;, score=0.807 total time=   1.3s\n",
      "[CV 1/5] END colsample_bytree=0.5, gamma=0.25, learning_rate=0.01, max_depth=7, reg_lambda=1, scale_pos_weight=5, subsample=0.8;, score=0.599 total time=   1.2s\n",
      "[CV 2/5] END colsample_bytree=0.5, gamma=0.25, learning_rate=0.01, max_depth=7, reg_lambda=1, scale_pos_weight=5, subsample=0.8;, score=0.597 total time=   1.2s\n",
      "[CV 3/5] END colsample_bytree=0.5, gamma=0.25, learning_rate=0.01, max_depth=7, reg_lambda=1, scale_pos_weight=5, subsample=0.8;, score=0.595 total time=   1.2s\n"
     ]
    },
    {
     "name": "stdout",
     "output_type": "stream",
     "text": [
      "[CV 4/5] END colsample_bytree=0.5, gamma=0.25, learning_rate=0.01, max_depth=7, reg_lambda=1, scale_pos_weight=5, subsample=0.8;, score=0.594 total time=   1.2s\n",
      "[CV 5/5] END colsample_bytree=0.5, gamma=0.25, learning_rate=0.01, max_depth=7, reg_lambda=1, scale_pos_weight=5, subsample=0.8;, score=0.595 total time=   1.2s\n",
      "[CV 1/5] END colsample_bytree=0.5, gamma=0.25, learning_rate=0.01, max_depth=7, reg_lambda=10, scale_pos_weight=1, subsample=0.8;, score=0.857 total time=   1.1s\n",
      "[CV 2/5] END colsample_bytree=0.5, gamma=0.25, learning_rate=0.01, max_depth=7, reg_lambda=10, scale_pos_weight=1, subsample=0.8;, score=0.855 total time=   1.1s\n",
      "[CV 3/5] END colsample_bytree=0.5, gamma=0.25, learning_rate=0.01, max_depth=7, reg_lambda=10, scale_pos_weight=1, subsample=0.8;, score=0.833 total time=   1.1s\n",
      "[CV 4/5] END colsample_bytree=0.5, gamma=0.25, learning_rate=0.01, max_depth=7, reg_lambda=10, scale_pos_weight=1, subsample=0.8;, score=0.839 total time=   1.1s\n",
      "[CV 5/5] END colsample_bytree=0.5, gamma=0.25, learning_rate=0.01, max_depth=7, reg_lambda=10, scale_pos_weight=1, subsample=0.8;, score=0.836 total time=   1.1s\n",
      "[CV 1/5] END colsample_bytree=0.5, gamma=0.25, learning_rate=0.01, max_depth=7, reg_lambda=10, scale_pos_weight=3, subsample=0.8;, score=0.814 total time=   1.1s\n",
      "[CV 2/5] END colsample_bytree=0.5, gamma=0.25, learning_rate=0.01, max_depth=7, reg_lambda=10, scale_pos_weight=3, subsample=0.8;, score=0.810 total time=   1.2s\n",
      "[CV 3/5] END colsample_bytree=0.5, gamma=0.25, learning_rate=0.01, max_depth=7, reg_lambda=10, scale_pos_weight=3, subsample=0.8;, score=0.807 total time=   1.1s\n",
      "[CV 4/5] END colsample_bytree=0.5, gamma=0.25, learning_rate=0.01, max_depth=7, reg_lambda=10, scale_pos_weight=3, subsample=0.8;, score=0.812 total time=   1.1s\n",
      "[CV 5/5] END colsample_bytree=0.5, gamma=0.25, learning_rate=0.01, max_depth=7, reg_lambda=10, scale_pos_weight=3, subsample=0.8;, score=0.807 total time=   1.2s\n",
      "[CV 1/5] END colsample_bytree=0.5, gamma=0.25, learning_rate=0.01, max_depth=7, reg_lambda=10, scale_pos_weight=5, subsample=0.8;, score=0.596 total time=   1.2s\n",
      "[CV 2/5] END colsample_bytree=0.5, gamma=0.25, learning_rate=0.01, max_depth=7, reg_lambda=10, scale_pos_weight=5, subsample=0.8;, score=0.594 total time=   1.2s\n",
      "[CV 3/5] END colsample_bytree=0.5, gamma=0.25, learning_rate=0.01, max_depth=7, reg_lambda=10, scale_pos_weight=5, subsample=0.8;, score=0.591 total time=   1.2s\n",
      "[CV 4/5] END colsample_bytree=0.5, gamma=0.25, learning_rate=0.01, max_depth=7, reg_lambda=10, scale_pos_weight=5, subsample=0.8;, score=0.591 total time=   1.2s\n",
      "[CV 5/5] END colsample_bytree=0.5, gamma=0.25, learning_rate=0.01, max_depth=7, reg_lambda=10, scale_pos_weight=5, subsample=0.8;, score=0.592 total time=   1.2s\n",
      "[CV 1/5] END colsample_bytree=0.5, gamma=0.25, learning_rate=0.05, max_depth=3, reg_lambda=0, scale_pos_weight=1, subsample=0.8;, score=0.867 total time=   0.7s\n",
      "[CV 2/5] END colsample_bytree=0.5, gamma=0.25, learning_rate=0.05, max_depth=3, reg_lambda=0, scale_pos_weight=1, subsample=0.8;, score=0.866 total time=   0.7s\n",
      "[CV 3/5] END colsample_bytree=0.5, gamma=0.25, learning_rate=0.05, max_depth=3, reg_lambda=0, scale_pos_weight=1, subsample=0.8;, score=0.862 total time=   0.7s\n",
      "[CV 4/5] END colsample_bytree=0.5, gamma=0.25, learning_rate=0.05, max_depth=3, reg_lambda=0, scale_pos_weight=1, subsample=0.8;, score=0.863 total time=   0.7s\n",
      "[CV 5/5] END colsample_bytree=0.5, gamma=0.25, learning_rate=0.05, max_depth=3, reg_lambda=0, scale_pos_weight=1, subsample=0.8;, score=0.862 total time=   0.7s\n",
      "[CV 1/5] END colsample_bytree=0.5, gamma=0.25, learning_rate=0.05, max_depth=3, reg_lambda=0, scale_pos_weight=3, subsample=0.8;, score=0.824 total time=   0.7s\n",
      "[CV 2/5] END colsample_bytree=0.5, gamma=0.25, learning_rate=0.05, max_depth=3, reg_lambda=0, scale_pos_weight=3, subsample=0.8;, score=0.816 total time=   0.7s\n",
      "[CV 3/5] END colsample_bytree=0.5, gamma=0.25, learning_rate=0.05, max_depth=3, reg_lambda=0, scale_pos_weight=3, subsample=0.8;, score=0.814 total time=   0.7s\n",
      "[CV 4/5] END colsample_bytree=0.5, gamma=0.25, learning_rate=0.05, max_depth=3, reg_lambda=0, scale_pos_weight=3, subsample=0.8;, score=0.821 total time=   0.7s\n",
      "[CV 5/5] END colsample_bytree=0.5, gamma=0.25, learning_rate=0.05, max_depth=3, reg_lambda=0, scale_pos_weight=3, subsample=0.8;, score=0.814 total time=   0.7s\n",
      "[CV 1/5] END colsample_bytree=0.5, gamma=0.25, learning_rate=0.05, max_depth=3, reg_lambda=0, scale_pos_weight=5, subsample=0.8;, score=0.810 total time=   0.7s\n",
      "[CV 2/5] END colsample_bytree=0.5, gamma=0.25, learning_rate=0.05, max_depth=3, reg_lambda=0, scale_pos_weight=5, subsample=0.8;, score=0.809 total time=   0.8s\n",
      "[CV 3/5] END colsample_bytree=0.5, gamma=0.25, learning_rate=0.05, max_depth=3, reg_lambda=0, scale_pos_weight=5, subsample=0.8;, score=0.804 total time=   0.8s\n",
      "[CV 4/5] END colsample_bytree=0.5, gamma=0.25, learning_rate=0.05, max_depth=3, reg_lambda=0, scale_pos_weight=5, subsample=0.8;, score=0.808 total time=   0.7s\n",
      "[CV 5/5] END colsample_bytree=0.5, gamma=0.25, learning_rate=0.05, max_depth=3, reg_lambda=0, scale_pos_weight=5, subsample=0.8;, score=0.803 total time=   0.7s\n",
      "[CV 1/5] END colsample_bytree=0.5, gamma=0.25, learning_rate=0.05, max_depth=3, reg_lambda=1, scale_pos_weight=1, subsample=0.8;, score=0.867 total time=   0.7s\n",
      "[CV 2/5] END colsample_bytree=0.5, gamma=0.25, learning_rate=0.05, max_depth=3, reg_lambda=1, scale_pos_weight=1, subsample=0.8;, score=0.866 total time=   0.7s\n",
      "[CV 3/5] END colsample_bytree=0.5, gamma=0.25, learning_rate=0.05, max_depth=3, reg_lambda=1, scale_pos_weight=1, subsample=0.8;, score=0.862 total time=   0.7s\n",
      "[CV 4/5] END colsample_bytree=0.5, gamma=0.25, learning_rate=0.05, max_depth=3, reg_lambda=1, scale_pos_weight=1, subsample=0.8;, score=0.863 total time=   0.7s\n",
      "[CV 5/5] END colsample_bytree=0.5, gamma=0.25, learning_rate=0.05, max_depth=3, reg_lambda=1, scale_pos_weight=1, subsample=0.8;, score=0.862 total time=   0.7s\n",
      "[CV 1/5] END colsample_bytree=0.5, gamma=0.25, learning_rate=0.05, max_depth=3, reg_lambda=1, scale_pos_weight=3, subsample=0.8;, score=0.820 total time=   0.7s\n",
      "[CV 2/5] END colsample_bytree=0.5, gamma=0.25, learning_rate=0.05, max_depth=3, reg_lambda=1, scale_pos_weight=3, subsample=0.8;, score=0.816 total time=   0.7s\n",
      "[CV 3/5] END colsample_bytree=0.5, gamma=0.25, learning_rate=0.05, max_depth=3, reg_lambda=1, scale_pos_weight=3, subsample=0.8;, score=0.814 total time=   0.7s\n",
      "[CV 4/5] END colsample_bytree=0.5, gamma=0.25, learning_rate=0.05, max_depth=3, reg_lambda=1, scale_pos_weight=3, subsample=0.8;, score=0.821 total time=   0.7s\n",
      "[CV 5/5] END colsample_bytree=0.5, gamma=0.25, learning_rate=0.05, max_depth=3, reg_lambda=1, scale_pos_weight=3, subsample=0.8;, score=0.814 total time=   0.7s\n",
      "[CV 1/5] END colsample_bytree=0.5, gamma=0.25, learning_rate=0.05, max_depth=3, reg_lambda=1, scale_pos_weight=5, subsample=0.8;, score=0.810 total time=   0.7s\n",
      "[CV 2/5] END colsample_bytree=0.5, gamma=0.25, learning_rate=0.05, max_depth=3, reg_lambda=1, scale_pos_weight=5, subsample=0.8;, score=0.808 total time=   0.7s\n",
      "[CV 3/5] END colsample_bytree=0.5, gamma=0.25, learning_rate=0.05, max_depth=3, reg_lambda=1, scale_pos_weight=5, subsample=0.8;, score=0.803 total time=   0.7s\n",
      "[CV 4/5] END colsample_bytree=0.5, gamma=0.25, learning_rate=0.05, max_depth=3, reg_lambda=1, scale_pos_weight=5, subsample=0.8;, score=0.808 total time=   0.7s\n",
      "[CV 5/5] END colsample_bytree=0.5, gamma=0.25, learning_rate=0.05, max_depth=3, reg_lambda=1, scale_pos_weight=5, subsample=0.8;, score=0.803 total time=   0.7s\n",
      "[CV 1/5] END colsample_bytree=0.5, gamma=0.25, learning_rate=0.05, max_depth=3, reg_lambda=10, scale_pos_weight=1, subsample=0.8;, score=0.867 total time=   0.7s\n",
      "[CV 2/5] END colsample_bytree=0.5, gamma=0.25, learning_rate=0.05, max_depth=3, reg_lambda=10, scale_pos_weight=1, subsample=0.8;, score=0.866 total time=   0.7s\n",
      "[CV 3/5] END colsample_bytree=0.5, gamma=0.25, learning_rate=0.05, max_depth=3, reg_lambda=10, scale_pos_weight=1, subsample=0.8;, score=0.862 total time=   0.7s\n",
      "[CV 4/5] END colsample_bytree=0.5, gamma=0.25, learning_rate=0.05, max_depth=3, reg_lambda=10, scale_pos_weight=1, subsample=0.8;, score=0.863 total time=   0.7s\n"
     ]
    },
    {
     "name": "stdout",
     "output_type": "stream",
     "text": [
      "[CV 5/5] END colsample_bytree=0.5, gamma=0.25, learning_rate=0.05, max_depth=3, reg_lambda=10, scale_pos_weight=1, subsample=0.8;, score=0.862 total time=   0.7s\n",
      "[CV 1/5] END colsample_bytree=0.5, gamma=0.25, learning_rate=0.05, max_depth=3, reg_lambda=10, scale_pos_weight=3, subsample=0.8;, score=0.820 total time=   0.7s\n",
      "[CV 2/5] END colsample_bytree=0.5, gamma=0.25, learning_rate=0.05, max_depth=3, reg_lambda=10, scale_pos_weight=3, subsample=0.8;, score=0.816 total time=   0.7s\n",
      "[CV 3/5] END colsample_bytree=0.5, gamma=0.25, learning_rate=0.05, max_depth=3, reg_lambda=10, scale_pos_weight=3, subsample=0.8;, score=0.814 total time=   0.7s\n",
      "[CV 4/5] END colsample_bytree=0.5, gamma=0.25, learning_rate=0.05, max_depth=3, reg_lambda=10, scale_pos_weight=3, subsample=0.8;, score=0.821 total time=   0.7s\n",
      "[CV 5/5] END colsample_bytree=0.5, gamma=0.25, learning_rate=0.05, max_depth=3, reg_lambda=10, scale_pos_weight=3, subsample=0.8;, score=0.813 total time=   0.7s\n",
      "[CV 1/5] END colsample_bytree=0.5, gamma=0.25, learning_rate=0.05, max_depth=3, reg_lambda=10, scale_pos_weight=5, subsample=0.8;, score=0.812 total time=   0.7s\n",
      "[CV 2/5] END colsample_bytree=0.5, gamma=0.25, learning_rate=0.05, max_depth=3, reg_lambda=10, scale_pos_weight=5, subsample=0.8;, score=0.808 total time=   0.7s\n",
      "[CV 3/5] END colsample_bytree=0.5, gamma=0.25, learning_rate=0.05, max_depth=3, reg_lambda=10, scale_pos_weight=5, subsample=0.8;, score=0.803 total time=   0.7s\n",
      "[CV 4/5] END colsample_bytree=0.5, gamma=0.25, learning_rate=0.05, max_depth=3, reg_lambda=10, scale_pos_weight=5, subsample=0.8;, score=0.807 total time=   0.7s\n",
      "[CV 5/5] END colsample_bytree=0.5, gamma=0.25, learning_rate=0.05, max_depth=3, reg_lambda=10, scale_pos_weight=5, subsample=0.8;, score=0.803 total time=   0.7s\n",
      "[CV 1/5] END colsample_bytree=0.5, gamma=0.25, learning_rate=0.05, max_depth=4, reg_lambda=0, scale_pos_weight=1, subsample=0.8;, score=0.867 total time=   0.8s\n",
      "[CV 2/5] END colsample_bytree=0.5, gamma=0.25, learning_rate=0.05, max_depth=4, reg_lambda=0, scale_pos_weight=1, subsample=0.8;, score=0.865 total time=   0.8s\n",
      "[CV 3/5] END colsample_bytree=0.5, gamma=0.25, learning_rate=0.05, max_depth=4, reg_lambda=0, scale_pos_weight=1, subsample=0.8;, score=0.862 total time=   0.8s\n",
      "[CV 4/5] END colsample_bytree=0.5, gamma=0.25, learning_rate=0.05, max_depth=4, reg_lambda=0, scale_pos_weight=1, subsample=0.8;, score=0.864 total time=   0.8s\n",
      "[CV 5/5] END colsample_bytree=0.5, gamma=0.25, learning_rate=0.05, max_depth=4, reg_lambda=0, scale_pos_weight=1, subsample=0.8;, score=0.861 total time=   0.8s\n",
      "[CV 1/5] END colsample_bytree=0.5, gamma=0.25, learning_rate=0.05, max_depth=4, reg_lambda=0, scale_pos_weight=3, subsample=0.8;, score=0.818 total time=   0.8s\n",
      "[CV 2/5] END colsample_bytree=0.5, gamma=0.25, learning_rate=0.05, max_depth=4, reg_lambda=0, scale_pos_weight=3, subsample=0.8;, score=0.813 total time=   0.8s\n",
      "[CV 3/5] END colsample_bytree=0.5, gamma=0.25, learning_rate=0.05, max_depth=4, reg_lambda=0, scale_pos_weight=3, subsample=0.8;, score=0.811 total time=   0.8s\n",
      "[CV 4/5] END colsample_bytree=0.5, gamma=0.25, learning_rate=0.05, max_depth=4, reg_lambda=0, scale_pos_weight=3, subsample=0.8;, score=0.817 total time=   0.8s\n",
      "[CV 5/5] END colsample_bytree=0.5, gamma=0.25, learning_rate=0.05, max_depth=4, reg_lambda=0, scale_pos_weight=3, subsample=0.8;, score=0.811 total time=   0.8s\n",
      "[CV 1/5] END colsample_bytree=0.5, gamma=0.25, learning_rate=0.05, max_depth=4, reg_lambda=0, scale_pos_weight=5, subsample=0.8;, score=0.815 total time=   0.8s\n",
      "[CV 2/5] END colsample_bytree=0.5, gamma=0.25, learning_rate=0.05, max_depth=4, reg_lambda=0, scale_pos_weight=5, subsample=0.8;, score=0.811 total time=   0.8s\n",
      "[CV 3/5] END colsample_bytree=0.5, gamma=0.25, learning_rate=0.05, max_depth=4, reg_lambda=0, scale_pos_weight=5, subsample=0.8;, score=0.806 total time=   0.8s\n",
      "[CV 4/5] END colsample_bytree=0.5, gamma=0.25, learning_rate=0.05, max_depth=4, reg_lambda=0, scale_pos_weight=5, subsample=0.8;, score=0.813 total time=   0.8s\n",
      "[CV 5/5] END colsample_bytree=0.5, gamma=0.25, learning_rate=0.05, max_depth=4, reg_lambda=0, scale_pos_weight=5, subsample=0.8;, score=0.807 total time=   0.8s\n",
      "[CV 1/5] END colsample_bytree=0.5, gamma=0.25, learning_rate=0.05, max_depth=4, reg_lambda=1, scale_pos_weight=1, subsample=0.8;, score=0.867 total time=   0.8s\n",
      "[CV 2/5] END colsample_bytree=0.5, gamma=0.25, learning_rate=0.05, max_depth=4, reg_lambda=1, scale_pos_weight=1, subsample=0.8;, score=0.866 total time=   0.9s\n",
      "[CV 3/5] END colsample_bytree=0.5, gamma=0.25, learning_rate=0.05, max_depth=4, reg_lambda=1, scale_pos_weight=1, subsample=0.8;, score=0.862 total time=   0.8s\n",
      "[CV 4/5] END colsample_bytree=0.5, gamma=0.25, learning_rate=0.05, max_depth=4, reg_lambda=1, scale_pos_weight=1, subsample=0.8;, score=0.864 total time=   0.8s\n",
      "[CV 5/5] END colsample_bytree=0.5, gamma=0.25, learning_rate=0.05, max_depth=4, reg_lambda=1, scale_pos_weight=1, subsample=0.8;, score=0.862 total time=   0.8s\n",
      "[CV 1/5] END colsample_bytree=0.5, gamma=0.25, learning_rate=0.05, max_depth=4, reg_lambda=1, scale_pos_weight=3, subsample=0.8;, score=0.819 total time=   0.9s\n",
      "[CV 2/5] END colsample_bytree=0.5, gamma=0.25, learning_rate=0.05, max_depth=4, reg_lambda=1, scale_pos_weight=3, subsample=0.8;, score=0.814 total time=   0.8s\n",
      "[CV 3/5] END colsample_bytree=0.5, gamma=0.25, learning_rate=0.05, max_depth=4, reg_lambda=1, scale_pos_weight=3, subsample=0.8;, score=0.811 total time=   0.8s\n",
      "[CV 4/5] END colsample_bytree=0.5, gamma=0.25, learning_rate=0.05, max_depth=4, reg_lambda=1, scale_pos_weight=3, subsample=0.8;, score=0.817 total time=   0.8s\n",
      "[CV 5/5] END colsample_bytree=0.5, gamma=0.25, learning_rate=0.05, max_depth=4, reg_lambda=1, scale_pos_weight=3, subsample=0.8;, score=0.810 total time=   0.8s\n",
      "[CV 1/5] END colsample_bytree=0.5, gamma=0.25, learning_rate=0.05, max_depth=4, reg_lambda=1, scale_pos_weight=5, subsample=0.8;, score=0.815 total time=   0.8s\n",
      "[CV 2/5] END colsample_bytree=0.5, gamma=0.25, learning_rate=0.05, max_depth=4, reg_lambda=1, scale_pos_weight=5, subsample=0.8;, score=0.810 total time=   0.8s\n",
      "[CV 3/5] END colsample_bytree=0.5, gamma=0.25, learning_rate=0.05, max_depth=4, reg_lambda=1, scale_pos_weight=5, subsample=0.8;, score=0.806 total time=   0.9s\n",
      "[CV 4/5] END colsample_bytree=0.5, gamma=0.25, learning_rate=0.05, max_depth=4, reg_lambda=1, scale_pos_weight=5, subsample=0.8;, score=0.812 total time=   0.8s\n",
      "[CV 5/5] END colsample_bytree=0.5, gamma=0.25, learning_rate=0.05, max_depth=4, reg_lambda=1, scale_pos_weight=5, subsample=0.8;, score=0.807 total time=   0.8s\n",
      "[CV 1/5] END colsample_bytree=0.5, gamma=0.25, learning_rate=0.05, max_depth=4, reg_lambda=10, scale_pos_weight=1, subsample=0.8;, score=0.867 total time=   0.8s\n",
      "[CV 2/5] END colsample_bytree=0.5, gamma=0.25, learning_rate=0.05, max_depth=4, reg_lambda=10, scale_pos_weight=1, subsample=0.8;, score=0.866 total time=   0.8s\n",
      "[CV 3/5] END colsample_bytree=0.5, gamma=0.25, learning_rate=0.05, max_depth=4, reg_lambda=10, scale_pos_weight=1, subsample=0.8;, score=0.862 total time=   0.8s\n",
      "[CV 4/5] END colsample_bytree=0.5, gamma=0.25, learning_rate=0.05, max_depth=4, reg_lambda=10, scale_pos_weight=1, subsample=0.8;, score=0.863 total time=   0.8s\n",
      "[CV 5/5] END colsample_bytree=0.5, gamma=0.25, learning_rate=0.05, max_depth=4, reg_lambda=10, scale_pos_weight=1, subsample=0.8;, score=0.861 total time=   0.8s\n",
      "[CV 1/5] END colsample_bytree=0.5, gamma=0.25, learning_rate=0.05, max_depth=4, reg_lambda=10, scale_pos_weight=3, subsample=0.8;, score=0.818 total time=   0.8s\n",
      "[CV 2/5] END colsample_bytree=0.5, gamma=0.25, learning_rate=0.05, max_depth=4, reg_lambda=10, scale_pos_weight=3, subsample=0.8;, score=0.813 total time=   0.8s\n",
      "[CV 3/5] END colsample_bytree=0.5, gamma=0.25, learning_rate=0.05, max_depth=4, reg_lambda=10, scale_pos_weight=3, subsample=0.8;, score=0.811 total time=   0.8s\n",
      "[CV 4/5] END colsample_bytree=0.5, gamma=0.25, learning_rate=0.05, max_depth=4, reg_lambda=10, scale_pos_weight=3, subsample=0.8;, score=0.817 total time=   0.8s\n",
      "[CV 5/5] END colsample_bytree=0.5, gamma=0.25, learning_rate=0.05, max_depth=4, reg_lambda=10, scale_pos_weight=3, subsample=0.8;, score=0.810 total time=   0.8s\n"
     ]
    },
    {
     "name": "stdout",
     "output_type": "stream",
     "text": [
      "[CV 1/5] END colsample_bytree=0.5, gamma=0.25, learning_rate=0.05, max_depth=4, reg_lambda=10, scale_pos_weight=5, subsample=0.8;, score=0.814 total time=   0.8s\n",
      "[CV 2/5] END colsample_bytree=0.5, gamma=0.25, learning_rate=0.05, max_depth=4, reg_lambda=10, scale_pos_weight=5, subsample=0.8;, score=0.810 total time=   0.8s\n",
      "[CV 3/5] END colsample_bytree=0.5, gamma=0.25, learning_rate=0.05, max_depth=4, reg_lambda=10, scale_pos_weight=5, subsample=0.8;, score=0.806 total time=   0.8s\n",
      "[CV 4/5] END colsample_bytree=0.5, gamma=0.25, learning_rate=0.05, max_depth=4, reg_lambda=10, scale_pos_weight=5, subsample=0.8;, score=0.811 total time=   0.8s\n",
      "[CV 5/5] END colsample_bytree=0.5, gamma=0.25, learning_rate=0.05, max_depth=4, reg_lambda=10, scale_pos_weight=5, subsample=0.8;, score=0.807 total time=   0.8s\n",
      "[CV 1/5] END colsample_bytree=0.5, gamma=0.25, learning_rate=0.05, max_depth=5, reg_lambda=0, scale_pos_weight=1, subsample=0.8;, score=0.867 total time=   0.9s\n",
      "[CV 2/5] END colsample_bytree=0.5, gamma=0.25, learning_rate=0.05, max_depth=5, reg_lambda=0, scale_pos_weight=1, subsample=0.8;, score=0.866 total time=   0.9s\n",
      "[CV 3/5] END colsample_bytree=0.5, gamma=0.25, learning_rate=0.05, max_depth=5, reg_lambda=0, scale_pos_weight=1, subsample=0.8;, score=0.862 total time=   0.9s\n",
      "[CV 4/5] END colsample_bytree=0.5, gamma=0.25, learning_rate=0.05, max_depth=5, reg_lambda=0, scale_pos_weight=1, subsample=0.8;, score=0.864 total time=   1.0s\n",
      "[CV 5/5] END colsample_bytree=0.5, gamma=0.25, learning_rate=0.05, max_depth=5, reg_lambda=0, scale_pos_weight=1, subsample=0.8;, score=0.862 total time=   1.0s\n",
      "[CV 1/5] END colsample_bytree=0.5, gamma=0.25, learning_rate=0.05, max_depth=5, reg_lambda=0, scale_pos_weight=3, subsample=0.8;, score=0.819 total time=   0.9s\n",
      "[CV 2/5] END colsample_bytree=0.5, gamma=0.25, learning_rate=0.05, max_depth=5, reg_lambda=0, scale_pos_weight=3, subsample=0.8;, score=0.814 total time=   1.0s\n",
      "[CV 3/5] END colsample_bytree=0.5, gamma=0.25, learning_rate=0.05, max_depth=5, reg_lambda=0, scale_pos_weight=3, subsample=0.8;, score=0.810 total time=   1.0s\n",
      "[CV 4/5] END colsample_bytree=0.5, gamma=0.25, learning_rate=0.05, max_depth=5, reg_lambda=0, scale_pos_weight=3, subsample=0.8;, score=0.817 total time=   1.0s\n",
      "[CV 5/5] END colsample_bytree=0.5, gamma=0.25, learning_rate=0.05, max_depth=5, reg_lambda=0, scale_pos_weight=3, subsample=0.8;, score=0.811 total time=   1.0s\n",
      "[CV 1/5] END colsample_bytree=0.5, gamma=0.25, learning_rate=0.05, max_depth=5, reg_lambda=0, scale_pos_weight=5, subsample=0.8;, score=0.815 total time=   0.9s\n",
      "[CV 2/5] END colsample_bytree=0.5, gamma=0.25, learning_rate=0.05, max_depth=5, reg_lambda=0, scale_pos_weight=5, subsample=0.8;, score=0.811 total time=   1.0s\n",
      "[CV 3/5] END colsample_bytree=0.5, gamma=0.25, learning_rate=0.05, max_depth=5, reg_lambda=0, scale_pos_weight=5, subsample=0.8;, score=0.807 total time=   1.0s\n",
      "[CV 4/5] END colsample_bytree=0.5, gamma=0.25, learning_rate=0.05, max_depth=5, reg_lambda=0, scale_pos_weight=5, subsample=0.8;, score=0.814 total time=   1.0s\n",
      "[CV 5/5] END colsample_bytree=0.5, gamma=0.25, learning_rate=0.05, max_depth=5, reg_lambda=0, scale_pos_weight=5, subsample=0.8;, score=0.808 total time=   0.9s\n",
      "[CV 1/5] END colsample_bytree=0.5, gamma=0.25, learning_rate=0.05, max_depth=5, reg_lambda=1, scale_pos_weight=1, subsample=0.8;, score=0.867 total time=   1.0s\n",
      "[CV 2/5] END colsample_bytree=0.5, gamma=0.25, learning_rate=0.05, max_depth=5, reg_lambda=1, scale_pos_weight=1, subsample=0.8;, score=0.866 total time=   1.0s\n",
      "[CV 3/5] END colsample_bytree=0.5, gamma=0.25, learning_rate=0.05, max_depth=5, reg_lambda=1, scale_pos_weight=1, subsample=0.8;, score=0.862 total time=   0.9s\n",
      "[CV 4/5] END colsample_bytree=0.5, gamma=0.25, learning_rate=0.05, max_depth=5, reg_lambda=1, scale_pos_weight=1, subsample=0.8;, score=0.864 total time=   1.0s\n",
      "[CV 5/5] END colsample_bytree=0.5, gamma=0.25, learning_rate=0.05, max_depth=5, reg_lambda=1, scale_pos_weight=1, subsample=0.8;, score=0.862 total time=   0.9s\n",
      "[CV 1/5] END colsample_bytree=0.5, gamma=0.25, learning_rate=0.05, max_depth=5, reg_lambda=1, scale_pos_weight=3, subsample=0.8;, score=0.819 total time=   0.9s\n",
      "[CV 2/5] END colsample_bytree=0.5, gamma=0.25, learning_rate=0.05, max_depth=5, reg_lambda=1, scale_pos_weight=3, subsample=0.8;, score=0.814 total time=   1.0s\n",
      "[CV 3/5] END colsample_bytree=0.5, gamma=0.25, learning_rate=0.05, max_depth=5, reg_lambda=1, scale_pos_weight=3, subsample=0.8;, score=0.810 total time=   1.0s\n",
      "[CV 4/5] END colsample_bytree=0.5, gamma=0.25, learning_rate=0.05, max_depth=5, reg_lambda=1, scale_pos_weight=3, subsample=0.8;, score=0.817 total time=   1.0s\n",
      "[CV 5/5] END colsample_bytree=0.5, gamma=0.25, learning_rate=0.05, max_depth=5, reg_lambda=1, scale_pos_weight=3, subsample=0.8;, score=0.811 total time=   1.0s\n",
      "[CV 1/5] END colsample_bytree=0.5, gamma=0.25, learning_rate=0.05, max_depth=5, reg_lambda=1, scale_pos_weight=5, subsample=0.8;, score=0.815 total time=   0.9s\n",
      "[CV 2/5] END colsample_bytree=0.5, gamma=0.25, learning_rate=0.05, max_depth=5, reg_lambda=1, scale_pos_weight=5, subsample=0.8;, score=0.811 total time=   1.0s\n",
      "[CV 3/5] END colsample_bytree=0.5, gamma=0.25, learning_rate=0.05, max_depth=5, reg_lambda=1, scale_pos_weight=5, subsample=0.8;, score=0.807 total time=   1.0s\n",
      "[CV 4/5] END colsample_bytree=0.5, gamma=0.25, learning_rate=0.05, max_depth=5, reg_lambda=1, scale_pos_weight=5, subsample=0.8;, score=0.813 total time=   1.0s\n",
      "[CV 5/5] END colsample_bytree=0.5, gamma=0.25, learning_rate=0.05, max_depth=5, reg_lambda=1, scale_pos_weight=5, subsample=0.8;, score=0.807 total time=   1.0s\n",
      "[CV 1/5] END colsample_bytree=0.5, gamma=0.25, learning_rate=0.05, max_depth=5, reg_lambda=10, scale_pos_weight=1, subsample=0.8;, score=0.867 total time=   0.9s\n",
      "[CV 2/5] END colsample_bytree=0.5, gamma=0.25, learning_rate=0.05, max_depth=5, reg_lambda=10, scale_pos_weight=1, subsample=0.8;, score=0.866 total time=   0.9s\n",
      "[CV 3/5] END colsample_bytree=0.5, gamma=0.25, learning_rate=0.05, max_depth=5, reg_lambda=10, scale_pos_weight=1, subsample=0.8;, score=0.862 total time=   1.0s\n",
      "[CV 4/5] END colsample_bytree=0.5, gamma=0.25, learning_rate=0.05, max_depth=5, reg_lambda=10, scale_pos_weight=1, subsample=0.8;, score=0.864 total time=   0.9s\n",
      "[CV 5/5] END colsample_bytree=0.5, gamma=0.25, learning_rate=0.05, max_depth=5, reg_lambda=10, scale_pos_weight=1, subsample=0.8;, score=0.862 total time=   0.9s\n",
      "[CV 1/5] END colsample_bytree=0.5, gamma=0.25, learning_rate=0.05, max_depth=5, reg_lambda=10, scale_pos_weight=3, subsample=0.8;, score=0.819 total time=   1.0s\n",
      "[CV 2/5] END colsample_bytree=0.5, gamma=0.25, learning_rate=0.05, max_depth=5, reg_lambda=10, scale_pos_weight=3, subsample=0.8;, score=0.814 total time=   0.9s\n",
      "[CV 3/5] END colsample_bytree=0.5, gamma=0.25, learning_rate=0.05, max_depth=5, reg_lambda=10, scale_pos_weight=3, subsample=0.8;, score=0.810 total time=   1.0s\n",
      "[CV 4/5] END colsample_bytree=0.5, gamma=0.25, learning_rate=0.05, max_depth=5, reg_lambda=10, scale_pos_weight=3, subsample=0.8;, score=0.817 total time=   0.9s\n",
      "[CV 5/5] END colsample_bytree=0.5, gamma=0.25, learning_rate=0.05, max_depth=5, reg_lambda=10, scale_pos_weight=3, subsample=0.8;, score=0.810 total time=   0.9s\n",
      "[CV 1/5] END colsample_bytree=0.5, gamma=0.25, learning_rate=0.05, max_depth=5, reg_lambda=10, scale_pos_weight=5, subsample=0.8;, score=0.815 total time=   1.0s\n",
      "[CV 2/5] END colsample_bytree=0.5, gamma=0.25, learning_rate=0.05, max_depth=5, reg_lambda=10, scale_pos_weight=5, subsample=0.8;, score=0.810 total time=   0.9s\n",
      "[CV 3/5] END colsample_bytree=0.5, gamma=0.25, learning_rate=0.05, max_depth=5, reg_lambda=10, scale_pos_weight=5, subsample=0.8;, score=0.806 total time=   1.0s\n",
      "[CV 4/5] END colsample_bytree=0.5, gamma=0.25, learning_rate=0.05, max_depth=5, reg_lambda=10, scale_pos_weight=5, subsample=0.8;, score=0.813 total time=   0.9s\n",
      "[CV 5/5] END colsample_bytree=0.5, gamma=0.25, learning_rate=0.05, max_depth=5, reg_lambda=10, scale_pos_weight=5, subsample=0.8;, score=0.806 total time=   0.9s\n",
      "[CV 1/5] END colsample_bytree=0.5, gamma=0.25, learning_rate=0.05, max_depth=7, reg_lambda=0, scale_pos_weight=1, subsample=0.8;, score=0.867 total time=   1.2s\n"
     ]
    },
    {
     "name": "stdout",
     "output_type": "stream",
     "text": [
      "[CV 2/5] END colsample_bytree=0.5, gamma=0.25, learning_rate=0.05, max_depth=7, reg_lambda=0, scale_pos_weight=1, subsample=0.8;, score=0.866 total time=   1.2s\n",
      "[CV 3/5] END colsample_bytree=0.5, gamma=0.25, learning_rate=0.05, max_depth=7, reg_lambda=0, scale_pos_weight=1, subsample=0.8;, score=0.862 total time=   1.2s\n",
      "[CV 4/5] END colsample_bytree=0.5, gamma=0.25, learning_rate=0.05, max_depth=7, reg_lambda=0, scale_pos_weight=1, subsample=0.8;, score=0.864 total time=   1.2s\n",
      "[CV 5/5] END colsample_bytree=0.5, gamma=0.25, learning_rate=0.05, max_depth=7, reg_lambda=0, scale_pos_weight=1, subsample=0.8;, score=0.862 total time=   1.2s\n",
      "[CV 1/5] END colsample_bytree=0.5, gamma=0.25, learning_rate=0.05, max_depth=7, reg_lambda=0, scale_pos_weight=3, subsample=0.8;, score=0.819 total time=   1.2s\n",
      "[CV 2/5] END colsample_bytree=0.5, gamma=0.25, learning_rate=0.05, max_depth=7, reg_lambda=0, scale_pos_weight=3, subsample=0.8;, score=0.816 total time=   1.2s\n",
      "[CV 3/5] END colsample_bytree=0.5, gamma=0.25, learning_rate=0.05, max_depth=7, reg_lambda=0, scale_pos_weight=3, subsample=0.8;, score=0.811 total time=   1.2s\n",
      "[CV 4/5] END colsample_bytree=0.5, gamma=0.25, learning_rate=0.05, max_depth=7, reg_lambda=0, scale_pos_weight=3, subsample=0.8;, score=0.818 total time=   1.4s\n",
      "[CV 5/5] END colsample_bytree=0.5, gamma=0.25, learning_rate=0.05, max_depth=7, reg_lambda=0, scale_pos_weight=3, subsample=0.8;, score=0.812 total time=   1.3s\n",
      "[CV 1/5] END colsample_bytree=0.5, gamma=0.25, learning_rate=0.05, max_depth=7, reg_lambda=0, scale_pos_weight=5, subsample=0.8;, score=0.816 total time=   1.2s\n",
      "[CV 2/5] END colsample_bytree=0.5, gamma=0.25, learning_rate=0.05, max_depth=7, reg_lambda=0, scale_pos_weight=5, subsample=0.8;, score=0.813 total time=   1.2s\n",
      "[CV 3/5] END colsample_bytree=0.5, gamma=0.25, learning_rate=0.05, max_depth=7, reg_lambda=0, scale_pos_weight=5, subsample=0.8;, score=0.809 total time=   1.2s\n",
      "[CV 4/5] END colsample_bytree=0.5, gamma=0.25, learning_rate=0.05, max_depth=7, reg_lambda=0, scale_pos_weight=5, subsample=0.8;, score=0.815 total time=   1.2s\n",
      "[CV 5/5] END colsample_bytree=0.5, gamma=0.25, learning_rate=0.05, max_depth=7, reg_lambda=0, scale_pos_weight=5, subsample=0.8;, score=0.808 total time=   1.2s\n",
      "[CV 1/5] END colsample_bytree=0.5, gamma=0.25, learning_rate=0.05, max_depth=7, reg_lambda=1, scale_pos_weight=1, subsample=0.8;, score=0.867 total time=   1.2s\n",
      "[CV 2/5] END colsample_bytree=0.5, gamma=0.25, learning_rate=0.05, max_depth=7, reg_lambda=1, scale_pos_weight=1, subsample=0.8;, score=0.866 total time=   1.2s\n",
      "[CV 3/5] END colsample_bytree=0.5, gamma=0.25, learning_rate=0.05, max_depth=7, reg_lambda=1, scale_pos_weight=1, subsample=0.8;, score=0.862 total time=   1.2s\n",
      "[CV 4/5] END colsample_bytree=0.5, gamma=0.25, learning_rate=0.05, max_depth=7, reg_lambda=1, scale_pos_weight=1, subsample=0.8;, score=0.864 total time=   1.2s\n",
      "[CV 5/5] END colsample_bytree=0.5, gamma=0.25, learning_rate=0.05, max_depth=7, reg_lambda=1, scale_pos_weight=1, subsample=0.8;, score=0.862 total time=   1.2s\n",
      "[CV 1/5] END colsample_bytree=0.5, gamma=0.25, learning_rate=0.05, max_depth=7, reg_lambda=1, scale_pos_weight=3, subsample=0.8;, score=0.819 total time=   1.2s\n",
      "[CV 2/5] END colsample_bytree=0.5, gamma=0.25, learning_rate=0.05, max_depth=7, reg_lambda=1, scale_pos_weight=3, subsample=0.8;, score=0.815 total time=   1.2s\n",
      "[CV 3/5] END colsample_bytree=0.5, gamma=0.25, learning_rate=0.05, max_depth=7, reg_lambda=1, scale_pos_weight=3, subsample=0.8;, score=0.810 total time=   1.2s\n",
      "[CV 4/5] END colsample_bytree=0.5, gamma=0.25, learning_rate=0.05, max_depth=7, reg_lambda=1, scale_pos_weight=3, subsample=0.8;, score=0.818 total time=   1.2s\n",
      "[CV 5/5] END colsample_bytree=0.5, gamma=0.25, learning_rate=0.05, max_depth=7, reg_lambda=1, scale_pos_weight=3, subsample=0.8;, score=0.811 total time=   1.2s\n",
      "[CV 1/5] END colsample_bytree=0.5, gamma=0.25, learning_rate=0.05, max_depth=7, reg_lambda=1, scale_pos_weight=5, subsample=0.8;, score=0.815 total time=   1.2s\n",
      "[CV 2/5] END colsample_bytree=0.5, gamma=0.25, learning_rate=0.05, max_depth=7, reg_lambda=1, scale_pos_weight=5, subsample=0.8;, score=0.813 total time=   1.2s\n",
      "[CV 3/5] END colsample_bytree=0.5, gamma=0.25, learning_rate=0.05, max_depth=7, reg_lambda=1, scale_pos_weight=5, subsample=0.8;, score=0.809 total time=   1.2s\n",
      "[CV 4/5] END colsample_bytree=0.5, gamma=0.25, learning_rate=0.05, max_depth=7, reg_lambda=1, scale_pos_weight=5, subsample=0.8;, score=0.815 total time=   1.2s\n",
      "[CV 5/5] END colsample_bytree=0.5, gamma=0.25, learning_rate=0.05, max_depth=7, reg_lambda=1, scale_pos_weight=5, subsample=0.8;, score=0.807 total time=   1.2s\n",
      "[CV 1/5] END colsample_bytree=0.5, gamma=0.25, learning_rate=0.05, max_depth=7, reg_lambda=10, scale_pos_weight=1, subsample=0.8;, score=0.867 total time=   1.2s\n",
      "[CV 2/5] END colsample_bytree=0.5, gamma=0.25, learning_rate=0.05, max_depth=7, reg_lambda=10, scale_pos_weight=1, subsample=0.8;, score=0.866 total time=   1.2s\n",
      "[CV 3/5] END colsample_bytree=0.5, gamma=0.25, learning_rate=0.05, max_depth=7, reg_lambda=10, scale_pos_weight=1, subsample=0.8;, score=0.863 total time=   1.2s\n",
      "[CV 4/5] END colsample_bytree=0.5, gamma=0.25, learning_rate=0.05, max_depth=7, reg_lambda=10, scale_pos_weight=1, subsample=0.8;, score=0.864 total time=   1.2s\n",
      "[CV 5/5] END colsample_bytree=0.5, gamma=0.25, learning_rate=0.05, max_depth=7, reg_lambda=10, scale_pos_weight=1, subsample=0.8;, score=0.862 total time=   1.2s\n",
      "[CV 1/5] END colsample_bytree=0.5, gamma=0.25, learning_rate=0.05, max_depth=7, reg_lambda=10, scale_pos_weight=3, subsample=0.8;, score=0.819 total time=   1.2s\n",
      "[CV 2/5] END colsample_bytree=0.5, gamma=0.25, learning_rate=0.05, max_depth=7, reg_lambda=10, scale_pos_weight=3, subsample=0.8;, score=0.815 total time=   1.2s\n",
      "[CV 3/5] END colsample_bytree=0.5, gamma=0.25, learning_rate=0.05, max_depth=7, reg_lambda=10, scale_pos_weight=3, subsample=0.8;, score=0.810 total time=   1.2s\n",
      "[CV 4/5] END colsample_bytree=0.5, gamma=0.25, learning_rate=0.05, max_depth=7, reg_lambda=10, scale_pos_weight=3, subsample=0.8;, score=0.817 total time=   1.2s\n",
      "[CV 5/5] END colsample_bytree=0.5, gamma=0.25, learning_rate=0.05, max_depth=7, reg_lambda=10, scale_pos_weight=3, subsample=0.8;, score=0.811 total time=   1.2s\n",
      "[CV 1/5] END colsample_bytree=0.5, gamma=0.25, learning_rate=0.05, max_depth=7, reg_lambda=10, scale_pos_weight=5, subsample=0.8;, score=0.814 total time=   1.2s\n",
      "[CV 2/5] END colsample_bytree=0.5, gamma=0.25, learning_rate=0.05, max_depth=7, reg_lambda=10, scale_pos_weight=5, subsample=0.8;, score=0.811 total time=   1.2s\n",
      "[CV 3/5] END colsample_bytree=0.5, gamma=0.25, learning_rate=0.05, max_depth=7, reg_lambda=10, scale_pos_weight=5, subsample=0.8;, score=0.807 total time=   1.2s\n",
      "[CV 4/5] END colsample_bytree=0.5, gamma=0.25, learning_rate=0.05, max_depth=7, reg_lambda=10, scale_pos_weight=5, subsample=0.8;, score=0.813 total time=   1.2s\n",
      "[CV 5/5] END colsample_bytree=0.5, gamma=0.25, learning_rate=0.05, max_depth=7, reg_lambda=10, scale_pos_weight=5, subsample=0.8;, score=0.806 total time=   1.2s\n",
      "[CV 1/5] END colsample_bytree=0.5, gamma=1, learning_rate=0.1, max_depth=3, reg_lambda=0, scale_pos_weight=1, subsample=0.8;, score=0.867 total time=   0.7s\n",
      "[CV 2/5] END colsample_bytree=0.5, gamma=1, learning_rate=0.1, max_depth=3, reg_lambda=0, scale_pos_weight=1, subsample=0.8;, score=0.866 total time=   0.7s\n",
      "[CV 3/5] END colsample_bytree=0.5, gamma=1, learning_rate=0.1, max_depth=3, reg_lambda=0, scale_pos_weight=1, subsample=0.8;, score=0.862 total time=   0.7s\n",
      "[CV 4/5] END colsample_bytree=0.5, gamma=1, learning_rate=0.1, max_depth=3, reg_lambda=0, scale_pos_weight=1, subsample=0.8;, score=0.864 total time=   0.7s\n",
      "[CV 5/5] END colsample_bytree=0.5, gamma=1, learning_rate=0.1, max_depth=3, reg_lambda=0, scale_pos_weight=1, subsample=0.8;, score=0.862 total time=   0.8s\n",
      "[CV 1/5] END colsample_bytree=0.5, gamma=1, learning_rate=0.1, max_depth=3, reg_lambda=0, scale_pos_weight=3, subsample=0.8;, score=0.836 total time=   0.8s\n",
      "[CV 2/5] END colsample_bytree=0.5, gamma=1, learning_rate=0.1, max_depth=3, reg_lambda=0, scale_pos_weight=3, subsample=0.8;, score=0.834 total time=   0.7s\n"
     ]
    },
    {
     "name": "stdout",
     "output_type": "stream",
     "text": [
      "[CV 3/5] END colsample_bytree=0.5, gamma=1, learning_rate=0.1, max_depth=3, reg_lambda=0, scale_pos_weight=3, subsample=0.8;, score=0.835 total time=   0.7s\n",
      "[CV 4/5] END colsample_bytree=0.5, gamma=1, learning_rate=0.1, max_depth=3, reg_lambda=0, scale_pos_weight=3, subsample=0.8;, score=0.840 total time=   0.7s\n",
      "[CV 5/5] END colsample_bytree=0.5, gamma=1, learning_rate=0.1, max_depth=3, reg_lambda=0, scale_pos_weight=3, subsample=0.8;, score=0.837 total time=   0.7s\n",
      "[CV 1/5] END colsample_bytree=0.5, gamma=1, learning_rate=0.1, max_depth=3, reg_lambda=0, scale_pos_weight=5, subsample=0.8;, score=0.816 total time=   0.7s\n",
      "[CV 2/5] END colsample_bytree=0.5, gamma=1, learning_rate=0.1, max_depth=3, reg_lambda=0, scale_pos_weight=5, subsample=0.8;, score=0.812 total time=   0.7s\n",
      "[CV 3/5] END colsample_bytree=0.5, gamma=1, learning_rate=0.1, max_depth=3, reg_lambda=0, scale_pos_weight=5, subsample=0.8;, score=0.808 total time=   0.7s\n",
      "[CV 4/5] END colsample_bytree=0.5, gamma=1, learning_rate=0.1, max_depth=3, reg_lambda=0, scale_pos_weight=5, subsample=0.8;, score=0.814 total time=   0.8s\n",
      "[CV 5/5] END colsample_bytree=0.5, gamma=1, learning_rate=0.1, max_depth=3, reg_lambda=0, scale_pos_weight=5, subsample=0.8;, score=0.808 total time=   0.7s\n",
      "[CV 1/5] END colsample_bytree=0.5, gamma=1, learning_rate=0.1, max_depth=3, reg_lambda=1, scale_pos_weight=1, subsample=0.8;, score=0.867 total time=   0.7s\n",
      "[CV 2/5] END colsample_bytree=0.5, gamma=1, learning_rate=0.1, max_depth=3, reg_lambda=1, scale_pos_weight=1, subsample=0.8;, score=0.866 total time=   0.7s\n",
      "[CV 3/5] END colsample_bytree=0.5, gamma=1, learning_rate=0.1, max_depth=3, reg_lambda=1, scale_pos_weight=1, subsample=0.8;, score=0.862 total time=   0.7s\n",
      "[CV 4/5] END colsample_bytree=0.5, gamma=1, learning_rate=0.1, max_depth=3, reg_lambda=1, scale_pos_weight=1, subsample=0.8;, score=0.864 total time=   0.7s\n",
      "[CV 5/5] END colsample_bytree=0.5, gamma=1, learning_rate=0.1, max_depth=3, reg_lambda=1, scale_pos_weight=1, subsample=0.8;, score=0.862 total time=   0.7s\n",
      "[CV 1/5] END colsample_bytree=0.5, gamma=1, learning_rate=0.1, max_depth=3, reg_lambda=1, scale_pos_weight=3, subsample=0.8;, score=0.839 total time=   0.7s\n",
      "[CV 2/5] END colsample_bytree=0.5, gamma=1, learning_rate=0.1, max_depth=3, reg_lambda=1, scale_pos_weight=3, subsample=0.8;, score=0.834 total time=   0.7s\n",
      "[CV 3/5] END colsample_bytree=0.5, gamma=1, learning_rate=0.1, max_depth=3, reg_lambda=1, scale_pos_weight=3, subsample=0.8;, score=0.836 total time=   0.7s\n",
      "[CV 4/5] END colsample_bytree=0.5, gamma=1, learning_rate=0.1, max_depth=3, reg_lambda=1, scale_pos_weight=3, subsample=0.8;, score=0.840 total time=   0.7s\n",
      "[CV 5/5] END colsample_bytree=0.5, gamma=1, learning_rate=0.1, max_depth=3, reg_lambda=1, scale_pos_weight=3, subsample=0.8;, score=0.838 total time=   0.7s\n",
      "[CV 1/5] END colsample_bytree=0.5, gamma=1, learning_rate=0.1, max_depth=3, reg_lambda=1, scale_pos_weight=5, subsample=0.8;, score=0.816 total time=   0.7s\n",
      "[CV 2/5] END colsample_bytree=0.5, gamma=1, learning_rate=0.1, max_depth=3, reg_lambda=1, scale_pos_weight=5, subsample=0.8;, score=0.812 total time=   0.8s\n",
      "[CV 3/5] END colsample_bytree=0.5, gamma=1, learning_rate=0.1, max_depth=3, reg_lambda=1, scale_pos_weight=5, subsample=0.8;, score=0.808 total time=   0.8s\n",
      "[CV 4/5] END colsample_bytree=0.5, gamma=1, learning_rate=0.1, max_depth=3, reg_lambda=1, scale_pos_weight=5, subsample=0.8;, score=0.813 total time=   0.8s\n",
      "[CV 5/5] END colsample_bytree=0.5, gamma=1, learning_rate=0.1, max_depth=3, reg_lambda=1, scale_pos_weight=5, subsample=0.8;, score=0.808 total time=   0.8s\n",
      "[CV 1/5] END colsample_bytree=0.5, gamma=1, learning_rate=0.1, max_depth=3, reg_lambda=10, scale_pos_weight=1, subsample=0.8;, score=0.867 total time=   0.7s\n",
      "[CV 2/5] END colsample_bytree=0.5, gamma=1, learning_rate=0.1, max_depth=3, reg_lambda=10, scale_pos_weight=1, subsample=0.8;, score=0.866 total time=   0.7s\n",
      "[CV 3/5] END colsample_bytree=0.5, gamma=1, learning_rate=0.1, max_depth=3, reg_lambda=10, scale_pos_weight=1, subsample=0.8;, score=0.862 total time=   0.7s\n",
      "[CV 4/5] END colsample_bytree=0.5, gamma=1, learning_rate=0.1, max_depth=3, reg_lambda=10, scale_pos_weight=1, subsample=0.8;, score=0.864 total time=   0.7s\n",
      "[CV 5/5] END colsample_bytree=0.5, gamma=1, learning_rate=0.1, max_depth=3, reg_lambda=10, scale_pos_weight=1, subsample=0.8;, score=0.862 total time=   0.7s\n",
      "[CV 1/5] END colsample_bytree=0.5, gamma=1, learning_rate=0.1, max_depth=3, reg_lambda=10, scale_pos_weight=3, subsample=0.8;, score=0.836 total time=   0.7s\n",
      "[CV 2/5] END colsample_bytree=0.5, gamma=1, learning_rate=0.1, max_depth=3, reg_lambda=10, scale_pos_weight=3, subsample=0.8;, score=0.834 total time=   0.7s\n",
      "[CV 3/5] END colsample_bytree=0.5, gamma=1, learning_rate=0.1, max_depth=3, reg_lambda=10, scale_pos_weight=3, subsample=0.8;, score=0.835 total time=   0.7s\n",
      "[CV 4/5] END colsample_bytree=0.5, gamma=1, learning_rate=0.1, max_depth=3, reg_lambda=10, scale_pos_weight=3, subsample=0.8;, score=0.840 total time=   0.7s\n",
      "[CV 5/5] END colsample_bytree=0.5, gamma=1, learning_rate=0.1, max_depth=3, reg_lambda=10, scale_pos_weight=3, subsample=0.8;, score=0.837 total time=   0.7s\n",
      "[CV 1/5] END colsample_bytree=0.5, gamma=1, learning_rate=0.1, max_depth=3, reg_lambda=10, scale_pos_weight=5, subsample=0.8;, score=0.816 total time=   0.7s\n",
      "[CV 2/5] END colsample_bytree=0.5, gamma=1, learning_rate=0.1, max_depth=3, reg_lambda=10, scale_pos_weight=5, subsample=0.8;, score=0.812 total time=   0.7s\n",
      "[CV 3/5] END colsample_bytree=0.5, gamma=1, learning_rate=0.1, max_depth=3, reg_lambda=10, scale_pos_weight=5, subsample=0.8;, score=0.807 total time=   0.7s\n",
      "[CV 4/5] END colsample_bytree=0.5, gamma=1, learning_rate=0.1, max_depth=3, reg_lambda=10, scale_pos_weight=5, subsample=0.8;, score=0.813 total time=   0.7s\n",
      "[CV 5/5] END colsample_bytree=0.5, gamma=1, learning_rate=0.1, max_depth=3, reg_lambda=10, scale_pos_weight=5, subsample=0.8;, score=0.808 total time=   0.7s\n",
      "[CV 1/5] END colsample_bytree=0.5, gamma=1, learning_rate=0.1, max_depth=4, reg_lambda=0, scale_pos_weight=1, subsample=0.8;, score=0.867 total time=   0.8s\n",
      "[CV 2/5] END colsample_bytree=0.5, gamma=1, learning_rate=0.1, max_depth=4, reg_lambda=0, scale_pos_weight=1, subsample=0.8;, score=0.865 total time=   0.8s\n",
      "[CV 3/5] END colsample_bytree=0.5, gamma=1, learning_rate=0.1, max_depth=4, reg_lambda=0, scale_pos_weight=1, subsample=0.8;, score=0.862 total time=   0.8s\n",
      "[CV 4/5] END colsample_bytree=0.5, gamma=1, learning_rate=0.1, max_depth=4, reg_lambda=0, scale_pos_weight=1, subsample=0.8;, score=0.865 total time=   0.8s\n",
      "[CV 5/5] END colsample_bytree=0.5, gamma=1, learning_rate=0.1, max_depth=4, reg_lambda=0, scale_pos_weight=1, subsample=0.8;, score=0.862 total time=   0.8s\n",
      "[CV 1/5] END colsample_bytree=0.5, gamma=1, learning_rate=0.1, max_depth=4, reg_lambda=0, scale_pos_weight=3, subsample=0.8;, score=0.835 total time=   0.8s\n",
      "[CV 2/5] END colsample_bytree=0.5, gamma=1, learning_rate=0.1, max_depth=4, reg_lambda=0, scale_pos_weight=3, subsample=0.8;, score=0.833 total time=   0.8s\n",
      "[CV 3/5] END colsample_bytree=0.5, gamma=1, learning_rate=0.1, max_depth=4, reg_lambda=0, scale_pos_weight=3, subsample=0.8;, score=0.828 total time=   0.8s\n",
      "[CV 4/5] END colsample_bytree=0.5, gamma=1, learning_rate=0.1, max_depth=4, reg_lambda=0, scale_pos_weight=3, subsample=0.8;, score=0.835 total time=   0.8s\n",
      "[CV 5/5] END colsample_bytree=0.5, gamma=1, learning_rate=0.1, max_depth=4, reg_lambda=0, scale_pos_weight=3, subsample=0.8;, score=0.831 total time=   0.8s\n",
      "[CV 1/5] END colsample_bytree=0.5, gamma=1, learning_rate=0.1, max_depth=4, reg_lambda=0, scale_pos_weight=5, subsample=0.8;, score=0.816 total time=   0.8s\n",
      "[CV 2/5] END colsample_bytree=0.5, gamma=1, learning_rate=0.1, max_depth=4, reg_lambda=0, scale_pos_weight=5, subsample=0.8;, score=0.812 total time=   0.8s\n",
      "[CV 3/5] END colsample_bytree=0.5, gamma=1, learning_rate=0.1, max_depth=4, reg_lambda=0, scale_pos_weight=5, subsample=0.8;, score=0.809 total time=   0.8s\n",
      "[CV 4/5] END colsample_bytree=0.5, gamma=1, learning_rate=0.1, max_depth=4, reg_lambda=0, scale_pos_weight=5, subsample=0.8;, score=0.815 total time=   0.8s\n",
      "[CV 5/5] END colsample_bytree=0.5, gamma=1, learning_rate=0.1, max_depth=4, reg_lambda=0, scale_pos_weight=5, subsample=0.8;, score=0.809 total time=   0.8s\n"
     ]
    },
    {
     "name": "stdout",
     "output_type": "stream",
     "text": [
      "[CV 1/5] END colsample_bytree=0.5, gamma=1, learning_rate=0.1, max_depth=4, reg_lambda=1, scale_pos_weight=1, subsample=0.8;, score=0.867 total time=   0.8s\n",
      "[CV 2/5] END colsample_bytree=0.5, gamma=1, learning_rate=0.1, max_depth=4, reg_lambda=1, scale_pos_weight=1, subsample=0.8;, score=0.866 total time=   0.8s\n",
      "[CV 3/5] END colsample_bytree=0.5, gamma=1, learning_rate=0.1, max_depth=4, reg_lambda=1, scale_pos_weight=1, subsample=0.8;, score=0.862 total time=   0.8s\n",
      "[CV 4/5] END colsample_bytree=0.5, gamma=1, learning_rate=0.1, max_depth=4, reg_lambda=1, scale_pos_weight=1, subsample=0.8;, score=0.865 total time=   0.8s\n",
      "[CV 5/5] END colsample_bytree=0.5, gamma=1, learning_rate=0.1, max_depth=4, reg_lambda=1, scale_pos_weight=1, subsample=0.8;, score=0.862 total time=   0.8s\n",
      "[CV 1/5] END colsample_bytree=0.5, gamma=1, learning_rate=0.1, max_depth=4, reg_lambda=1, scale_pos_weight=3, subsample=0.8;, score=0.835 total time=   0.8s\n",
      "[CV 2/5] END colsample_bytree=0.5, gamma=1, learning_rate=0.1, max_depth=4, reg_lambda=1, scale_pos_weight=3, subsample=0.8;, score=0.833 total time=   0.8s\n",
      "[CV 3/5] END colsample_bytree=0.5, gamma=1, learning_rate=0.1, max_depth=4, reg_lambda=1, scale_pos_weight=3, subsample=0.8;, score=0.829 total time=   0.8s\n",
      "[CV 4/5] END colsample_bytree=0.5, gamma=1, learning_rate=0.1, max_depth=4, reg_lambda=1, scale_pos_weight=3, subsample=0.8;, score=0.834 total time=   0.8s\n",
      "[CV 5/5] END colsample_bytree=0.5, gamma=1, learning_rate=0.1, max_depth=4, reg_lambda=1, scale_pos_weight=3, subsample=0.8;, score=0.831 total time=   0.8s\n",
      "[CV 1/5] END colsample_bytree=0.5, gamma=1, learning_rate=0.1, max_depth=4, reg_lambda=1, scale_pos_weight=5, subsample=0.8;, score=0.816 total time=   0.8s\n",
      "[CV 2/5] END colsample_bytree=0.5, gamma=1, learning_rate=0.1, max_depth=4, reg_lambda=1, scale_pos_weight=5, subsample=0.8;, score=0.812 total time=   0.8s\n",
      "[CV 3/5] END colsample_bytree=0.5, gamma=1, learning_rate=0.1, max_depth=4, reg_lambda=1, scale_pos_weight=5, subsample=0.8;, score=0.808 total time=   0.8s\n",
      "[CV 4/5] END colsample_bytree=0.5, gamma=1, learning_rate=0.1, max_depth=4, reg_lambda=1, scale_pos_weight=5, subsample=0.8;, score=0.815 total time=   0.8s\n",
      "[CV 5/5] END colsample_bytree=0.5, gamma=1, learning_rate=0.1, max_depth=4, reg_lambda=1, scale_pos_weight=5, subsample=0.8;, score=0.809 total time=   0.8s\n",
      "[CV 1/5] END colsample_bytree=0.5, gamma=1, learning_rate=0.1, max_depth=4, reg_lambda=10, scale_pos_weight=1, subsample=0.8;, score=0.867 total time=   0.8s\n",
      "[CV 2/5] END colsample_bytree=0.5, gamma=1, learning_rate=0.1, max_depth=4, reg_lambda=10, scale_pos_weight=1, subsample=0.8;, score=0.865 total time=   0.8s\n",
      "[CV 3/5] END colsample_bytree=0.5, gamma=1, learning_rate=0.1, max_depth=4, reg_lambda=10, scale_pos_weight=1, subsample=0.8;, score=0.862 total time=   0.8s\n",
      "[CV 4/5] END colsample_bytree=0.5, gamma=1, learning_rate=0.1, max_depth=4, reg_lambda=10, scale_pos_weight=1, subsample=0.8;, score=0.865 total time=   0.8s\n",
      "[CV 5/5] END colsample_bytree=0.5, gamma=1, learning_rate=0.1, max_depth=4, reg_lambda=10, scale_pos_weight=1, subsample=0.8;, score=0.862 total time=   0.8s\n",
      "[CV 1/5] END colsample_bytree=0.5, gamma=1, learning_rate=0.1, max_depth=4, reg_lambda=10, scale_pos_weight=3, subsample=0.8;, score=0.834 total time=   0.8s\n",
      "[CV 2/5] END colsample_bytree=0.5, gamma=1, learning_rate=0.1, max_depth=4, reg_lambda=10, scale_pos_weight=3, subsample=0.8;, score=0.833 total time=   0.8s\n",
      "[CV 3/5] END colsample_bytree=0.5, gamma=1, learning_rate=0.1, max_depth=4, reg_lambda=10, scale_pos_weight=3, subsample=0.8;, score=0.829 total time=   0.8s\n",
      "[CV 4/5] END colsample_bytree=0.5, gamma=1, learning_rate=0.1, max_depth=4, reg_lambda=10, scale_pos_weight=3, subsample=0.8;, score=0.834 total time=   0.8s\n",
      "[CV 5/5] END colsample_bytree=0.5, gamma=1, learning_rate=0.1, max_depth=4, reg_lambda=10, scale_pos_weight=3, subsample=0.8;, score=0.830 total time=   0.8s\n",
      "[CV 1/5] END colsample_bytree=0.5, gamma=1, learning_rate=0.1, max_depth=4, reg_lambda=10, scale_pos_weight=5, subsample=0.8;, score=0.816 total time=   0.8s\n",
      "[CV 2/5] END colsample_bytree=0.5, gamma=1, learning_rate=0.1, max_depth=4, reg_lambda=10, scale_pos_weight=5, subsample=0.8;, score=0.811 total time=   0.8s\n",
      "[CV 3/5] END colsample_bytree=0.5, gamma=1, learning_rate=0.1, max_depth=4, reg_lambda=10, scale_pos_weight=5, subsample=0.8;, score=0.809 total time=   0.8s\n",
      "[CV 4/5] END colsample_bytree=0.5, gamma=1, learning_rate=0.1, max_depth=4, reg_lambda=10, scale_pos_weight=5, subsample=0.8;, score=0.814 total time=   0.8s\n",
      "[CV 5/5] END colsample_bytree=0.5, gamma=1, learning_rate=0.1, max_depth=4, reg_lambda=10, scale_pos_weight=5, subsample=0.8;, score=0.809 total time=   0.8s\n",
      "[CV 1/5] END colsample_bytree=0.5, gamma=1, learning_rate=0.1, max_depth=5, reg_lambda=0, scale_pos_weight=1, subsample=0.8;, score=0.867 total time=   0.9s\n",
      "[CV 2/5] END colsample_bytree=0.5, gamma=1, learning_rate=0.1, max_depth=5, reg_lambda=0, scale_pos_weight=1, subsample=0.8;, score=0.866 total time=   0.9s\n",
      "[CV 3/5] END colsample_bytree=0.5, gamma=1, learning_rate=0.1, max_depth=5, reg_lambda=0, scale_pos_weight=1, subsample=0.8;, score=0.863 total time=   1.0s\n",
      "[CV 4/5] END colsample_bytree=0.5, gamma=1, learning_rate=0.1, max_depth=5, reg_lambda=0, scale_pos_weight=1, subsample=0.8;, score=0.865 total time=   1.0s\n",
      "[CV 5/5] END colsample_bytree=0.5, gamma=1, learning_rate=0.1, max_depth=5, reg_lambda=0, scale_pos_weight=1, subsample=0.8;, score=0.862 total time=   1.0s\n",
      "[CV 1/5] END colsample_bytree=0.5, gamma=1, learning_rate=0.1, max_depth=5, reg_lambda=0, scale_pos_weight=3, subsample=0.8;, score=0.835 total time=   0.9s\n",
      "[CV 2/5] END colsample_bytree=0.5, gamma=1, learning_rate=0.1, max_depth=5, reg_lambda=0, scale_pos_weight=3, subsample=0.8;, score=0.834 total time=   0.9s\n",
      "[CV 3/5] END colsample_bytree=0.5, gamma=1, learning_rate=0.1, max_depth=5, reg_lambda=0, scale_pos_weight=3, subsample=0.8;, score=0.828 total time=   0.9s\n",
      "[CV 4/5] END colsample_bytree=0.5, gamma=1, learning_rate=0.1, max_depth=5, reg_lambda=0, scale_pos_weight=3, subsample=0.8;, score=0.834 total time=   0.9s\n",
      "[CV 5/5] END colsample_bytree=0.5, gamma=1, learning_rate=0.1, max_depth=5, reg_lambda=0, scale_pos_weight=3, subsample=0.8;, score=0.831 total time=   0.9s\n",
      "[CV 1/5] END colsample_bytree=0.5, gamma=1, learning_rate=0.1, max_depth=5, reg_lambda=0, scale_pos_weight=5, subsample=0.8;, score=0.817 total time=   0.9s\n",
      "[CV 2/5] END colsample_bytree=0.5, gamma=1, learning_rate=0.1, max_depth=5, reg_lambda=0, scale_pos_weight=5, subsample=0.8;, score=0.813 total time=   0.9s\n",
      "[CV 3/5] END colsample_bytree=0.5, gamma=1, learning_rate=0.1, max_depth=5, reg_lambda=0, scale_pos_weight=5, subsample=0.8;, score=0.809 total time=   1.0s\n",
      "[CV 4/5] END colsample_bytree=0.5, gamma=1, learning_rate=0.1, max_depth=5, reg_lambda=0, scale_pos_weight=5, subsample=0.8;, score=0.816 total time=   0.9s\n",
      "[CV 5/5] END colsample_bytree=0.5, gamma=1, learning_rate=0.1, max_depth=5, reg_lambda=0, scale_pos_weight=5, subsample=0.8;, score=0.809 total time=   0.9s\n",
      "[CV 1/5] END colsample_bytree=0.5, gamma=1, learning_rate=0.1, max_depth=5, reg_lambda=1, scale_pos_weight=1, subsample=0.8;, score=0.867 total time=   0.9s\n",
      "[CV 2/5] END colsample_bytree=0.5, gamma=1, learning_rate=0.1, max_depth=5, reg_lambda=1, scale_pos_weight=1, subsample=0.8;, score=0.866 total time=   0.9s\n",
      "[CV 3/5] END colsample_bytree=0.5, gamma=1, learning_rate=0.1, max_depth=5, reg_lambda=1, scale_pos_weight=1, subsample=0.8;, score=0.863 total time=   1.0s\n",
      "[CV 4/5] END colsample_bytree=0.5, gamma=1, learning_rate=0.1, max_depth=5, reg_lambda=1, scale_pos_weight=1, subsample=0.8;, score=0.864 total time=   0.9s\n",
      "[CV 5/5] END colsample_bytree=0.5, gamma=1, learning_rate=0.1, max_depth=5, reg_lambda=1, scale_pos_weight=1, subsample=0.8;, score=0.862 total time=   0.9s\n",
      "[CV 1/5] END colsample_bytree=0.5, gamma=1, learning_rate=0.1, max_depth=5, reg_lambda=1, scale_pos_weight=3, subsample=0.8;, score=0.835 total time=   0.9s\n",
      "[CV 2/5] END colsample_bytree=0.5, gamma=1, learning_rate=0.1, max_depth=5, reg_lambda=1, scale_pos_weight=3, subsample=0.8;, score=0.834 total time=   0.9s\n",
      "[CV 3/5] END colsample_bytree=0.5, gamma=1, learning_rate=0.1, max_depth=5, reg_lambda=1, scale_pos_weight=3, subsample=0.8;, score=0.828 total time=   0.9s\n"
     ]
    },
    {
     "name": "stdout",
     "output_type": "stream",
     "text": [
      "[CV 4/5] END colsample_bytree=0.5, gamma=1, learning_rate=0.1, max_depth=5, reg_lambda=1, scale_pos_weight=3, subsample=0.8;, score=0.834 total time=   0.9s\n",
      "[CV 5/5] END colsample_bytree=0.5, gamma=1, learning_rate=0.1, max_depth=5, reg_lambda=1, scale_pos_weight=3, subsample=0.8;, score=0.831 total time=   0.9s\n",
      "[CV 1/5] END colsample_bytree=0.5, gamma=1, learning_rate=0.1, max_depth=5, reg_lambda=1, scale_pos_weight=5, subsample=0.8;, score=0.817 total time=   0.9s\n",
      "[CV 2/5] END colsample_bytree=0.5, gamma=1, learning_rate=0.1, max_depth=5, reg_lambda=1, scale_pos_weight=5, subsample=0.8;, score=0.813 total time=   0.9s\n",
      "[CV 3/5] END colsample_bytree=0.5, gamma=1, learning_rate=0.1, max_depth=5, reg_lambda=1, scale_pos_weight=5, subsample=0.8;, score=0.809 total time=   1.0s\n",
      "[CV 4/5] END colsample_bytree=0.5, gamma=1, learning_rate=0.1, max_depth=5, reg_lambda=1, scale_pos_weight=5, subsample=0.8;, score=0.815 total time=   1.0s\n",
      "[CV 5/5] END colsample_bytree=0.5, gamma=1, learning_rate=0.1, max_depth=5, reg_lambda=1, scale_pos_weight=5, subsample=0.8;, score=0.809 total time=   0.9s\n",
      "[CV 1/5] END colsample_bytree=0.5, gamma=1, learning_rate=0.1, max_depth=5, reg_lambda=10, scale_pos_weight=1, subsample=0.8;, score=0.867 total time=   0.9s\n",
      "[CV 2/5] END colsample_bytree=0.5, gamma=1, learning_rate=0.1, max_depth=5, reg_lambda=10, scale_pos_weight=1, subsample=0.8;, score=0.866 total time=   0.9s\n",
      "[CV 3/5] END colsample_bytree=0.5, gamma=1, learning_rate=0.1, max_depth=5, reg_lambda=10, scale_pos_weight=1, subsample=0.8;, score=0.862 total time=   1.0s\n",
      "[CV 4/5] END colsample_bytree=0.5, gamma=1, learning_rate=0.1, max_depth=5, reg_lambda=10, scale_pos_weight=1, subsample=0.8;, score=0.864 total time=   0.9s\n",
      "[CV 5/5] END colsample_bytree=0.5, gamma=1, learning_rate=0.1, max_depth=5, reg_lambda=10, scale_pos_weight=1, subsample=0.8;, score=0.863 total time=   0.9s\n",
      "[CV 1/5] END colsample_bytree=0.5, gamma=1, learning_rate=0.1, max_depth=5, reg_lambda=10, scale_pos_weight=3, subsample=0.8;, score=0.834 total time=   0.9s\n",
      "[CV 2/5] END colsample_bytree=0.5, gamma=1, learning_rate=0.1, max_depth=5, reg_lambda=10, scale_pos_weight=3, subsample=0.8;, score=0.833 total time=   0.9s\n",
      "[CV 3/5] END colsample_bytree=0.5, gamma=1, learning_rate=0.1, max_depth=5, reg_lambda=10, scale_pos_weight=3, subsample=0.8;, score=0.828 total time=   0.9s\n",
      "[CV 4/5] END colsample_bytree=0.5, gamma=1, learning_rate=0.1, max_depth=5, reg_lambda=10, scale_pos_weight=3, subsample=0.8;, score=0.834 total time=   1.0s\n",
      "[CV 5/5] END colsample_bytree=0.5, gamma=1, learning_rate=0.1, max_depth=5, reg_lambda=10, scale_pos_weight=3, subsample=0.8;, score=0.831 total time=   0.9s\n",
      "[CV 1/5] END colsample_bytree=0.5, gamma=1, learning_rate=0.1, max_depth=5, reg_lambda=10, scale_pos_weight=5, subsample=0.8;, score=0.816 total time=   0.9s\n",
      "[CV 2/5] END colsample_bytree=0.5, gamma=1, learning_rate=0.1, max_depth=5, reg_lambda=10, scale_pos_weight=5, subsample=0.8;, score=0.813 total time=   0.9s\n",
      "[CV 3/5] END colsample_bytree=0.5, gamma=1, learning_rate=0.1, max_depth=5, reg_lambda=10, scale_pos_weight=5, subsample=0.8;, score=0.809 total time=   0.9s\n",
      "[CV 4/5] END colsample_bytree=0.5, gamma=1, learning_rate=0.1, max_depth=5, reg_lambda=10, scale_pos_weight=5, subsample=0.8;, score=0.815 total time=   0.9s\n",
      "[CV 5/5] END colsample_bytree=0.5, gamma=1, learning_rate=0.1, max_depth=5, reg_lambda=10, scale_pos_weight=5, subsample=0.8;, score=0.809 total time=   0.9s\n",
      "[CV 1/5] END colsample_bytree=0.5, gamma=1, learning_rate=0.1, max_depth=7, reg_lambda=0, scale_pos_weight=1, subsample=0.8;, score=0.867 total time=   1.2s\n",
      "[CV 2/5] END colsample_bytree=0.5, gamma=1, learning_rate=0.1, max_depth=7, reg_lambda=0, scale_pos_weight=1, subsample=0.8;, score=0.865 total time=   1.2s\n",
      "[CV 3/5] END colsample_bytree=0.5, gamma=1, learning_rate=0.1, max_depth=7, reg_lambda=0, scale_pos_weight=1, subsample=0.8;, score=0.862 total time=   1.2s\n",
      "[CV 4/5] END colsample_bytree=0.5, gamma=1, learning_rate=0.1, max_depth=7, reg_lambda=0, scale_pos_weight=1, subsample=0.8;, score=0.864 total time=   1.2s\n",
      "[CV 5/5] END colsample_bytree=0.5, gamma=1, learning_rate=0.1, max_depth=7, reg_lambda=0, scale_pos_weight=1, subsample=0.8;, score=0.863 total time=   1.2s\n",
      "[CV 1/5] END colsample_bytree=0.5, gamma=1, learning_rate=0.1, max_depth=7, reg_lambda=0, scale_pos_weight=3, subsample=0.8;, score=0.834 total time=   1.2s\n",
      "[CV 2/5] END colsample_bytree=0.5, gamma=1, learning_rate=0.1, max_depth=7, reg_lambda=0, scale_pos_weight=3, subsample=0.8;, score=0.833 total time=   1.2s\n",
      "[CV 3/5] END colsample_bytree=0.5, gamma=1, learning_rate=0.1, max_depth=7, reg_lambda=0, scale_pos_weight=3, subsample=0.8;, score=0.828 total time=   1.2s\n",
      "[CV 4/5] END colsample_bytree=0.5, gamma=1, learning_rate=0.1, max_depth=7, reg_lambda=0, scale_pos_weight=3, subsample=0.8;, score=0.834 total time=   1.2s\n",
      "[CV 5/5] END colsample_bytree=0.5, gamma=1, learning_rate=0.1, max_depth=7, reg_lambda=0, scale_pos_weight=3, subsample=0.8;, score=0.831 total time=   1.2s\n",
      "[CV 1/5] END colsample_bytree=0.5, gamma=1, learning_rate=0.1, max_depth=7, reg_lambda=0, scale_pos_weight=5, subsample=0.8;, score=0.816 total time=   1.2s\n",
      "[CV 2/5] END colsample_bytree=0.5, gamma=1, learning_rate=0.1, max_depth=7, reg_lambda=0, scale_pos_weight=5, subsample=0.8;, score=0.815 total time=   1.2s\n",
      "[CV 3/5] END colsample_bytree=0.5, gamma=1, learning_rate=0.1, max_depth=7, reg_lambda=0, scale_pos_weight=5, subsample=0.8;, score=0.810 total time=   1.2s\n",
      "[CV 4/5] END colsample_bytree=0.5, gamma=1, learning_rate=0.1, max_depth=7, reg_lambda=0, scale_pos_weight=5, subsample=0.8;, score=0.817 total time=   1.2s\n",
      "[CV 5/5] END colsample_bytree=0.5, gamma=1, learning_rate=0.1, max_depth=7, reg_lambda=0, scale_pos_weight=5, subsample=0.8;, score=0.809 total time=   1.2s\n",
      "[CV 1/5] END colsample_bytree=0.5, gamma=1, learning_rate=0.1, max_depth=7, reg_lambda=1, scale_pos_weight=1, subsample=0.8;, score=0.867 total time=   1.2s\n",
      "[CV 2/5] END colsample_bytree=0.5, gamma=1, learning_rate=0.1, max_depth=7, reg_lambda=1, scale_pos_weight=1, subsample=0.8;, score=0.865 total time=   1.2s\n",
      "[CV 3/5] END colsample_bytree=0.5, gamma=1, learning_rate=0.1, max_depth=7, reg_lambda=1, scale_pos_weight=1, subsample=0.8;, score=0.862 total time=   1.2s\n",
      "[CV 4/5] END colsample_bytree=0.5, gamma=1, learning_rate=0.1, max_depth=7, reg_lambda=1, scale_pos_weight=1, subsample=0.8;, score=0.864 total time=   1.2s\n",
      "[CV 5/5] END colsample_bytree=0.5, gamma=1, learning_rate=0.1, max_depth=7, reg_lambda=1, scale_pos_weight=1, subsample=0.8;, score=0.863 total time=   1.2s\n",
      "[CV 1/5] END colsample_bytree=0.5, gamma=1, learning_rate=0.1, max_depth=7, reg_lambda=1, scale_pos_weight=3, subsample=0.8;, score=0.835 total time=   1.2s\n",
      "[CV 2/5] END colsample_bytree=0.5, gamma=1, learning_rate=0.1, max_depth=7, reg_lambda=1, scale_pos_weight=3, subsample=0.8;, score=0.834 total time=   1.2s\n",
      "[CV 3/5] END colsample_bytree=0.5, gamma=1, learning_rate=0.1, max_depth=7, reg_lambda=1, scale_pos_weight=3, subsample=0.8;, score=0.828 total time=   1.2s\n",
      "[CV 4/5] END colsample_bytree=0.5, gamma=1, learning_rate=0.1, max_depth=7, reg_lambda=1, scale_pos_weight=3, subsample=0.8;, score=0.834 total time=   1.2s\n",
      "[CV 5/5] END colsample_bytree=0.5, gamma=1, learning_rate=0.1, max_depth=7, reg_lambda=1, scale_pos_weight=3, subsample=0.8;, score=0.831 total time=   1.2s\n",
      "[CV 1/5] END colsample_bytree=0.5, gamma=1, learning_rate=0.1, max_depth=7, reg_lambda=1, scale_pos_weight=5, subsample=0.8;, score=0.817 total time=   1.2s\n",
      "[CV 2/5] END colsample_bytree=0.5, gamma=1, learning_rate=0.1, max_depth=7, reg_lambda=1, scale_pos_weight=5, subsample=0.8;, score=0.813 total time=   1.2s\n",
      "[CV 3/5] END colsample_bytree=0.5, gamma=1, learning_rate=0.1, max_depth=7, reg_lambda=1, scale_pos_weight=5, subsample=0.8;, score=0.811 total time=   1.2s\n",
      "[CV 4/5] END colsample_bytree=0.5, gamma=1, learning_rate=0.1, max_depth=7, reg_lambda=1, scale_pos_weight=5, subsample=0.8;, score=0.817 total time=   1.2s\n",
      "[CV 5/5] END colsample_bytree=0.5, gamma=1, learning_rate=0.1, max_depth=7, reg_lambda=1, scale_pos_weight=5, subsample=0.8;, score=0.810 total time=   1.2s\n",
      "[CV 1/5] END colsample_bytree=0.5, gamma=1, learning_rate=0.1, max_depth=7, reg_lambda=10, scale_pos_weight=1, subsample=0.8;, score=0.867 total time=   1.2s\n"
     ]
    },
    {
     "name": "stdout",
     "output_type": "stream",
     "text": [
      "[CV 2/5] END colsample_bytree=0.5, gamma=1, learning_rate=0.1, max_depth=7, reg_lambda=10, scale_pos_weight=1, subsample=0.8;, score=0.866 total time=   1.2s\n",
      "[CV 3/5] END colsample_bytree=0.5, gamma=1, learning_rate=0.1, max_depth=7, reg_lambda=10, scale_pos_weight=1, subsample=0.8;, score=0.862 total time=   1.2s\n",
      "[CV 4/5] END colsample_bytree=0.5, gamma=1, learning_rate=0.1, max_depth=7, reg_lambda=10, scale_pos_weight=1, subsample=0.8;, score=0.864 total time=   1.2s\n",
      "[CV 5/5] END colsample_bytree=0.5, gamma=1, learning_rate=0.1, max_depth=7, reg_lambda=10, scale_pos_weight=1, subsample=0.8;, score=0.862 total time=   1.2s\n",
      "[CV 1/5] END colsample_bytree=0.5, gamma=1, learning_rate=0.1, max_depth=7, reg_lambda=10, scale_pos_weight=3, subsample=0.8;, score=0.834 total time=   1.2s\n",
      "[CV 2/5] END colsample_bytree=0.5, gamma=1, learning_rate=0.1, max_depth=7, reg_lambda=10, scale_pos_weight=3, subsample=0.8;, score=0.833 total time=   1.2s\n",
      "[CV 3/5] END colsample_bytree=0.5, gamma=1, learning_rate=0.1, max_depth=7, reg_lambda=10, scale_pos_weight=3, subsample=0.8;, score=0.828 total time=   1.2s\n",
      "[CV 4/5] END colsample_bytree=0.5, gamma=1, learning_rate=0.1, max_depth=7, reg_lambda=10, scale_pos_weight=3, subsample=0.8;, score=0.834 total time=   1.2s\n",
      "[CV 5/5] END colsample_bytree=0.5, gamma=1, learning_rate=0.1, max_depth=7, reg_lambda=10, scale_pos_weight=3, subsample=0.8;, score=0.831 total time=   1.2s\n",
      "[CV 1/5] END colsample_bytree=0.5, gamma=1, learning_rate=0.1, max_depth=7, reg_lambda=10, scale_pos_weight=5, subsample=0.8;, score=0.815 total time=   1.2s\n",
      "[CV 2/5] END colsample_bytree=0.5, gamma=1, learning_rate=0.1, max_depth=7, reg_lambda=10, scale_pos_weight=5, subsample=0.8;, score=0.814 total time=   1.2s\n",
      "[CV 3/5] END colsample_bytree=0.5, gamma=1, learning_rate=0.1, max_depth=7, reg_lambda=10, scale_pos_weight=5, subsample=0.8;, score=0.810 total time=   1.2s\n",
      "[CV 4/5] END colsample_bytree=0.5, gamma=1, learning_rate=0.1, max_depth=7, reg_lambda=10, scale_pos_weight=5, subsample=0.8;, score=0.816 total time=   1.2s\n",
      "[CV 5/5] END colsample_bytree=0.5, gamma=1, learning_rate=0.1, max_depth=7, reg_lambda=10, scale_pos_weight=5, subsample=0.8;, score=0.810 total time=   1.2s\n",
      "[CV 1/5] END colsample_bytree=0.5, gamma=1, learning_rate=0.01, max_depth=3, reg_lambda=0, scale_pos_weight=1, subsample=0.8;, score=0.856 total time=   0.7s\n",
      "[CV 2/5] END colsample_bytree=0.5, gamma=1, learning_rate=0.01, max_depth=3, reg_lambda=0, scale_pos_weight=1, subsample=0.8;, score=0.856 total time=   0.7s\n",
      "[CV 3/5] END colsample_bytree=0.5, gamma=1, learning_rate=0.01, max_depth=3, reg_lambda=0, scale_pos_weight=1, subsample=0.8;, score=0.833 total time=   0.7s\n",
      "[CV 4/5] END colsample_bytree=0.5, gamma=1, learning_rate=0.01, max_depth=3, reg_lambda=0, scale_pos_weight=1, subsample=0.8;, score=0.837 total time=   0.7s\n",
      "[CV 5/5] END colsample_bytree=0.5, gamma=1, learning_rate=0.01, max_depth=3, reg_lambda=0, scale_pos_weight=1, subsample=0.8;, score=0.835 total time=   0.7s\n",
      "[CV 1/5] END colsample_bytree=0.5, gamma=1, learning_rate=0.01, max_depth=3, reg_lambda=0, scale_pos_weight=3, subsample=0.8;, score=0.810 total time=   0.7s\n",
      "[CV 2/5] END colsample_bytree=0.5, gamma=1, learning_rate=0.01, max_depth=3, reg_lambda=0, scale_pos_weight=3, subsample=0.8;, score=0.810 total time=   0.7s\n",
      "[CV 3/5] END colsample_bytree=0.5, gamma=1, learning_rate=0.01, max_depth=3, reg_lambda=0, scale_pos_weight=3, subsample=0.8;, score=0.803 total time=   0.7s\n",
      "[CV 4/5] END colsample_bytree=0.5, gamma=1, learning_rate=0.01, max_depth=3, reg_lambda=0, scale_pos_weight=3, subsample=0.8;, score=0.809 total time=   0.7s\n",
      "[CV 5/5] END colsample_bytree=0.5, gamma=1, learning_rate=0.01, max_depth=3, reg_lambda=0, scale_pos_weight=3, subsample=0.8;, score=0.803 total time=   0.7s\n",
      "[CV 1/5] END colsample_bytree=0.5, gamma=1, learning_rate=0.01, max_depth=3, reg_lambda=0, scale_pos_weight=5, subsample=0.8;, score=0.597 total time=   0.7s\n",
      "[CV 2/5] END colsample_bytree=0.5, gamma=1, learning_rate=0.01, max_depth=3, reg_lambda=0, scale_pos_weight=5, subsample=0.8;, score=0.595 total time=   0.7s\n",
      "[CV 3/5] END colsample_bytree=0.5, gamma=1, learning_rate=0.01, max_depth=3, reg_lambda=0, scale_pos_weight=5, subsample=0.8;, score=0.593 total time=   0.7s\n",
      "[CV 4/5] END colsample_bytree=0.5, gamma=1, learning_rate=0.01, max_depth=3, reg_lambda=0, scale_pos_weight=5, subsample=0.8;, score=0.591 total time=   0.7s\n",
      "[CV 5/5] END colsample_bytree=0.5, gamma=1, learning_rate=0.01, max_depth=3, reg_lambda=0, scale_pos_weight=5, subsample=0.8;, score=0.594 total time=   0.7s\n",
      "[CV 1/5] END colsample_bytree=0.5, gamma=1, learning_rate=0.01, max_depth=3, reg_lambda=1, scale_pos_weight=1, subsample=0.8;, score=0.856 total time=   0.7s\n",
      "[CV 2/5] END colsample_bytree=0.5, gamma=1, learning_rate=0.01, max_depth=3, reg_lambda=1, scale_pos_weight=1, subsample=0.8;, score=0.856 total time=   0.7s\n",
      "[CV 3/5] END colsample_bytree=0.5, gamma=1, learning_rate=0.01, max_depth=3, reg_lambda=1, scale_pos_weight=1, subsample=0.8;, score=0.832 total time=   0.7s\n",
      "[CV 4/5] END colsample_bytree=0.5, gamma=1, learning_rate=0.01, max_depth=3, reg_lambda=1, scale_pos_weight=1, subsample=0.8;, score=0.837 total time=   0.7s\n",
      "[CV 5/5] END colsample_bytree=0.5, gamma=1, learning_rate=0.01, max_depth=3, reg_lambda=1, scale_pos_weight=1, subsample=0.8;, score=0.835 total time=   0.7s\n",
      "[CV 1/5] END colsample_bytree=0.5, gamma=1, learning_rate=0.01, max_depth=3, reg_lambda=1, scale_pos_weight=3, subsample=0.8;, score=0.810 total time=   0.7s\n",
      "[CV 2/5] END colsample_bytree=0.5, gamma=1, learning_rate=0.01, max_depth=3, reg_lambda=1, scale_pos_weight=3, subsample=0.8;, score=0.810 total time=   0.7s\n",
      "[CV 3/5] END colsample_bytree=0.5, gamma=1, learning_rate=0.01, max_depth=3, reg_lambda=1, scale_pos_weight=3, subsample=0.8;, score=0.803 total time=   0.7s\n",
      "[CV 4/5] END colsample_bytree=0.5, gamma=1, learning_rate=0.01, max_depth=3, reg_lambda=1, scale_pos_weight=3, subsample=0.8;, score=0.809 total time=   0.7s\n",
      "[CV 5/5] END colsample_bytree=0.5, gamma=1, learning_rate=0.01, max_depth=3, reg_lambda=1, scale_pos_weight=3, subsample=0.8;, score=0.803 total time=   0.7s\n",
      "[CV 1/5] END colsample_bytree=0.5, gamma=1, learning_rate=0.01, max_depth=3, reg_lambda=1, scale_pos_weight=5, subsample=0.8;, score=0.597 total time=   0.7s\n",
      "[CV 2/5] END colsample_bytree=0.5, gamma=1, learning_rate=0.01, max_depth=3, reg_lambda=1, scale_pos_weight=5, subsample=0.8;, score=0.595 total time=   0.7s\n",
      "[CV 3/5] END colsample_bytree=0.5, gamma=1, learning_rate=0.01, max_depth=3, reg_lambda=1, scale_pos_weight=5, subsample=0.8;, score=0.593 total time=   0.7s\n",
      "[CV 4/5] END colsample_bytree=0.5, gamma=1, learning_rate=0.01, max_depth=3, reg_lambda=1, scale_pos_weight=5, subsample=0.8;, score=0.591 total time=   0.7s\n",
      "[CV 5/5] END colsample_bytree=0.5, gamma=1, learning_rate=0.01, max_depth=3, reg_lambda=1, scale_pos_weight=5, subsample=0.8;, score=0.594 total time=   0.7s\n",
      "[CV 1/5] END colsample_bytree=0.5, gamma=1, learning_rate=0.01, max_depth=3, reg_lambda=10, scale_pos_weight=1, subsample=0.8;, score=0.856 total time=   0.7s\n",
      "[CV 2/5] END colsample_bytree=0.5, gamma=1, learning_rate=0.01, max_depth=3, reg_lambda=10, scale_pos_weight=1, subsample=0.8;, score=0.856 total time=   0.7s\n",
      "[CV 3/5] END colsample_bytree=0.5, gamma=1, learning_rate=0.01, max_depth=3, reg_lambda=10, scale_pos_weight=1, subsample=0.8;, score=0.832 total time=   0.7s\n",
      "[CV 4/5] END colsample_bytree=0.5, gamma=1, learning_rate=0.01, max_depth=3, reg_lambda=10, scale_pos_weight=1, subsample=0.8;, score=0.837 total time=   0.7s\n",
      "[CV 5/5] END colsample_bytree=0.5, gamma=1, learning_rate=0.01, max_depth=3, reg_lambda=10, scale_pos_weight=1, subsample=0.8;, score=0.835 total time=   0.7s\n",
      "[CV 1/5] END colsample_bytree=0.5, gamma=1, learning_rate=0.01, max_depth=3, reg_lambda=10, scale_pos_weight=3, subsample=0.8;, score=0.811 total time=   0.7s\n",
      "[CV 2/5] END colsample_bytree=0.5, gamma=1, learning_rate=0.01, max_depth=3, reg_lambda=10, scale_pos_weight=3, subsample=0.8;, score=0.810 total time=   0.7s\n",
      "[CV 3/5] END colsample_bytree=0.5, gamma=1, learning_rate=0.01, max_depth=3, reg_lambda=10, scale_pos_weight=3, subsample=0.8;, score=0.803 total time=   0.7s\n"
     ]
    },
    {
     "name": "stdout",
     "output_type": "stream",
     "text": [
      "[CV 4/5] END colsample_bytree=0.5, gamma=1, learning_rate=0.01, max_depth=3, reg_lambda=10, scale_pos_weight=3, subsample=0.8;, score=0.809 total time=   0.7s\n",
      "[CV 5/5] END colsample_bytree=0.5, gamma=1, learning_rate=0.01, max_depth=3, reg_lambda=10, scale_pos_weight=3, subsample=0.8;, score=0.804 total time=   0.7s\n",
      "[CV 1/5] END colsample_bytree=0.5, gamma=1, learning_rate=0.01, max_depth=3, reg_lambda=10, scale_pos_weight=5, subsample=0.8;, score=0.597 total time=   0.7s\n",
      "[CV 2/5] END colsample_bytree=0.5, gamma=1, learning_rate=0.01, max_depth=3, reg_lambda=10, scale_pos_weight=5, subsample=0.8;, score=0.595 total time=   0.7s\n",
      "[CV 3/5] END colsample_bytree=0.5, gamma=1, learning_rate=0.01, max_depth=3, reg_lambda=10, scale_pos_weight=5, subsample=0.8;, score=0.593 total time=   0.7s\n",
      "[CV 4/5] END colsample_bytree=0.5, gamma=1, learning_rate=0.01, max_depth=3, reg_lambda=10, scale_pos_weight=5, subsample=0.8;, score=0.591 total time=   0.7s\n",
      "[CV 5/5] END colsample_bytree=0.5, gamma=1, learning_rate=0.01, max_depth=3, reg_lambda=10, scale_pos_weight=5, subsample=0.8;, score=0.594 total time=   0.7s\n",
      "[CV 1/5] END colsample_bytree=0.5, gamma=1, learning_rate=0.01, max_depth=4, reg_lambda=0, scale_pos_weight=1, subsample=0.8;, score=0.857 total time=   0.8s\n",
      "[CV 2/5] END colsample_bytree=0.5, gamma=1, learning_rate=0.01, max_depth=4, reg_lambda=0, scale_pos_weight=1, subsample=0.8;, score=0.856 total time=   0.8s\n",
      "[CV 3/5] END colsample_bytree=0.5, gamma=1, learning_rate=0.01, max_depth=4, reg_lambda=0, scale_pos_weight=1, subsample=0.8;, score=0.829 total time=   0.8s\n",
      "[CV 4/5] END colsample_bytree=0.5, gamma=1, learning_rate=0.01, max_depth=4, reg_lambda=0, scale_pos_weight=1, subsample=0.8;, score=0.839 total time=   0.8s\n",
      "[CV 5/5] END colsample_bytree=0.5, gamma=1, learning_rate=0.01, max_depth=4, reg_lambda=0, scale_pos_weight=1, subsample=0.8;, score=0.836 total time=   0.8s\n",
      "[CV 1/5] END colsample_bytree=0.5, gamma=1, learning_rate=0.01, max_depth=4, reg_lambda=0, scale_pos_weight=3, subsample=0.8;, score=0.813 total time=   0.8s\n",
      "[CV 2/5] END colsample_bytree=0.5, gamma=1, learning_rate=0.01, max_depth=4, reg_lambda=0, scale_pos_weight=3, subsample=0.8;, score=0.809 total time=   0.8s\n",
      "[CV 3/5] END colsample_bytree=0.5, gamma=1, learning_rate=0.01, max_depth=4, reg_lambda=0, scale_pos_weight=3, subsample=0.8;, score=0.806 total time=   0.8s\n",
      "[CV 4/5] END colsample_bytree=0.5, gamma=1, learning_rate=0.01, max_depth=4, reg_lambda=0, scale_pos_weight=3, subsample=0.8;, score=0.811 total time=   0.9s\n",
      "[CV 5/5] END colsample_bytree=0.5, gamma=1, learning_rate=0.01, max_depth=4, reg_lambda=0, scale_pos_weight=3, subsample=0.8;, score=0.806 total time=   0.8s\n",
      "[CV 1/5] END colsample_bytree=0.5, gamma=1, learning_rate=0.01, max_depth=4, reg_lambda=0, scale_pos_weight=5, subsample=0.8;, score=0.597 total time=   0.8s\n",
      "[CV 2/5] END colsample_bytree=0.5, gamma=1, learning_rate=0.01, max_depth=4, reg_lambda=0, scale_pos_weight=5, subsample=0.8;, score=0.594 total time=   0.8s\n",
      "[CV 3/5] END colsample_bytree=0.5, gamma=1, learning_rate=0.01, max_depth=4, reg_lambda=0, scale_pos_weight=5, subsample=0.8;, score=0.592 total time=   0.8s\n",
      "[CV 4/5] END colsample_bytree=0.5, gamma=1, learning_rate=0.01, max_depth=4, reg_lambda=0, scale_pos_weight=5, subsample=0.8;, score=0.592 total time=   0.8s\n",
      "[CV 5/5] END colsample_bytree=0.5, gamma=1, learning_rate=0.01, max_depth=4, reg_lambda=0, scale_pos_weight=5, subsample=0.8;, score=0.592 total time=   0.9s\n",
      "[CV 1/5] END colsample_bytree=0.5, gamma=1, learning_rate=0.01, max_depth=4, reg_lambda=1, scale_pos_weight=1, subsample=0.8;, score=0.857 total time=   0.8s\n",
      "[CV 2/5] END colsample_bytree=0.5, gamma=1, learning_rate=0.01, max_depth=4, reg_lambda=1, scale_pos_weight=1, subsample=0.8;, score=0.856 total time=   0.8s\n",
      "[CV 3/5] END colsample_bytree=0.5, gamma=1, learning_rate=0.01, max_depth=4, reg_lambda=1, scale_pos_weight=1, subsample=0.8;, score=0.829 total time=   0.8s\n",
      "[CV 4/5] END colsample_bytree=0.5, gamma=1, learning_rate=0.01, max_depth=4, reg_lambda=1, scale_pos_weight=1, subsample=0.8;, score=0.839 total time=   0.8s\n",
      "[CV 5/5] END colsample_bytree=0.5, gamma=1, learning_rate=0.01, max_depth=4, reg_lambda=1, scale_pos_weight=1, subsample=0.8;, score=0.835 total time=   0.8s\n",
      "[CV 1/5] END colsample_bytree=0.5, gamma=1, learning_rate=0.01, max_depth=4, reg_lambda=1, scale_pos_weight=3, subsample=0.8;, score=0.813 total time=   0.8s\n",
      "[CV 2/5] END colsample_bytree=0.5, gamma=1, learning_rate=0.01, max_depth=4, reg_lambda=1, scale_pos_weight=3, subsample=0.8;, score=0.809 total time=   0.8s\n",
      "[CV 3/5] END colsample_bytree=0.5, gamma=1, learning_rate=0.01, max_depth=4, reg_lambda=1, scale_pos_weight=3, subsample=0.8;, score=0.806 total time=   0.8s\n",
      "[CV 4/5] END colsample_bytree=0.5, gamma=1, learning_rate=0.01, max_depth=4, reg_lambda=1, scale_pos_weight=3, subsample=0.8;, score=0.811 total time=   0.8s\n",
      "[CV 5/5] END colsample_bytree=0.5, gamma=1, learning_rate=0.01, max_depth=4, reg_lambda=1, scale_pos_weight=3, subsample=0.8;, score=0.806 total time=   0.8s\n",
      "[CV 1/5] END colsample_bytree=0.5, gamma=1, learning_rate=0.01, max_depth=4, reg_lambda=1, scale_pos_weight=5, subsample=0.8;, score=0.597 total time=   0.8s\n",
      "[CV 2/5] END colsample_bytree=0.5, gamma=1, learning_rate=0.01, max_depth=4, reg_lambda=1, scale_pos_weight=5, subsample=0.8;, score=0.594 total time=   0.8s\n",
      "[CV 3/5] END colsample_bytree=0.5, gamma=1, learning_rate=0.01, max_depth=4, reg_lambda=1, scale_pos_weight=5, subsample=0.8;, score=0.592 total time=   0.8s\n",
      "[CV 4/5] END colsample_bytree=0.5, gamma=1, learning_rate=0.01, max_depth=4, reg_lambda=1, scale_pos_weight=5, subsample=0.8;, score=0.592 total time=   0.8s\n",
      "[CV 5/5] END colsample_bytree=0.5, gamma=1, learning_rate=0.01, max_depth=4, reg_lambda=1, scale_pos_weight=5, subsample=0.8;, score=0.592 total time=   0.8s\n",
      "[CV 1/5] END colsample_bytree=0.5, gamma=1, learning_rate=0.01, max_depth=4, reg_lambda=10, scale_pos_weight=1, subsample=0.8;, score=0.857 total time=   0.8s\n",
      "[CV 2/5] END colsample_bytree=0.5, gamma=1, learning_rate=0.01, max_depth=4, reg_lambda=10, scale_pos_weight=1, subsample=0.8;, score=0.855 total time=   0.8s\n",
      "[CV 3/5] END colsample_bytree=0.5, gamma=1, learning_rate=0.01, max_depth=4, reg_lambda=10, scale_pos_weight=1, subsample=0.8;, score=0.833 total time=   0.8s\n",
      "[CV 4/5] END colsample_bytree=0.5, gamma=1, learning_rate=0.01, max_depth=4, reg_lambda=10, scale_pos_weight=1, subsample=0.8;, score=0.838 total time=   0.8s\n",
      "[CV 5/5] END colsample_bytree=0.5, gamma=1, learning_rate=0.01, max_depth=4, reg_lambda=10, scale_pos_weight=1, subsample=0.8;, score=0.835 total time=   0.8s\n",
      "[CV 1/5] END colsample_bytree=0.5, gamma=1, learning_rate=0.01, max_depth=4, reg_lambda=10, scale_pos_weight=3, subsample=0.8;, score=0.813 total time=   0.8s\n",
      "[CV 2/5] END colsample_bytree=0.5, gamma=1, learning_rate=0.01, max_depth=4, reg_lambda=10, scale_pos_weight=3, subsample=0.8;, score=0.809 total time=   0.8s\n",
      "[CV 3/5] END colsample_bytree=0.5, gamma=1, learning_rate=0.01, max_depth=4, reg_lambda=10, scale_pos_weight=3, subsample=0.8;, score=0.806 total time=   0.8s\n",
      "[CV 4/5] END colsample_bytree=0.5, gamma=1, learning_rate=0.01, max_depth=4, reg_lambda=10, scale_pos_weight=3, subsample=0.8;, score=0.810 total time=   0.8s\n",
      "[CV 5/5] END colsample_bytree=0.5, gamma=1, learning_rate=0.01, max_depth=4, reg_lambda=10, scale_pos_weight=3, subsample=0.8;, score=0.805 total time=   0.8s\n",
      "[CV 1/5] END colsample_bytree=0.5, gamma=1, learning_rate=0.01, max_depth=4, reg_lambda=10, scale_pos_weight=5, subsample=0.8;, score=0.597 total time=   0.8s\n",
      "[CV 2/5] END colsample_bytree=0.5, gamma=1, learning_rate=0.01, max_depth=4, reg_lambda=10, scale_pos_weight=5, subsample=0.8;, score=0.594 total time=   0.8s\n",
      "[CV 3/5] END colsample_bytree=0.5, gamma=1, learning_rate=0.01, max_depth=4, reg_lambda=10, scale_pos_weight=5, subsample=0.8;, score=0.591 total time=   0.8s\n",
      "[CV 4/5] END colsample_bytree=0.5, gamma=1, learning_rate=0.01, max_depth=4, reg_lambda=10, scale_pos_weight=5, subsample=0.8;, score=0.592 total time=   0.8s\n",
      "[CV 5/5] END colsample_bytree=0.5, gamma=1, learning_rate=0.01, max_depth=4, reg_lambda=10, scale_pos_weight=5, subsample=0.8;, score=0.592 total time=   0.8s\n"
     ]
    },
    {
     "name": "stdout",
     "output_type": "stream",
     "text": [
      "[CV 1/5] END colsample_bytree=0.5, gamma=1, learning_rate=0.01, max_depth=5, reg_lambda=0, scale_pos_weight=1, subsample=0.8;, score=0.857 total time=   0.9s\n",
      "[CV 2/5] END colsample_bytree=0.5, gamma=1, learning_rate=0.01, max_depth=5, reg_lambda=0, scale_pos_weight=1, subsample=0.8;, score=0.856 total time=   1.0s\n",
      "[CV 3/5] END colsample_bytree=0.5, gamma=1, learning_rate=0.01, max_depth=5, reg_lambda=0, scale_pos_weight=1, subsample=0.8;, score=0.830 total time=   1.0s\n",
      "[CV 4/5] END colsample_bytree=0.5, gamma=1, learning_rate=0.01, max_depth=5, reg_lambda=0, scale_pos_weight=1, subsample=0.8;, score=0.839 total time=   1.0s\n",
      "[CV 5/5] END colsample_bytree=0.5, gamma=1, learning_rate=0.01, max_depth=5, reg_lambda=0, scale_pos_weight=1, subsample=0.8;, score=0.836 total time=   1.0s\n",
      "[CV 1/5] END colsample_bytree=0.5, gamma=1, learning_rate=0.01, max_depth=5, reg_lambda=0, scale_pos_weight=3, subsample=0.8;, score=0.815 total time=   0.9s\n",
      "[CV 2/5] END colsample_bytree=0.5, gamma=1, learning_rate=0.01, max_depth=5, reg_lambda=0, scale_pos_weight=3, subsample=0.8;, score=0.811 total time=   0.9s\n",
      "[CV 3/5] END colsample_bytree=0.5, gamma=1, learning_rate=0.01, max_depth=5, reg_lambda=0, scale_pos_weight=3, subsample=0.8;, score=0.807 total time=   0.9s\n",
      "[CV 4/5] END colsample_bytree=0.5, gamma=1, learning_rate=0.01, max_depth=5, reg_lambda=0, scale_pos_weight=3, subsample=0.8;, score=0.813 total time=   1.0s\n",
      "[CV 5/5] END colsample_bytree=0.5, gamma=1, learning_rate=0.01, max_depth=5, reg_lambda=0, scale_pos_weight=3, subsample=0.8;, score=0.807 total time=   1.0s\n",
      "[CV 1/5] END colsample_bytree=0.5, gamma=1, learning_rate=0.01, max_depth=5, reg_lambda=0, scale_pos_weight=5, subsample=0.8;, score=0.597 total time=   1.0s\n",
      "[CV 2/5] END colsample_bytree=0.5, gamma=1, learning_rate=0.01, max_depth=5, reg_lambda=0, scale_pos_weight=5, subsample=0.8;, score=0.595 total time=   1.0s\n",
      "[CV 3/5] END colsample_bytree=0.5, gamma=1, learning_rate=0.01, max_depth=5, reg_lambda=0, scale_pos_weight=5, subsample=0.8;, score=0.592 total time=   1.0s\n",
      "[CV 4/5] END colsample_bytree=0.5, gamma=1, learning_rate=0.01, max_depth=5, reg_lambda=0, scale_pos_weight=5, subsample=0.8;, score=0.592 total time=   1.0s\n",
      "[CV 5/5] END colsample_bytree=0.5, gamma=1, learning_rate=0.01, max_depth=5, reg_lambda=0, scale_pos_weight=5, subsample=0.8;, score=0.594 total time=   1.0s\n",
      "[CV 1/5] END colsample_bytree=0.5, gamma=1, learning_rate=0.01, max_depth=5, reg_lambda=1, scale_pos_weight=1, subsample=0.8;, score=0.857 total time=   1.0s\n",
      "[CV 2/5] END colsample_bytree=0.5, gamma=1, learning_rate=0.01, max_depth=5, reg_lambda=1, scale_pos_weight=1, subsample=0.8;, score=0.855 total time=   0.9s\n",
      "[CV 3/5] END colsample_bytree=0.5, gamma=1, learning_rate=0.01, max_depth=5, reg_lambda=1, scale_pos_weight=1, subsample=0.8;, score=0.830 total time=   1.0s\n",
      "[CV 4/5] END colsample_bytree=0.5, gamma=1, learning_rate=0.01, max_depth=5, reg_lambda=1, scale_pos_weight=1, subsample=0.8;, score=0.839 total time=   1.0s\n",
      "[CV 5/5] END colsample_bytree=0.5, gamma=1, learning_rate=0.01, max_depth=5, reg_lambda=1, scale_pos_weight=1, subsample=0.8;, score=0.836 total time=   0.9s\n",
      "[CV 1/5] END colsample_bytree=0.5, gamma=1, learning_rate=0.01, max_depth=5, reg_lambda=1, scale_pos_weight=3, subsample=0.8;, score=0.815 total time=   0.9s\n",
      "[CV 2/5] END colsample_bytree=0.5, gamma=1, learning_rate=0.01, max_depth=5, reg_lambda=1, scale_pos_weight=3, subsample=0.8;, score=0.811 total time=   1.0s\n",
      "[CV 3/5] END colsample_bytree=0.5, gamma=1, learning_rate=0.01, max_depth=5, reg_lambda=1, scale_pos_weight=3, subsample=0.8;, score=0.808 total time=   0.9s\n",
      "[CV 4/5] END colsample_bytree=0.5, gamma=1, learning_rate=0.01, max_depth=5, reg_lambda=1, scale_pos_weight=3, subsample=0.8;, score=0.813 total time=   1.0s\n",
      "[CV 5/5] END colsample_bytree=0.5, gamma=1, learning_rate=0.01, max_depth=5, reg_lambda=1, scale_pos_weight=3, subsample=0.8;, score=0.807 total time=   1.0s\n",
      "[CV 1/5] END colsample_bytree=0.5, gamma=1, learning_rate=0.01, max_depth=5, reg_lambda=1, scale_pos_weight=5, subsample=0.8;, score=0.597 total time=   0.9s\n",
      "[CV 2/5] END colsample_bytree=0.5, gamma=1, learning_rate=0.01, max_depth=5, reg_lambda=1, scale_pos_weight=5, subsample=0.8;, score=0.595 total time=   1.0s\n",
      "[CV 3/5] END colsample_bytree=0.5, gamma=1, learning_rate=0.01, max_depth=5, reg_lambda=1, scale_pos_weight=5, subsample=0.8;, score=0.592 total time=   0.9s\n",
      "[CV 4/5] END colsample_bytree=0.5, gamma=1, learning_rate=0.01, max_depth=5, reg_lambda=1, scale_pos_weight=5, subsample=0.8;, score=0.592 total time=   1.0s\n",
      "[CV 5/5] END colsample_bytree=0.5, gamma=1, learning_rate=0.01, max_depth=5, reg_lambda=1, scale_pos_weight=5, subsample=0.8;, score=0.594 total time=   1.0s\n",
      "[CV 1/5] END colsample_bytree=0.5, gamma=1, learning_rate=0.01, max_depth=5, reg_lambda=10, scale_pos_weight=1, subsample=0.8;, score=0.857 total time=   0.9s\n",
      "[CV 2/5] END colsample_bytree=0.5, gamma=1, learning_rate=0.01, max_depth=5, reg_lambda=10, scale_pos_weight=1, subsample=0.8;, score=0.855 total time=   0.9s\n",
      "[CV 3/5] END colsample_bytree=0.5, gamma=1, learning_rate=0.01, max_depth=5, reg_lambda=10, scale_pos_weight=1, subsample=0.8;, score=0.833 total time=   0.9s\n",
      "[CV 4/5] END colsample_bytree=0.5, gamma=1, learning_rate=0.01, max_depth=5, reg_lambda=10, scale_pos_weight=1, subsample=0.8;, score=0.839 total time=   0.9s\n",
      "[CV 5/5] END colsample_bytree=0.5, gamma=1, learning_rate=0.01, max_depth=5, reg_lambda=10, scale_pos_weight=1, subsample=0.8;, score=0.835 total time=   0.9s\n",
      "[CV 1/5] END colsample_bytree=0.5, gamma=1, learning_rate=0.01, max_depth=5, reg_lambda=10, scale_pos_weight=3, subsample=0.8;, score=0.813 total time=   0.9s\n",
      "[CV 2/5] END colsample_bytree=0.5, gamma=1, learning_rate=0.01, max_depth=5, reg_lambda=10, scale_pos_weight=3, subsample=0.8;, score=0.810 total time=   0.9s\n",
      "[CV 3/5] END colsample_bytree=0.5, gamma=1, learning_rate=0.01, max_depth=5, reg_lambda=10, scale_pos_weight=3, subsample=0.8;, score=0.807 total time=   1.0s\n",
      "[CV 4/5] END colsample_bytree=0.5, gamma=1, learning_rate=0.01, max_depth=5, reg_lambda=10, scale_pos_weight=3, subsample=0.8;, score=0.812 total time=   1.2s\n",
      "[CV 5/5] END colsample_bytree=0.5, gamma=1, learning_rate=0.01, max_depth=5, reg_lambda=10, scale_pos_weight=3, subsample=0.8;, score=0.806 total time=   1.6s\n",
      "[CV 1/5] END colsample_bytree=0.5, gamma=1, learning_rate=0.01, max_depth=5, reg_lambda=10, scale_pos_weight=5, subsample=0.8;, score=0.596 total time=   1.0s\n",
      "[CV 2/5] END colsample_bytree=0.5, gamma=1, learning_rate=0.01, max_depth=5, reg_lambda=10, scale_pos_weight=5, subsample=0.8;, score=0.594 total time=   1.0s\n",
      "[CV 3/5] END colsample_bytree=0.5, gamma=1, learning_rate=0.01, max_depth=5, reg_lambda=10, scale_pos_weight=5, subsample=0.8;, score=0.591 total time=   0.9s\n",
      "[CV 4/5] END colsample_bytree=0.5, gamma=1, learning_rate=0.01, max_depth=5, reg_lambda=10, scale_pos_weight=5, subsample=0.8;, score=0.591 total time=   0.9s\n",
      "[CV 5/5] END colsample_bytree=0.5, gamma=1, learning_rate=0.01, max_depth=5, reg_lambda=10, scale_pos_weight=5, subsample=0.8;, score=0.591 total time=   0.9s\n",
      "[CV 1/5] END colsample_bytree=0.5, gamma=1, learning_rate=0.01, max_depth=7, reg_lambda=0, scale_pos_weight=1, subsample=0.8;, score=0.856 total time=   1.2s\n",
      "[CV 2/5] END colsample_bytree=0.5, gamma=1, learning_rate=0.01, max_depth=7, reg_lambda=0, scale_pos_weight=1, subsample=0.8;, score=0.856 total time=   1.2s\n",
      "[CV 3/5] END colsample_bytree=0.5, gamma=1, learning_rate=0.01, max_depth=7, reg_lambda=0, scale_pos_weight=1, subsample=0.8;, score=0.833 total time=   1.2s\n",
      "[CV 4/5] END colsample_bytree=0.5, gamma=1, learning_rate=0.01, max_depth=7, reg_lambda=0, scale_pos_weight=1, subsample=0.8;, score=0.839 total time=   1.2s\n",
      "[CV 5/5] END colsample_bytree=0.5, gamma=1, learning_rate=0.01, max_depth=7, reg_lambda=0, scale_pos_weight=1, subsample=0.8;, score=0.836 total time=   1.2s\n",
      "[CV 1/5] END colsample_bytree=0.5, gamma=1, learning_rate=0.01, max_depth=7, reg_lambda=0, scale_pos_weight=3, subsample=0.8;, score=0.816 total time=   1.2s\n",
      "[CV 2/5] END colsample_bytree=0.5, gamma=1, learning_rate=0.01, max_depth=7, reg_lambda=0, scale_pos_weight=3, subsample=0.8;, score=0.811 total time=   1.2s\n"
     ]
    },
    {
     "name": "stdout",
     "output_type": "stream",
     "text": [
      "[CV 3/5] END colsample_bytree=0.5, gamma=1, learning_rate=0.01, max_depth=7, reg_lambda=0, scale_pos_weight=3, subsample=0.8;, score=0.808 total time=   1.2s\n",
      "[CV 4/5] END colsample_bytree=0.5, gamma=1, learning_rate=0.01, max_depth=7, reg_lambda=0, scale_pos_weight=3, subsample=0.8;, score=0.814 total time=   1.3s\n",
      "[CV 5/5] END colsample_bytree=0.5, gamma=1, learning_rate=0.01, max_depth=7, reg_lambda=0, scale_pos_weight=3, subsample=0.8;, score=0.808 total time=   1.2s\n",
      "[CV 1/5] END colsample_bytree=0.5, gamma=1, learning_rate=0.01, max_depth=7, reg_lambda=0, scale_pos_weight=5, subsample=0.8;, score=0.600 total time=   1.3s\n",
      "[CV 2/5] END colsample_bytree=0.5, gamma=1, learning_rate=0.01, max_depth=7, reg_lambda=0, scale_pos_weight=5, subsample=0.8;, score=0.597 total time=   1.5s\n",
      "[CV 3/5] END colsample_bytree=0.5, gamma=1, learning_rate=0.01, max_depth=7, reg_lambda=0, scale_pos_weight=5, subsample=0.8;, score=0.595 total time=   1.3s\n",
      "[CV 4/5] END colsample_bytree=0.5, gamma=1, learning_rate=0.01, max_depth=7, reg_lambda=0, scale_pos_weight=5, subsample=0.8;, score=0.594 total time=   1.4s\n",
      "[CV 5/5] END colsample_bytree=0.5, gamma=1, learning_rate=0.01, max_depth=7, reg_lambda=0, scale_pos_weight=5, subsample=0.8;, score=0.596 total time=   1.3s\n",
      "[CV 1/5] END colsample_bytree=0.5, gamma=1, learning_rate=0.01, max_depth=7, reg_lambda=1, scale_pos_weight=1, subsample=0.8;, score=0.856 total time=   1.2s\n",
      "[CV 2/5] END colsample_bytree=0.5, gamma=1, learning_rate=0.01, max_depth=7, reg_lambda=1, scale_pos_weight=1, subsample=0.8;, score=0.856 total time=   1.2s\n",
      "[CV 3/5] END colsample_bytree=0.5, gamma=1, learning_rate=0.01, max_depth=7, reg_lambda=1, scale_pos_weight=1, subsample=0.8;, score=0.833 total time=   1.2s\n",
      "[CV 4/5] END colsample_bytree=0.5, gamma=1, learning_rate=0.01, max_depth=7, reg_lambda=1, scale_pos_weight=1, subsample=0.8;, score=0.838 total time=   1.2s\n",
      "[CV 5/5] END colsample_bytree=0.5, gamma=1, learning_rate=0.01, max_depth=7, reg_lambda=1, scale_pos_weight=1, subsample=0.8;, score=0.836 total time=   1.3s\n",
      "[CV 1/5] END colsample_bytree=0.5, gamma=1, learning_rate=0.01, max_depth=7, reg_lambda=1, scale_pos_weight=3, subsample=0.8;, score=0.815 total time=   1.3s\n",
      "[CV 2/5] END colsample_bytree=0.5, gamma=1, learning_rate=0.01, max_depth=7, reg_lambda=1, scale_pos_weight=3, subsample=0.8;, score=0.811 total time=   1.2s\n",
      "[CV 3/5] END colsample_bytree=0.5, gamma=1, learning_rate=0.01, max_depth=7, reg_lambda=1, scale_pos_weight=3, subsample=0.8;, score=0.808 total time=   1.2s\n",
      "[CV 4/5] END colsample_bytree=0.5, gamma=1, learning_rate=0.01, max_depth=7, reg_lambda=1, scale_pos_weight=3, subsample=0.8;, score=0.814 total time=   1.2s\n",
      "[CV 5/5] END colsample_bytree=0.5, gamma=1, learning_rate=0.01, max_depth=7, reg_lambda=1, scale_pos_weight=3, subsample=0.8;, score=0.807 total time=   1.2s\n",
      "[CV 1/5] END colsample_bytree=0.5, gamma=1, learning_rate=0.01, max_depth=7, reg_lambda=1, scale_pos_weight=5, subsample=0.8;, score=0.599 total time=   1.2s\n",
      "[CV 2/5] END colsample_bytree=0.5, gamma=1, learning_rate=0.01, max_depth=7, reg_lambda=1, scale_pos_weight=5, subsample=0.8;, score=0.597 total time=   1.2s\n",
      "[CV 3/5] END colsample_bytree=0.5, gamma=1, learning_rate=0.01, max_depth=7, reg_lambda=1, scale_pos_weight=5, subsample=0.8;, score=0.594 total time=   1.2s\n",
      "[CV 4/5] END colsample_bytree=0.5, gamma=1, learning_rate=0.01, max_depth=7, reg_lambda=1, scale_pos_weight=5, subsample=0.8;, score=0.594 total time=   1.3s\n",
      "[CV 5/5] END colsample_bytree=0.5, gamma=1, learning_rate=0.01, max_depth=7, reg_lambda=1, scale_pos_weight=5, subsample=0.8;, score=0.595 total time=   1.2s\n",
      "[CV 1/5] END colsample_bytree=0.5, gamma=1, learning_rate=0.01, max_depth=7, reg_lambda=10, scale_pos_weight=1, subsample=0.8;, score=0.857 total time=   1.1s\n",
      "[CV 2/5] END colsample_bytree=0.5, gamma=1, learning_rate=0.01, max_depth=7, reg_lambda=10, scale_pos_weight=1, subsample=0.8;, score=0.855 total time=   1.1s\n",
      "[CV 3/5] END colsample_bytree=0.5, gamma=1, learning_rate=0.01, max_depth=7, reg_lambda=10, scale_pos_weight=1, subsample=0.8;, score=0.833 total time=   1.1s\n",
      "[CV 4/5] END colsample_bytree=0.5, gamma=1, learning_rate=0.01, max_depth=7, reg_lambda=10, scale_pos_weight=1, subsample=0.8;, score=0.839 total time=   1.1s\n",
      "[CV 5/5] END colsample_bytree=0.5, gamma=1, learning_rate=0.01, max_depth=7, reg_lambda=10, scale_pos_weight=1, subsample=0.8;, score=0.836 total time=   1.1s\n",
      "[CV 1/5] END colsample_bytree=0.5, gamma=1, learning_rate=0.01, max_depth=7, reg_lambda=10, scale_pos_weight=3, subsample=0.8;, score=0.814 total time=   1.1s\n",
      "[CV 2/5] END colsample_bytree=0.5, gamma=1, learning_rate=0.01, max_depth=7, reg_lambda=10, scale_pos_weight=3, subsample=0.8;, score=0.810 total time=   1.2s\n",
      "[CV 3/5] END colsample_bytree=0.5, gamma=1, learning_rate=0.01, max_depth=7, reg_lambda=10, scale_pos_weight=3, subsample=0.8;, score=0.807 total time=   1.1s\n",
      "[CV 4/5] END colsample_bytree=0.5, gamma=1, learning_rate=0.01, max_depth=7, reg_lambda=10, scale_pos_weight=3, subsample=0.8;, score=0.812 total time=   1.1s\n",
      "[CV 5/5] END colsample_bytree=0.5, gamma=1, learning_rate=0.01, max_depth=7, reg_lambda=10, scale_pos_weight=3, subsample=0.8;, score=0.807 total time=   1.1s\n",
      "[CV 1/5] END colsample_bytree=0.5, gamma=1, learning_rate=0.01, max_depth=7, reg_lambda=10, scale_pos_weight=5, subsample=0.8;, score=0.596 total time=   1.2s\n",
      "[CV 2/5] END colsample_bytree=0.5, gamma=1, learning_rate=0.01, max_depth=7, reg_lambda=10, scale_pos_weight=5, subsample=0.8;, score=0.594 total time=   1.2s\n",
      "[CV 3/5] END colsample_bytree=0.5, gamma=1, learning_rate=0.01, max_depth=7, reg_lambda=10, scale_pos_weight=5, subsample=0.8;, score=0.591 total time=   1.2s\n",
      "[CV 4/5] END colsample_bytree=0.5, gamma=1, learning_rate=0.01, max_depth=7, reg_lambda=10, scale_pos_weight=5, subsample=0.8;, score=0.591 total time=   1.1s\n",
      "[CV 5/5] END colsample_bytree=0.5, gamma=1, learning_rate=0.01, max_depth=7, reg_lambda=10, scale_pos_weight=5, subsample=0.8;, score=0.592 total time=   1.2s\n",
      "[CV 1/5] END colsample_bytree=0.5, gamma=1, learning_rate=0.05, max_depth=3, reg_lambda=0, scale_pos_weight=1, subsample=0.8;, score=0.867 total time=   0.7s\n",
      "[CV 2/5] END colsample_bytree=0.5, gamma=1, learning_rate=0.05, max_depth=3, reg_lambda=0, scale_pos_weight=1, subsample=0.8;, score=0.866 total time=   0.7s\n",
      "[CV 3/5] END colsample_bytree=0.5, gamma=1, learning_rate=0.05, max_depth=3, reg_lambda=0, scale_pos_weight=1, subsample=0.8;, score=0.862 total time=   0.7s\n",
      "[CV 4/5] END colsample_bytree=0.5, gamma=1, learning_rate=0.05, max_depth=3, reg_lambda=0, scale_pos_weight=1, subsample=0.8;, score=0.863 total time=   0.7s\n",
      "[CV 5/5] END colsample_bytree=0.5, gamma=1, learning_rate=0.05, max_depth=3, reg_lambda=0, scale_pos_weight=1, subsample=0.8;, score=0.862 total time=   0.7s\n",
      "[CV 1/5] END colsample_bytree=0.5, gamma=1, learning_rate=0.05, max_depth=3, reg_lambda=0, scale_pos_weight=3, subsample=0.8;, score=0.824 total time=   0.7s\n",
      "[CV 2/5] END colsample_bytree=0.5, gamma=1, learning_rate=0.05, max_depth=3, reg_lambda=0, scale_pos_weight=3, subsample=0.8;, score=0.816 total time=   0.7s\n",
      "[CV 3/5] END colsample_bytree=0.5, gamma=1, learning_rate=0.05, max_depth=3, reg_lambda=0, scale_pos_weight=3, subsample=0.8;, score=0.814 total time=   0.7s\n",
      "[CV 4/5] END colsample_bytree=0.5, gamma=1, learning_rate=0.05, max_depth=3, reg_lambda=0, scale_pos_weight=3, subsample=0.8;, score=0.821 total time=   0.7s\n",
      "[CV 5/5] END colsample_bytree=0.5, gamma=1, learning_rate=0.05, max_depth=3, reg_lambda=0, scale_pos_weight=3, subsample=0.8;, score=0.814 total time=   0.7s\n",
      "[CV 1/5] END colsample_bytree=0.5, gamma=1, learning_rate=0.05, max_depth=3, reg_lambda=0, scale_pos_weight=5, subsample=0.8;, score=0.810 total time=   0.7s\n",
      "[CV 2/5] END colsample_bytree=0.5, gamma=1, learning_rate=0.05, max_depth=3, reg_lambda=0, scale_pos_weight=5, subsample=0.8;, score=0.809 total time=   0.7s\n",
      "[CV 3/5] END colsample_bytree=0.5, gamma=1, learning_rate=0.05, max_depth=3, reg_lambda=0, scale_pos_weight=5, subsample=0.8;, score=0.804 total time=   0.7s\n",
      "[CV 4/5] END colsample_bytree=0.5, gamma=1, learning_rate=0.05, max_depth=3, reg_lambda=0, scale_pos_weight=5, subsample=0.8;, score=0.808 total time=   0.7s\n"
     ]
    },
    {
     "name": "stdout",
     "output_type": "stream",
     "text": [
      "[CV 5/5] END colsample_bytree=0.5, gamma=1, learning_rate=0.05, max_depth=3, reg_lambda=0, scale_pos_weight=5, subsample=0.8;, score=0.803 total time=   0.7s\n",
      "[CV 1/5] END colsample_bytree=0.5, gamma=1, learning_rate=0.05, max_depth=3, reg_lambda=1, scale_pos_weight=1, subsample=0.8;, score=0.867 total time=   0.7s\n",
      "[CV 2/5] END colsample_bytree=0.5, gamma=1, learning_rate=0.05, max_depth=3, reg_lambda=1, scale_pos_weight=1, subsample=0.8;, score=0.866 total time=   0.7s\n",
      "[CV 3/5] END colsample_bytree=0.5, gamma=1, learning_rate=0.05, max_depth=3, reg_lambda=1, scale_pos_weight=1, subsample=0.8;, score=0.862 total time=   0.7s\n",
      "[CV 4/5] END colsample_bytree=0.5, gamma=1, learning_rate=0.05, max_depth=3, reg_lambda=1, scale_pos_weight=1, subsample=0.8;, score=0.863 total time=   0.7s\n",
      "[CV 5/5] END colsample_bytree=0.5, gamma=1, learning_rate=0.05, max_depth=3, reg_lambda=1, scale_pos_weight=1, subsample=0.8;, score=0.862 total time=   0.7s\n",
      "[CV 1/5] END colsample_bytree=0.5, gamma=1, learning_rate=0.05, max_depth=3, reg_lambda=1, scale_pos_weight=3, subsample=0.8;, score=0.820 total time=   0.7s\n",
      "[CV 2/5] END colsample_bytree=0.5, gamma=1, learning_rate=0.05, max_depth=3, reg_lambda=1, scale_pos_weight=3, subsample=0.8;, score=0.816 total time=   0.7s\n",
      "[CV 3/5] END colsample_bytree=0.5, gamma=1, learning_rate=0.05, max_depth=3, reg_lambda=1, scale_pos_weight=3, subsample=0.8;, score=0.814 total time=   0.7s\n",
      "[CV 4/5] END colsample_bytree=0.5, gamma=1, learning_rate=0.05, max_depth=3, reg_lambda=1, scale_pos_weight=3, subsample=0.8;, score=0.821 total time=   0.7s\n",
      "[CV 5/5] END colsample_bytree=0.5, gamma=1, learning_rate=0.05, max_depth=3, reg_lambda=1, scale_pos_weight=3, subsample=0.8;, score=0.814 total time=   0.7s\n",
      "[CV 1/5] END colsample_bytree=0.5, gamma=1, learning_rate=0.05, max_depth=3, reg_lambda=1, scale_pos_weight=5, subsample=0.8;, score=0.810 total time=   0.7s\n",
      "[CV 2/5] END colsample_bytree=0.5, gamma=1, learning_rate=0.05, max_depth=3, reg_lambda=1, scale_pos_weight=5, subsample=0.8;, score=0.808 total time=   0.7s\n",
      "[CV 3/5] END colsample_bytree=0.5, gamma=1, learning_rate=0.05, max_depth=3, reg_lambda=1, scale_pos_weight=5, subsample=0.8;, score=0.803 total time=   0.7s\n",
      "[CV 4/5] END colsample_bytree=0.5, gamma=1, learning_rate=0.05, max_depth=3, reg_lambda=1, scale_pos_weight=5, subsample=0.8;, score=0.808 total time=   0.7s\n",
      "[CV 5/5] END colsample_bytree=0.5, gamma=1, learning_rate=0.05, max_depth=3, reg_lambda=1, scale_pos_weight=5, subsample=0.8;, score=0.803 total time=   0.7s\n",
      "[CV 1/5] END colsample_bytree=0.5, gamma=1, learning_rate=0.05, max_depth=3, reg_lambda=10, scale_pos_weight=1, subsample=0.8;, score=0.867 total time=   0.7s\n",
      "[CV 2/5] END colsample_bytree=0.5, gamma=1, learning_rate=0.05, max_depth=3, reg_lambda=10, scale_pos_weight=1, subsample=0.8;, score=0.866 total time=   0.7s\n",
      "[CV 3/5] END colsample_bytree=0.5, gamma=1, learning_rate=0.05, max_depth=3, reg_lambda=10, scale_pos_weight=1, subsample=0.8;, score=0.862 total time=   0.7s\n",
      "[CV 4/5] END colsample_bytree=0.5, gamma=1, learning_rate=0.05, max_depth=3, reg_lambda=10, scale_pos_weight=1, subsample=0.8;, score=0.863 total time=   0.7s\n",
      "[CV 5/5] END colsample_bytree=0.5, gamma=1, learning_rate=0.05, max_depth=3, reg_lambda=10, scale_pos_weight=1, subsample=0.8;, score=0.862 total time=   0.7s\n",
      "[CV 1/5] END colsample_bytree=0.5, gamma=1, learning_rate=0.05, max_depth=3, reg_lambda=10, scale_pos_weight=3, subsample=0.8;, score=0.820 total time=   0.7s\n",
      "[CV 2/5] END colsample_bytree=0.5, gamma=1, learning_rate=0.05, max_depth=3, reg_lambda=10, scale_pos_weight=3, subsample=0.8;, score=0.816 total time=   0.7s\n",
      "[CV 3/5] END colsample_bytree=0.5, gamma=1, learning_rate=0.05, max_depth=3, reg_lambda=10, scale_pos_weight=3, subsample=0.8;, score=0.814 total time=   0.7s\n",
      "[CV 4/5] END colsample_bytree=0.5, gamma=1, learning_rate=0.05, max_depth=3, reg_lambda=10, scale_pos_weight=3, subsample=0.8;, score=0.821 total time=   0.7s\n",
      "[CV 5/5] END colsample_bytree=0.5, gamma=1, learning_rate=0.05, max_depth=3, reg_lambda=10, scale_pos_weight=3, subsample=0.8;, score=0.813 total time=   0.7s\n",
      "[CV 1/5] END colsample_bytree=0.5, gamma=1, learning_rate=0.05, max_depth=3, reg_lambda=10, scale_pos_weight=5, subsample=0.8;, score=0.812 total time=   0.7s\n",
      "[CV 2/5] END colsample_bytree=0.5, gamma=1, learning_rate=0.05, max_depth=3, reg_lambda=10, scale_pos_weight=5, subsample=0.8;, score=0.808 total time=   0.7s\n",
      "[CV 3/5] END colsample_bytree=0.5, gamma=1, learning_rate=0.05, max_depth=3, reg_lambda=10, scale_pos_weight=5, subsample=0.8;, score=0.803 total time=   0.7s\n",
      "[CV 4/5] END colsample_bytree=0.5, gamma=1, learning_rate=0.05, max_depth=3, reg_lambda=10, scale_pos_weight=5, subsample=0.8;, score=0.807 total time=   0.7s\n",
      "[CV 5/5] END colsample_bytree=0.5, gamma=1, learning_rate=0.05, max_depth=3, reg_lambda=10, scale_pos_weight=5, subsample=0.8;, score=0.803 total time=   0.7s\n",
      "[CV 1/5] END colsample_bytree=0.5, gamma=1, learning_rate=0.05, max_depth=4, reg_lambda=0, scale_pos_weight=1, subsample=0.8;, score=0.867 total time=   0.8s\n",
      "[CV 2/5] END colsample_bytree=0.5, gamma=1, learning_rate=0.05, max_depth=4, reg_lambda=0, scale_pos_weight=1, subsample=0.8;, score=0.865 total time=   0.8s\n",
      "[CV 3/5] END colsample_bytree=0.5, gamma=1, learning_rate=0.05, max_depth=4, reg_lambda=0, scale_pos_weight=1, subsample=0.8;, score=0.862 total time=   0.8s\n",
      "[CV 4/5] END colsample_bytree=0.5, gamma=1, learning_rate=0.05, max_depth=4, reg_lambda=0, scale_pos_weight=1, subsample=0.8;, score=0.864 total time=   0.8s\n",
      "[CV 5/5] END colsample_bytree=0.5, gamma=1, learning_rate=0.05, max_depth=4, reg_lambda=0, scale_pos_weight=1, subsample=0.8;, score=0.861 total time=   0.8s\n",
      "[CV 1/5] END colsample_bytree=0.5, gamma=1, learning_rate=0.05, max_depth=4, reg_lambda=0, scale_pos_weight=3, subsample=0.8;, score=0.818 total time=   0.8s\n",
      "[CV 2/5] END colsample_bytree=0.5, gamma=1, learning_rate=0.05, max_depth=4, reg_lambda=0, scale_pos_weight=3, subsample=0.8;, score=0.813 total time=   0.8s\n",
      "[CV 3/5] END colsample_bytree=0.5, gamma=1, learning_rate=0.05, max_depth=4, reg_lambda=0, scale_pos_weight=3, subsample=0.8;, score=0.811 total time=   0.8s\n",
      "[CV 4/5] END colsample_bytree=0.5, gamma=1, learning_rate=0.05, max_depth=4, reg_lambda=0, scale_pos_weight=3, subsample=0.8;, score=0.817 total time=   0.8s\n",
      "[CV 5/5] END colsample_bytree=0.5, gamma=1, learning_rate=0.05, max_depth=4, reg_lambda=0, scale_pos_weight=3, subsample=0.8;, score=0.811 total time=   0.8s\n",
      "[CV 1/5] END colsample_bytree=0.5, gamma=1, learning_rate=0.05, max_depth=4, reg_lambda=0, scale_pos_weight=5, subsample=0.8;, score=0.815 total time=   0.8s\n",
      "[CV 2/5] END colsample_bytree=0.5, gamma=1, learning_rate=0.05, max_depth=4, reg_lambda=0, scale_pos_weight=5, subsample=0.8;, score=0.810 total time=   0.8s\n",
      "[CV 3/5] END colsample_bytree=0.5, gamma=1, learning_rate=0.05, max_depth=4, reg_lambda=0, scale_pos_weight=5, subsample=0.8;, score=0.807 total time=   0.8s\n",
      "[CV 4/5] END colsample_bytree=0.5, gamma=1, learning_rate=0.05, max_depth=4, reg_lambda=0, scale_pos_weight=5, subsample=0.8;, score=0.813 total time=   0.8s\n",
      "[CV 5/5] END colsample_bytree=0.5, gamma=1, learning_rate=0.05, max_depth=4, reg_lambda=0, scale_pos_weight=5, subsample=0.8;, score=0.807 total time=   0.8s\n",
      "[CV 1/5] END colsample_bytree=0.5, gamma=1, learning_rate=0.05, max_depth=4, reg_lambda=1, scale_pos_weight=1, subsample=0.8;, score=0.867 total time=   0.8s\n",
      "[CV 2/5] END colsample_bytree=0.5, gamma=1, learning_rate=0.05, max_depth=4, reg_lambda=1, scale_pos_weight=1, subsample=0.8;, score=0.866 total time=   0.8s\n",
      "[CV 3/5] END colsample_bytree=0.5, gamma=1, learning_rate=0.05, max_depth=4, reg_lambda=1, scale_pos_weight=1, subsample=0.8;, score=0.862 total time=   0.8s\n",
      "[CV 4/5] END colsample_bytree=0.5, gamma=1, learning_rate=0.05, max_depth=4, reg_lambda=1, scale_pos_weight=1, subsample=0.8;, score=0.864 total time=   0.8s\n",
      "[CV 5/5] END colsample_bytree=0.5, gamma=1, learning_rate=0.05, max_depth=4, reg_lambda=1, scale_pos_weight=1, subsample=0.8;, score=0.861 total time=   0.8s\n",
      "[CV 1/5] END colsample_bytree=0.5, gamma=1, learning_rate=0.05, max_depth=4, reg_lambda=1, scale_pos_weight=3, subsample=0.8;, score=0.819 total time=   0.8s\n"
     ]
    },
    {
     "name": "stdout",
     "output_type": "stream",
     "text": [
      "[CV 2/5] END colsample_bytree=0.5, gamma=1, learning_rate=0.05, max_depth=4, reg_lambda=1, scale_pos_weight=3, subsample=0.8;, score=0.814 total time=   0.8s\n",
      "[CV 3/5] END colsample_bytree=0.5, gamma=1, learning_rate=0.05, max_depth=4, reg_lambda=1, scale_pos_weight=3, subsample=0.8;, score=0.811 total time=   0.8s\n",
      "[CV 4/5] END colsample_bytree=0.5, gamma=1, learning_rate=0.05, max_depth=4, reg_lambda=1, scale_pos_weight=3, subsample=0.8;, score=0.817 total time=   0.8s\n",
      "[CV 5/5] END colsample_bytree=0.5, gamma=1, learning_rate=0.05, max_depth=4, reg_lambda=1, scale_pos_weight=3, subsample=0.8;, score=0.810 total time=   0.9s\n",
      "[CV 1/5] END colsample_bytree=0.5, gamma=1, learning_rate=0.05, max_depth=4, reg_lambda=1, scale_pos_weight=5, subsample=0.8;, score=0.815 total time=   0.9s\n",
      "[CV 2/5] END colsample_bytree=0.5, gamma=1, learning_rate=0.05, max_depth=4, reg_lambda=1, scale_pos_weight=5, subsample=0.8;, score=0.810 total time=   1.0s\n",
      "[CV 3/5] END colsample_bytree=0.5, gamma=1, learning_rate=0.05, max_depth=4, reg_lambda=1, scale_pos_weight=5, subsample=0.8;, score=0.806 total time=   0.9s\n",
      "[CV 4/5] END colsample_bytree=0.5, gamma=1, learning_rate=0.05, max_depth=4, reg_lambda=1, scale_pos_weight=5, subsample=0.8;, score=0.813 total time=   1.0s\n",
      "[CV 5/5] END colsample_bytree=0.5, gamma=1, learning_rate=0.05, max_depth=4, reg_lambda=1, scale_pos_weight=5, subsample=0.8;, score=0.807 total time=   1.0s\n",
      "[CV 1/5] END colsample_bytree=0.5, gamma=1, learning_rate=0.05, max_depth=4, reg_lambda=10, scale_pos_weight=1, subsample=0.8;, score=0.867 total time=   0.9s\n",
      "[CV 2/5] END colsample_bytree=0.5, gamma=1, learning_rate=0.05, max_depth=4, reg_lambda=10, scale_pos_weight=1, subsample=0.8;, score=0.865 total time=   0.9s\n",
      "[CV 3/5] END colsample_bytree=0.5, gamma=1, learning_rate=0.05, max_depth=4, reg_lambda=10, scale_pos_weight=1, subsample=0.8;, score=0.862 total time=   0.8s\n",
      "[CV 4/5] END colsample_bytree=0.5, gamma=1, learning_rate=0.05, max_depth=4, reg_lambda=10, scale_pos_weight=1, subsample=0.8;, score=0.863 total time=   0.8s\n",
      "[CV 5/5] END colsample_bytree=0.5, gamma=1, learning_rate=0.05, max_depth=4, reg_lambda=10, scale_pos_weight=1, subsample=0.8;, score=0.861 total time=   0.8s\n",
      "[CV 1/5] END colsample_bytree=0.5, gamma=1, learning_rate=0.05, max_depth=4, reg_lambda=10, scale_pos_weight=3, subsample=0.8;, score=0.819 total time=   0.9s\n",
      "[CV 2/5] END colsample_bytree=0.5, gamma=1, learning_rate=0.05, max_depth=4, reg_lambda=10, scale_pos_weight=3, subsample=0.8;, score=0.813 total time=   0.9s\n",
      "[CV 3/5] END colsample_bytree=0.5, gamma=1, learning_rate=0.05, max_depth=4, reg_lambda=10, scale_pos_weight=3, subsample=0.8;, score=0.811 total time=   0.9s\n",
      "[CV 4/5] END colsample_bytree=0.5, gamma=1, learning_rate=0.05, max_depth=4, reg_lambda=10, scale_pos_weight=3, subsample=0.8;, score=0.817 total time=   0.9s\n",
      "[CV 5/5] END colsample_bytree=0.5, gamma=1, learning_rate=0.05, max_depth=4, reg_lambda=10, scale_pos_weight=3, subsample=0.8;, score=0.810 total time=   0.8s\n",
      "[CV 1/5] END colsample_bytree=0.5, gamma=1, learning_rate=0.05, max_depth=4, reg_lambda=10, scale_pos_weight=5, subsample=0.8;, score=0.814 total time=   0.8s\n",
      "[CV 2/5] END colsample_bytree=0.5, gamma=1, learning_rate=0.05, max_depth=4, reg_lambda=10, scale_pos_weight=5, subsample=0.8;, score=0.810 total time=   0.9s\n",
      "[CV 3/5] END colsample_bytree=0.5, gamma=1, learning_rate=0.05, max_depth=4, reg_lambda=10, scale_pos_weight=5, subsample=0.8;, score=0.806 total time=   0.8s\n",
      "[CV 4/5] END colsample_bytree=0.5, gamma=1, learning_rate=0.05, max_depth=4, reg_lambda=10, scale_pos_weight=5, subsample=0.8;, score=0.811 total time=   0.8s\n",
      "[CV 5/5] END colsample_bytree=0.5, gamma=1, learning_rate=0.05, max_depth=4, reg_lambda=10, scale_pos_weight=5, subsample=0.8;, score=0.807 total time=   0.8s\n",
      "[CV 1/5] END colsample_bytree=0.5, gamma=1, learning_rate=0.05, max_depth=5, reg_lambda=0, scale_pos_weight=1, subsample=0.8;, score=0.867 total time=   1.0s\n",
      "[CV 2/5] END colsample_bytree=0.5, gamma=1, learning_rate=0.05, max_depth=5, reg_lambda=0, scale_pos_weight=1, subsample=0.8;, score=0.866 total time=   1.0s\n",
      "[CV 3/5] END colsample_bytree=0.5, gamma=1, learning_rate=0.05, max_depth=5, reg_lambda=0, scale_pos_weight=1, subsample=0.8;, score=0.862 total time=   0.9s\n",
      "[CV 4/5] END colsample_bytree=0.5, gamma=1, learning_rate=0.05, max_depth=5, reg_lambda=0, scale_pos_weight=1, subsample=0.8;, score=0.864 total time=   0.9s\n",
      "[CV 5/5] END colsample_bytree=0.5, gamma=1, learning_rate=0.05, max_depth=5, reg_lambda=0, scale_pos_weight=1, subsample=0.8;, score=0.862 total time=   0.9s\n",
      "[CV 1/5] END colsample_bytree=0.5, gamma=1, learning_rate=0.05, max_depth=5, reg_lambda=0, scale_pos_weight=3, subsample=0.8;, score=0.819 total time=   0.9s\n",
      "[CV 2/5] END colsample_bytree=0.5, gamma=1, learning_rate=0.05, max_depth=5, reg_lambda=0, scale_pos_weight=3, subsample=0.8;, score=0.814 total time=   1.0s\n",
      "[CV 3/5] END colsample_bytree=0.5, gamma=1, learning_rate=0.05, max_depth=5, reg_lambda=0, scale_pos_weight=3, subsample=0.8;, score=0.810 total time=   1.0s\n",
      "[CV 4/5] END colsample_bytree=0.5, gamma=1, learning_rate=0.05, max_depth=5, reg_lambda=0, scale_pos_weight=3, subsample=0.8;, score=0.817 total time=   1.0s\n",
      "[CV 5/5] END colsample_bytree=0.5, gamma=1, learning_rate=0.05, max_depth=5, reg_lambda=0, scale_pos_weight=3, subsample=0.8;, score=0.811 total time=   1.0s\n",
      "[CV 1/5] END colsample_bytree=0.5, gamma=1, learning_rate=0.05, max_depth=5, reg_lambda=0, scale_pos_weight=5, subsample=0.8;, score=0.815 total time=   0.9s\n",
      "[CV 2/5] END colsample_bytree=0.5, gamma=1, learning_rate=0.05, max_depth=5, reg_lambda=0, scale_pos_weight=5, subsample=0.8;, score=0.811 total time=   1.0s\n",
      "[CV 3/5] END colsample_bytree=0.5, gamma=1, learning_rate=0.05, max_depth=5, reg_lambda=0, scale_pos_weight=5, subsample=0.8;, score=0.807 total time=   1.0s\n",
      "[CV 4/5] END colsample_bytree=0.5, gamma=1, learning_rate=0.05, max_depth=5, reg_lambda=0, scale_pos_weight=5, subsample=0.8;, score=0.814 total time=   1.0s\n",
      "[CV 5/5] END colsample_bytree=0.5, gamma=1, learning_rate=0.05, max_depth=5, reg_lambda=0, scale_pos_weight=5, subsample=0.8;, score=0.808 total time=   0.9s\n",
      "[CV 1/5] END colsample_bytree=0.5, gamma=1, learning_rate=0.05, max_depth=5, reg_lambda=1, scale_pos_weight=1, subsample=0.8;, score=0.867 total time=   0.9s\n",
      "[CV 2/5] END colsample_bytree=0.5, gamma=1, learning_rate=0.05, max_depth=5, reg_lambda=1, scale_pos_weight=1, subsample=0.8;, score=0.866 total time=   1.0s\n",
      "[CV 3/5] END colsample_bytree=0.5, gamma=1, learning_rate=0.05, max_depth=5, reg_lambda=1, scale_pos_weight=1, subsample=0.8;, score=0.862 total time=   0.9s\n",
      "[CV 4/5] END colsample_bytree=0.5, gamma=1, learning_rate=0.05, max_depth=5, reg_lambda=1, scale_pos_weight=1, subsample=0.8;, score=0.864 total time=   0.9s\n",
      "[CV 5/5] END colsample_bytree=0.5, gamma=1, learning_rate=0.05, max_depth=5, reg_lambda=1, scale_pos_weight=1, subsample=0.8;, score=0.862 total time=   1.0s\n",
      "[CV 1/5] END colsample_bytree=0.5, gamma=1, learning_rate=0.05, max_depth=5, reg_lambda=1, scale_pos_weight=3, subsample=0.8;, score=0.819 total time=   1.0s\n",
      "[CV 2/5] END colsample_bytree=0.5, gamma=1, learning_rate=0.05, max_depth=5, reg_lambda=1, scale_pos_weight=3, subsample=0.8;, score=0.814 total time=   1.0s\n",
      "[CV 3/5] END colsample_bytree=0.5, gamma=1, learning_rate=0.05, max_depth=5, reg_lambda=1, scale_pos_weight=3, subsample=0.8;, score=0.810 total time=   0.9s\n",
      "[CV 4/5] END colsample_bytree=0.5, gamma=1, learning_rate=0.05, max_depth=5, reg_lambda=1, scale_pos_weight=3, subsample=0.8;, score=0.817 total time=   0.9s\n",
      "[CV 5/5] END colsample_bytree=0.5, gamma=1, learning_rate=0.05, max_depth=5, reg_lambda=1, scale_pos_weight=3, subsample=0.8;, score=0.811 total time=   0.9s\n",
      "[CV 1/5] END colsample_bytree=0.5, gamma=1, learning_rate=0.05, max_depth=5, reg_lambda=1, scale_pos_weight=5, subsample=0.8;, score=0.815 total time=   1.0s\n",
      "[CV 2/5] END colsample_bytree=0.5, gamma=1, learning_rate=0.05, max_depth=5, reg_lambda=1, scale_pos_weight=5, subsample=0.8;, score=0.811 total time=   1.0s\n",
      "[CV 3/5] END colsample_bytree=0.5, gamma=1, learning_rate=0.05, max_depth=5, reg_lambda=1, scale_pos_weight=5, subsample=0.8;, score=0.807 total time=   0.9s\n"
     ]
    },
    {
     "name": "stdout",
     "output_type": "stream",
     "text": [
      "[CV 4/5] END colsample_bytree=0.5, gamma=1, learning_rate=0.05, max_depth=5, reg_lambda=1, scale_pos_weight=5, subsample=0.8;, score=0.813 total time=   0.9s\n",
      "[CV 5/5] END colsample_bytree=0.5, gamma=1, learning_rate=0.05, max_depth=5, reg_lambda=1, scale_pos_weight=5, subsample=0.8;, score=0.807 total time=   1.0s\n",
      "[CV 1/5] END colsample_bytree=0.5, gamma=1, learning_rate=0.05, max_depth=5, reg_lambda=10, scale_pos_weight=1, subsample=0.8;, score=0.867 total time=   1.0s\n",
      "[CV 2/5] END colsample_bytree=0.5, gamma=1, learning_rate=0.05, max_depth=5, reg_lambda=10, scale_pos_weight=1, subsample=0.8;, score=0.866 total time=   0.9s\n",
      "[CV 3/5] END colsample_bytree=0.5, gamma=1, learning_rate=0.05, max_depth=5, reg_lambda=10, scale_pos_weight=1, subsample=0.8;, score=0.862 total time=   0.9s\n",
      "[CV 4/5] END colsample_bytree=0.5, gamma=1, learning_rate=0.05, max_depth=5, reg_lambda=10, scale_pos_weight=1, subsample=0.8;, score=0.864 total time=   0.9s\n",
      "[CV 5/5] END colsample_bytree=0.5, gamma=1, learning_rate=0.05, max_depth=5, reg_lambda=10, scale_pos_weight=1, subsample=0.8;, score=0.862 total time=   0.9s\n",
      "[CV 1/5] END colsample_bytree=0.5, gamma=1, learning_rate=0.05, max_depth=5, reg_lambda=10, scale_pos_weight=3, subsample=0.8;, score=0.819 total time=   1.0s\n",
      "[CV 2/5] END colsample_bytree=0.5, gamma=1, learning_rate=0.05, max_depth=5, reg_lambda=10, scale_pos_weight=3, subsample=0.8;, score=0.814 total time=   0.9s\n",
      "[CV 3/5] END colsample_bytree=0.5, gamma=1, learning_rate=0.05, max_depth=5, reg_lambda=10, scale_pos_weight=3, subsample=0.8;, score=0.810 total time=   0.9s\n",
      "[CV 4/5] END colsample_bytree=0.5, gamma=1, learning_rate=0.05, max_depth=5, reg_lambda=10, scale_pos_weight=3, subsample=0.8;, score=0.817 total time=   0.9s\n",
      "[CV 5/5] END colsample_bytree=0.5, gamma=1, learning_rate=0.05, max_depth=5, reg_lambda=10, scale_pos_weight=3, subsample=0.8;, score=0.810 total time=   1.0s\n",
      "[CV 1/5] END colsample_bytree=0.5, gamma=1, learning_rate=0.05, max_depth=5, reg_lambda=10, scale_pos_weight=5, subsample=0.8;, score=0.815 total time=   1.0s\n",
      "[CV 2/5] END colsample_bytree=0.5, gamma=1, learning_rate=0.05, max_depth=5, reg_lambda=10, scale_pos_weight=5, subsample=0.8;, score=0.810 total time=   1.0s\n",
      "[CV 3/5] END colsample_bytree=0.5, gamma=1, learning_rate=0.05, max_depth=5, reg_lambda=10, scale_pos_weight=5, subsample=0.8;, score=0.806 total time=   0.9s\n",
      "[CV 4/5] END colsample_bytree=0.5, gamma=1, learning_rate=0.05, max_depth=5, reg_lambda=10, scale_pos_weight=5, subsample=0.8;, score=0.813 total time=   0.9s\n",
      "[CV 5/5] END colsample_bytree=0.5, gamma=1, learning_rate=0.05, max_depth=5, reg_lambda=10, scale_pos_weight=5, subsample=0.8;, score=0.805 total time=   1.0s\n",
      "[CV 1/5] END colsample_bytree=0.5, gamma=1, learning_rate=0.05, max_depth=7, reg_lambda=0, scale_pos_weight=1, subsample=0.8;, score=0.867 total time=   1.2s\n",
      "[CV 2/5] END colsample_bytree=0.5, gamma=1, learning_rate=0.05, max_depth=7, reg_lambda=0, scale_pos_weight=1, subsample=0.8;, score=0.866 total time=   1.2s\n",
      "[CV 3/5] END colsample_bytree=0.5, gamma=1, learning_rate=0.05, max_depth=7, reg_lambda=0, scale_pos_weight=1, subsample=0.8;, score=0.862 total time=   1.2s\n",
      "[CV 4/5] END colsample_bytree=0.5, gamma=1, learning_rate=0.05, max_depth=7, reg_lambda=0, scale_pos_weight=1, subsample=0.8;, score=0.864 total time=   1.2s\n",
      "[CV 5/5] END colsample_bytree=0.5, gamma=1, learning_rate=0.05, max_depth=7, reg_lambda=0, scale_pos_weight=1, subsample=0.8;, score=0.862 total time=   1.6s\n",
      "[CV 1/5] END colsample_bytree=0.5, gamma=1, learning_rate=0.05, max_depth=7, reg_lambda=0, scale_pos_weight=3, subsample=0.8;, score=0.819 total time=   1.6s\n",
      "[CV 2/5] END colsample_bytree=0.5, gamma=1, learning_rate=0.05, max_depth=7, reg_lambda=0, scale_pos_weight=3, subsample=0.8;, score=0.816 total time=   1.3s\n",
      "[CV 3/5] END colsample_bytree=0.5, gamma=1, learning_rate=0.05, max_depth=7, reg_lambda=0, scale_pos_weight=3, subsample=0.8;, score=0.811 total time=   1.3s\n",
      "[CV 4/5] END colsample_bytree=0.5, gamma=1, learning_rate=0.05, max_depth=7, reg_lambda=0, scale_pos_weight=3, subsample=0.8;, score=0.818 total time=   1.4s\n",
      "[CV 5/5] END colsample_bytree=0.5, gamma=1, learning_rate=0.05, max_depth=7, reg_lambda=0, scale_pos_weight=3, subsample=0.8;, score=0.812 total time=   1.7s\n",
      "[CV 1/5] END colsample_bytree=0.5, gamma=1, learning_rate=0.05, max_depth=7, reg_lambda=0, scale_pos_weight=5, subsample=0.8;, score=0.816 total time=   1.4s\n",
      "[CV 2/5] END colsample_bytree=0.5, gamma=1, learning_rate=0.05, max_depth=7, reg_lambda=0, scale_pos_weight=5, subsample=0.8;, score=0.813 total time=   1.3s\n",
      "[CV 3/5] END colsample_bytree=0.5, gamma=1, learning_rate=0.05, max_depth=7, reg_lambda=0, scale_pos_weight=5, subsample=0.8;, score=0.808 total time=   1.3s\n",
      "[CV 4/5] END colsample_bytree=0.5, gamma=1, learning_rate=0.05, max_depth=7, reg_lambda=0, scale_pos_weight=5, subsample=0.8;, score=0.815 total time=   1.3s\n",
      "[CV 5/5] END colsample_bytree=0.5, gamma=1, learning_rate=0.05, max_depth=7, reg_lambda=0, scale_pos_weight=5, subsample=0.8;, score=0.808 total time=   1.2s\n",
      "[CV 1/5] END colsample_bytree=0.5, gamma=1, learning_rate=0.05, max_depth=7, reg_lambda=1, scale_pos_weight=1, subsample=0.8;, score=0.867 total time=   1.3s\n",
      "[CV 2/5] END colsample_bytree=0.5, gamma=1, learning_rate=0.05, max_depth=7, reg_lambda=1, scale_pos_weight=1, subsample=0.8;, score=0.866 total time=   1.2s\n",
      "[CV 3/5] END colsample_bytree=0.5, gamma=1, learning_rate=0.05, max_depth=7, reg_lambda=1, scale_pos_weight=1, subsample=0.8;, score=0.862 total time=   1.2s\n",
      "[CV 4/5] END colsample_bytree=0.5, gamma=1, learning_rate=0.05, max_depth=7, reg_lambda=1, scale_pos_weight=1, subsample=0.8;, score=0.864 total time=   1.2s\n",
      "[CV 5/5] END colsample_bytree=0.5, gamma=1, learning_rate=0.05, max_depth=7, reg_lambda=1, scale_pos_weight=1, subsample=0.8;, score=0.862 total time=   1.2s\n",
      "[CV 1/5] END colsample_bytree=0.5, gamma=1, learning_rate=0.05, max_depth=7, reg_lambda=1, scale_pos_weight=3, subsample=0.8;, score=0.819 total time=   1.2s\n",
      "[CV 2/5] END colsample_bytree=0.5, gamma=1, learning_rate=0.05, max_depth=7, reg_lambda=1, scale_pos_weight=3, subsample=0.8;, score=0.815 total time=   1.2s\n",
      "[CV 3/5] END colsample_bytree=0.5, gamma=1, learning_rate=0.05, max_depth=7, reg_lambda=1, scale_pos_weight=3, subsample=0.8;, score=0.810 total time=   1.2s\n",
      "[CV 4/5] END colsample_bytree=0.5, gamma=1, learning_rate=0.05, max_depth=7, reg_lambda=1, scale_pos_weight=3, subsample=0.8;, score=0.817 total time=   1.2s\n",
      "[CV 5/5] END colsample_bytree=0.5, gamma=1, learning_rate=0.05, max_depth=7, reg_lambda=1, scale_pos_weight=3, subsample=0.8;, score=0.812 total time=   1.2s\n",
      "[CV 1/5] END colsample_bytree=0.5, gamma=1, learning_rate=0.05, max_depth=7, reg_lambda=1, scale_pos_weight=5, subsample=0.8;, score=0.815 total time=   1.2s\n",
      "[CV 2/5] END colsample_bytree=0.5, gamma=1, learning_rate=0.05, max_depth=7, reg_lambda=1, scale_pos_weight=5, subsample=0.8;, score=0.813 total time=   1.2s\n",
      "[CV 3/5] END colsample_bytree=0.5, gamma=1, learning_rate=0.05, max_depth=7, reg_lambda=1, scale_pos_weight=5, subsample=0.8;, score=0.808 total time=   1.2s\n",
      "[CV 4/5] END colsample_bytree=0.5, gamma=1, learning_rate=0.05, max_depth=7, reg_lambda=1, scale_pos_weight=5, subsample=0.8;, score=0.814 total time=   1.2s\n",
      "[CV 5/5] END colsample_bytree=0.5, gamma=1, learning_rate=0.05, max_depth=7, reg_lambda=1, scale_pos_weight=5, subsample=0.8;, score=0.807 total time=   1.2s\n",
      "[CV 1/5] END colsample_bytree=0.5, gamma=1, learning_rate=0.05, max_depth=7, reg_lambda=10, scale_pos_weight=1, subsample=0.8;, score=0.867 total time=   1.2s\n",
      "[CV 2/5] END colsample_bytree=0.5, gamma=1, learning_rate=0.05, max_depth=7, reg_lambda=10, scale_pos_weight=1, subsample=0.8;, score=0.866 total time=   1.2s\n",
      "[CV 3/5] END colsample_bytree=0.5, gamma=1, learning_rate=0.05, max_depth=7, reg_lambda=10, scale_pos_weight=1, subsample=0.8;, score=0.863 total time=   1.3s\n",
      "[CV 4/5] END colsample_bytree=0.5, gamma=1, learning_rate=0.05, max_depth=7, reg_lambda=10, scale_pos_weight=1, subsample=0.8;, score=0.864 total time=   1.2s\n",
      "[CV 5/5] END colsample_bytree=0.5, gamma=1, learning_rate=0.05, max_depth=7, reg_lambda=10, scale_pos_weight=1, subsample=0.8;, score=0.862 total time=   1.2s\n"
     ]
    },
    {
     "name": "stdout",
     "output_type": "stream",
     "text": [
      "[CV 1/5] END colsample_bytree=0.5, gamma=1, learning_rate=0.05, max_depth=7, reg_lambda=10, scale_pos_weight=3, subsample=0.8;, score=0.819 total time=   1.2s\n",
      "[CV 2/5] END colsample_bytree=0.5, gamma=1, learning_rate=0.05, max_depth=7, reg_lambda=10, scale_pos_weight=3, subsample=0.8;, score=0.814 total time=   1.2s\n",
      "[CV 3/5] END colsample_bytree=0.5, gamma=1, learning_rate=0.05, max_depth=7, reg_lambda=10, scale_pos_weight=3, subsample=0.8;, score=0.810 total time=   1.3s\n",
      "[CV 4/5] END colsample_bytree=0.5, gamma=1, learning_rate=0.05, max_depth=7, reg_lambda=10, scale_pos_weight=3, subsample=0.8;, score=0.817 total time=   1.2s\n",
      "[CV 5/5] END colsample_bytree=0.5, gamma=1, learning_rate=0.05, max_depth=7, reg_lambda=10, scale_pos_weight=3, subsample=0.8;, score=0.811 total time=   1.2s\n",
      "[CV 1/5] END colsample_bytree=0.5, gamma=1, learning_rate=0.05, max_depth=7, reg_lambda=10, scale_pos_weight=5, subsample=0.8;, score=0.814 total time=   1.2s\n",
      "[CV 2/5] END colsample_bytree=0.5, gamma=1, learning_rate=0.05, max_depth=7, reg_lambda=10, scale_pos_weight=5, subsample=0.8;, score=0.811 total time=   1.2s\n",
      "[CV 3/5] END colsample_bytree=0.5, gamma=1, learning_rate=0.05, max_depth=7, reg_lambda=10, scale_pos_weight=5, subsample=0.8;, score=0.807 total time=   1.2s\n",
      "[CV 4/5] END colsample_bytree=0.5, gamma=1, learning_rate=0.05, max_depth=7, reg_lambda=10, scale_pos_weight=5, subsample=0.8;, score=0.813 total time=   1.2s\n",
      "[CV 5/5] END colsample_bytree=0.5, gamma=1, learning_rate=0.05, max_depth=7, reg_lambda=10, scale_pos_weight=5, subsample=0.8;, score=0.806 total time=   1.2s\n"
     ]
    },
    {
     "data": {
      "text/plain": [
       "GridSearchCV(estimator=XGBClassifier(base_score=None, booster=None,\n",
       "                                     callbacks=None, colsample_bylevel=None,\n",
       "                                     colsample_bynode=None,\n",
       "                                     colsample_bytree=None,\n",
       "                                     early_stopping_rounds=None,\n",
       "                                     enable_categorical=False, eval_metric=None,\n",
       "                                     gamma=None, gpu_id=None, grow_policy=None,\n",
       "                                     importance_type=None,\n",
       "                                     interaction_constraints=None,\n",
       "                                     learning_rate=None, max_bin=None,\n",
       "                                     max_cat_to_...\n",
       "                                     max_leaves=None, min_child_weight=None,\n",
       "                                     missing=nan, monotone_constraints=None,\n",
       "                                     n_estimators=100, n_jobs=None,\n",
       "                                     num_parallel_tree=None, predictor=None,\n",
       "                                     random_state=None, reg_alpha=None,\n",
       "                                     reg_lambda=None, ...),\n",
       "             param_grid={'colsample_bytree': [0.5], 'gamma': [0, 0.25, 1],\n",
       "                         'learning_rate': [0.1, 0.01, 0.05],\n",
       "                         'max_depth': [3, 4, 5, 7], 'reg_lambda': [0, 1, 10],\n",
       "                         'scale_pos_weight': [1, 3, 5], 'subsample': [0.8]},\n",
       "             verbose=3)"
      ]
     },
     "execution_count": 50,
     "metadata": {},
     "output_type": "execute_result"
    }
   ],
   "source": [
    "grid_cv.fit(X_train, y_train)"
   ]
  },
  {
   "cell_type": "code",
   "execution_count": 51,
   "id": "0d7812c6",
   "metadata": {},
   "outputs": [
    {
     "data": {
      "text/plain": [
       "0.864533874508386"
      ]
     },
     "execution_count": 51,
     "metadata": {},
     "output_type": "execute_result"
    }
   ],
   "source": [
    "grid_cv.best_score_"
   ]
  },
  {
   "cell_type": "code",
   "execution_count": 52,
   "id": "cebdc277",
   "metadata": {},
   "outputs": [
    {
     "data": {
      "text/plain": [
       "{'colsample_bytree': 0.5,\n",
       " 'gamma': 0,\n",
       " 'learning_rate': 0.05,\n",
       " 'max_depth': 5,\n",
       " 'reg_lambda': 1,\n",
       " 'scale_pos_weight': 1,\n",
       " 'subsample': 0.8}"
      ]
     },
     "execution_count": 52,
     "metadata": {},
     "output_type": "execute_result"
    }
   ],
   "source": [
    "grid_cv.best_params_"
   ]
  },
  {
   "cell_type": "code",
   "execution_count": 53,
   "id": "e6046f0d",
   "metadata": {},
   "outputs": [],
   "source": [
    "xgb_model_2 = xgb.XGBClassifier(**grid_cv.best_params_)"
   ]
  },
  {
   "cell_type": "code",
   "execution_count": 54,
   "id": "7cbbacf0",
   "metadata": {},
   "outputs": [
    {
     "data": {
      "text/plain": [
       "XGBClassifier(base_score=0.5, booster='gbtree', callbacks=None,\n",
       "              colsample_bylevel=1, colsample_bynode=1, colsample_bytree=0.5,\n",
       "              early_stopping_rounds=None, enable_categorical=False,\n",
       "              eval_metric=None, gamma=0, gpu_id=-1, grow_policy='depthwise',\n",
       "              importance_type=None, interaction_constraints='',\n",
       "              learning_rate=0.05, max_bin=256, max_cat_to_onehot=4,\n",
       "              max_delta_step=0, max_depth=5, max_leaves=0, min_child_weight=1,\n",
       "              missing=nan, monotone_constraints='()', n_estimators=100,\n",
       "              n_jobs=0, num_parallel_tree=1, predictor='auto', random_state=0,\n",
       "              reg_alpha=0, reg_lambda=1, ...)"
      ]
     },
     "execution_count": 54,
     "metadata": {},
     "output_type": "execute_result"
    }
   ],
   "source": [
    "xgb_model_2.fit(X_train, y_train)"
   ]
  },
  {
   "cell_type": "code",
   "execution_count": 55,
   "id": "afad3bee",
   "metadata": {},
   "outputs": [],
   "source": [
    "xgb_pred_2 = xgb_model_2.predict(X_val)"
   ]
  },
  {
   "cell_type": "code",
   "execution_count": 56,
   "id": "48059e2d",
   "metadata": {},
   "outputs": [
    {
     "data": {
      "text/plain": [
       "0.8630607262740311"
      ]
     },
     "execution_count": 56,
     "metadata": {},
     "output_type": "execute_result"
    }
   ],
   "source": [
    "accuracy_score(y_val, xgb_pred_2)"
   ]
  },
  {
   "cell_type": "markdown",
   "id": "a4dd485c",
   "metadata": {},
   "source": [
    "# Logistic Regression"
   ]
  },
  {
   "cell_type": "code",
   "execution_count": 57,
   "id": "dcacf0b5",
   "metadata": {},
   "outputs": [],
   "source": [
    "logmodel = LogisticRegression()"
   ]
  },
  {
   "cell_type": "code",
   "execution_count": 58,
   "id": "ce70ea76",
   "metadata": {},
   "outputs": [
    {
     "data": {
      "text/plain": [
       "LogisticRegression()"
      ]
     },
     "execution_count": 58,
     "metadata": {},
     "output_type": "execute_result"
    }
   ],
   "source": [
    "logmodel.fit(X_train, y_train)"
   ]
  },
  {
   "cell_type": "code",
   "execution_count": 59,
   "id": "a75121b6",
   "metadata": {},
   "outputs": [],
   "source": [
    "log_preds = logmodel.predict(X_val)"
   ]
  },
  {
   "cell_type": "code",
   "execution_count": 60,
   "id": "c9f9a722",
   "metadata": {},
   "outputs": [
    {
     "data": {
      "text/plain": [
       "0.8628318584070797"
      ]
     },
     "execution_count": 60,
     "metadata": {},
     "output_type": "execute_result"
    }
   ],
   "source": [
    "accuracy_score(y_val, log_preds)"
   ]
  },
  {
   "cell_type": "markdown",
   "id": "9dc77c8b",
   "metadata": {},
   "source": [
    "# DNN"
   ]
  },
  {
   "cell_type": "code",
   "execution_count": 62,
   "id": "61ed2ae7",
   "metadata": {},
   "outputs": [
    {
     "data": {
      "text/plain": [
       "12"
      ]
     },
     "execution_count": 62,
     "metadata": {},
     "output_type": "execute_result"
    }
   ],
   "source": [
    "len(X_train.columns)"
   ]
  },
  {
   "cell_type": "code",
   "execution_count": 63,
   "id": "b26ec7e9",
   "metadata": {},
   "outputs": [
    {
     "data": {
      "text/plain": [
       "(78647, 12)"
      ]
     },
     "execution_count": 63,
     "metadata": {},
     "output_type": "execute_result"
    }
   ],
   "source": [
    "X_train.shape"
   ]
  },
  {
   "cell_type": "code",
   "execution_count": 77,
   "id": "b4ac4134",
   "metadata": {},
   "outputs": [],
   "source": [
    "# Create DNN Model\n",
    "\n",
    "model = tf.keras.models.Sequential([\n",
    "    tf.keras.layers.Dense(12,activation='relu',input_shape=[12]),\n",
    "    tf.keras.layers.Dense(6, activation='relu'),\n",
    "    tf.keras.layers.Dense(3, activation='relu'),\n",
    "    tf.keras.layers.Dense(1, activation='sigmoid')\n",
    "])\n",
    "\n",
    "model.compile(loss='binary_crossentropy',\n",
    "             optimizer='adam',\n",
    "             metrics=['accuracy'])\n",
    "\n",
    "early_stop = tf.keras.callbacks.EarlyStopping(patience=2)"
   ]
  },
  {
   "cell_type": "code",
   "execution_count": 78,
   "id": "dff20648",
   "metadata": {},
   "outputs": [
    {
     "name": "stdout",
     "output_type": "stream",
     "text": [
      "Model: \"sequential_4\"\n",
      "_________________________________________________________________\n",
      " Layer (type)                Output Shape              Param #   \n",
      "=================================================================\n",
      " dense_16 (Dense)            (None, 12)                156       \n",
      "                                                                 \n",
      " dense_17 (Dense)            (None, 6)                 78        \n",
      "                                                                 \n",
      " dense_18 (Dense)            (None, 3)                 21        \n",
      "                                                                 \n",
      " dense_19 (Dense)            (None, 1)                 4         \n",
      "                                                                 \n",
      "=================================================================\n",
      "Total params: 259\n",
      "Trainable params: 259\n",
      "Non-trainable params: 0\n",
      "_________________________________________________________________\n"
     ]
    }
   ],
   "source": [
    "model.summary()"
   ]
  },
  {
   "cell_type": "code",
   "execution_count": 79,
   "id": "41e536bc",
   "metadata": {},
   "outputs": [
    {
     "name": "stdout",
     "output_type": "stream",
     "text": [
      "Epoch 1/200\n",
      "2458/2458 [==============================] - 16s 6ms/step - loss: 0.3954 - accuracy: 0.8562 - val_loss: 0.3699 - val_accuracy: 0.8628\n",
      "Epoch 2/200\n",
      "2458/2458 [==============================] - 16s 6ms/step - loss: 0.3683 - accuracy: 0.8638 - val_loss: 0.3685 - val_accuracy: 0.8628\n",
      "Epoch 3/200\n",
      "2458/2458 [==============================] - 16s 7ms/step - loss: 0.3680 - accuracy: 0.8638 - val_loss: 0.3689 - val_accuracy: 0.8628\n",
      "Epoch 4/200\n",
      "2458/2458 [==============================] - 16s 7ms/step - loss: 0.3673 - accuracy: 0.8639 - val_loss: 0.3682 - val_accuracy: 0.8628\n",
      "Epoch 5/200\n",
      "2458/2458 [==============================] - 16s 7ms/step - loss: 0.3669 - accuracy: 0.8641 - val_loss: 0.3685 - val_accuracy: 0.8625\n",
      "Epoch 6/200\n",
      "2458/2458 [==============================] - 16s 6ms/step - loss: 0.3663 - accuracy: 0.8639 - val_loss: 0.3680 - val_accuracy: 0.8627\n",
      "Epoch 7/200\n",
      "2458/2458 [==============================] - 16s 6ms/step - loss: 0.3661 - accuracy: 0.8641 - val_loss: 0.3678 - val_accuracy: 0.8628\n",
      "Epoch 8/200\n",
      "2458/2458 [==============================] - 16s 7ms/step - loss: 0.3660 - accuracy: 0.8641 - val_loss: 0.3693 - val_accuracy: 0.8629\n",
      "Epoch 9/200\n",
      "2458/2458 [==============================] - 16s 7ms/step - loss: 0.3658 - accuracy: 0.8640 - val_loss: 0.3680 - val_accuracy: 0.8629\n"
     ]
    },
    {
     "data": {
      "text/plain": [
       "<keras.callbacks.History at 0x15a3b175610>"
      ]
     },
     "execution_count": 79,
     "metadata": {},
     "output_type": "execute_result"
    }
   ],
   "source": [
    "model.fit(X_train.values, \n",
    "          y_train.values,\n",
    "          callbacks=early_stop,\n",
    "          epochs=200,\n",
    "          validation_data=(X_val, y_val))"
   ]
  },
  {
   "cell_type": "code",
   "execution_count": 80,
   "id": "e43a6f98",
   "metadata": {},
   "outputs": [],
   "source": [
    "history = pd.DataFrame(model.history.history)"
   ]
  },
  {
   "cell_type": "code",
   "execution_count": 83,
   "id": "06d5910b",
   "metadata": {},
   "outputs": [
    {
     "data": {
      "text/html": [
       "<div>\n",
       "<style scoped>\n",
       "    .dataframe tbody tr th:only-of-type {\n",
       "        vertical-align: middle;\n",
       "    }\n",
       "\n",
       "    .dataframe tbody tr th {\n",
       "        vertical-align: top;\n",
       "    }\n",
       "\n",
       "    .dataframe thead th {\n",
       "        text-align: right;\n",
       "    }\n",
       "</style>\n",
       "<table border=\"1\" class=\"dataframe\">\n",
       "  <thead>\n",
       "    <tr style=\"text-align: right;\">\n",
       "      <th></th>\n",
       "      <th>loss</th>\n",
       "      <th>accuracy</th>\n",
       "      <th>val_loss</th>\n",
       "      <th>val_accuracy</th>\n",
       "    </tr>\n",
       "  </thead>\n",
       "  <tbody>\n",
       "    <tr>\n",
       "      <th>0</th>\n",
       "      <td>0.395416</td>\n",
       "      <td>0.856167</td>\n",
       "      <td>0.369904</td>\n",
       "      <td>0.862756</td>\n",
       "    </tr>\n",
       "    <tr>\n",
       "      <th>1</th>\n",
       "      <td>0.368300</td>\n",
       "      <td>0.863796</td>\n",
       "      <td>0.368463</td>\n",
       "      <td>0.862756</td>\n",
       "    </tr>\n",
       "    <tr>\n",
       "      <th>2</th>\n",
       "      <td>0.368049</td>\n",
       "      <td>0.863822</td>\n",
       "      <td>0.368927</td>\n",
       "      <td>0.862832</td>\n",
       "    </tr>\n",
       "    <tr>\n",
       "      <th>3</th>\n",
       "      <td>0.367271</td>\n",
       "      <td>0.863885</td>\n",
       "      <td>0.368218</td>\n",
       "      <td>0.862832</td>\n",
       "    </tr>\n",
       "    <tr>\n",
       "      <th>4</th>\n",
       "      <td>0.366919</td>\n",
       "      <td>0.864064</td>\n",
       "      <td>0.368451</td>\n",
       "      <td>0.862489</td>\n",
       "    </tr>\n",
       "    <tr>\n",
       "      <th>5</th>\n",
       "      <td>0.366333</td>\n",
       "      <td>0.863936</td>\n",
       "      <td>0.368015</td>\n",
       "      <td>0.862717</td>\n",
       "    </tr>\n",
       "    <tr>\n",
       "      <th>6</th>\n",
       "      <td>0.366133</td>\n",
       "      <td>0.864076</td>\n",
       "      <td>0.367804</td>\n",
       "      <td>0.862832</td>\n",
       "    </tr>\n",
       "    <tr>\n",
       "      <th>7</th>\n",
       "      <td>0.365994</td>\n",
       "      <td>0.864102</td>\n",
       "      <td>0.369262</td>\n",
       "      <td>0.862870</td>\n",
       "    </tr>\n",
       "    <tr>\n",
       "      <th>8</th>\n",
       "      <td>0.365832</td>\n",
       "      <td>0.864025</td>\n",
       "      <td>0.368031</td>\n",
       "      <td>0.862870</td>\n",
       "    </tr>\n",
       "  </tbody>\n",
       "</table>\n",
       "</div>"
      ],
      "text/plain": [
       "       loss  accuracy  val_loss  val_accuracy\n",
       "0  0.395416  0.856167  0.369904      0.862756\n",
       "1  0.368300  0.863796  0.368463      0.862756\n",
       "2  0.368049  0.863822  0.368927      0.862832\n",
       "3  0.367271  0.863885  0.368218      0.862832\n",
       "4  0.366919  0.864064  0.368451      0.862489\n",
       "5  0.366333  0.863936  0.368015      0.862717\n",
       "6  0.366133  0.864076  0.367804      0.862832\n",
       "7  0.365994  0.864102  0.369262      0.862870\n",
       "8  0.365832  0.864025  0.368031      0.862870"
      ]
     },
     "execution_count": 83,
     "metadata": {},
     "output_type": "execute_result"
    }
   ],
   "source": [
    "history"
   ]
  },
  {
   "cell_type": "code",
   "execution_count": 84,
   "id": "142d1212",
   "metadata": {},
   "outputs": [
    {
     "data": {
      "text/plain": [
       "<AxesSubplot:>"
      ]
     },
     "execution_count": 84,
     "metadata": {},
     "output_type": "execute_result"
    },
    {
     "data": {
      "image/png": "[encoded data removed]",
      "text/plain": [
       "<Figure size 432x288 with 1 Axes>"
      ]
     },
     "metadata": {
      "needs_background": "light"
     },
     "output_type": "display_data"
    }
   ],
   "source": [
    "history[['loss','val_loss']].plot()"
   ]
  },
  {
   "cell_type": "code",
   "execution_count": 85,
   "id": "a4bdfa40",
   "metadata": {},
   "outputs": [
    {
     "data": {
      "text/plain": [
       "<AxesSubplot:>"
      ]
     },
     "execution_count": 85,
     "metadata": {},
     "output_type": "execute_result"
    },
    {
     "data": {
      "image/png": "[encoded data removed]",
      "text/plain": [
       "<Figure size 432x288 with 1 Axes>"
      ]
     },
     "metadata": {
      "needs_background": "light"
     },
     "output_type": "display_data"
    }
   ],
   "source": [
    "history[['accuracy','val_accuracy']].plot()"
   ]
  },
  {
   "cell_type": "code",
   "execution_count": 91,
   "id": "791cd0fc",
   "metadata": {},
   "outputs": [
    {
     "name": "stdout",
     "output_type": "stream",
     "text": [
      "820/820 [==============================] - 2s 2ms/step\n"
     ]
    }
   ],
   "source": [
    "dnn_preds = model.predict(X_val.values)"
   ]
  },
  {
   "cell_type": "code",
   "execution_count": 92,
   "id": "4c267d10",
   "metadata": {},
   "outputs": [
    {
     "data": {
      "text/plain": [
       "0.8628700030515716"
      ]
     },
     "execution_count": 92,
     "metadata": {},
     "output_type": "execute_result"
    }
   ],
   "source": [
    "accuracy_score(y_val, (tf.squeeze(dnn_preds)>0.5))"
   ]
  },
  {
   "cell_type": "markdown",
   "id": "94a0484a",
   "metadata": {},
   "source": [
    "# Evaluation on the Test set"
   ]
  },
  {
   "cell_type": "code",
   "execution_count": 108,
   "id": "cca55ad2",
   "metadata": {},
   "outputs": [
    {
     "name": "stdout",
     "output_type": "stream",
     "text": [
      "820/820 [==============================] - 2s 2ms/step\n"
     ]
    }
   ],
   "source": [
    "final_xgb_pred = xgb_model_2.predict_proba(X_test)[:,1]\n",
    "final_log_pred = logmodel.predict_proba(X_test)[:,1]\n",
    "final_dnn_pred = model.predict(X_test.values)"
   ]
  },
  {
   "cell_type": "code",
   "execution_count": 110,
   "id": "540974d9",
   "metadata": {},
   "outputs": [
    {
     "data": {
      "text/plain": [
       "(0.8631370155630149, 0.8626029905401281, 0.8624122673176686)"
      ]
     },
     "execution_count": 110,
     "metadata": {},
     "output_type": "execute_result"
    }
   ],
   "source": [
    "accuracy_score(y_test, (final_xgb_pred>0.5)), accuracy_score(y_test, (final_log_pred>0.5)), accuracy_score(y_test, (tf.squeeze(final_dnn_pred)>0.5))"
   ]
  },
  {
   "cell_type": "code",
   "execution_count": 101,
   "id": "54ab1f8c",
   "metadata": {},
   "outputs": [
    {
     "data": {
      "text/plain": [
       "array([False, False, False, ...,  True,  True, False])"
      ]
     },
     "execution_count": 101,
     "metadata": {},
     "output_type": "execute_result"
    }
   ],
   "source": [
    "final_xgb_pred[:,1] > 0.5"
   ]
  },
  {
   "cell_type": "code",
   "execution_count": 98,
   "id": "a3ce8921",
   "metadata": {},
   "outputs": [
    {
     "data": {
      "text/plain": [
       "array([0, 0, 0, ..., 1, 1, 0])"
      ]
     },
     "execution_count": 98,
     "metadata": {},
     "output_type": "execute_result"
    }
   ],
   "source": [
    "xgb_model_2.predict(X_test)"
   ]
  },
  {
   "cell_type": "code",
   "execution_count": 104,
   "id": "60b1d606",
   "metadata": {},
   "outputs": [
    {
     "data": {
      "text/plain": [
       "array([[0.87448136, 0.12551864],\n",
       "       [0.51788669, 0.48211331],\n",
       "       [0.87448136, 0.12551864],\n",
       "       ...,\n",
       "       [0.07992311, 0.92007689],\n",
       "       [0.28159761, 0.71840239],\n",
       "       [0.92942263, 0.07057737]])"
      ]
     },
     "execution_count": 104,
     "metadata": {},
     "output_type": "execute_result"
    }
   ],
   "source": [
    "final_log_pred"
   ]
  },
  {
   "cell_type": "code",
   "execution_count": 105,
   "id": "1c1655b0",
   "metadata": {},
   "outputs": [
    {
     "data": {
      "text/plain": [
       "array([0., 0., 0., ..., 1., 1., 0.])"
      ]
     },
     "execution_count": 105,
     "metadata": {},
     "output_type": "execute_result"
    }
   ],
   "source": [
    "logmodel.predict(X_test)"
   ]
  },
  {
   "cell_type": "code",
   "execution_count": 151,
   "id": "7a151191",
   "metadata": {},
   "outputs": [],
   "source": [
    "final_pred_1 = (0.6*final_xgb_pred+0*final_log_pred+0.4*tf.squeeze(final_dnn_pred))"
   ]
  },
  {
   "cell_type": "code",
   "execution_count": 152,
   "id": "ec1e077b",
   "metadata": {},
   "outputs": [
    {
     "data": {
      "text/plain": [
       "0.863098870918523"
      ]
     },
     "execution_count": 152,
     "metadata": {},
     "output_type": "execute_result"
    }
   ],
   "source": [
    "accuracy_score(y_test, (final_pred_1 > 0.5))"
   ]
  },
  {
   "cell_type": "code",
   "execution_count": 153,
   "id": "5114a1af",
   "metadata": {},
   "outputs": [
    {
     "name": "stdout",
     "output_type": "stream",
     "text": [
      "              precision    recall  f1-score   support\n",
      "\n",
      "         0.0       0.86      0.91      0.88     14851\n",
      "         1.0       0.87      0.80      0.84     11365\n",
      "\n",
      "    accuracy                           0.86     26216\n",
      "   macro avg       0.86      0.86      0.86     26216\n",
      "weighted avg       0.86      0.86      0.86     26216\n",
      "\n"
     ]
    }
   ],
   "source": [
    "print(classification_report(y_test, (final_pred_1 > 0.5)))"
   ]
  },
  {
   "cell_type": "markdown",
   "id": "d50136f5",
   "metadata": {},
   "source": [
    "# Train on all Data"
   ]
  },
  {
   "cell_type": "code",
   "execution_count": 159,
   "id": "0f8b3dba",
   "metadata": {},
   "outputs": [],
   "source": [
    "xgb_model_final = xgb.XGBClassifier(objective='binary:logistic',\n",
    "                                   colsample_bytree=0.5,\n",
    "                                   gamma=0,\n",
    "                                   learning_rate=0.05,\n",
    "                                   max_depth=5,\n",
    "                                   reg_lambda=1,\n",
    "                                   scale_pos_weight=1,\n",
    "                                   subsample=0.8)"
   ]
  },
  {
   "cell_type": "code",
   "execution_count": 160,
   "id": "6736df45",
   "metadata": {},
   "outputs": [
    {
     "data": {
      "text/plain": [
       "XGBClassifier(base_score=0.5, booster='gbtree', callbacks=None,\n",
       "              colsample_bylevel=1, colsample_bynode=1, colsample_bytree=0.5,\n",
       "              early_stopping_rounds=None, enable_categorical=False,\n",
       "              eval_metric=None, gamma=0, gpu_id=-1, grow_policy='depthwise',\n",
       "              importance_type=None, interaction_constraints='',\n",
       "              learning_rate=0.05, max_bin=256, max_cat_to_onehot=4,\n",
       "              max_delta_step=0, max_depth=5, max_leaves=0, min_child_weight=1,\n",
       "              missing=nan, monotone_constraints='()', n_estimators=100,\n",
       "              n_jobs=0, num_parallel_tree=1, predictor='auto', random_state=0,\n",
       "              reg_alpha=0, reg_lambda=1, ...)"
      ]
     },
     "execution_count": 160,
     "metadata": {},
     "output_type": "execute_result"
    }
   ],
   "source": [
    "xgb_model_final.fit(X,y)"
   ]
  },
  {
   "cell_type": "code",
   "execution_count": 161,
   "id": "4fed7536",
   "metadata": {},
   "outputs": [],
   "source": [
    "import joblib"
   ]
  },
  {
   "cell_type": "code",
   "execution_count": 162,
   "id": "ef9f09aa",
   "metadata": {},
   "outputs": [
    {
     "data": {
      "text/plain": [
       "['xgb_model.pkl']"
      ]
     },
     "execution_count": 162,
     "metadata": {},
     "output_type": "execute_result"
    }
   ],
   "source": [
    "joblib.dump(xgb_model_final, 'xgb_model.pkl')"
   ]
  },
  {
   "cell_type": "code",
   "execution_count": 158,
   "id": "c5e73f94",
   "metadata": {},
   "outputs": [
    {
     "data": {
      "text/plain": [
       "{'colsample_bytree': 0.5,\n",
       " 'gamma': 0,\n",
       " 'learning_rate': 0.05,\n",
       " 'max_depth': 5,\n",
       " 'reg_lambda': 1,\n",
       " 'scale_pos_weight': 1,\n",
       " 'subsample': 0.8}"
      ]
     },
     "execution_count": 158,
     "metadata": {},
     "output_type": "execute_result"
    }
   ],
   "source": [
    "grid_cv.best_params_"
   ]
  },
  {
   "cell_type": "code",
   "execution_count": 166,
   "id": "d3072463",
   "metadata": {},
   "outputs": [],
   "source": [
    "final_dnn = tf.keras.models.Sequential([\n",
    "    tf.keras.layers.Dense(12,activation='relu',input_shape=[12]),\n",
    "    tf.keras.layers.Dense(6, activation='relu'),\n",
    "    tf.keras.layers.Dense(3, activation='relu'),\n",
    "    tf.keras.layers.Dense(1, activation='sigmoid')\n",
    "])\n",
    "\n",
    "final_dnn.compile(loss='binary_crossentropy',\n",
    "             optimizer='adam',\n",
    "             metrics=['accuracy'])"
   ]
  },
  {
   "cell_type": "code",
   "execution_count": 167,
   "id": "c6482861",
   "metadata": {},
   "outputs": [
    {
     "name": "stdout",
     "output_type": "stream",
     "text": [
      "Model: \"sequential_6\"\n",
      "_________________________________________________________________\n",
      " Layer (type)                Output Shape              Param #   \n",
      "=================================================================\n",
      " dense_24 (Dense)            (None, 12)                156       \n",
      "                                                                 \n",
      " dense_25 (Dense)            (None, 6)                 78        \n",
      "                                                                 \n",
      " dense_26 (Dense)            (None, 3)                 21        \n",
      "                                                                 \n",
      " dense_27 (Dense)            (None, 1)                 4         \n",
      "                                                                 \n",
      "=================================================================\n",
      "Total params: 259\n",
      "Trainable params: 259\n",
      "Non-trainable params: 0\n",
      "_________________________________________________________________\n"
     ]
    }
   ],
   "source": [
    "final_dnn.summary()"
   ]
  },
  {
   "cell_type": "code",
   "execution_count": 168,
   "id": "1bd3c4fa",
   "metadata": {},
   "outputs": [
    {
     "name": "stdout",
     "output_type": "stream",
     "text": [
      "Epoch 1/8\n",
      "4097/4097 [==============================] - 24s 6ms/step - loss: 0.4179 - accuracy: 0.8599\n",
      "Epoch 2/8\n",
      "4097/4097 [==============================] - 24s 6ms/step - loss: 0.3732 - accuracy: 0.8633\n",
      "Epoch 3/8\n",
      "4097/4097 [==============================] - 24s 6ms/step - loss: 0.3691 - accuracy: 0.8635\n",
      "Epoch 4/8\n",
      "4097/4097 [==============================] - 24s 6ms/step - loss: 0.3680 - accuracy: 0.8636\n",
      "Epoch 5/8\n",
      "4097/4097 [==============================] - 24s 6ms/step - loss: 0.3673 - accuracy: 0.8634\n",
      "Epoch 6/8\n",
      "4097/4097 [==============================] - 24s 6ms/step - loss: 0.3667 - accuracy: 0.8635\n",
      "Epoch 7/8\n",
      "4097/4097 [==============================] - 24s 6ms/step - loss: 0.3666 - accuracy: 0.8636\n",
      "Epoch 8/8\n",
      "4097/4097 [==============================] - 23s 6ms/step - loss: 0.3666 - accuracy: 0.8634\n"
     ]
    },
    {
     "data": {
      "text/plain": [
       "<keras.callbacks.History at 0x15a39bb6760>"
      ]
     },
     "execution_count": 168,
     "metadata": {},
     "output_type": "execute_result"
    }
   ],
   "source": [
    "final_dnn.fit(X.values, y.values, epochs=8)"
   ]
  },
  {
   "cell_type": "code",
   "execution_count": 169,
   "id": "17943f58",
   "metadata": {},
   "outputs": [],
   "source": [
    "final_dnn.save('DNN_predictor.h5')"
   ]
  },
  {
   "cell_type": "code",
   "execution_count": null,
   "id": "a04b78f6",
   "metadata": {},
   "outputs": [],
   "source": []
  }
 ],
 "metadata": {
  "kernelspec": {
   "display_name": "Python 3 (ipykernel)",
   "language": "python",
   "name": "python3"
  },
  "language_info": {
   "codemirror_mode": {
    "name": "ipython",
    "version": 3
   },
   "file_extension": ".py",
   "mimetype": "text/x-python",
   "name": "python",
   "nbconvert_exporter": "python",
   "pygments_lexer": "ipython3",
   "version": "3.9.7"
  }
 },
 "nbformat": 4,
 "nbformat_minor": 5
}
